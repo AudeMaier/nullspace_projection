{
 "cells": [
  {
   "cell_type": "code",
   "execution_count": 56,
   "metadata": {},
   "outputs": [
    {
     "name": "stdout",
     "output_type": "stream",
     "text": [
      "The autoreload extension is already loaded. To reload it, use:\n",
      "  %reload_ext autoreload\n"
     ]
    }
   ],
   "source": [
    "%load_ext autoreload\n",
    "%autoreload\n",
    "import inlp_dataset_handler\n",
    "import inlp\n",
    "import inlp_linear_model\n",
    "import numpy as np\n",
    "import sklearn\n",
    "from sklearn.linear_model import LinearRegression, Ridge, SGDClassifier\n",
    "from sklearn.svm import LinearSVC, SVR"
   ]
  },
  {
   "cell_type": "code",
   "execution_count": 64,
   "metadata": {},
   "outputs": [],
   "source": [
    "x_train, x_dev = np.random.rand(1000,100) - 0.5, np.random.rand(1000,100) - 0.5\n",
    "y_train, y_dev = np.sum(x_train, axis = 1) > 0, np.sum(x_dev, axis = 1) > 0\n",
    "\n",
    "inlp_dataset = inlp_dataset_handler.ClassificationDatasetHandler(x_train, y_train, x_dev, y_dev, dropout_rate = 0,\n",
    "                                                                Y_train_main = None, Y_dev_main = None, by_class = False,\n",
    "                                                                equal_chance_for_main_task_labels = False)\n",
    "\n",
    "inlp_model_handler = inlp_linear_model.SKlearnClassifier(LinearSVC, {\"dual\": False})"
   ]
  },
  {
   "cell_type": "code",
   "execution_count": 65,
   "metadata": {},
   "outputs": [
    {
     "name": "stderr",
     "output_type": "stream",
     "text": [
      "\n",
      "\n",
      "\n",
      "  0%|          | 0/5 [00:00<?, ?it/s]\u001b[A\u001b[A\u001b[A\n",
      "\n",
      "\n",
      "iteration: 0, accuracy: 0.937:   0%|          | 0/5 [00:00<?, ?it/s]\u001b[A\u001b[A\u001b[A\n",
      "\n",
      "\n",
      "iteration: 1, accuracy: 0.501:   0%|          | 0/5 [00:00<?, ?it/s]\u001b[A\u001b[A\u001b[A\n",
      "\n",
      "\n",
      "iteration: 2, accuracy: 0.5:   0%|          | 0/5 [00:00<?, ?it/s]  \u001b[A\u001b[A\u001b[A\n",
      "\n",
      "\n",
      "iteration: 3, accuracy: 0.507:   0%|          | 0/5 [00:00<?, ?it/s]\u001b[A\u001b[A\u001b[A\n",
      "\n",
      "\n",
      "iteration: 4, accuracy: 0.498: 100%|██████████| 5/5 [00:00<00:00, 62.47it/s]A\n"
     ]
    }
   ],
   "source": [
    "P, rowspace_projections, Ws = inlp.run_INLP(num_classifiers = 5, input_dim = 100, is_autoregressive = True,\n",
    "                                           min_accuracy = 0, dataset_handler = inlp_dataset, model = inlp_model_handler)"
   ]
  },
  {
   "cell_type": "code",
   "execution_count": null,
   "metadata": {},
   "outputs": [],
   "source": []
  }
 ],
 "metadata": {
  "kernelspec": {
   "display_name": "Python 3",
   "language": "python",
   "name": "python3"
  },
  "language_info": {
   "codemirror_mode": {
    "name": "ipython",
    "version": 3
   },
   "file_extension": ".py",
   "mimetype": "text/x-python",
   "name": "python",
   "nbconvert_exporter": "python",
   "pygments_lexer": "ipython3",
   "version": "3.7.5"
  }
 },
 "nbformat": 4,
 "nbformat_minor": 2
}
