{
 "cells": [
  {
   "cell_type": "code",
   "execution_count": 321,
   "metadata": {},
   "outputs": [],
   "source": [
    "import numpy as np\n",
    "from sklearn.svm import LinearSVC\n",
    "from sklearn.linear_model import SGDClassifier, LogisticRegression\n",
    "from sklearn.neural_network import MLPClassifier\n",
    "from sklearn.utils import shuffle\n",
    "\n",
    "from collections import Counter, defaultdict\n",
    "\n",
    "import json\n",
    "from collections import defaultdict\n",
    "import matplotlib.pyplot as plt"
   ]
  },
  {
   "cell_type": "code",
   "execution_count": null,
   "metadata": {},
   "outputs": [],
   "source": [
    "import seaborn as sns\n",
    "# sns.set()\n",
    "sns.set_style(\"whitegrid\")"
   ]
  },
  {
   "cell_type": "code",
   "execution_count": 293,
   "metadata": {},
   "outputs": [],
   "source": [
    "def load_data(path, size, ratio=0.5):\n",
    "    fnames = [\"neg_neg.npy\", \"neg_pos.npy\", \"pos_neg.npy\", \"pos_pos.npy\"]\n",
    "    protected_labels = [0, 1, 0, 1]\n",
    "    main_labels = [0, 0, 1, 1]\n",
    "    X, Y_p, Y_m = [], [], []\n",
    "    n1 = int(size * ratio / 2)\n",
    "    n2 = int(size * (1 - ratio) / 2)\n",
    "    print(n1, n2)\n",
    "\n",
    "    for fname, p_label, m_label, n in zip(fnames, protected_labels, main_labels, [n1, n2, n2, n1]):\n",
    "        print(path + '/' + fname)\n",
    "#         print(np.load(path + '/' + fname).shape)\n",
    "        data = np.load(path + '/' + fname)[:n]\n",
    "        for x in data:\n",
    "            X.append(x)\n",
    "        for _ in data:\n",
    "            Y_p.append(p_label)\n",
    "        for _ in data:\n",
    "            Y_m.append(m_label)\n",
    "\n",
    "    Y_p = np.array(Y_p)\n",
    "    Y_m = np.array(Y_m)\n",
    "    X = np.array(X)\n",
    "    X, Y_p, Y_m = shuffle(X, Y_p, Y_m, random_state=0)\n",
    "    return X, Y_p, Y_m"
   ]
  },
  {
   "cell_type": "code",
   "execution_count": 306,
   "metadata": {},
   "outputs": [
    {
     "name": "stdout",
     "output_type": "stream",
     "text": [
      "18000 1999\n",
      "/home/nlp/lazary/workspace/thesis/nullspace_projection/data/emoji_sent_race_0.9/train//neg_neg.npy\n",
      "/home/nlp/lazary/workspace/thesis/nullspace_projection/data/emoji_sent_race_0.9/train//neg_pos.npy\n",
      "/home/nlp/lazary/workspace/thesis/nullspace_projection/data/emoji_sent_race_0.9/train//pos_neg.npy\n",
      "/home/nlp/lazary/workspace/thesis/nullspace_projection/data/emoji_sent_race_0.9/train//pos_pos.npy\n",
      "900 99\n",
      "/home/nlp/lazary/workspace/thesis/nullspace_projection/data/emoji_sent_race_0.9/dev//neg_neg.npy\n",
      "/home/nlp/lazary/workspace/thesis/nullspace_projection/data/emoji_sent_race_0.9/dev//neg_pos.npy\n",
      "/home/nlp/lazary/workspace/thesis/nullspace_projection/data/emoji_sent_race_0.9/dev//pos_neg.npy\n",
      "/home/nlp/lazary/workspace/thesis/nullspace_projection/data/emoji_sent_race_0.9/dev//pos_pos.npy\n"
     ]
    }
   ],
   "source": [
    "ratio=0.9\n",
    "x_train, y_p_train, y_m_train = load_data('/home/nlp/lazary/workspace/thesis/nullspace_projection/data/emoji_sent_race_{}/train/'.format(ratio), size=40000, ratio=ratio)\n",
    "x_dev, y_p_dev, y_m_dev = load_data('/home/nlp/lazary/workspace/thesis/nullspace_projection/data/emoji_sent_race_{}/dev/'.format(ratio), size=2000, ratio=ratio)"
   ]
  },
  {
   "cell_type": "code",
   "execution_count": 311,
   "metadata": {},
   "outputs": [],
   "source": [
    "# P = np.load('/home/nlp/lazary/workspace/thesis/nullspace_projection/data/emoji_sent_race_0.5/P.num-clfs=80_max_iter:1200.npy')\n",
    "P = np.load('/home/nlp/lazary/workspace/thesis/nullspace_projection/data/emoji_sent_race_{}/P.num-clfs=50.npy'.format(ratio))"
   ]
  },
  {
   "cell_type": "code",
   "execution_count": 314,
   "metadata": {},
   "outputs": [
    {
     "data": {
      "text/plain": [
       "array([[ 0.86282387,  0.0144113 , -0.0009032 , ...,  0.0029939 ,\n",
       "        -0.00156565, -0.00573828],\n",
       "       [ 0.0144113 ,  0.79468199, -0.03747557, ..., -0.02430522,\n",
       "        -0.01156241,  0.03200774],\n",
       "       [-0.0009032 , -0.03747557,  0.83954128, ..., -0.00851192,\n",
       "        -0.01221959,  0.00907987],\n",
       "       ...,\n",
       "       [ 0.0029939 , -0.02430522, -0.00851192, ...,  0.87498129,\n",
       "        -0.03662106, -0.02067439],\n",
       "       [-0.00156565, -0.01156241, -0.01221959, ..., -0.03662106,\n",
       "         0.86551077, -0.01418183],\n",
       "       [-0.00573828,  0.03200774,  0.00907987, ..., -0.02067439,\n",
       "        -0.01418183,  0.86690174]])"
      ]
     },
     "execution_count": 314,
     "metadata": {},
     "output_type": "execute_result"
    }
   ],
   "source": [
    "P"
   ]
  },
  {
   "cell_type": "code",
   "execution_count": 312,
   "metadata": {},
   "outputs": [],
   "source": [
    "debiased_x_train = x_train.dot(P)\n",
    "debiased_x_dev = x_dev.dot(P)"
   ]
  },
  {
   "cell_type": "code",
   "execution_count": 309,
   "metadata": {},
   "outputs": [
    {
     "name": "stderr",
     "output_type": "stream",
     "text": [
      "[Parallel(n_jobs=64)]: Using backend ThreadingBackend with 64 concurrent workers.\n"
     ]
    },
    {
     "name": "stdout",
     "output_type": "stream",
     "text": [
      "max_iter reached after 0 seconds\n",
      "CPU times: user 922 ms, sys: 369 ms, total: 1.29 s\n",
      "Wall time: 902 ms\n"
     ]
    },
    {
     "name": "stderr",
     "output_type": "stream",
     "text": [
      "/home/nlp/lazary/anaconda3/envs/nullspace/lib/python3.7/site-packages/sklearn/linear_model/sag.py:334: ConvergenceWarning: The max_iter was reached which means the coef_ did not converge\n",
      "  \"the coef_ did not converge\", ConvergenceWarning)\n",
      "[Parallel(n_jobs=64)]: Done   1 tasks      | elapsed:    0.8s\n",
      "[Parallel(n_jobs=64)]: Done   1 out of   1 | elapsed:    0.8s finished\n"
     ]
    },
    {
     "data": {
      "text/plain": [
       "0.8788788788788788"
      ]
     },
     "execution_count": 309,
     "metadata": {},
     "output_type": "execute_result"
    }
   ],
   "source": [
    "%%time\n",
    "\n",
    "biased_classifier = LogisticRegression(warm_start = True, penalty = 'l2',\n",
    "                         solver = \"sag\", multi_class = 'multinomial', fit_intercept = True,\n",
    "                         verbose = 10, max_iter = 5, n_jobs = 64, random_state = 1)\n",
    "\n",
    "biased_classifier.fit(x_train, y_m_train)\n",
    "biased_classifier.score(x_dev, y_m_dev)"
   ]
  },
  {
   "cell_type": "code",
   "execution_count": 313,
   "metadata": {},
   "outputs": [
    {
     "name": "stderr",
     "output_type": "stream",
     "text": [
      "[Parallel(n_jobs=64)]: Using backend ThreadingBackend with 64 concurrent workers.\n"
     ]
    },
    {
     "name": "stdout",
     "output_type": "stream",
     "text": [
      "max_iter reached after 0 seconds\n",
      "CPU times: user 1.07 s, sys: 330 ms, total: 1.4 s\n",
      "Wall time: 1.05 s\n"
     ]
    },
    {
     "name": "stderr",
     "output_type": "stream",
     "text": [
      "/home/nlp/lazary/anaconda3/envs/nullspace/lib/python3.7/site-packages/sklearn/linear_model/sag.py:334: ConvergenceWarning: The max_iter was reached which means the coef_ did not converge\n",
      "  \"the coef_ did not converge\", ConvergenceWarning)\n",
      "[Parallel(n_jobs=64)]: Done   1 tasks      | elapsed:    1.0s\n",
      "[Parallel(n_jobs=64)]: Done   1 out of   1 | elapsed:    1.0s finished\n"
     ]
    },
    {
     "data": {
      "text/plain": [
       "0.5045045045045045"
      ]
     },
     "execution_count": 313,
     "metadata": {},
     "output_type": "execute_result"
    }
   ],
   "source": [
    "%%time\n",
    "\n",
    "# classifier = LinearSVC(fit_intercept=True, class_weight='balanced', dual=False)\n",
    "# classifier = SGDClassifier(warm_start=True, loss='log', n_jobs=64, max_iter=1000, random_state=0, tol=1e-3)\n",
    "classifier = LogisticRegression(warm_start = True, penalty = 'l2',\n",
    "                         solver = \"sag\", multi_class = 'multinomial', fit_intercept = True,\n",
    "                         verbose = 10, max_iter = 5, n_jobs = 64, random_state = 1)\n",
    "# classifier = MLPClassifier(activation = \"identity\", hidden_layer_sizes = (100,), max_iter = 15)\n",
    "\n",
    "classifier.fit(debiased_x_train, y_m_train)\n",
    "classifier.score(debiased_x_dev, y_m_dev)"
   ]
  },
  {
   "cell_type": "code",
   "execution_count": 146,
   "metadata": {},
   "outputs": [],
   "source": [
    "def get_TPR(y_main, y_hat_main, y_protected):\n",
    "    \n",
    "    all_y = list(Counter(y_main).keys())\n",
    "    \n",
    "    protected_vals = defaultdict(dict)\n",
    "    for label in all_y:\n",
    "        for i in range(2):\n",
    "            used_vals = (y_main == label) & (y_protected == i)\n",
    "            y_label = y_main[used_vals]\n",
    "            y_hat_label = y_hat_main[used_vals]\n",
    "            protected_vals['y:{}'.format(label)]['p:{}'.format(i)] = (y_label == y_hat_label).mean()\n",
    "            \n",
    "    diffs = {}\n",
    "    for k, v in protected_vals.items():\n",
    "        vals = list(v.values())\n",
    "        diffs[k] = vals[0] - vals[1]\n",
    "    return protected_vals, diffs"
   ]
  },
  {
   "cell_type": "code",
   "execution_count": 299,
   "metadata": {
    "scrolled": true
   },
   "outputs": [
    {
     "data": {
      "text/plain": [
       "(defaultdict(dict,\n",
       "             {'y:0': {'p:0': 0.90875, 'p:1': 0.48743718592964824},\n",
       "              'y:1': {'p:0': 0.5477386934673367, 'p:1': 0.92}}),\n",
       " {'y:0': 0.4213128140703517, 'y:1': -0.3722613065326633})"
      ]
     },
     "execution_count": 299,
     "metadata": {},
     "output_type": "execute_result"
    }
   ],
   "source": [
    "# before debiasing\n",
    "get_TPR(y_m_dev, biased_classifier.predict(x_dev), y_p_dev)"
   ]
  },
  {
   "cell_type": "code",
   "execution_count": 300,
   "metadata": {},
   "outputs": [
    {
     "data": {
      "text/plain": [
       "(defaultdict(dict,\n",
       "             {'y:0': {'p:0': 0.8175, 'p:1': 0.6030150753768844},\n",
       "              'y:1': {'p:0': 0.678391959798995, 'p:1': 0.78125}}),\n",
       " {'y:0': 0.21448492462311564, 'y:1': -0.10285804020100497})"
      ]
     },
     "execution_count": 300,
     "metadata": {},
     "output_type": "execute_result"
    }
   ],
   "source": [
    "# after debiasing\n",
    "get_TPR(y_m_dev, classifier.predict(debiased_x_dev), y_p_dev)"
   ]
  },
  {
   "cell_type": "code",
   "execution_count": 301,
   "metadata": {},
   "outputs": [
    {
     "data": {
      "text/plain": [
       "0.7677677677677678"
      ]
     },
     "execution_count": 301,
     "metadata": {},
     "output_type": "execute_result"
    }
   ],
   "source": [
    "classifier.score(debiased_x_dev, y_m_dev)"
   ]
  },
  {
   "cell_type": "code",
   "execution_count": 350,
   "metadata": {
    "scrolled": true
   },
   "outputs": [
    {
     "name": "stdout",
     "output_type": "stream",
     "text": [
      "10000 10000\n",
      "/home/nlp/lazary/workspace/thesis/nullspace_projection/data/emoji_sent_race_0.5/train//neg_neg.npy\n",
      "/home/nlp/lazary/workspace/thesis/nullspace_projection/data/emoji_sent_race_0.5/train//neg_pos.npy\n",
      "/home/nlp/lazary/workspace/thesis/nullspace_projection/data/emoji_sent_race_0.5/train//pos_neg.npy\n",
      "/home/nlp/lazary/workspace/thesis/nullspace_projection/data/emoji_sent_race_0.5/train//pos_pos.npy\n",
      "500 500\n",
      "/home/nlp/lazary/workspace/thesis/nullspace_projection/data/emoji_sent_race_0.5/dev//neg_neg.npy\n",
      "/home/nlp/lazary/workspace/thesis/nullspace_projection/data/emoji_sent_race_0.5/dev//neg_pos.npy\n",
      "/home/nlp/lazary/workspace/thesis/nullspace_projection/data/emoji_sent_race_0.5/dev//pos_neg.npy\n",
      "/home/nlp/lazary/workspace/thesis/nullspace_projection/data/emoji_sent_race_0.5/dev//pos_pos.npy\n"
     ]
    },
    {
     "name": "stderr",
     "output_type": "stream",
     "text": [
      "[Parallel(n_jobs=64)]: Using backend ThreadingBackend with 64 concurrent workers.\n"
     ]
    },
    {
     "name": "stdout",
     "output_type": "stream",
     "text": [
      "max_iter reached after 1 seconds\n"
     ]
    },
    {
     "name": "stderr",
     "output_type": "stream",
     "text": [
      "/home/nlp/lazary/anaconda3/envs/nullspace/lib/python3.7/site-packages/sklearn/linear_model/sag.py:334: ConvergenceWarning: The max_iter was reached which means the coef_ did not converge\n",
      "  \"the coef_ did not converge\", ConvergenceWarning)\n",
      "[Parallel(n_jobs=64)]: Done   1 tasks      | elapsed:    0.9s\n",
      "[Parallel(n_jobs=64)]: Done   1 out of   1 | elapsed:    0.9s finished\n",
      "[Parallel(n_jobs=64)]: Using backend ThreadingBackend with 64 concurrent workers.\n"
     ]
    },
    {
     "name": "stdout",
     "output_type": "stream",
     "text": [
      "max_iter reached after 1 seconds\n",
      "12000 8000\n",
      "/home/nlp/lazary/workspace/thesis/nullspace_projection/data/emoji_sent_race_0.6/train//neg_neg.npy\n",
      "/home/nlp/lazary/workspace/thesis/nullspace_projection/data/emoji_sent_race_0.6/train//neg_pos.npy\n"
     ]
    },
    {
     "name": "stderr",
     "output_type": "stream",
     "text": [
      "/home/nlp/lazary/anaconda3/envs/nullspace/lib/python3.7/site-packages/sklearn/linear_model/sag.py:334: ConvergenceWarning: The max_iter was reached which means the coef_ did not converge\n",
      "  \"the coef_ did not converge\", ConvergenceWarning)\n",
      "[Parallel(n_jobs=64)]: Done   1 tasks      | elapsed:    0.9s\n",
      "[Parallel(n_jobs=64)]: Done   1 out of   1 | elapsed:    0.9s finished\n"
     ]
    },
    {
     "name": "stdout",
     "output_type": "stream",
     "text": [
      "/home/nlp/lazary/workspace/thesis/nullspace_projection/data/emoji_sent_race_0.6/train//pos_neg.npy\n",
      "/home/nlp/lazary/workspace/thesis/nullspace_projection/data/emoji_sent_race_0.6/train//pos_pos.npy\n",
      "600 400\n",
      "/home/nlp/lazary/workspace/thesis/nullspace_projection/data/emoji_sent_race_0.6/dev//neg_neg.npy\n",
      "/home/nlp/lazary/workspace/thesis/nullspace_projection/data/emoji_sent_race_0.6/dev//neg_pos.npy\n",
      "/home/nlp/lazary/workspace/thesis/nullspace_projection/data/emoji_sent_race_0.6/dev//pos_neg.npy\n",
      "/home/nlp/lazary/workspace/thesis/nullspace_projection/data/emoji_sent_race_0.6/dev//pos_pos.npy\n"
     ]
    },
    {
     "name": "stderr",
     "output_type": "stream",
     "text": [
      "[Parallel(n_jobs=64)]: Using backend ThreadingBackend with 64 concurrent workers.\n"
     ]
    },
    {
     "name": "stdout",
     "output_type": "stream",
     "text": [
      "max_iter reached after 1 seconds\n"
     ]
    },
    {
     "name": "stderr",
     "output_type": "stream",
     "text": [
      "/home/nlp/lazary/anaconda3/envs/nullspace/lib/python3.7/site-packages/sklearn/linear_model/sag.py:334: ConvergenceWarning: The max_iter was reached which means the coef_ did not converge\n",
      "  \"the coef_ did not converge\", ConvergenceWarning)\n",
      "[Parallel(n_jobs=64)]: Done   1 tasks      | elapsed:    0.9s\n",
      "[Parallel(n_jobs=64)]: Done   1 out of   1 | elapsed:    0.9s finished\n",
      "[Parallel(n_jobs=64)]: Using backend ThreadingBackend with 64 concurrent workers.\n"
     ]
    },
    {
     "name": "stdout",
     "output_type": "stream",
     "text": [
      "max_iter reached after 1 seconds\n",
      "14000 6000\n",
      "/home/nlp/lazary/workspace/thesis/nullspace_projection/data/emoji_sent_race_0.7/train//neg_neg.npy\n",
      "/home/nlp/lazary/workspace/thesis/nullspace_projection/data/emoji_sent_race_0.7/train//neg_pos.npy\n",
      "/home/nlp/lazary/workspace/thesis/nullspace_projection/data/emoji_sent_race_0.7/train//pos_neg.npy\n",
      "/home/nlp/lazary/workspace/thesis/nullspace_projection/data/emoji_sent_race_0.7/train//pos_pos.npy\n"
     ]
    },
    {
     "name": "stderr",
     "output_type": "stream",
     "text": [
      "/home/nlp/lazary/anaconda3/envs/nullspace/lib/python3.7/site-packages/sklearn/linear_model/sag.py:334: ConvergenceWarning: The max_iter was reached which means the coef_ did not converge\n",
      "  \"the coef_ did not converge\", ConvergenceWarning)\n",
      "[Parallel(n_jobs=64)]: Done   1 tasks      | elapsed:    0.8s\n",
      "[Parallel(n_jobs=64)]: Done   1 out of   1 | elapsed:    0.8s finished\n"
     ]
    },
    {
     "name": "stdout",
     "output_type": "stream",
     "text": [
      "700 300\n",
      "/home/nlp/lazary/workspace/thesis/nullspace_projection/data/emoji_sent_race_0.7/dev//neg_neg.npy\n",
      "/home/nlp/lazary/workspace/thesis/nullspace_projection/data/emoji_sent_race_0.7/dev//neg_pos.npy\n",
      "/home/nlp/lazary/workspace/thesis/nullspace_projection/data/emoji_sent_race_0.7/dev//pos_neg.npy\n",
      "/home/nlp/lazary/workspace/thesis/nullspace_projection/data/emoji_sent_race_0.7/dev//pos_pos.npy\n"
     ]
    },
    {
     "name": "stderr",
     "output_type": "stream",
     "text": [
      "[Parallel(n_jobs=64)]: Using backend ThreadingBackend with 64 concurrent workers.\n"
     ]
    },
    {
     "name": "stdout",
     "output_type": "stream",
     "text": [
      "max_iter reached after 1 seconds\n"
     ]
    },
    {
     "name": "stderr",
     "output_type": "stream",
     "text": [
      "/home/nlp/lazary/anaconda3/envs/nullspace/lib/python3.7/site-packages/sklearn/linear_model/sag.py:334: ConvergenceWarning: The max_iter was reached which means the coef_ did not converge\n",
      "  \"the coef_ did not converge\", ConvergenceWarning)\n",
      "[Parallel(n_jobs=64)]: Done   1 tasks      | elapsed:    1.0s\n",
      "[Parallel(n_jobs=64)]: Done   1 out of   1 | elapsed:    1.0s finished\n",
      "[Parallel(n_jobs=64)]: Using backend ThreadingBackend with 64 concurrent workers.\n"
     ]
    },
    {
     "name": "stdout",
     "output_type": "stream",
     "text": [
      "max_iter reached after 1 seconds\n",
      "16000 3999\n",
      "/home/nlp/lazary/workspace/thesis/nullspace_projection/data/emoji_sent_race_0.8/train//neg_neg.npy\n",
      "/home/nlp/lazary/workspace/thesis/nullspace_projection/data/emoji_sent_race_0.8/train//neg_pos.npy\n",
      "/home/nlp/lazary/workspace/thesis/nullspace_projection/data/emoji_sent_race_0.8/train//pos_neg.npy\n",
      "/home/nlp/lazary/workspace/thesis/nullspace_projection/data/emoji_sent_race_0.8/train//pos_pos.npy\n"
     ]
    },
    {
     "name": "stderr",
     "output_type": "stream",
     "text": [
      "/home/nlp/lazary/anaconda3/envs/nullspace/lib/python3.7/site-packages/sklearn/linear_model/sag.py:334: ConvergenceWarning: The max_iter was reached which means the coef_ did not converge\n",
      "  \"the coef_ did not converge\", ConvergenceWarning)\n",
      "[Parallel(n_jobs=64)]: Done   1 tasks      | elapsed:    0.9s\n",
      "[Parallel(n_jobs=64)]: Done   1 out of   1 | elapsed:    0.9s finished\n"
     ]
    },
    {
     "name": "stdout",
     "output_type": "stream",
     "text": [
      "800 199\n",
      "/home/nlp/lazary/workspace/thesis/nullspace_projection/data/emoji_sent_race_0.8/dev//neg_neg.npy\n",
      "/home/nlp/lazary/workspace/thesis/nullspace_projection/data/emoji_sent_race_0.8/dev//neg_pos.npy\n",
      "/home/nlp/lazary/workspace/thesis/nullspace_projection/data/emoji_sent_race_0.8/dev//pos_neg.npy\n",
      "/home/nlp/lazary/workspace/thesis/nullspace_projection/data/emoji_sent_race_0.8/dev//pos_pos.npy\n"
     ]
    },
    {
     "name": "stderr",
     "output_type": "stream",
     "text": [
      "[Parallel(n_jobs=64)]: Using backend ThreadingBackend with 64 concurrent workers.\n"
     ]
    },
    {
     "name": "stdout",
     "output_type": "stream",
     "text": [
      "max_iter reached after 0 seconds\n"
     ]
    },
    {
     "name": "stderr",
     "output_type": "stream",
     "text": [
      "/home/nlp/lazary/anaconda3/envs/nullspace/lib/python3.7/site-packages/sklearn/linear_model/sag.py:334: ConvergenceWarning: The max_iter was reached which means the coef_ did not converge\n",
      "  \"the coef_ did not converge\", ConvergenceWarning)\n",
      "[Parallel(n_jobs=64)]: Done   1 tasks      | elapsed:    0.9s\n",
      "[Parallel(n_jobs=64)]: Done   1 out of   1 | elapsed:    0.9s finished\n",
      "[Parallel(n_jobs=64)]: Using backend ThreadingBackend with 64 concurrent workers.\n"
     ]
    },
    {
     "name": "stdout",
     "output_type": "stream",
     "text": [
      "max_iter reached after 1 seconds\n",
      "18000 1999\n",
      "/home/nlp/lazary/workspace/thesis/nullspace_projection/data/emoji_sent_race_0.9/train//neg_neg.npy\n"
     ]
    },
    {
     "name": "stderr",
     "output_type": "stream",
     "text": [
      "/home/nlp/lazary/anaconda3/envs/nullspace/lib/python3.7/site-packages/sklearn/linear_model/sag.py:334: ConvergenceWarning: The max_iter was reached which means the coef_ did not converge\n",
      "  \"the coef_ did not converge\", ConvergenceWarning)\n",
      "[Parallel(n_jobs=64)]: Done   1 tasks      | elapsed:    0.9s\n",
      "[Parallel(n_jobs=64)]: Done   1 out of   1 | elapsed:    0.9s finished\n"
     ]
    },
    {
     "name": "stdout",
     "output_type": "stream",
     "text": [
      "/home/nlp/lazary/workspace/thesis/nullspace_projection/data/emoji_sent_race_0.9/train//neg_pos.npy\n",
      "/home/nlp/lazary/workspace/thesis/nullspace_projection/data/emoji_sent_race_0.9/train//pos_neg.npy\n",
      "/home/nlp/lazary/workspace/thesis/nullspace_projection/data/emoji_sent_race_0.9/train//pos_pos.npy\n",
      "900 99\n",
      "/home/nlp/lazary/workspace/thesis/nullspace_projection/data/emoji_sent_race_0.9/dev//neg_neg.npy\n",
      "/home/nlp/lazary/workspace/thesis/nullspace_projection/data/emoji_sent_race_0.9/dev//neg_pos.npy\n",
      "/home/nlp/lazary/workspace/thesis/nullspace_projection/data/emoji_sent_race_0.9/dev//pos_neg.npy\n",
      "/home/nlp/lazary/workspace/thesis/nullspace_projection/data/emoji_sent_race_0.9/dev//pos_pos.npy\n"
     ]
    },
    {
     "name": "stderr",
     "output_type": "stream",
     "text": [
      "[Parallel(n_jobs=64)]: Using backend ThreadingBackend with 64 concurrent workers.\n"
     ]
    },
    {
     "name": "stdout",
     "output_type": "stream",
     "text": [
      "max_iter reached after 1 seconds\n"
     ]
    },
    {
     "name": "stderr",
     "output_type": "stream",
     "text": [
      "/home/nlp/lazary/anaconda3/envs/nullspace/lib/python3.7/site-packages/sklearn/linear_model/sag.py:334: ConvergenceWarning: The max_iter was reached which means the coef_ did not converge\n",
      "  \"the coef_ did not converge\", ConvergenceWarning)\n",
      "[Parallel(n_jobs=64)]: Done   1 tasks      | elapsed:    1.1s\n",
      "[Parallel(n_jobs=64)]: Done   1 out of   1 | elapsed:    1.1s finished\n",
      "[Parallel(n_jobs=64)]: Using backend ThreadingBackend with 64 concurrent workers.\n"
     ]
    },
    {
     "name": "stdout",
     "output_type": "stream",
     "text": [
      "max_iter reached after 1 seconds\n"
     ]
    },
    {
     "name": "stderr",
     "output_type": "stream",
     "text": [
      "/home/nlp/lazary/anaconda3/envs/nullspace/lib/python3.7/site-packages/sklearn/linear_model/sag.py:334: ConvergenceWarning: The max_iter was reached which means the coef_ did not converge\n",
      "  \"the coef_ did not converge\", ConvergenceWarning)\n",
      "[Parallel(n_jobs=64)]: Done   1 tasks      | elapsed:    1.0s\n",
      "[Parallel(n_jobs=64)]: Done   1 out of   1 | elapsed:    1.0s finished\n"
     ]
    }
   ],
   "source": [
    "results = defaultdict(dict)\n",
    "\n",
    "for ratio in [0.5, 0.6, 0.7, 0.8, 0.9]:\n",
    "# for ratio in [0.5, 0.6]:\n",
    "# for ratio in [0.5]:\n",
    "    x_train, y_p_train, y_m_train = load_data(\n",
    "        '/home/nlp/lazary/workspace/thesis/nullspace_projection/data/emoji_sent_race_{}/train/'.format(ratio),\n",
    "        size=40000, ratio=ratio)\n",
    "    x_dev, y_p_dev, y_m_dev = load_data(\n",
    "        '/home/nlp/lazary/workspace/thesis/nullspace_projection/data/emoji_sent_race_{}/dev/'.format(ratio),\n",
    "        size=2000, ratio=ratio)\n",
    "    \n",
    "\n",
    "    biased_classifier = LogisticRegression(warm_start = True, penalty = 'l2',\n",
    "                         solver = \"sag\", multi_class = 'multinomial', fit_intercept = True,\n",
    "                         verbose = 10, max_iter = 5, n_jobs = 64, random_state = 1)\n",
    "\n",
    "    biased_classifier.fit(x_train, y_m_train)\n",
    "    biased_score = biased_classifier.score(x_dev, y_m_dev)\n",
    "    \n",
    "    P = np.load('/home/nlp/lazary/workspace/thesis/nullspace_projection/data/emoji_sent_race_{}/P.num-clfs=120.npy'.format(ratio))\n",
    "    debiased_x_train = x_train.dot(P)\n",
    "    debiased_x_dev = x_dev.dot(P)\n",
    "    \n",
    "    classifier = LogisticRegression(warm_start = True, penalty = 'l2',\n",
    "                         solver = \"sag\", multi_class = 'multinomial', fit_intercept = True,\n",
    "                         verbose = 10, max_iter = 5, n_jobs = 64, random_state = 1)\n",
    "\n",
    "    classifier.fit(debiased_x_train, y_m_train)\n",
    "    debiased_score = classifier.score(debiased_x_dev, y_m_dev)\n",
    "    \n",
    "    \n",
    "    \n",
    "    _, biased_diffs = get_TPR(y_m_dev, biased_classifier.predict(x_dev), y_p_dev)\n",
    "    \n",
    "    _, debiased_diffs = get_TPR(y_m_dev, classifier.predict(debiased_x_dev), y_p_dev)\n",
    "    \n",
    "    results[ratio]['biased_diff_tpr'] = biased_diffs['y:0']\n",
    "    results[ratio]['debiased_diff_tpr'] = debiased_diffs['y:0']\n",
    "    \n",
    "    results[ratio]['biased_acc'] = biased_score\n",
    "    results[ratio]['debiased_acc'] = debiased_score"
   ]
  },
  {
   "cell_type": "code",
   "execution_count": 316,
   "metadata": {},
   "outputs": [
    {
     "data": {
      "text/plain": [
       "defaultdict(dict,\n",
       "            {0.5: {'biased_diff_tpr': 0.18799999999999994,\n",
       "              'debiased_diff_tpr': 0.16600000000000004,\n",
       "              'biased_acc': 0.753,\n",
       "              'debiased_acc': 0.6165},\n",
       "             0.6: {'biased_diff_tpr': 0.2833333333333333,\n",
       "              'debiased_diff_tpr': 0.16000000000000003,\n",
       "              'biased_acc': 0.779,\n",
       "              'debiased_acc': 0.713},\n",
       "             0.7: {'biased_diff_tpr': 0.33238095238095233,\n",
       "              'debiased_diff_tpr': 0.2585714285714286,\n",
       "              'biased_acc': 0.7985,\n",
       "              'debiased_acc': 0.673},\n",
       "             0.8: {'biased_diff_tpr': 0.4213128140703517,\n",
       "              'debiased_diff_tpr': 0.21448492462311564,\n",
       "              'biased_acc': 0.8353353353353353,\n",
       "              'debiased_acc': 0.7677677677677678},\n",
       "             0.9: {'biased_diff_tpr': 0.5249494949494949,\n",
       "              'debiased_diff_tpr': -0.013232323232323151,\n",
       "              'biased_acc': 0.8788788788788788,\n",
       "              'debiased_acc': 0.5230230230230231}})"
      ]
     },
     "execution_count": 316,
     "metadata": {},
     "output_type": "execute_result"
    }
   ],
   "source": [
    "results"
   ]
  },
  {
   "cell_type": "code",
   "execution_count": 347,
   "metadata": {},
   "outputs": [
    {
     "data": {
      "text/plain": [
       "defaultdict(dict,\n",
       "            {0.5: {'biased_diff_tpr': 0.04400000000000004,\n",
       "              'debiased_diff_tpr': 0.07200000000000006,\n",
       "              'biased_acc': 0.753,\n",
       "              'debiased_acc': 0.6165},\n",
       "             0.6: {'biased_diff_tpr': -0.09666666666666668,\n",
       "              'debiased_diff_tpr': -0.004166666666666652,\n",
       "              'biased_acc': 0.779,\n",
       "              'debiased_acc': 0.713},\n",
       "             0.7: {'biased_diff_tpr': -0.23476190476190484,\n",
       "              'debiased_diff_tpr': -0.04047619047619044,\n",
       "              'biased_acc': 0.7985,\n",
       "              'debiased_acc': 0.673},\n",
       "             0.8: {'biased_diff_tpr': -0.3722613065326633,\n",
       "              'debiased_diff_tpr': -0.10285804020100497,\n",
       "              'biased_acc': 0.8353353353353353,\n",
       "              'debiased_acc': 0.7677677677677678},\n",
       "             0.9: {'biased_diff_tpr': -0.4507070707070707,\n",
       "              'debiased_diff_tpr': 0.02535353535353535,\n",
       "              'biased_acc': 0.8788788788788788,\n",
       "              'debiased_acc': 0.5230230230230231}})"
      ]
     },
     "execution_count": 347,
     "metadata": {},
     "output_type": "execute_result"
    }
   ],
   "source": [
    "results"
   ]
  },
  {
   "cell_type": "code",
   "execution_count": 351,
   "metadata": {},
   "outputs": [],
   "source": [
    "plot_results = defaultdict(list)\n",
    "for r in [0.5, 0.6, 0.7, 0.8]:\n",
    "    plot_results['biased_diff_tpr'].append(results[r]['biased_diff_tpr'])\n",
    "    plot_results['debiased_diff_tpr'].append(results[r]['debiased_diff_tpr'])\n",
    "    plot_results['biased_acc'].append(results[r]['biased_acc'])\n",
    "    plot_results['debiased_acc'].append(results[r]['debiased_acc'])\n",
    "    "
   ]
  },
  {
   "cell_type": "code",
   "execution_count": 318,
   "metadata": {},
   "outputs": [
    {
     "data": {
      "text/plain": [
       "defaultdict(list,\n",
       "            {'biased_diff_tpr': [0.18799999999999994,\n",
       "              0.2833333333333333,\n",
       "              0.33238095238095233,\n",
       "              0.4213128140703517],\n",
       "             'debiased_diff_tpr': [0.16600000000000004,\n",
       "              0.16000000000000003,\n",
       "              0.2585714285714286,\n",
       "              0.21448492462311564],\n",
       "             'biased_acc': [0.753, 0.779, 0.7985, 0.8353353353353353],\n",
       "             'debiased_acc': [0.6165, 0.713, 0.673, 0.7677677677677678]})"
      ]
     },
     "execution_count": 318,
     "metadata": {},
     "output_type": "execute_result"
    }
   ],
   "source": [
    "plot_results"
   ]
  },
  {
   "cell_type": "code",
   "execution_count": 398,
   "metadata": {},
   "outputs": [
    {
     "data": {
      "image/png": "[encoded data removed]",
      "text/plain": [
       "<Figure size 432x288 with 2 Axes>"
      ]
     },
     "metadata": {
      "needs_background": "light"
     },
     "output_type": "display_data"
    }
   ],
   "source": [
    "def data2plot(results):\n",
    "    x = [0.5, 0.6, 0.7, 0.8]\n",
    "\n",
    "#     ax = plt.plot(x, results['biased_diff_tpr'], '.--', label='biased tpr diff')\n",
    "#     ax = plt.plot(x, results['debiased_diff_tpr'], '*:', label='debiased tpr diff')\n",
    "#     ax = plt.plot(x, results['biased_acc'], '^-', label='biased acc')\n",
    "#     ax = plt.plot(x, results['debiased_acc'], 'o--', label='debiased acc')\n",
    "\n",
    "#     plt.annotate(#'48.1%', size=8,\n",
    "#     ha = 'center', va = 'bottom',\n",
    "#     xytext = (65, 0.455),\n",
    "#     xy = (75.2, 0.479),\n",
    "#     arrowprops = { 'facecolor' : 'black', 'shrink' : 0.001, 'width': 0.5, 'headwidth': 6, 'headlength': 8 })\n",
    "\n",
    "    fig, ax1 = plt.subplots()\n",
    "\n",
    "    color = 'tab:red'\n",
    "    ax1.set_xlabel('ratio')\n",
    "    ax1.set_ylabel('diff tpr', color=color)\n",
    "    ax1.plot(x, results['biased_diff_tpr'], '.--', label='biased tpr diff', color=color)\n",
    "    ax1.plot(x, results['debiased_diff_tpr'], '*:', label='debiased tpr diff', color=color)\n",
    "    ax1.tick_params(axis='y', labelcolor=color)\n",
    "    plt.ylim(0.1,0.6)\n",
    "\n",
    "    ax2 = ax1.twinx()  # instantiate a second axes that shares the same x-axis\n",
    "\n",
    "    color = 'tab:blue'\n",
    "    ax2.set_ylabel('acc', color=color)  # we already handled the x-label with ax1\n",
    "    ax2.plot(x, results['biased_acc'], '^-', label='biased acc', color=color)\n",
    "    ax2.plot(x, results['debiased_acc'], 'o--', label='debiased acc', color=color)\n",
    "    ax2.tick_params(axis='y', labelcolor=color)\n",
    "    \n",
    "    # ask matplotlib for the plotted objects and their labels\n",
    "    lines, labels = ax1.get_legend_handles_labels()\n",
    "    lines2, labels2 = ax2.get_legend_handles_labels()\n",
    "#     ax2.legend(lines + lines2, labels + labels2, loc='upper left')\n",
    "    ax2.legend(lines, labels, loc='lower right')\n",
    "    \n",
    "    from matplotlib.legend import Legend\n",
    "    leg = Legend(ax2, lines2, labels2,\n",
    "             loc='upper left', frameon=False)\n",
    "    ax2.add_artist(leg);\n",
    "\n",
    "#     plt.ylabel('val')\n",
    "#     plt.xlabel('Ratio')\n",
    "    plt.title('TPR rates as a function of the ratio')\n",
    "#     plt.tight_layout()\n",
    "    plt.ylim(0.4,.9)\n",
    "#     plt.legend()\n",
    "    plt.savefig('tpr_rates_ratio.png', dpi=1000)\n",
    "    plt.show()\n",
    "    \n",
    "data2plot(plot_results)"
   ]
  },
  {
   "cell_type": "code",
   "execution_count": 349,
   "metadata": {},
   "outputs": [
    {
     "data": {
      "image/png": "[encoded data removed]",
      "text/plain": [
       "<Figure size 432x288 with 2 Axes>"
      ]
     },
     "metadata": {
      "needs_background": "light"
     },
     "output_type": "display_data"
    }
   ],
   "source": [
    "data2plot(plot_results)"
   ]
  }
 ],
 "metadata": {
  "kernelspec": {
   "display_name": "nullspace",
   "language": "python",
   "name": "nullspace"
  },
  "language_info": {
   "codemirror_mode": {
    "name": "ipython",
    "version": 3
   },
   "file_extension": ".py",
   "mimetype": "text/x-python",
   "name": "python",
   "nbconvert_exporter": "python",
   "pygments_lexer": "ipython3",
   "version": "3.7.3"
  }
 },
 "nbformat": 4,
 "nbformat_minor": 2
}
