{
 "cells": [
  {
   "cell_type": "code",
   "execution_count": 1,
   "metadata": {},
   "outputs": [],
   "source": [
    "import sys\n",
    "sys.path.append(\"../src\")\n",
    "sys.path.append(\"../data/embeddings\")\n",
    "import classifier\n",
    "import svm_classifier\n",
    "import debias\n",
    "import gensim\n",
    "import codecs\n",
    "import json\n",
    "from gensim.models.keyedvectors import Word2VecKeyedVectors\n",
    "from gensim.models import KeyedVectors\n",
    "import numpy as np\n",
    "import random\n",
    "import sklearn\n",
    "from sklearn import model_selection\n",
    "from sklearn import cluster\n",
    "from sklearn import metrics\n",
    "from sklearn.manifold import TSNE\n",
    "from sklearn.svm import LinearSVC, SVC\n",
    "from sklearn.neural_network import MLPClassifier\n",
    "from sklearn.metrics.pairwise import cosine_similarity\n",
    "import scipy\n",
    "from scipy import linalg\n",
    "from scipy.stats.stats import pearsonr\n",
    "import tqdm\n",
    "import matplotlib\n",
    "import matplotlib.pyplot as plt\n",
    "%matplotlib inline\n",
    "matplotlib.rcParams['agg.path.chunksize'] = 10000\n",
    "from sklearn.utils import shuffle\n",
    "\n",
    "import warnings\n",
    "warnings.filterwarnings(\"ignore\")"
   ]
  },
  {
   "cell_type": "code",
   "execution_count": 2,
   "metadata": {},
   "outputs": [],
   "source": [
    "def tsne_by_gender(vecs, labels, title, words = None):\n",
    "\n",
    "  tsne = TSNE(n_components=2, random_state=0)\n",
    "  vecs_2d = tsne.fit_transform(vecs)\n",
    "  num_labels = len(set(labels.tolist()))\n",
    "\n",
    "  names = [\"class {}\".format(i) for i in range(num_labels)]\n",
    "  plt.figure(figsize=(6, 5))\n",
    "  colors = 'r', 'b', 'orange'\n",
    "  for i, c, label in zip(set(labels.tolist()), colors, names):\n",
    "    print(len(vecs_2d[labels == i, 0]))\n",
    "    plt.scatter(vecs_2d[labels == i, 0], vecs_2d[labels == i, 1], c=c,\n",
    "                label=label, alpha = 0.3)\n",
    "  plt.legend()\n",
    "  plt.title(title)\n",
    "  \n",
    "  if words is not None:\n",
    "        k = 60\n",
    "        for i in range(k):\n",
    "            \n",
    "            j = np.random.choice(range(len(words)))\n",
    "            label = labels[i]\n",
    "            w = words[j]\n",
    "            x,y = vecs_2d[i]\n",
    "            plt.annotate(w , (x,y), size = 10, color = \"black\" if label == 1 else \"black\")\n",
    "  plt.savefig(\"word2vec-tsne\", dpi = 600)          \n",
    "  plt.show()\n",
    "  return vecs_2d"
   ]
  },
  {
   "cell_type": "markdown",
   "metadata": {},
   "source": [
    "### Data loading & processing"
   ]
  },
  {
   "cell_type": "code",
   "execution_count": 3,
   "metadata": {},
   "outputs": [],
   "source": [
    "def load_word_vectors(fname = \"../data/embeddings/vecs.filtered.txt\"):\n",
    "    \n",
    "    model = KeyedVectors.load_word2vec_format(fname, binary=False)\n",
    "    vecs = model.vectors\n",
    "    words = list(model.vocab.keys())\n",
    "    return model, vecs, words\n",
    "\n",
    "def project_on_gender_subspaces(gender_vector, model: Word2VecKeyedVectors, n = 2500):\n",
    "    \n",
    "    group1 = model.similar_by_vector(gender_vector, topn = n, restrict_vocab=None)\n",
    "    group2 = model.similar_by_vector(-gender_vector, topn = n, restrict_vocab=None)\n",
    "    \n",
    "    all_sims = model.similar_by_vector(gender_vector, topn = len(model.wv.vectors), restrict_vocab=None)\n",
    "    eps = 0.03\n",
    "    idx = [i for i in range(len(all_sims)) if abs(all_sims[i][1]) < eps]\n",
    "    samp = set(np.random.choice(idx, size = n))\n",
    "    neut = [s for i,s in enumerate(all_sims) if i in samp]\n",
    "    return group1, group2, neut\n",
    "    \n",
    "    \"\"\"\n",
    "    all_sims =  model.similar_by_vector(gender_vector, topn = len(model.wv.vectors), restrict_vocab=None)\n",
    "    pos,neg,neut = [], [], []\n",
    "    for sim in all_sims:\n",
    "        w,score = sim\n",
    "        if score > 3*eps:\n",
    "            pos.append(sim)\n",
    "        elif score < - 0.5*3*eps:\n",
    "            neg.append(sim)\n",
    "        elif abs(score) < eps:\n",
    "            neut.append(sim)\n",
    "\n",
    "    group1 = [random.choice(pos) for i in range(n)]\n",
    "    group2 = [random.choice(neg) for i in range(n)]\n",
    "    group3 = [random.choice(neut) for i in range(n)]\n",
    "    group1 = sorted(group1, key = lambda pair: -pair[1])\n",
    "    group2 = sorted(group2, key = lambda pair: -pair[1])\n",
    "    group3 = sorted(group3, key = lambda pair: -pair[1])\n",
    "    \n",
    "    return group1, group2, group3\n",
    "    \"\"\"\n",
    "def get_vectors(word_list: list, model: Word2VecKeyedVectors):\n",
    "    \n",
    "    vecs = []\n",
    "    for w in word_list:\n",
    "        \n",
    "        vecs.append(model[w])\n",
    "    \n",
    "    vecs = np.array(vecs)\n",
    "\n",
    "    return vecs\n",
    "\n",
    "\"\"\" \n",
    "def groups_by_neighbors(gender_vector, model: Word2VecKeyedVectors, n = 2500):\n",
    "\n",
    "    biases = []\n",
    "    words = list(model.wv.vocab.keys())\n",
    "    for v,w in tqdm.tqdm(zip(model.wv.vectors, words), ascii = True, total = len(words)):\n",
    "            \n",
    "        bias =  get_bias_by_neighbors(model, v, gender_direction, topn = 100)\n",
    "        biases.append((w, bias))\n",
    "        #print((w,bias))\n",
    "        \n",
    "    pos,neg,neut = [], [], []\n",
    "    \n",
    "    eps = 0.25\n",
    "    \n",
    "    for word_and_bias in biases:\n",
    "        w,bias = word_and_bias\n",
    "        if bias > 0.5 + eps:\n",
    "            pos.append(word_and_bias)\n",
    "        elif bias < 0.5 - eps:\n",
    "            neg.append(word_and_bias)\n",
    "        elif abs(bias - 0.5) < eps/2:\n",
    "            neut.append(word_and_bias)\n",
    "\n",
    "    group1 = [random.choice(pos) for i in range(n)]\n",
    "    group2 = [random.choice(neg) for i in range(n)]\n",
    "    group3 = [random.choice(neut) for i in range(n)]\n",
    "    group1 = sorted(group1, key = lambda pair: -pair[1])\n",
    "    group2 = sorted(group2, key = lambda pair: -pair[1])\n",
    "    group3 = sorted(group3, key = lambda pair: -pair[1])\n",
    "    \n",
    "    return group1, group2, group3        \n",
    "\"\"\"        \n",
    "    \n",
    "    \n",
    "def get_bias_by_neighbors(model, v, gender_direction, topn): \n",
    "    \n",
    "    neighbors = model.similar_by_vector(v, topn = topn) \n",
    "    neighbors_words = [n for n, _ in neighbors]\n",
    "    \n",
    "    #bias = len([n for n in neighbors_words if n in gendered_words])\n",
    "    bias = len([n for n in neighbors_words if model.cosine_similarities(model[n], [gender_direction])[0] > 0])\n",
    "    bias /= (1.*topn)\n",
    "    return bias\n",
    "\n",
    "\n",
    "def save_in_word2vec_format(vecs: np.ndarray, words: np.ndarray, fname: str):\n",
    "\n",
    "\n",
    "    with open(fname, \"w\", encoding = \"utf-8\") as f:\n",
    "\n",
    "        f.write(str(len(vecs)) + \" \" + \"300\" + \"\\n\")\n",
    "        for i, (v,w) in tqdm.tqdm(enumerate(zip(vecs, words))):\n",
    "\n",
    "            vec_as_str = \" \".join([str(x) for x in v])\n",
    "            f.write(w + \" \" + vec_as_str + \"\\n\")"
   ]
  },
  {
   "cell_type": "code",
   "execution_count": 4,
   "metadata": {},
   "outputs": [
    {
     "name": "stdout",
     "output_type": "stream",
     "text": [
      "TOP MASC\n",
      "('drafted', 'qb', 'soriano', 'himself', 'cardinals', 'giants', 'he', 'bullpen', 'sabean', 'jagr', 'muhammad', 'alou', 'rangers', 'defensive', 'draft', 'belichick', 'rookie', 'ratzinger', 'obp', 'santonio', 'muhammed', 'yankees', 'outfielder', 'preached', 'playmaker', 'lineman', 'offensive', 'wr', 'steelers', 'redskins', 'rushers', 'his', 'punter', 'anquan', 'boldin', 'bochy', 'caesarea', 'nfl', 'umenyiora', 'laurinaitis', 'flacco', 'rc', 'eusebius', 'packers', 'lhp', 'homers', 'mitre', 'linebacker', 'rhp', 'manny', 'colts', 'ahl', 'elway', 'mcgwire', 'balmer', 'athanasius', 'bulls', 'pujols', 'disciples', 'chiefs', 'pitches', 'prophet', 'freeney', 'faneca', 'mvp', 'offense', 'ladainian', 'quarterback', 'wideout', 'lefty', 'players', 'hitters', 'dumervil', 'offseason', 'harmison')\n",
      "LAST MASC\n",
      "('jackson', 'shoup', 'brautigan', 'lenny', 'thhe', 'drum', 'maximization', 'therm', 'practises', 'seizing', 'sito', 'virginians', 'bander', 'fruitvale', 'awb', 'limped', 'lazar', 'arbitrarily', 'maugham', 'deodorizing', 'dmin', 'packager', 'stretford', 'skinners', 'jorgenson', 'sleepers', 'fsc', 'rodríguez', 'anv', 'enderby', 'delmonico', 'prawn', 'nã', 'boasting', 'efcc', 'calculated', 'bayelsa', 'collectively', 'observation', 'persecutors', 'konstantinos', 'on', 'moammar', 'wheeler', 'mabon', 'tremont', 'bartlett', 'yellowcake', 'ev', 'auger', 'arkanoid', 'beheaded', 'farmland', 'retval', 'anello', 'distinction', 'trapezoidal', 'series', 'didint', 'dui', 'netbsd', 'researches', 'merovingian', 'erwin', 'zzounds', 'muscletech', 'guttenberg', 'berwick', 'compositions', 'ramjet', 'heavens', 'kolya', 'srinivas', 'bersani', 'nvda')\n",
      "-------------------------\n",
      "TOP FEM\n",
      "('nichole', 'ftv', 'renee', 'sophie', 'christina', 'marie', 'pregnant', 'nicole', 'samantha', 'denise', 'sassy', 'madeline', 'alicia', 'lynette', 'xoxo', 'melanie', 'michelle', 'missy', 'kimberly', 'melissa', 'kayla', 'angelina', 'kristin', 'jennifer', 'emma', 'katie', 'pregnancy', 'jessica', 'heidi', 'tina', 'mandy', 'erika', 'maggie', 'shes', 'elaine', 'julie', 'vanessa', 'actress', 'leanne', 'kristina', 'faye', 'alexandra', 'tanya', 'fiona', 'rebecca', 'cassie', 'cindy', 'janice', 'danielle', 'ballerina', 'busty', 'louise', 'pamela', 'sophia', 'amanda', 'abby', 'kristine', 'megan', 'suzanne', 'niece', 'kristy', 'amy', 'kylie', 'phoebe', 'claire', 'tamara', 'claudia', 'alyssa', 'brianna', 'stacie', 'katherine', 'natalie', 'diva', 'christine', 'emily')\n",
      "LAST FEM\n",
      "('sixpence', 'unprepared', 'worksafe', 'buzzing', 'nagyon', 'geile', 'homesteading', 'inserm', 'stressor', 'geargift', 'epilation', 'canoodling', 'flatbread', 'wte', 'artless', 'tift', 'wata', 'harpswell', 'annexe', 'syllabic', 'usu', 'spilt', 'budesonide', 'viewedmost', 'zetta', 'idk', 'chrismas', 'ibiblio', 'ptm', 'revels', 'elasticities', 'audiology', 'batey', 'bunks', 'twisted', 'dagny', 'calla', 'servicemagic', 'grownups', 'eka', 'dataview', 'isolates', 'syringa', 'wonderwave', 'squaretrade', 'downvote', 'undetected', 'kcm', 'hypermarket', 'viburnum', 'gingivitis', 'drapes', 'harpers', 'vietnamnet', 'embarrased', 'bonding', 'internalizing', 'kieffer', 'creditworthiness', 'iccpr', 'awwwwwww', 'commentsin', 'amaranth', 'luggage', 'abnormalities', 'gigbags', 'freelanced', 'diamants', 'atvi', 'animal', 'breathlessness', 'yesh', 'coble', 'ravage', 'staging')\n",
      "-------------------------\n",
      "('dxb', 'rober', 'oboe', 'hound', 'ells', 'reselling', 'observances', 'stainless', 'christo', 'outpouring', 'mcpeak', 'osb', 'educational', 'bardwell', 'vocabularies', 'webbed', 'montalbano', 'trentham', 'suggestions', 'frankenweenie', 'videogum', 'yonah', 'micropayments', 'fh', 'drippings', 'devourer', 'lowlifes', 'subband', 'hws', 'speedometer', 'colleyville', 'berk', 'bosses', 'guster', 'aidsline', 'regurgitating', 'asker', 'transform', 'sockeye', 'benoa', 'colonies', 'admonishment', 'queries', 'ilham', 'unrwa', 'aligning', 'cafo', 'tic', 'ileus', 'prosody', 'rizzi', 'conceptions', 'ramshackle', 'thinned', 'warkworth', 'caprivi', 'harmon', 'osmium', 'multiplay', 'chauffeurs', 'hundredth', 'extensional', 'dogtra', 'millais', 'lwf', 'hepatocytes', 'sef', 'cosworth', 'abandoned', 'ascendance', 'leveled', 'unchurched', 'blisteringly', 'freiheit', 'trna')\n"
     ]
    }
   ],
   "source": [
    "# 150k top vectors (without gender-typical words) - used for training\n",
    "\n",
    "model, vecs, words = load_word_vectors(fname = \"../data/embeddings/vecs.filtered.with_gendered.glove.txt\")\n",
    "\n",
    "# only gendered vectors\n",
    "\n",
    "model_gendered, _, _ = load_word_vectors(fname = \"../data/embeddings/vecs.gendered.glove.txt\")\n",
    "\n",
    "gender_direction = model_gendered[\"he\"] - model_gendered[\"she\"]\n",
    "#gender_direction = model_gendered[\"he\"] + model_gendered[\"man\"] + model_gendered[\"boy\"] + model_gendered[\"him\"] - (model_gendered[\"she\"] + model_gendered[\"woman\"] + model_gendered[\"girl\"] + model_gendered[\"her\"])\n",
    "gender_unit_vec = gender_direction/np.linalg.norm(gender_direction)\n",
    "\n",
    "\n",
    "masc_words_and_scores, fem_words_and_scores, neut_words_and_scores = project_on_gender_subspaces(gender_direction, model, n = 25000)\n",
    "#masc_words_and_scores , fem_words_and_scores, neut_words_and_scores = groups_by_neighbors(gender_direction, model, n=5000)    \n",
    "\n",
    "masc_words, masc_scores = list(zip(*masc_words_and_scores))\n",
    "neut_words, neut_scores = list(zip(*neut_words_and_scores))\n",
    "fem_words, fem_scores = list(zip(*fem_words_and_scores))\n",
    "#fem_scores = [-x for x in fem_scores]\n",
    "masc_vecs, fem_vecs = get_vectors(masc_words, model), get_vectors(fem_words, model)\n",
    "neut_vecs = get_vectors(neut_words, model)\n",
    "\n",
    "n = 3000\n",
    "all_significantly_biased_words = masc_words[:n] + fem_words[:n]\n",
    "all_significantly_biased_vecs =  np.concatenate((masc_vecs[:n], fem_vecs[:n]))\n",
    "all_significantly_biased_labels = np.concatenate((np.ones(n, dtype = int),\n",
    "                                                  np.zeros(n, dtype = int)))\n",
    "\n",
    "all_significantly_biased_words, all_significantly_biased_vecs, all_significantly_biased_labels = sklearn.utils.shuffle(\n",
    "all_significantly_biased_words, all_significantly_biased_vecs, all_significantly_biased_labels)\n",
    "#print(np.random.choice(masc_words, size = 75))\n",
    "print(\"TOP MASC\")\n",
    "print(masc_words[:75])\n",
    "print(\"LAST MASC\")\n",
    "print(masc_words[-75:])\n",
    "print(\"-------------------------\")\n",
    "#print(np.random.choice(fem_words, size = 75))\n",
    "print(\"TOP FEM\")\n",
    "print(fem_words[:75])\n",
    "print(\"LAST FEM\")\n",
    "print(fem_words[-75:])\n",
    "print(\"-------------------------\")\n",
    "#print(np.random.choice(neut_words, size = 75))\n",
    "print(neut_words[:75])\n"
   ]
  },
  {
   "cell_type": "code",
   "execution_count": 5,
   "metadata": {},
   "outputs": [
    {
     "name": "stdout",
     "output_type": "stream",
     "text": [
      "0.11354103037804365\n",
      "0.09341366603851319\n",
      "0.0017645427008348524\n",
      "0.07842518389225006\n",
      "0.04460563510656357\n",
      "-0.029999323189258575\n"
     ]
    }
   ],
   "source": [
    "print(np.mean(masc_scores))\n",
    "print(np.mean(fem_scores))\n",
    "print(np.mean(neut_scores))\n",
    "print(masc_scores[-1])\n",
    "print(fem_scores[-1])\n",
    "print(neut_scores[-1])"
   ]
  },
  {
   "cell_type": "markdown",
   "metadata": {},
   "source": [
    "### Perform train-dev-test split"
   ]
  },
  {
   "cell_type": "code",
   "execution_count": 6,
   "metadata": {},
   "outputs": [
    {
     "name": "stdout",
     "output_type": "stream",
     "text": [
      "Train size: 29379; Dev size: 12591; Test size: 27980\n"
     ]
    }
   ],
   "source": [
    "X = np.concatenate((masc_vecs, fem_vecs, neut_vecs), axis = 0)\n",
    "y_masc = np.ones(masc_vecs.shape[0], dtype = int)\n",
    "y_fem = -np.ones(fem_vecs.shape[0], dtype = int)\n",
    "y_neut = np.zeros(neut_vecs.shape[0], dtype = int)\n",
    "#y = np.concatenate((masc_scores, fem_scores, neut_scores))#np.concatenate((y_masc, y_fem))\n",
    "y = np.concatenate((y_masc, y_fem, y_neut))\n",
    "X_train_dev, X_test, y_train_dev, y_test = sklearn.model_selection.train_test_split(X, y, test_size = 0.4, random_state = 0)\n",
    "X_train, X_dev, Y_train, Y_dev = sklearn.model_selection.train_test_split(X_train_dev, y_train_dev, test_size = 0.3, random_state = 0)\n",
    "print(\"Train size: {}; Dev size: {}; Test size: {}\".format(X_train.shape[0], X_dev.shape[0], X_test.shape[0]))"
   ]
  },
  {
   "cell_type": "markdown",
   "metadata": {},
   "source": [
    "### Debias"
   ]
  },
  {
   "cell_type": "code",
   "execution_count": 7,
   "metadata": {
    "scrolled": true
   },
   "outputs": [
    {
     "name": "stderr",
     "output_type": "stream",
     "text": [
      "  3%|▎         | 1/35 [00:02<01:39,  2.94s/it]"
     ]
    },
    {
     "name": "stdout",
     "output_type": "stream",
     "text": [
      "Iteration 0, Accuracy: 0.9355889127154317\n"
     ]
    },
    {
     "name": "stderr",
     "output_type": "stream",
     "text": [
      "\r",
      "  6%|▌         | 2/35 [00:06<01:42,  3.09s/it]"
     ]
    },
    {
     "name": "stdout",
     "output_type": "stream",
     "text": [
      "Iteration 1, Accuracy: 0.5343499324914621\n"
     ]
    },
    {
     "name": "stderr",
     "output_type": "stream",
     "text": [
      "\r",
      "  9%|▊         | 3/35 [00:09<01:41,  3.16s/it]"
     ]
    },
    {
     "name": "stdout",
     "output_type": "stream",
     "text": [
      "Iteration 2, Accuracy: 0.46001111905329206\n"
     ]
    },
    {
     "name": "stderr",
     "output_type": "stream",
     "text": [
      "\r",
      " 11%|█▏        | 4/35 [00:12<01:36,  3.12s/it]"
     ]
    },
    {
     "name": "stdout",
     "output_type": "stream",
     "text": [
      "Iteration 3, Accuracy: 0.4212532761496307\n"
     ]
    },
    {
     "name": "stderr",
     "output_type": "stream",
     "text": [
      "\r",
      " 14%|█▍        | 5/35 [00:15<01:29,  2.98s/it]"
     ]
    },
    {
     "name": "stdout",
     "output_type": "stream",
     "text": [
      "Iteration 4, Accuracy: 0.3912318322611389\n"
     ]
    },
    {
     "name": "stderr",
     "output_type": "stream",
     "text": [
      "\r",
      " 17%|█▋        | 6/35 [00:17<01:20,  2.78s/it]"
     ]
    },
    {
     "name": "stdout",
     "output_type": "stream",
     "text": [
      "Iteration 5, Accuracy: 0.3788420300214439\n"
     ]
    },
    {
     "name": "stderr",
     "output_type": "stream",
     "text": [
      "\r",
      " 20%|██        | 7/35 [00:20<01:15,  2.69s/it]"
     ]
    },
    {
     "name": "stdout",
     "output_type": "stream",
     "text": [
      "Iteration 6, Accuracy: 0.36136923199110477\n"
     ]
    },
    {
     "name": "stderr",
     "output_type": "stream",
     "text": [
      "\r",
      " 23%|██▎       | 8/35 [00:22<01:07,  2.50s/it]"
     ]
    },
    {
     "name": "stdout",
     "output_type": "stream",
     "text": [
      "Iteration 7, Accuracy: 0.36399015169565563\n"
     ]
    },
    {
     "name": "stderr",
     "output_type": "stream",
     "text": [
      "\r",
      " 26%|██▌       | 9/35 [00:24<01:01,  2.36s/it]"
     ]
    },
    {
     "name": "stdout",
     "output_type": "stream",
     "text": [
      "Iteration 8, Accuracy: 0.3603367484711302\n"
     ]
    },
    {
     "name": "stderr",
     "output_type": "stream",
     "text": [
      "\r",
      " 29%|██▊       | 10/35 [00:26<00:57,  2.29s/it]"
     ]
    },
    {
     "name": "stdout",
     "output_type": "stream",
     "text": [
      "Iteration 9, Accuracy: 0.36073385751727427\n"
     ]
    },
    {
     "name": "stderr",
     "output_type": "stream",
     "text": [
      "\r",
      " 31%|███▏      | 11/35 [00:32<01:19,  3.30s/it]"
     ]
    },
    {
     "name": "stdout",
     "output_type": "stream",
     "text": [
      "Iteration 10, Accuracy: 0.36692875863712177\n"
     ]
    },
    {
     "name": "stderr",
     "output_type": "stream",
     "text": [
      "\r",
      " 34%|███▍      | 12/35 [00:39<01:46,  4.65s/it]"
     ]
    },
    {
     "name": "stdout",
     "output_type": "stream",
     "text": [
      "Iteration 11, Accuracy: 0.36653164959097767\n"
     ]
    },
    {
     "name": "stderr",
     "output_type": "stream",
     "text": [
      "\r",
      " 37%|███▋      | 13/35 [00:41<01:23,  3.79s/it]"
     ]
    },
    {
     "name": "stdout",
     "output_type": "stream",
     "text": [
      "Iteration 12, Accuracy: 0.35851004685886745\n"
     ]
    },
    {
     "name": "stderr",
     "output_type": "stream",
     "text": [
      "\r",
      " 40%|████      | 14/35 [00:43<01:06,  3.19s/it]"
     ]
    },
    {
     "name": "stdout",
     "output_type": "stream",
     "text": [
      "Iteration 13, Accuracy: 0.36970852196013027\n"
     ]
    },
    {
     "name": "stderr",
     "output_type": "stream",
     "text": [
      "\r",
      " 43%|████▎     | 15/35 [00:45<00:55,  2.75s/it]"
     ]
    },
    {
     "name": "stdout",
     "output_type": "stream",
     "text": [
      "Iteration 14, Accuracy: 0.3618457628464776\n"
     ]
    },
    {
     "name": "stderr",
     "output_type": "stream",
     "text": [
      "\r",
      " 46%|████▌     | 16/35 [00:46<00:46,  2.42s/it]"
     ]
    },
    {
     "name": "stdout",
     "output_type": "stream",
     "text": [
      "Iteration 15, Accuracy: 0.35962195218807086\n"
     ]
    },
    {
     "name": "stderr",
     "output_type": "stream",
     "text": [
      "\r",
      " 49%|████▊     | 17/35 [00:48<00:39,  2.20s/it]"
     ]
    },
    {
     "name": "stdout",
     "output_type": "stream",
     "text": [
      "Iteration 16, Accuracy: 0.34913827336986736\n"
     ]
    },
    {
     "name": "stderr",
     "output_type": "stream",
     "text": [
      "\r",
      " 51%|█████▏    | 18/35 [00:51<00:39,  2.35s/it]"
     ]
    },
    {
     "name": "stdout",
     "output_type": "stream",
     "text": [
      "Iteration 17, Accuracy: 0.34286395044079104\n"
     ]
    },
    {
     "name": "stderr",
     "output_type": "stream",
     "text": [
      "\r",
      " 54%|█████▍    | 19/35 [00:55<00:46,  2.91s/it]"
     ]
    },
    {
     "name": "stdout",
     "output_type": "stream",
     "text": [
      "Iteration 18, Accuracy: 0.34532602652688427\n"
     ]
    },
    {
     "name": "stderr",
     "output_type": "stream",
     "text": [
      "\r",
      " 57%|█████▋    | 20/35 [00:57<00:37,  2.52s/it]"
     ]
    },
    {
     "name": "stdout",
     "output_type": "stream",
     "text": [
      "Iteration 19, Accuracy: 0.3489794297514097\n"
     ]
    },
    {
     "name": "stderr",
     "output_type": "stream",
     "text": [
      "\r",
      " 60%|██████    | 21/35 [00:58<00:30,  2.20s/it]"
     ]
    },
    {
     "name": "stdout",
     "output_type": "stream",
     "text": [
      "Iteration 20, Accuracy: 0.35676276705583354\n"
     ]
    },
    {
     "name": "stderr",
     "output_type": "stream",
     "text": [
      "\r",
      " 63%|██████▎   | 22/35 [00:59<00:25,  1.97s/it]"
     ]
    },
    {
     "name": "stdout",
     "output_type": "stream",
     "text": [
      "Iteration 21, Accuracy: 0.3566039234373759\n"
     ]
    },
    {
     "name": "stderr",
     "output_type": "stream",
     "text": [
      "\r",
      " 66%|██████▌   | 23/35 [01:01<00:21,  1.77s/it]"
     ]
    },
    {
     "name": "stdout",
     "output_type": "stream",
     "text": [
      "Iteration 22, Accuracy: 0.3545389563974267\n"
     ]
    },
    {
     "name": "stderr",
     "output_type": "stream",
     "text": [
      "\r",
      " 69%|██████▊   | 24/35 [01:02<00:16,  1.53s/it]"
     ]
    },
    {
     "name": "stdout",
     "output_type": "stream",
     "text": [
      "Iteration 23, Accuracy: 0.35517433087125727\n"
     ]
    },
    {
     "name": "stderr",
     "output_type": "stream",
     "text": [
      "\r",
      " 71%|███████▏  | 25/35 [01:03<00:13,  1.39s/it]"
     ]
    },
    {
     "name": "stdout",
     "output_type": "stream",
     "text": [
      "Iteration 24, Accuracy: 0.3542212691605115\n"
     ]
    },
    {
     "name": "stderr",
     "output_type": "stream",
     "text": [
      "\r",
      " 74%|███████▍  | 26/35 [01:04<00:11,  1.28s/it]"
     ]
    },
    {
     "name": "stdout",
     "output_type": "stream",
     "text": [
      "Iteration 25, Accuracy: 0.3587483122865539\n"
     ]
    },
    {
     "name": "stderr",
     "output_type": "stream",
     "text": [
      "\r",
      " 77%|███████▋  | 27/35 [01:04<00:08,  1.08s/it]"
     ]
    },
    {
     "name": "stdout",
     "output_type": "stream",
     "text": [
      "Iteration 26, Accuracy: 0.3590659995234691\n"
     ]
    },
    {
     "name": "stderr",
     "output_type": "stream",
     "text": [
      "\r",
      " 80%|████████  | 28/35 [01:05<00:06,  1.04it/s]"
     ]
    },
    {
     "name": "stdout",
     "output_type": "stream",
     "text": [
      "Iteration 27, Accuracy: 0.3500119132713843\n"
     ]
    },
    {
     "name": "stderr",
     "output_type": "stream",
     "text": [
      "\r",
      " 83%|████████▎ | 29/35 [01:06<00:04,  1.20it/s]"
     ]
    },
    {
     "name": "stdout",
     "output_type": "stream",
     "text": [
      "Iteration 28, Accuracy: 0.3516003494559606\n"
     ]
    },
    {
     "name": "stderr",
     "output_type": "stream",
     "text": [
      "\r",
      " 86%|████████▌ | 30/35 [01:06<00:03,  1.37it/s]"
     ]
    },
    {
     "name": "stdout",
     "output_type": "stream",
     "text": [
      "Iteration 29, Accuracy: 0.3229290763243587\n"
     ]
    },
    {
     "name": "stderr",
     "output_type": "stream",
     "text": [
      "\r",
      " 89%|████████▊ | 31/35 [01:07<00:02,  1.52it/s]"
     ]
    },
    {
     "name": "stdout",
     "output_type": "stream",
     "text": [
      "Iteration 30, Accuracy: 0.3587483122865539\n"
     ]
    },
    {
     "name": "stderr",
     "output_type": "stream",
     "text": [
      "\r",
      " 91%|█████████▏| 32/35 [01:07<00:01,  1.68it/s]"
     ]
    },
    {
     "name": "stdout",
     "output_type": "stream",
     "text": [
      "Iteration 31, Accuracy: 0.3587483122865539\n"
     ]
    },
    {
     "name": "stderr",
     "output_type": "stream",
     "text": [
      "\r",
      " 94%|█████████▍| 33/35 [01:07<00:01,  1.79it/s]"
     ]
    },
    {
     "name": "stdout",
     "output_type": "stream",
     "text": [
      "Iteration 32, Accuracy: 0.3587483122865539\n"
     ]
    },
    {
     "name": "stderr",
     "output_type": "stream",
     "text": [
      "\r",
      " 97%|█████████▋| 34/35 [01:08<00:00,  1.85it/s]"
     ]
    },
    {
     "name": "stdout",
     "output_type": "stream",
     "text": [
      "Iteration 33, Accuracy: 0.3587483122865539\n"
     ]
    },
    {
     "name": "stderr",
     "output_type": "stream",
     "text": [
      "100%|██████████| 35/35 [01:08<00:00,  1.97s/it]"
     ]
    },
    {
     "name": "stdout",
     "output_type": "stream",
     "text": [
      "Iteration 34, Accuracy: 0.3587483122865539\n"
     ]
    },
    {
     "name": "stderr",
     "output_type": "stream",
     "text": [
      "\n"
     ]
    }
   ],
   "source": [
    "REGRESSION = False\n",
    "NUM_CLASSES = 3\n",
    "EPSILON = 0.015\n",
    "\n",
    "classifier_class = svm_classifier.SVMClassifier\n",
    "num_classifiers = 15\n",
    "input_dim = 300\n",
    "is_autoregressive = True\n",
    "min_accuracy = 0.0 #((1./NUM_CLASSES) + EPSILON) if not REGRESSION else 0.07\n",
    "add_noise = False\n",
    "random_sample = False\n",
    "siamese = False\n",
    "siamese_dim = 1\n",
    "REGULARIZATION = \"l2\"\n",
    "\n",
    "\"\"\" \n",
    "P = debias.get_debiasing_projection(classifier_class, num_classifiers, input_dim, \n",
    "                                    is_autoregressive, min_accuracy, X_train, Y_train,\n",
    "                                    X_dev, Y_dev, add_noise, random_sample, REGRESSION,\n",
    "                                    siamese, REGULARIZATION)\n",
    "\"\"\"\n",
    "gender_clf = LinearSVC\n",
    "params = {'max_iter': 30000, 'fit_intercept': False, 'class_weight': None, \"dual\": False}\n",
    "n = 35 # test: 25\n",
    "min_acc = 0\n",
    "P = debias.get_debiasing_projection(gender_clf, params, n, 300, is_autoregressive, min_acc,\n",
    "                                    X_train, Y_train, X_dev, Y_dev, noise=False, random_subset = 1,\n",
    "                                       Y_train_main=Y_train, Y_dev_main=Y_train, \n",
    "                                        by_class = False)"
   ]
  },
  {
   "cell_type": "markdown",
   "metadata": {},
   "source": [
    "### Test the quality of the debiasing."
   ]
  },
  {
   "cell_type": "markdown",
   "metadata": {},
   "source": [
    "#### Perform t-sne"
   ]
  },
  {
   "cell_type": "code",
   "execution_count": 8,
   "metadata": {
    "scrolled": true
   },
   "outputs": [
    {
     "name": "stdout",
     "output_type": "stream",
     "text": [
      "1025\n",
      "975\n"
     ]
    },
    {
     "data": {
      "image/png": "[encoded data removed]",
      "text/plain": [
       "<Figure size 432x360 with 1 Axes>"
      ]
     },
     "metadata": {
      "needs_background": "light"
     },
     "output_type": "display_data"
    },
    {
     "name": "stdout",
     "output_type": "stream",
     "text": [
      "1025\n",
      "975\n"
     ]
    },
    {
     "data": {
      "image/png": "[encoded data removed]",
      "text/plain": [
       "<Figure size 432x360 with 1 Axes>"
      ]
     },
     "metadata": {
      "needs_background": "light"
     },
     "output_type": "display_data"
    },
    {
     "name": "stdout",
     "output_type": "stream",
     "text": [
      "V-measure-before: 0.817235781517761\n",
      "V-measure-after: 0.020117048171119287\n"
     ]
    }
   ],
   "source": [
    "def perform_purity_test(vecs, k, labels_true):\n",
    "        np.random.seed(0)\n",
    "        clustering = sklearn.cluster.KMeans(n_clusters = k)\n",
    "        clustering.fit(vecs)\n",
    "        labels_pred = clustering.labels_\n",
    "        score = sklearn.metrics.homogeneity_score(labels_true, labels_pred)\n",
    "        return score\n",
    "\n",
    "def compute_v_measure(vecs, labels_true, k=2):\n",
    "    \n",
    "        np.random.seed(0)\n",
    "        clustering = sklearn.cluster.KMeans(n_clusters = k)\n",
    "        clustering.fit(vecs)\n",
    "        labels_pred = clustering.labels_\n",
    "        return sklearn.metrics.v_measure_score(labels_true, labels_pred)\n",
    "    \n",
    "#def to_integer(arr, eps = 0.03):\n",
    "#    return np.array([1 if x > eps else (-1 if x < -eps else 0) for x in arr])\n",
    "    \n",
    "#Y_dev = to_integer(Y_dev) #Y_dev > 0\n",
    "#Y_train = to_integer(Y_train)\n",
    "\n",
    "# remove the neutral class\n",
    "\n",
    "X_dev = X_dev[Y_dev != 0]\n",
    "X_train = X_train[Y_train != 0]\n",
    "Y_dev = Y_dev[Y_dev != 0]\n",
    "Y_train = Y_train[Y_train != 0]\n",
    "\n",
    "M =  2000\n",
    "\n",
    "tsne_before = tsne_by_gender(all_significantly_biased_vecs[:M], all_significantly_biased_labels[:M], title = \"Original\")\n",
    "X_dev_cleaned = X_dev.dot(P)\n",
    "X_test_cleaned = X_test.dot(P)\n",
    "X_trained_cleaned = X_train.dot(P)\n",
    "#all_biased_cleaned = all_significantly_biased_vecs.dot(P)\n",
    "tsne_after = tsne_by_gender(all_significantly_biased_vecs[:M].dot(P), all_significantly_biased_labels[:M], title = \"Projected (t = 35)\")\n",
    "\n",
    "#tsne_projection = tsne_by_gender(all_biased_cleaned, all_significantly_biased_labels,title = \"after (all)\", words = all_significantly_biased_words)\n",
    "\n",
    "NUM_CLUSTERS = [2,10,25,100]\n",
    "\"\"\" \n",
    "print(\"CALCULATING BIAS BY CLUSTERING (WITH K-MENAS)\")\n",
    "for num_clusters in NUM_CLUSTERS:\n",
    "    print(\"NUM CLUSTERS = {}\".format(num_clusters))\n",
    "    purity_original = perform_purity_test(X_dev, k = num_clusters, labels_true = Y_dev)\n",
    "    purity_after = perform_purity_test(X_dev_cleaned, k = num_clusters, labels_true = Y_dev)\n",
    "    print(\"Purity in original space: {}\".format(purity_original))\n",
    "    print(\"Purity after debiasing projection: {}\".format(purity_after))\n",
    "\"\"\"\n",
    "print(\"V-measure-before: {}\".format(compute_v_measure(tsne_before, all_significantly_biased_labels[:M])))\n",
    "print(\"V-measure-after: {}\".format(compute_v_measure(tsne_after, all_significantly_biased_labels[:M])))"
   ]
  },
  {
   "cell_type": "code",
   "execution_count": null,
   "metadata": {},
   "outputs": [],
   "source": []
  },
  {
   "cell_type": "markdown",
   "metadata": {},
   "source": [
    "#### Train a nonlinear classifier for gender prediction."
   ]
  },
  {
   "cell_type": "code",
   "execution_count": 9,
   "metadata": {},
   "outputs": [
    {
     "name": "stdout",
     "output_type": "stream",
     "text": [
      "Before, rbf-svm:\n",
      "1.0\n",
      "After, linear:\n",
      "0.5002765792676181\n",
      "After, rbf-svm:\n",
      "0.5729616107976546\n",
      "After, mlp:\n",
      "0.796990817568315\n"
     ]
    }
   ],
   "source": [
    "nonlinear_clf = SVC(kernel = \"rbf\")\n",
    "print(\"Before, rbf-svm:\")\n",
    "nonlinear_clf.fit(X_train, Y_train)\n",
    "print(nonlinear_clf.score(X_dev, Y_dev))\n",
    "\n",
    "print(\"After, linear:\")\n",
    "linear_clf = LinearSVC()\n",
    "linear_clf.fit(X_trained_cleaned, Y_train)\n",
    "print(linear_clf.score(X_dev_cleaned, Y_dev))\n",
    "\n",
    "\n",
    "print(\"After, rbf-svm:\")\n",
    "nonlinear_clf = SVC(kernel = \"rbf\")\n",
    "\n",
    "nonlinear_clf.fit(X_trained_cleaned, Y_train)\n",
    "print(nonlinear_clf.score(X_dev_cleaned, Y_dev))\n",
    "\n",
    "print(\"After, mlp:\")\n",
    "nonlinear_clf = MLPClassifier(hidden_layer_sizes = 256, activation = \"relu\")\n",
    "\n",
    "nonlinear_clf.fit(X_trained_cleaned, Y_train)\n",
    "print(nonlinear_clf.score(X_dev_cleaned, Y_dev))"
   ]
  },
  {
   "cell_type": "markdown",
   "metadata": {},
   "source": [
    "#### project on the gender direction"
   ]
  },
  {
   "cell_type": "code",
   "execution_count": 10,
   "metadata": {},
   "outputs": [
    {
     "name": "stdout",
     "output_type": "stream",
     "text": [
      "masc-bias-before: 0.7433770895004272\n",
      "masc-bias-after: -0.00013444516452444712\n",
      "fem-bias-before: -0.6116276979446411\n",
      "fem-bias-after: -0.00013826310483576804\n"
     ]
    }
   ],
   "source": [
    "masc_vecs_cleaned = masc_vecs.dot(P)\n",
    "fem_vecs_cleaned = fem_vecs.dot(P)\n",
    "\n",
    "print(\"masc-bias-before: {}\".format(masc_vecs.dot(gender_unit_vec).mean()))\n",
    "print(\"masc-bias-after: {}\".format(masc_vecs_cleaned.dot(gender_unit_vec.dot(P)).mean()))\n",
    "print(\"fem-bias-before: {}\".format(fem_vecs.dot(gender_unit_vec).mean()))\n",
    "print(\"fem-bias-after: {}\".format(fem_vecs_cleaned.dot(gender_unit_vec.dot(P)).mean()))      "
   ]
  },
  {
   "cell_type": "markdown",
   "metadata": {},
   "source": [
    "#### calculate the similarity matrix before and after"
   ]
  },
  {
   "cell_type": "code",
   "execution_count": 11,
   "metadata": {},
   "outputs": [],
   "source": [
    "\n",
    "def get_distance_matrix(vecs: np.ndarray):\n",
    "\n",
    "  distances = sklearn.metrics.pairwise_distances(vecs, vecs, metric=\"cosine\")\n",
    "  return distances\n",
    "\n",
    "def plot_distance(distance_before, distance_after):\n",
    "\n",
    "    idx = distance_before < 0.75 # we are only interested in the relatively close words\n",
    "\n",
    "    distance_before = distance_before.copy()[idx]\n",
    "    distance_after = distance_after.copy()[idx]\n",
    "    \n",
    "    chosen = np.random.rand(len(distance_before)) < 0.01\n",
    "    before = distance_before[chosen]\n",
    "    after = distance_after[chosen]\n",
    "    plt.plot(before, after, linestyle=\"None\", marker = \"*\", alpha = 0.1)\n",
    "    plt.xlabel(\"distnace before\")\n",
    "    plt.ylabel(\"distance after\")\n",
    "\n",
    "    plt.show()\n",
    "    print(\"Correlation: {}\".format(pearsonr(before, after)[0]))\n",
    "    \n",
    "def plot_similarity_change_vs_original_bias(bias_before, distance_before, distance_after):\n",
    "\n",
    "    K = 50\n",
    "    most_similar_idx_before = distance_before.argsort(axis = 0)[:K].T\n",
    "    most_similar_idx_after = distance_after.argsort(axis = 0)[:K].T\n",
    "    data = []\n",
    "    \n",
    "    for i, (bias, dis_before, dis_after) in enumerate(tqdm.tqdm(zip(bias_before, distance_before, distance_after), ascii = True, total = len(bias_before))):\n",
    "        \n",
    "        idx_before = set(most_similar_idx_before[i].tolist())\n",
    "        idx_after = set(most_similar_idx_after[i].tolist())\n",
    "        intersection = (most_similar_idx_before[i] == most_similar_idx_after[i]).sum() \n",
    "        intersection = idx_before.intersection(idx_after)\n",
    "        data.append((abs(bias), 1 - len(intersection)/K))\n",
    "        #data.append((abs(bias), 1 - intersection/K))\n",
    "        \n",
    "    plt.xlabel(\"change in similarity (% of of top-{}-similar that changed)\".format(K))\n",
    "    plt.ylabel(\"bias before\")\n",
    "    biases, sims = zip(*data)    \n",
    "    plt.plot(sims, biases, linestyle=\"None\", marker = \"*\", alpha = 0.1)\n",
    "\n",
    "    plt.show()\n",
    "    print(\"Correlation: {}\".format(pearsonr(biases, sims)[0]))"
   ]
  },
  {
   "cell_type": "markdown",
   "metadata": {},
   "source": [
    "#### Plot similarity before vs. similarity after, and change of similarity vs. bias before"
   ]
  },
  {
   "cell_type": "code",
   "execution_count": 12,
   "metadata": {
    "scrolled": true
   },
   "outputs": [
    {
     "data": {
      "text/plain": [
       "' \\nprop = 0.08\\nidx = np.random.rand(vecs.shape[0]) < prop\\nvecs_sample = vecs[idx]\\nwords_sample = np.array(words, dtype = \"object\")[idx]\\n\\nvecs_sample_cleaned = vecs_sample.dot(P)\\n\\ndistance_before = get_distance_matrix(vecs_sample)\\ndistance_after = get_distance_matrix(vecs_sample_cleaned)\\n\\ngender_unit_vec = gender_direction/np.linalg.norm(gender_direction)\\nsample_normalized = vecs_sample/np.linalg.norm(vecs_sample, axis = 1, keepdims = True)\\nsample_cleaned_normalized = vecs_sample_cleaned/np.linalg.norm(vecs_sample_cleaned, axis = 1, keepdims = True)\\n\\nbias_before = sklearn.metrics.pairwise.cosine_similarity(np.expand_dims(gender_direction, 0), vecs_sample)[0] #sample_normalized.dot(gender_unit_vec)\\nbias_after = sklearn.metrics.pairwise.cosine_similarity(np.expand_dims(gender_direction, 0), vecs_sample_cleaned)[0] #sample_normalized.dot(gender_unit_vec)\\n\\nplot_distance(distance_before.reshape(-1), distance_after.reshape(-1))\\nplot_similarity_change_vs_original_bias(bias_before, distance_before, distance_after)\\n\\n# plot bias histograms before and after\\n\\n# all vecs\\n\\nplt.hist(bias_before, bins = 25, label = \"bias scores distribution, before\", alpha = 0.3, density = True)\\nplt.hist(bias_after, bins = 25, label = \"bias scores distribution, after\", alpha = 0.3, density = True)\\nplt.legend()\\nplt.title(\"bias histogram, all vecs\")\\nplt.show()\\n\\n# most originally biased (dev set)\\n\\nbias_before_dev = sklearn.metrics.pairwise.cosine_similarity(np.expand_dims(gender_direction, 0), X_dev)[0]\\nbias_after_dev = sklearn.metrics.pairwise.cosine_similarity(np.expand_dims(gender_direction, 0), X_dev.dot(P))[0]\\n\\nplt.hist(bias_before_dev, bins = 35, label = \"bias scores distribution, before\", alpha = 0.3, density = True)\\nplt.hist(bias_after_dev, bins = 35, label = \"bias scores distribution, after\", alpha = 0.3, density = True)\\nplt.legend()\\nplt.title(\"bias histogram, dev set (most biased originally)\")\\nplt.show()\\n'"
      ]
     },
     "execution_count": 12,
     "metadata": {},
     "output_type": "execute_result"
    }
   ],
   "source": [
    "\"\"\" \n",
    "prop = 0.08\n",
    "idx = np.random.rand(vecs.shape[0]) < prop\n",
    "vecs_sample = vecs[idx]\n",
    "words_sample = np.array(words, dtype = \"object\")[idx]\n",
    "\n",
    "vecs_sample_cleaned = vecs_sample.dot(P)\n",
    "\n",
    "distance_before = get_distance_matrix(vecs_sample)\n",
    "distance_after = get_distance_matrix(vecs_sample_cleaned)\n",
    "\n",
    "gender_unit_vec = gender_direction/np.linalg.norm(gender_direction)\n",
    "sample_normalized = vecs_sample/np.linalg.norm(vecs_sample, axis = 1, keepdims = True)\n",
    "sample_cleaned_normalized = vecs_sample_cleaned/np.linalg.norm(vecs_sample_cleaned, axis = 1, keepdims = True)\n",
    "\n",
    "bias_before = sklearn.metrics.pairwise.cosine_similarity(np.expand_dims(gender_direction, 0), vecs_sample)[0] #sample_normalized.dot(gender_unit_vec)\n",
    "bias_after = sklearn.metrics.pairwise.cosine_similarity(np.expand_dims(gender_direction, 0), vecs_sample_cleaned)[0] #sample_normalized.dot(gender_unit_vec)\n",
    "\n",
    "plot_distance(distance_before.reshape(-1), distance_after.reshape(-1))\n",
    "plot_similarity_change_vs_original_bias(bias_before, distance_before, distance_after)\n",
    "\n",
    "# plot bias histograms before and after\n",
    "\n",
    "# all vecs\n",
    "\n",
    "plt.hist(bias_before, bins = 25, label = \"bias scores distribution, before\", alpha = 0.3, density = True)\n",
    "plt.hist(bias_after, bins = 25, label = \"bias scores distribution, after\", alpha = 0.3, density = True)\n",
    "plt.legend()\n",
    "plt.title(\"bias histogram, all vecs\")\n",
    "plt.show()\n",
    "\n",
    "# most originally biased (dev set)\n",
    "\n",
    "bias_before_dev = sklearn.metrics.pairwise.cosine_similarity(np.expand_dims(gender_direction, 0), X_dev)[0]\n",
    "bias_after_dev = sklearn.metrics.pairwise.cosine_similarity(np.expand_dims(gender_direction, 0), X_dev.dot(P))[0]\n",
    "\n",
    "plt.hist(bias_before_dev, bins = 35, label = \"bias scores distribution, before\", alpha = 0.3, density = True)\n",
    "plt.hist(bias_after_dev, bins = 35, label = \"bias scores distribution, after\", alpha = 0.3, density = True)\n",
    "plt.legend()\n",
    "plt.title(\"bias histogram, dev set (most biased originally)\")\n",
    "plt.show()\n",
    "\"\"\""
   ]
  },
  {
   "cell_type": "code",
   "execution_count": 13,
   "metadata": {},
   "outputs": [
    {
     "name": "stderr",
     "output_type": "stream",
     "text": [
      "150000it [00:37, 3951.98it/s]\n"
     ]
    }
   ],
   "source": [
    "vecs_cleaned = vecs.dot(P)\n",
    "save_in_word2vec_format(vecs_cleaned, words, \"../data/embeddings/vecs.150k.cleaned.txt\")\n",
    "model_cleaned, _, _ = load_word_vectors(fname = \"../data/embeddings/vecs.150k.cleaned.txt\")"
   ]
  },
  {
   "cell_type": "markdown",
   "metadata": {},
   "source": [
    "#### calcualte the similarity of female-stereotyped words to 'girlish', before and after"
   ]
  },
  {
   "cell_type": "code",
   "execution_count": 14,
   "metadata": {},
   "outputs": [
    {
     "name": "stdout",
     "output_type": "stream",
     "text": [
      "Similarity of female-stereotyped words to 'girlish' before: 0.0657164677977562; similarity after: -0.0009310243767686188\n"
     ]
    }
   ],
   "source": [
    "\n",
    "w = \"girlish\"\n",
    "k = 5000\n",
    "\n",
    "random_fem_words = np.random.choice(fem_words, size = k)\n",
    "sim_to_girlish_before = [model.similarity(w,w2) for w2 in random_fem_words]\n",
    "sim_to_girlish_after = [model_cleaned.similarity(w,w2) for w2 in random_fem_words]\n",
    "\n",
    "print(\"Similarity of female-stereotyped words to 'girlish' before: {}; similarity after: {}\".format(np.mean(sim_to_girlish_before), np.mean(sim_to_girlish_after)))\n"
   ]
  },
  {
   "cell_type": "markdown",
   "metadata": {},
   "source": [
    "### Calcualte bias-by-clustering"
   ]
  },
  {
   "cell_type": "code",
   "execution_count": 15,
   "metadata": {},
   "outputs": [],
   "source": [
    "def numerical_bias_by_clustering(model_before, model_after, masc_words, fem_words, k):\n",
    "    \n",
    "    scores_before, scores_after = [], []\n",
    "    all_biased = masc_words.union(fem_words)\n",
    "    \n",
    "    for w in all_biased:\n",
    "        \n",
    "        most_similar_before = model_before.most_similar(w, topn = k)\n",
    "        most_similar_before, _ = zip(*most_similar_before)\n",
    "\n",
    "        most_similar_after = model_after.most_similar(w, topn = k)\n",
    "        most_similar_after, _ = zip(*most_similar_after)\n",
    "        \n",
    "        neighbors_biased_before = len([w for w in most_similar_before if w in all_biased])\n",
    "        neighbors_biased_after = len([w for w in most_similar_after if w in all_biased])\n",
    "        scores_before.append(neighbors_biased_before)\n",
    "        scores_after.append(neighbors_biased_after)\n",
    "    print(\"avg. number of biased neighbors before: {}; after: {}\".format(np.mean(scores_before), np.mean(scores_after)))\n",
    "    \n",
    "    \n",
    "    \n",
    "    "
   ]
  },
  {
   "cell_type": "code",
   "execution_count": 16,
   "metadata": {},
   "outputs": [],
   "source": [
    "#numerical_bias_by_clustering(model, model_cleaned, set(masc_words), set(fem_words), k = 1000)"
   ]
  },
  {
   "cell_type": "markdown",
   "metadata": {},
   "source": [
    "#### print the most similar words to random words before and after (to make sure we didn't damage the space too much)"
   ]
  },
  {
   "cell_type": "code",
   "execution_count": 17,
   "metadata": {},
   "outputs": [
    {
     "name": "stdout",
     "output_type": "stream",
     "text": [
      "w: vmware\n",
      " most-similar-before: ('vsphere', 'virtualization', 'citrix', 'esxi', 'esx', 'netapp', 'virtualisation', 'virtualbox', 'vcenter', 'vm')\n",
      " most-similar-after: ('vsphere', 'virtualization', 'esxi', 'esx', 'citrix', 'vcenter', 'virtualisation', 'xenserver', 'virtualbox', 'netapp')\n",
      "----------------------------------\n",
      "w: tailor\n",
      " most-similar-before: ('tailored', 'tailoring', 'tailors', 'bespoke', 'customised', 'customize', 'customized', 'cater', 'customise', 'dressmaker')\n",
      " most-similar-after: ('tailors', 'tailoring', 'tailored', 'customised', 'customize', 'dressmaker', 'bespoke', 'customized', 'customise', 'seamstress')\n",
      "----------------------------------\n",
      "w: asap\n",
      " most-similar-before: ('please', 'pls', 'anytime', 'plz', 'soon', 'tomorrow', 'anyways', 'anyway', 'hopefully', 'urgently')\n",
      " most-similar-after: ('urgently', 'promptly', 'pls', 'please', 'plz', 'soon', 'lmk', 'immediatly', 'anytime', 'plzz')\n",
      "----------------------------------\n",
      "w: sunflower\n",
      " most-similar-before: ('safflower', 'sunflowers', 'canola', 'seeds', 'flax', 'peanut', 'almond', 'almonds', 'wheat', 'seed')\n",
      " most-similar-after: ('safflower', 'canola', 'helianthus', 'soybean', 'sunflowers', 'rapeseed', 'cottonseed', 'alfalfa', 'seeds', 'seed')\n",
      "----------------------------------\n",
      "w: aiming\n",
      " most-similar-before: ('aim', 'aimed', 'aims', 'focusing', 'focus', 'focused', 'achieve', 'targets', 'target', 'hoping')\n",
      " most-similar-after: ('aimed', 'aim', 'aims', 'focussing', 'targetting', 'focusing', 'reticule', 'targeting', 'targets', 'striving')\n",
      "----------------------------------\n",
      "w: reagan\n",
      " most-similar-before: ('ronald', 'clinton', 'bush', 'obama', 'nixon', 'fdr', 'kennedy', 'thatcher', 'eisenhower', 'barack')\n",
      " most-similar-after: ('ronald', 'fdr', 'gwb', 'gipper', 'obama', 'bush', 'clinton', 'nixon', 'eisenhower', 'reaganomics')\n",
      "----------------------------------\n",
      "w: staff\n",
      " most-similar-before: ('personnel', 'employees', 'staffs', 'team', 'faculty', 'volunteers', 'assistant', 'managers', 'department', 'employee')\n",
      " most-similar-after: ('personnel', 'staffs', 'attentive', 'staffers', 'accomodating', 'courteous', 'waiters', 'assistants', 'receptionists', 'volunteers')\n",
      "----------------------------------\n",
      "w: resembles\n",
      " most-similar-before: ('resembling', 'resembled', 'resemble', 'reminiscent', 'mimics', 'appears', 'looks', 'unlike', 'resemblance', 'shape')\n",
      " most-similar-after: ('resembled', 'resembling', 'resemble', 'mimics', 'reminiscent', 'emulates', 'differs', 'uncannily', 'simulates', 'resemblance')\n",
      "----------------------------------\n",
      "w: improves\n",
      " most-similar-before: ('enhances', 'reduces', 'boosts', 'improved', 'improve', 'improving', 'increases', 'helps', 'decreases', 'lowers')\n",
      " most-similar-after: ('enhances', 'boosts', 'improved', 'reduces', 'improve', 'improving', 'strengthens', 'optimizes', 'increases', 'restores')\n",
      "----------------------------------\n",
      "w: backstage\n",
      " most-similar-before: ('onstage', 'photoshoot', 'interview', 'catwalk', 'concert', 'sneak', 'interviews', 'ringside', 'peek', 'wwe')\n",
      " most-similar-after: ('onstage', 'ringside', 'soundcheck', 'catwalk', 'photoshoot', 'nyfw', 'preshow', 'offstage', 'afterparty', 'bischoff')\n",
      "----------------------------------\n",
      "w: russian\n",
      " most-similar-before: ('ukrainian', 'russia', 'romanian', 'soviet', 'german', 'moscow', 'czech', 'russians', 'bulgarian', 'hungarian')\n",
      " most-similar-after: ('ukrainian', 'russia', 'soviet', 'ukranian', 'romanian', 'vladimir', 'belarusian', 'russians', 'latvian', 'german')\n",
      "----------------------------------\n",
      "w: moines\n",
      " most-similar-before: ('des', 'ia', 'urbandale', 'iowa', 'dubuque', 'ankeny', 'rapids', 'ames', 'minneapolis', 'davenport')\n",
      " most-similar-after: ('des', 'urbandale', 'dubuque', 'ankeny', 'ia', 'waukee', 'iowa', 'ottumwa', 'ames', 'davenport')\n",
      "----------------------------------\n",
      "w: pairing\n",
      " most-similar-before: ('pairings', 'paired', 'favorite', 'wine', 'tasting', 'pair', 'pairs', 'dessert', 'combination', 'wines')\n",
      " most-similar-after: ('pairings', 'paired', 'wine', 'aperitif', 'tasting', 'wines', 'recombination', 'homologous', 'sommelier', 'fic')\n",
      "----------------------------------\n",
      "w: jon\n",
      " most-similar-before: ('jeff', 'jonathan', 'chris', 'mike', 'steve', 'greg', 'dave', 'sean', 'brian', 'josh')\n",
      " most-similar-after: ('lovitz', 'secada', 'krakauer', 'voight', 'kyl', 'gosselin', 'auer', 'udell', 'scheyer', 'hamm')\n",
      "----------------------------------\n",
      "w: enzymes\n",
      " most-similar-before: ('enzyme', 'proteins', 'acids', 'nutrients', 'antioxidants', 'enzymatic', 'digestive', 'amino', 'digestion', 'vitamins')\n",
      " most-similar-after: ('enzyme', 'proteolytic', 'proteases', 'proteins', 'enzymatic', 'acids', 'amylase', 'phytonutrients', 'nutrients', 'papain')\n",
      "----------------------------------\n",
      "w: dragons\n",
      " most-similar-before: ('dragon', 'monsters', 'dungeons', 'demons', 'creatures', 'beasts', 'warriors', 'unicorns', 'orcs', 'fairies')\n",
      " most-similar-after: ('dungeons', 'dragon', 'serpents', 'unicorns', 'beasts', 'monsters', 'creatures', 'ogres', 'catalans', 'orcs')\n",
      "----------------------------------\n",
      "w: nah\n",
      " most-similar-before: ('yah', 'yeah', 'haha', 'hahaha', 'nope', 'yup', 'duh', 'naw', 'hah', 'yep')\n",
      " most-similar-after: ('naw', 'naah', 'yeah', 'nahhh', 'yah', 'nahh', 'nope', 'yup', 'duh', 'uhh')\n",
      "----------------------------------\n",
      "w: perkins\n",
      " most-similar-before: ('bryant', 'davis', 'spencer', 'allen', 'johnson', 'williams', 'ellis', 'smith', 'carter', 'gordon')\n",
      " most-similar-after: ('coie', 'kleiner', 'caufield', 'gilman', 'ibaka', 'garnett', 'durant', 'dorothy', 'sallie', 'doerr')\n",
      "----------------------------------\n",
      "w: eugene\n",
      " most-similar-before: ('charles', 'joseph', 'harold', 'raymond', 'dennis', 'gerald', 'walter', 'robert', 'davis', 'richard')\n",
      " most-similar-after: ('kval', 'onegin', 'medford', 'corvallis', 'oregon', 'portland', 'delacroix', 'eugène', 'debs', 'ionesco')\n",
      "----------------------------------\n",
      "w: house\n",
      " most-similar-before: ('houses', 'home', 'apartment', 'room', 'building', 'place', 'property', 'homes', 'family', 'bedroom')\n",
      " most-similar-after: ('houses', 'townhouse', 'hous', 'senate', 'mansion', 'jackin', 'apartment', 'bungalow', 'bedroom', 'dwelling')\n",
      "----------------------------------\n",
      "w: tray\n",
      " most-similar-before: ('trays', 'lid', 'drawer', 'basket', 'removable', 'rack', 'plate', 'platter', 'boxes', 'compartment')\n",
      " most-similar-after: ('trays', 'drawer', 'platter', 'lid', 'basket', 'utensil', 'systray', 'pedestal', 'dehydrator', 'caddy')\n",
      "----------------------------------\n",
      "w: rock\n",
      " most-similar-before: ('rocks', 'pop', 'band', 'punk', 'music', 'bands', 'album', 'blues', 'metal', 'stone')\n",
      " most-similar-after: ('rocks', 'outcropping', 'punk', 'outcroppings', 'outcrops', 'sedimentary', 'granitic', 'igneous', 'outcrop', 'boulders')\n",
      "----------------------------------\n",
      "w: companies\n",
      " most-similar-before: ('firms', 'company', 'businesses', 'corporations', 'industry', 'providers', 'manufacturers', 'business', 'customers', 'clients')\n",
      " most-similar-after: ('firms', 'businesses', 'company', 'corporations', 'manufacturers', 'multinationals', 'insurers', 'corporates', 'conglomerates', 'mncs')\n",
      "----------------------------------\n",
      "w: academics\n",
      " most-similar-before: ('professors', 'academic', 'scholars', 'educators', 'faculty', 'universities', 'students', 'intellectuals', 'lecturers', 'teachers')\n",
      " most-similar-after: ('professors', 'academicians', 'intellectuals', 'scholars', 'academic', 'educators', 'academia', 'faculty', 'lecturers', 'universities')\n",
      "----------------------------------\n",
      "w: endorsement\n",
      " most-similar-before: ('endorsements', 'endorse', 'endorsed', 'endorsing', 'approval', 'endorses', 'imply', 'affiliation', 'sponsorship', 'recommendation')\n",
      " most-similar-after: ('endorsements', 'endorse', 'endorsed', 'imply', 'endorses', 'endorsing', 'affiliation', 'candidacy', 'recommendation', 'approval')\n",
      "----------------------------------\n",
      "w: rider\n",
      " most-similar-before: ('riders', 'riding', 'bike', 'motorcycle', 'ride', 'racer', 'horse', 'bicycle', 'rides', 'cyclist')\n",
      " most-similar-after: ('riders', 'riding', 'motorcycle', 'bike', 'cyclist', 'pillion', 'ride', 'cyclists', 'motorbike', 'motorcyclists')\n",
      "----------------------------------\n",
      "w: misses\n",
      " most-similar-before: ('missed', 'throw', 'rebound', 'foul', 'miss', 'throws', 'jumper', 'layup', 'makes', 'shot')\n",
      " most-similar-after: ('missed', 'rebound', 'foul', 'throw', 'layup', 'concedes', 'layups', 'jump', 'fouled', 'makes')\n",
      "----------------------------------\n",
      "w: tomorrow\n",
      " most-similar-before: ('tonight', 'today', 'friday', 'hopefully', 'saturday', 'monday', 'next', 'yesterday', 'sunday', 'soon')\n",
      " most-similar-after: ('tommorow', 'tommorrow', 'tomorow', 'tmrw', 'tomarrow', 'tonight', 'today', 'noon', 'tmr', 'tues')\n",
      "----------------------------------\n",
      "w: guru\n",
      " most-similar-before: ('gurus', 'nanak', 'gobind', 'swami', 'sahib', 'granth', 'expert', 'baba', 'shri', 'krishna')\n",
      " most-similar-after: ('gurus', 'gobind', 'granth', 'nanak', 'sahib', 'arjan', 'padmasambhava', 'maharaj', 'govind', 'sikhs')\n",
      "----------------------------------\n",
      "w: op\n",
      " most-similar-before: ('een', 'het', 'van', 'voor', 'om', 'bij', 'aan', 'met', 'wat', 'staat')\n",
      " most-similar-after: ('een', 'het', 'staat', 'schreef', 'bij', 'aan', 'uit', 'zijn', 'deze', 'voor')\n",
      "----------------------------------\n",
      "w: wellness\n",
      " most-similar-before: ('health', 'holistic', 'fitness', 'wellbeing', 'nutrition', 'spa', 'clinic', 'yoga', 'healthy', 'lifestyle')\n",
      " most-similar-after: ('fitness', 'holistic', 'wellbeing', 'health', 'nutrition', 'vitality', 'healthy', 'wholistic', 'spa', 'relaxation')\n",
      "----------------------------------\n",
      "w: editions\n",
      " most-similar-before: ('edition', 'versions', 'books', 'copies', 'published', 'classics', 'paperback', 'hardcover', 'publications', 'publishing')\n",
      " most-similar-after: ('edition', 'versions', 'printings', 'books', 'hardcovers', 'paperback', 'paperbacks', 'copies', 'hardcover', 'hardbound')\n",
      "----------------------------------\n",
      "w: lip\n",
      " most-similar-before: ('lips', 'lipstick', 'balm', 'cheek', 'gloss', 'eye', 'blush', 'brow', 'eyeliner', 'makeup')\n",
      " most-similar-after: ('lips', 'glosses', 'balm', 'balms', 'cheek', 'lipstick', 'lipgloss', 'plumping', 'gloss', 'lipsticks')\n",
      "----------------------------------\n"
     ]
    },
    {
     "name": "stdout",
     "output_type": "stream",
     "text": [
      "w: pierce\n",
      " most-similar-before: ('allen', 'smith', 'harris', 'howard', 'crawford', 'marion', 'williams', 'davis', 'anderson', 'parker')\n",
      " most-similar-after: ('tamora', 'rajon', 'garnett', 'snohomish', 'brosnan', 'rondo', 'puyallup', 'dade', 'pierces', 'pierced')\n",
      "----------------------------------\n",
      "w: remove\n",
      " most-similar-before: ('removing', 'removed', 'removes', 'rid', 'delete', 'eliminate', 'add', 'replace', 'removal', 'prevent')\n",
      " most-similar-after: ('removing', 'removes', 'delete', 'removed', 'rid', 'uninstall', 'eliminate', 'discard', 'disable', 'filterissue')\n",
      "----------------------------------\n",
      "w: adwords\n",
      " most-similar-before: ('adsense', 'ppc', 'adword', 'seo', 'google', 'keyword', 'adcenter', 'analytics', 'advertisers', 'marketing')\n",
      " most-similar-after: ('adsense', 'adword', 'ppc', 'adcenter', 'keyword', 'seo', 'google', 'clickbank', 'marketing', 'wordtracker')\n",
      "----------------------------------\n",
      "w: panama\n",
      " most-similar-before: ('rica', 'nicaragua', 'peru', 'guatemala', 'belize', 'mexico', 'ecuador', 'colombia', 'cuba', 'honduras')\n",
      " most-similar-after: ('nicaragua', 'panamá', 'rica', 'belize', 'boquete', 'guatemala', 'honduras', 'colombia', 'ecuador', 'peru')\n",
      "----------------------------------\n",
      "w: weaker\n",
      " most-similar-before: ('stronger', 'weak', 'weakening', 'weakest', 'weakened', 'weaken', 'strongest', 'marginally', 'strong', 'poorer')\n",
      " most-similar-after: ('stronger', 'weak', 'weakest', 'weakening', 'weakened', 'weakens', 'weaken', 'strongest', 'marginally', 'poorer')\n",
      "----------------------------------\n",
      "w: knob\n",
      " most-similar-before: ('knobs', 'lever', 'lock', 'shifter', 'latch', 'wheel', 'handle', 'handles', 'shaft', 'knurled')\n",
      " most-similar-after: ('knobs', 'lever', 'knurled', 'gearshift', 'latch', 'backplate', 'shifter', 'noster', 'lock', 'gobblers')\n",
      "----------------------------------\n",
      "w: disruption\n",
      " most-similar-before: ('disruptions', 'disrupted', 'interruption', 'disrupting', 'disturbance', 'disrupt', 'delays', 'interruptions', 'inconvenience', 'caused')\n",
      " most-similar-after: ('disruptions', 'disrupted', 'disrupting', 'disrupts', 'interruption', 'inconvenience', 'disrupt', 'interruptions', 'upheaval', 'outages')\n",
      "----------------------------------\n",
      "w: interviews\n",
      " most-similar-before: ('interview', 'interviewed', 'interviewing', 'conversations', 'commentary', 'talks', 'documentary', 'presentations', 'sessions', 'reports')\n",
      " most-similar-after: ('interview', 'interviewing', 'interviewed', 'interviewees', 'briefings', 'interviewers', 'biographies', 'questionnaires', 'conversations', 'documentaries')\n",
      "----------------------------------\n",
      "w: whitening\n",
      " most-similar-before: ('bleaching', 'teeth', 'whiten', 'whitener', 'dental', 'dentist', 'cosmetic', 'toothpaste', 'toothpastes', 'tooth')\n",
      " most-similar-after: ('bleaching', 'whitener', 'whiten', 'teeth', 'dentist', 'invisalign', 'toothpastes', 'whiteners', 'dental', 'dentists')\n",
      "----------------------------------\n",
      "w: marion\n",
      " most-similar-before: ('randolph', 'crawford', 'county', 'allen', 'howard', 'vernon', 'anderson', 'butler', 'harrison', 'greene')\n",
      " most-similar-after: ('cotillard', 'fayette', 'randolph', 'alachua', 'dekalb', 'county', 'osceola', 'bartoli', 'ocala', 'louisa')\n",
      "----------------------------------\n",
      "w: regret\n",
      " most-similar-before: ('regrets', 'remorse', 'disappointment', 'regretted', 'mistake', 'doubt', 'sadness', 'shame', 'worry', 'regretting')\n",
      " most-similar-after: ('regrets', 'regretted', 'remorse', 'regretting', 'disappointment', 'sorrow', 'sadness', 'guilt', 'apologise', 'pity')\n",
      "----------------------------------\n",
      "w: boots\n",
      " most-similar-before: ('shoes', 'boot', 'footwear', 'ugg', 'heels', 'sandals', 'shoe', 'womens', 'sneakers', 'suede')\n",
      " most-similar-after: ('ugg', 'boot', 'footwear', 'shoes', 'timberland', 'sandals', 'uggs', 'wellies', 'heels', 'cardy')\n",
      "----------------------------------\n",
      "w: dads\n",
      " most-similar-before: ('moms', 'dad', 'mothers', 'fathers', 'mums', 'mom', 'grandparents', 'husbands', 'parents', 'uncles')\n",
      " most-similar-after: ('fathers', 'moms', 'dad', 'mothers', 'mums', 'grandparents', 'mom', 'grandfathers', 'uncles', 'parents')\n",
      "----------------------------------\n",
      "w: cartoon\n",
      " most-similar-before: ('cartoons', 'animated', 'comic', 'animation', 'toon', 'anime', 'funny', 'comics', 'toons', 'simpsons')\n",
      " most-similar-after: ('cartoons', 'animated', 'sexxxx', 'toons', 'toon', 'animation', 'jetsons', 'simpsons', 'clipart', 'caricatures')\n",
      "----------------------------------\n",
      "w: fixtures\n",
      " most-similar-before: ('fixture', 'lighting', 'lamps', 'fittings', 'chandeliers', 'cabinets', 'faucets', 'ceiling', 'furniture', 'bathroom')\n",
      " most-similar-after: ('fixture', 'lighting', 'chandeliers', 'lamps', 'sconces', 'faucets', 'bathroom', 'ceiling', 'fittings', 'luminaires')\n",
      "----------------------------------\n",
      "w: iq\n",
      " most-similar-before: ('test', 'scores', 'tests', 'iqs', 'average', 'intelligence', 'levels', 'mensa', 'level', 'math')\n",
      " most-similar-after: ('iqs', 'mensa', 'scores', 'heritability', 'acuity', 'apgar', 'quotient', 'wechsler', 'wonderlic', 'expectancy')\n",
      "----------------------------------\n",
      "w: pricing\n",
      " most-similar-before: ('prices', 'price', 'cost', 'availability', 'costs', 'sales', 'compare', 'rates', 'competitive', 'customers')\n",
      " most-similar-after: ('prices', 'price', 'commerical', 'cost', 'availability', 'gige', 'comparisons', 'haggle', 'competative', 'compare')\n",
      "----------------------------------\n",
      "w: ruled\n",
      " most-similar-before: ('ruling', 'rule', 'court', 'upheld', 'supreme', 'argued', 'rejected', 'judge', 'declared', 'dismissed')\n",
      " most-similar-after: ('ruling', 'upheld', 'rule', 'court', 'overruled', 'judge', 'supreme', 'moleskine', 'rulers', 'overrule')\n",
      "----------------------------------\n",
      "w: scar\n",
      " most-similar-before: ('scars', 'scarring', 'keloid', 'acne', 'skin', 'incision', 'pimples', 'wrinkles', 'cellulite', 'pimple')\n",
      " most-similar-after: ('scars', 'scarring', 'keloid', 'keloids', 'dermabrasion', 'acne', 'incision', 'scarred', 'mederma', 'blemishes')\n",
      "----------------------------------\n",
      "w: nate\n",
      " most-similar-before: ('josh', 'jake', 'kyle', 'chris', 'mike', 'jon', 'jason', 'devin', 'zach', 'jeremy')\n",
      " most-similar-after: ('dogg', 'kurupt', 'snoop', 'fivethirtyeight', 'berkus', 'mclouth', 'schierholtz', 'cassie', 'xzibit', 'josh')\n",
      "----------------------------------\n",
      "w: tofu\n",
      " most-similar-before: ('tempeh', 'noodles', 'spinach', 'broccoli', 'veggie', 'seitan', 'fried', 'edamame', 'chicken', 'veggies')\n",
      " most-similar-after: ('tempeh', 'seitan', 'broccoli', 'noodles', 'edamame', 'spinach', 'miso', 'teriyaki', 'fried', 'veggie')\n",
      "----------------------------------\n",
      "w: sabbath\n",
      " most-similar-before: ('ozzy', 'shabbat', 'passover', 'observance', 'commandment', 'holy', 'exodus', 'worship', 'judas', 'torah')\n",
      " most-similar-after: ('ozzy', 'observance', 'shabbat', 'passover', 'iommi', 'shabbos', 'osbourne', 'sabbaths', 'observances', 'yom')\n",
      "----------------------------------\n",
      "w: essentially\n",
      " most-similar-before: ('basically', 'merely', 'simply', 'rather', 'thus', 'largely', 'presumably', 'supposedly', 'actually', 'entirely')\n",
      " most-similar-after: ('basically', 'entirely', 'virtually', 'basicly', 'practically', 'fundamentally', 'largely', 'completely', 'ostensibly', 'bascially')\n",
      "----------------------------------\n",
      "w: ls\n",
      " most-similar-before: ('lt', 'gs', 'l', 'tl', 'cp', 'sl', 'rl', 'xl', 'chevy', 'silverado')\n",
      " most-similar-after: ('lt', 'fwd', 'awd', 'silverado', 'ltz', 'gs', 'hhr', 'trailblazer', 'uplander', 'holden')\n",
      "----------------------------------\n",
      "w: familiar\n",
      " most-similar-before: ('unfamiliar', 'quite', 'rather', 'especially', 'though', 'perhaps', 'although', 'certain', 'understand', 'interesting')\n",
      " most-similar-after: ('familar', 'unfamiliar', 'recognizable', 'reminiscent', 'recognisable', 'familiarity', 'vaguely', 'accustomed', 'eerily', 'versed')\n",
      "----------------------------------\n",
      "w: bras\n",
      " most-similar-before: ('bra', 'underwire', 'underwear', 'panties', 'lingerie', 'camisoles', 'shapewear', 'swimwear', 'corsets', 'knickers')\n",
      " most-similar-after: ('bra', 'underwire', 'underwear', 'camisoles', 'panties', 'shapewear', 'undergarments', 'chantelle', 'lingerie', 'brassiere')\n",
      "----------------------------------\n",
      "w: digestive\n",
      " most-similar-before: ('digestion', 'gastrointestinal', 'intestinal', 'intestines', 'bowel', 'intestine', 'circulatory', 'stomach', 'enzymes', 'tract')\n",
      " most-similar-after: ('digestion', 'gastrointestinal', 'intestines', 'intestinal', 'circulatory', 'stomach', 'intestine', 'bowel', 'tract', 'bowels')\n",
      "----------------------------------\n",
      "w: elder\n",
      " most-similar-before: ('elders', 'younger', 'father', 'elderly', 'priest', 'scrolls', 'grandfather', 'attorney', 'mother', 'older')\n",
      " most-similar-after: ('skyrim', 'elders', 'morrowind', 'bruegel', 'scrolls', 'cranach', 'brueghel', 'oblivion', 'dawnguard', 'dragonborn')\n",
      "----------------------------------\n",
      "w: text\n",
      " most-similar-before: ('texts', 'html', 'document', 'word', 'message', 'messages', 'pages', 'format', 'font', 'language')\n",
      " most-similar-after: ('figuresfull', 'texts', 'html', 'formatting', 'ascii', 'txt', 'textual', 'font', 'pasted', 'textsearch')\n",
      "----------------------------------\n",
      "w: conversions\n",
      " most-similar-before: ('conversion', 'converting', 'converted', 'convert', 'converts', 'loft', 'calculations', 'optimisation', 'improvements', 'units')\n",
      " most-similar-after: ('conversion', 'convert', 'converted', 'converting', 'convertion', 'loft', 'converts', 'refurbishments', 'minivan', 'dormer')\n",
      "----------------------------------\n",
      "w: establishes\n",
      " most-similar-before: ('establishing', 'establish', 'defines', 'identifies', 'maintains', 'determines', 'established', 'recognizes', 'considers', 'enforces')\n",
      " most-similar-after: ('establish', 'establishing', 'enforces', 'defines', 'prescribes', 'identifies', 'maintains', 'clarifies', 'stipulates', 'administers')\n",
      "----------------------------------\n",
      "w: performances\n",
      " most-similar-before: ('performers', 'concerts', 'concert', 'performance', 'musical', 'appearances', 'performing', 'performer', 'performed', 'rehearsals')\n",
      " most-similar-after: ('concerts', 'performers', 'recitals', 'performance', 'concert', 'rehearsals', 'recital', 'performer', 'soloists', 'soloist')\n",
      "----------------------------------\n",
      "w: phenomenon\n",
      " most-similar-before: ('phenomena', 'emergence', 'existence', 'refers', 'observed', 'happening', 'exists', 'apparent', 'fact', 'known')\n",
      " most-similar-after: ('phenomena', 'ufo', 'craze', 'theorized', 'sightings', 'emergence', 'anomaly', 'witnessed', 'anomalous', 'unexplainable')\n",
      "----------------------------------\n"
     ]
    },
    {
     "name": "stdout",
     "output_type": "stream",
     "text": [
      "w: wounded\n",
      " most-similar-before: ('injured', 'killed', 'soldiers', 'soldier', 'mortally', 'civilians', 'wounds', 'wounding', 'troops', 'casualties')\n",
      " most-similar-after: ('injured', 'mortally', 'wounding', 'killed', 'soldiers', 'maimed', 'soldier', 'wounds', 'civilians', 'servicemen')\n",
      "----------------------------------\n",
      "w: sole\n",
      " most-similar-before: ('heel', 'discretion', 'shoe', 'soles', 'purpose', 'toe', 'shoes', 'insole', 'proprietor', 'outsole')\n",
      " most-similar-after: ('outsole', 'heel', 'insole', 'soles', 'proprietorship', 'proprietor', 'discretion', 'toe', 'midsole', 'vibram')\n",
      "----------------------------------\n",
      "w: preserve\n",
      " most-similar-before: ('preserving', 'conserve', 'maintain', 'protect', 'preserves', 'preservation', 'retain', 'restore', 'preserved', 'safeguard')\n",
      " most-similar-after: ('preserving', 'conserve', 'preserves', 'maintain', 'protect', 'preservation', 'retain', 'restore', 'safeguard', 'uphold')\n",
      "----------------------------------\n",
      "w: senses\n",
      " most-similar-before: ('sense', 'mind', 'awaken', 'perception', 'imagination', 'sensory', 'emotions', 'sensations', 'intellect', 'consciousness')\n",
      " most-similar-after: ('awaken', 'sensory', 'olfactory', 'faculties', 'sense', 'intellect', 'dulled', 'awakens', 'sensations', 'perception')\n",
      "----------------------------------\n",
      "w: cairo\n",
      " most-similar-before: ('egypt', 'beirut', 'istanbul', 'tunis', 'amman', 'egyptian', 'tahrir', 'tripoli', 'aviv', 'damascus')\n",
      " most-similar-after: ('tahrir', 'tunis', 'egypt', 'giza', 'heliopolis', 'istanbul', 'aswan', 'amman', 'egyptian', 'zamalek')\n",
      "----------------------------------\n",
      "w: ebay\n",
      " most-similar-before: ('selling', 'sell', 'auction', 'sellers', 'craigslist', 'seller', 'auctions', 'store', 'amazon', 'buying')\n",
      " most-similar-after: ('craigslist', 'craiglist', 'auctions', 'selling', 'sellers', 'auction', 'etsy', 'buying', 'paypal', 'sell')\n",
      "----------------------------------\n",
      "w: cordless\n",
      " most-similar-before: ('corded', 'dect', 'rechargeable', 'dewalt', 'uniden', 'decker', 'panasonic', 'makita', 'handheld', 'rechargable')\n",
      " most-similar-after: ('corded', 'dect', 'uniden', 'decker', 'rechargeable', 'dewalt', 'lxt', 'rechargable', 'makita', 'ryobi')\n",
      "----------------------------------\n",
      "w: collateral\n",
      " most-similar-before: ('borrower', 'loan', 'lender', 'assets', 'lending', 'loans', 'borrowers', 'unsecured', 'lenders', 'asset')\n",
      " most-similar-after: ('borrower', 'collaterals', 'loan', 'loans', 'lender', 'promissory', 'borrow', 'mortgage', 'lending', 'pledging')\n",
      "----------------------------------\n",
      "w: declined\n",
      " most-similar-before: ('declines', 'decline', 'declining', 'refused', 'dropped', 'sharply', 'percent', 'agreed', 'increased', 'significantly')\n",
      " most-similar-after: ('declines', 'decline', 'declining', 'precipitously', 'plummeted', 'decreased', 'sharply', 'shrank', 'dwindled', 'dropped')\n",
      "----------------------------------\n",
      "w: ranked\n",
      " most-similar-before: ('ranks', 'ranking', 'rankings', 'rank', 'nationally', 'top', 'highest', 'teams', 'among', 'rated')\n",
      " most-similar-after: ('ranking', 'ranks', 'rankings', 'rank', 'nationally', 'top', 'unranked', 'highest', 'forbes', 'among')\n",
      "----------------------------------\n",
      "w: jensen\n",
      " most-similar-before: ('larson', 'hansen', 'olson', 'larsen', 'pedersen', 'peterson', 'olsen', 'christensen', 'petersen', 'lars')\n",
      " most-similar-after: ('ackles', 'pedersen', 'jelena', 'padalecki', 'sørensen', 'morten', 'lars', 'henning', 'jacobsen', 'georg')\n",
      "----------------------------------\n",
      "w: eur\n",
      " most-similar-before: ('gbp', '€', 'usd', 'chf', 'aud', 'euros', 'euro', 'sek', '£', 'dkk')\n",
      " most-similar-after: ('gbp', 'chf', '€', 'usd', 'aud', 'euros', 'sek', 'dkk', 'euro', 'pln')\n",
      "----------------------------------\n",
      "w: recognition\n",
      " most-similar-before: ('recognizing', 'recognized', 'recognize', 'award', 'recognizes', 'excellence', 'distinction', 'identification', 'achievement', 'appreciation')\n",
      " most-similar-after: ('recognizing', 'award', 'recognizes', 'recognitions', 'recognized', 'recognizer', 'recognize', 'recognising', 'honor', 'gesture')\n",
      "----------------------------------\n",
      "w: witnesses\n",
      " most-similar-before: ('witness', 'testimony', 'eyewitnesses', 'testify', 'testified', 'evidence', 'prosecution', 'testimonies', 'testifying', 'investigators')\n",
      " most-similar-after: ('witness', 'eyewitnesses', 'testimony', 'testify', 'testified', 'testifying', 'testimonies', 'affidavits', 'depositions', 'prosecution')\n",
      "----------------------------------\n",
      "w: tortured\n",
      " most-similar-before: ('raped', 'imprisoned', 'tormented', 'brutally', 'murdered', 'interrogated', 'brutalized', 'abused', 'torturing', 'kidnapped')\n",
      " most-similar-after: ('brutalized', 'raped', 'interrogated', 'imprisoned', 'tormented', 'brutally', 'torturing', 'murdered', 'humiliated', 'detained')\n",
      "----------------------------------\n",
      "w: spices\n",
      " most-similar-before: ('seasonings', 'spice', 'herbs', 'seasoning', 'flavors', 'vegetables', 'flavours', 'cumin', 'garlic', 'flavor')\n",
      " most-similar-after: ('seasonings', 'spice', 'seasoning', 'cumin', 'condiments', 'herbs', 'flavorings', 'sauces', 'flavors', 'flavor')\n",
      "----------------------------------\n",
      "w: iv\n",
      " most-similar-before: ('iii', 'ii', 'vii', 'viii', 'vi', 'ix', 'v', 'xiii', 'title', 'xii')\n",
      " most-similar-after: ('iii', 'ii', 'vii', 'viii', 'vi', 'ix', 'liike', 'xiii', 'sixtus', 'xii')\n",
      "----------------------------------\n",
      "w: newspaper\n",
      " most-similar-before: ('newspapers', 'tribune', 'herald', 'magazine', 'editorial', 'daily', 'reporter', 'magazines', 'tabloid', 'telegraph')\n",
      " most-similar-after: ('newspapers', 'newpaper', 'tabloid', 'tribune', 'broadsheet', 'gazeta', 'enquirer', 'shimbun', 'pravda', 'herald')\n",
      "----------------------------------\n",
      "w: overhaul\n",
      " most-similar-before: ('revamp', 'overhauling', 'redesign', 'overhauls', 'overhauled', 'revamping', 'reform', 'modernization', 'reforms', 'rebuild')\n",
      " most-similar-after: ('overhauling', 'revamp', 'overhauls', 'overhauled', 'redesign', 'revamping', 'reform', 'modernization', 'reworking', 'refit')\n",
      "----------------------------------\n",
      "w: protocols\n",
      " most-similar-before: ('protocol', 'procedures', 'interfaces', 'methods', 'mechanisms', 'methodologies', 'authentication', 'guidelines', 'routing', 'implementation')\n",
      " most-similar-after: ('protocol', 'udp', 'tcp', 'multicast', 'ipsec', 'sftp', 'icmp', 'firewalls', 'connectionless', 'telnet')\n",
      "----------------------------------\n",
      "w: defended\n",
      " most-similar-before: ('defend', 'defending', 'argued', 'defends', 'criticized', 'denounced', 'asserted', 'advocated', 'contended', 'insisted')\n",
      " most-similar-after: ('stoutly', 'defend', 'defends', 'defending', 'staunchly', 'vehemently', 'strenuously', 'argued', 'vociferously', 'zealously')\n",
      "----------------------------------\n",
      "w: highlight\n",
      " most-similar-before: ('highlights', 'highlighted', 'highlighting', 'showcase', 'emphasize', 'focus', 'presentation', 'important', 'reflect', 'look')\n",
      " most-similar-after: ('highlights', 'highlighting', 'highlighted', 'underline', 'emphasize', 'accentuate', 'emphasise', 'lowlights', 'repliesprevious', 'illuminate')\n",
      "----------------------------------\n",
      "w: ghz\n",
      " most-similar-before: ('pentium', 'mhz', 'intel', 'processor', 'cpu', 'celeron', 'xeon', 'athlon', 'amd', 'gigahertz')\n",
      " most-similar-after: ('pentium', 'celeron', 'mhz', 'gigahertz', 'intel', 'xeon', 'processor', 'athlon', 'cpu', 'centrino')\n",
      "----------------------------------\n",
      "w: inheritance\n",
      " most-similar-before: ('inherit', 'inherited', 'heirs', 'inheriting', 'inheritances', 'wealth', 'heir', 'succession', 'taxation', 'income')\n",
      " most-similar-after: ('inherit', 'inherited', 'inheritances', 'inheriting', 'heirs', 'paolini', 'recessive', 'eragon', 'inherits', 'mendelian')\n",
      "----------------------------------\n",
      "w: seizure\n",
      " most-similar-before: ('seizures', 'epileptic', 'epilepsy', 'arrest', 'convulsions', 'confiscation', 'seized', 'forfeiture', 'disorder', 'severe')\n",
      " most-similar-after: ('seizures', 'epileptic', 'confiscation', 'convulsions', 'seized', 'epilepsy', 'forfeiture', 'seizing', 'confiscate', 'siezed')\n",
      "----------------------------------\n",
      "w: reducing\n",
      " most-similar-before: ('reduce', 'reduces', 'eliminating', 'minimizing', 'decreasing', 'increasing', 'reduced', 'minimize', 'preventing', 'decrease')\n",
      " most-similar-after: ('reduce', 'minimizing', 'eliminating', 'reduces', 'lessening', 'minimising', 'decreasing', 'lessen', 'alleviating', 'minimize')\n",
      "----------------------------------\n",
      "w: manufacture\n",
      " most-similar-before: ('manufacturing', 'manufactures', 'manufacturers', 'supplier', 'manufactured', 'supplying', 'manufacturer', 'machinery', 'products', 'suppliers')\n",
      " most-similar-after: ('manufactures', 'manufacturing', 'manufacturer', 'supplying', 'manufactured', 'supplier', 'manufacturers', 'machinery', 'fabricate', 'factories')\n",
      "----------------------------------\n",
      "w: resignation\n",
      " most-similar-before: ('resigned', 'resign', 'resigning', 'resigns', 'resignations', 'dismissal', 'announcement', 'letter', 'ouster', 'apology')\n",
      " most-similar-after: ('resignations', 'resign', 'resigning', 'resigned', 'resigns', 'dismissal', 'demotion', 'announcement', 'letter', 'disqualification')\n",
      "----------------------------------\n",
      "w: informational\n",
      " most-similar-before: ('informative', 'educational', 'purposes', 'brochures', 'presentations', 'information', 'pamphlets', 'presentation', 'instructional', 'seminars')\n",
      " most-similar-after: ('informative', 'pamphlets', 'pamphlet', 'brochures', 'handout', 'noncommercial', 'leaflets', 'purposes', 'handouts', 'educational')\n",
      "----------------------------------\n",
      "w: attendees\n",
      " most-similar-before: ('participants', 'exhibitors', 'delegates', 'presenters', 'invited', 'panelists', 'guests', 'attendee', 'patrons', 'attend')\n",
      " most-similar-after: ('participants', 'exhibitors', 'delegates', 'attendee', 'presenters', 'panelists', 'invited', 'patrons', 'spectators', 'guests')\n",
      "----------------------------------\n",
      "w: thread\n",
      " most-similar-before: ('threads', 'post', 'topic', 'discussion', 'forum', 'question', 'posts', 'forums', 'reply', 're')\n",
      " most-similar-after: ('threads', 'stickied', 'technoratitweet', 'refback', 'threaded', 'topic', 'discussion', 'post', 'threading', 'facebookspurl')\n",
      "----------------------------------\n"
     ]
    },
    {
     "name": "stdout",
     "output_type": "stream",
     "text": [
      "w: somehow\n",
      " most-similar-before: ('seems', 'obviously', 'actually', 'something', 'apparently', 'perhaps', 'unfortunately', 'nothing', 'maybe', 'seemed')\n",
      " most-similar-after: ('someway', 'something', 'magically', 'suppose', 'maybe', 'actually', 'miraculously', 'seems', 'perhaps', 'else')\n",
      "----------------------------------\n",
      "w: regulatory\n",
      " most-similar-before: ('regulation', 'compliance', 'regulations', 'oversight', 'governmental', 'administrative', 'legislative', 'regulators', 'legislation', 'requirements')\n",
      " most-similar-after: ('regulation', 'compliance', 'regulations', 'oversight', 'harmonization', 'governmental', 'mhra', 'approvals', 'harmonisation', 'regulators')\n",
      "----------------------------------\n",
      "w: myspace\n",
      " most-similar-before: ('facebook', 'friendster', 'youtube', 'twitter', 'layouts', 'yahoo', 'orkut', 'bebo', 'site', 'pic')\n",
      " most-similar-after: ('friendster', 'xanga', 'facebook', 'backrounds', 'orkut', 'bebo', 'layouts', 'livejournal', 'photobucket', 'plurk')\n",
      "----------------------------------\n"
     ]
    }
   ],
   "source": [
    "words_chosen = np.random.choice(words[:15000] , size = 100)\n",
    "topn = 10\n",
    "\n",
    "for w in words_chosen:\n",
    "    words_and_sims_before = model.most_similar(w, topn = topn)\n",
    "    words__and_sims_after = model_cleaned.most_similar(w, topn = topn)\n",
    "    words_before, _ = zip(*words_and_sims_before)\n",
    "    words_after, _ = zip(*words__and_sims_after)\n",
    "    print(\"w: {}\\n most-similar-before: {}\\n most-similar-after: {}\".format(w,words_before, words_after))\n",
    "    print(\"----------------------------------\")"
   ]
  },
  {
   "cell_type": "markdown",
   "metadata": {},
   "source": [
    "### bias by profession experiment"
   ]
  },
  {
   "cell_type": "code",
   "execution_count": 18,
   "metadata": {},
   "outputs": [],
   "source": [
    "def get_bias_by_neighbors(model, model_cleaned, gendered_words, v, gender_direction): \n",
    "    \n",
    "    neighbors = model_cleaned.similar_by_vector(v, topn=100) \n",
    "    neighbors_words = [n for n, _ in neighbors]\n",
    "    \n",
    "    #bias = len([n for n in neighbors_words if n in gendered_words])\n",
    "    bias = len([n for n in neighbors_words if model.cosine_similarities(model[n], [gender_direction])[0] > 0])\n",
    "    return bias\n",
    "\n",
    "def bias_by_profession(model, model_cleaned, gender_direction, P, masc_words):\n",
    "    \n",
    "    with codecs.open(\"../data/lists/professions.json\") as f:\n",
    "        professions_and_scores = json.load(f)\n",
    "\n",
    "    professions = [p[0] for p in professions_and_scores]\n",
    "    #print(professions)\n",
    "    professions = list(filter(lambda p: p in model.wv, professions))\n",
    "    vecs = np.array([model[p] for p in professions])\n",
    "    vecs_cleaned = vecs.dot(P)\n",
    "    bias_vals = np.array([model.cosine_similarities(gender_direction,vecs)])[0]\n",
    "    #bias_vals_after = np.array([model.cosine_similarities(gender_direction,vecs_cleaned)])[0]\n",
    "    bias_by_neighbors_after = np.array([get_bias_by_neighbors(model, model_cleaned, masc_words, v, gender_direction) for v in vecs_cleaned])\n",
    "    bias_by_neighbors_before = np.array([get_bias_by_neighbors(model, model, masc_words, v, gender_direction) for v in vecs])\n",
    "\n",
    "    #plt.ylim([np.min(bias_vals), np.max(bias_vals)])\n",
    "    plt.plot(bias_vals, bias_by_neighbors_after, marker = \"o\", linestyle = \"none\", color = \"red\", label = \"after\", alpha = 0.25)\n",
    "    plt.plot(bias_vals, bias_by_neighbors_before, marker = \"o\", linestyle = \"none\", color = \"blue\", label = \"before\", alpha = 0.25)\n",
    "    \n",
    "    word_idx_high = np.argsort(bias_vals)[:4] \n",
    "    word_idx_low = np.argsort(bias_vals)[-4:]\n",
    "    word_idx_middle_low = np.argsort(bias_vals)[-55:-51]\n",
    "    word_idx_middle_high = np.argsort(bias_vals)[51:55]\n",
    "    words_biased_fem = [professions[i] for i in word_idx_high]\n",
    "    words_biased_masc = [professions[i] for i in word_idx_low]\n",
    "    mid_low = [professions[i] for i in word_idx_middle_low]\n",
    "    mid_high = [professions[i] for i in word_idx_middle_high]\n",
    "    words = words_biased_masc + words_biased_fem + mid_low + mid_high\n",
    "    \n",
    "    for w in words:\n",
    "        i = professions.index(w)\n",
    "        x1,y1 = bias_vals[i],bias_by_neighbors_after[i]\n",
    "        plt.annotate(w , (x1,y1), size = 8, color = \"red\")\n",
    "        x2,y2 = bias_vals[i],bias_by_neighbors_before[i]\n",
    "        plt.annotate(w, (x2,y2), size = 8, color = \"blue\")\n",
    "        #plt.arrow(x2,y2,x1-x2,y1-y2, width = 0.0005)\n",
    "        \n",
    "    plt.legend()\n",
    "    plt.xlabel(\"bias-by-PROJECTION of the professions before\")\n",
    "    plt.ylabel(\"bias-by-NEIGHBORS\")\n",
    "    plt.title(\"projection bias before vs. neighbors bias before/after \\n(# neighbors closer to 'she' then 'he')\")\n",
    "    plt.show()\n",
    "    \n",
    "    print(\"Correlation before: {}, p-value: {}\".format(*pearsonr(bias_vals, bias_by_neighbors_before)))\n",
    "    print(\"Correlation after: {}, p-value: {}\".format(*pearsonr(bias_vals, bias_by_neighbors_after)))\n",
    "\n",
    "        "
   ]
  },
  {
   "cell_type": "code",
   "execution_count": 19,
   "metadata": {
    "scrolled": true
   },
   "outputs": [
    {
     "data": {
      "image/png": "[encoded data removed]",
      "text/plain": [
       "<Figure size 432x288 with 1 Axes>"
      ]
     },
     "metadata": {
      "needs_background": "light"
     },
     "output_type": "display_data"
    },
    {
     "name": "stdout",
     "output_type": "stream",
     "text": [
      "Correlation before: 0.8524125165100177, p-value: 2.2680951373250805e-83\n",
      "Correlation after: 0.7679446080448006, p-value: 7.446794147354234e-58\n"
     ]
    }
   ],
   "source": [
    "bias_by_profession(model, model_cleaned, gender_direction, P, None)"
   ]
  },
  {
   "cell_type": "code",
   "execution_count": 20,
   "metadata": {},
   "outputs": [
    {
     "data": {
      "text/plain": [
       "'\\nfor i, (w,v,l) in enumerate(zip(all_significantly_biased_words,all_biased_cleaned,\\n                               all_significantly_biased_labels)):\\n    \\n    neighbors = model_cleaned.similar_by_vector(v, topn = 6, restrict_vocab=None)[1:]\\n    print(w, neighbors)\\n    print(\"===========================================\")\\n '"
      ]
     },
     "execution_count": 20,
     "metadata": {},
     "output_type": "execute_result"
    }
   ],
   "source": [
    "\"\"\"\n",
    "for i, (w,v,l) in enumerate(zip(all_significantly_biased_words,all_biased_cleaned,\n",
    "                               all_significantly_biased_labels)):\n",
    "    \n",
    "    neighbors = model_cleaned.similar_by_vector(v, topn = 6, restrict_vocab=None)[1:]\n",
    "    print(w, neighbors)\n",
    "    print(\"===========================================\")\n",
    " \"\"\""
   ]
  },
  {
   "cell_type": "markdown",
   "metadata": {},
   "source": [
    "### word association tests"
   ]
  },
  {
   "cell_type": "code",
   "execution_count": 21,
   "metadata": {},
   "outputs": [],
   "source": [
    "# Auxiliary functions for experiments by Caliskan et al.\n",
    "\n",
    "import scipy\n",
    "import scipy.misc as misc\n",
    "import itertools\n",
    "\n",
    "\n",
    "def s_word(w, A, B, model, all_s_words):\n",
    "    \n",
    "    if w in all_s_words:\n",
    "        return all_s_words[w]\n",
    "    \n",
    "    mean_a = []\n",
    "    mean_b = []\n",
    "    \n",
    "    for a in A:\n",
    "        mean_a.append(model.similarity(w,a))\n",
    "    for b in B:\n",
    "        mean_b.append(model.similarity(w,b))\n",
    "        \n",
    "    mean_a = sum(mean_a)/float(len(mean_a))\n",
    "    mean_b = sum(mean_b)/float(len(mean_b))\n",
    "    \n",
    "    all_s_words[w] = mean_a - mean_b\n",
    "\n",
    "    return all_s_words[w]\n",
    "\n",
    "\n",
    "def s_group(X, Y, A, B, model, all_s_words):\n",
    "    \n",
    "    total = 0\n",
    "    for x in X:\n",
    "        x_sim = s_word(x, A, B, model, all_s_words)\n",
    "        total += x_sim\n",
    "    for y in Y:\n",
    "        y_sim =  s_word(y, A, B, model, all_s_words)\n",
    "        total -= y_sim\n",
    "    \n",
    "    #print(x_sim, y_sim)\n",
    "        \n",
    "    return total\n",
    "\n",
    "\n",
    "def p_value_exhust(X, Y, A, B, model):\n",
    "    \n",
    "    if len(X) > 10:\n",
    "        print ('might take too long, use sampled version: p_value')\n",
    "        return\n",
    "    \n",
    "    assert(len(X) == len(Y))\n",
    "    \n",
    "    all_s_words = {}\n",
    "    s_orig = s_group(X, Y, A, B, model, all_s_words)\n",
    "    #print(\"s-orig: {}\".format(s_orig))\n",
    "    \n",
    "    union = set(X+Y)\n",
    "    subset_size = int(len(union)/2)\n",
    "    \n",
    "    larger = 0\n",
    "    total = 0\n",
    "    #all_subs = set(itertools.combinations(union, subset_size))\n",
    "    #print(all_subs)\n",
    "    for subset in tqdm.tqdm(set(itertools.combinations(union, subset_size))):\n",
    "        total += 1\n",
    "        Xi = list(set(subset))\n",
    "        Yi = list(union - set(subset))\n",
    "        if s_group(Xi, Yi, A, B, model, all_s_words) > s_orig:\n",
    "            larger += 1\n",
    "    #print ('num of samples', total)\n",
    "    return larger/float(total)\n",
    "\n",
    "\n",
    "def p_value_sample(X, Y, A, B, model):\n",
    "    \n",
    "    random.seed(10)\n",
    "    np.random.seed(10)\n",
    "    all_s_words = {}\n",
    "    \n",
    "    assert(len(X) == len(Y))\n",
    "    length = len(X)\n",
    "    \n",
    "    s_orig = s_group(X, Y, A, B, model, all_s_words) \n",
    "    \n",
    "    num_of_samples = min(10000, int(scipy.special.comb(length*2,length)*100))\n",
    "    print ('num of samples', num_of_samples)\n",
    "    larger = 0\n",
    "    for i in range(num_of_samples):\n",
    "        permute = np.random.permutation(X+Y)\n",
    "        Xi = permute[:length]\n",
    "        Yi = permute[length:]\n",
    "        if s_group(Xi, Yi, A, B, model, all_s_words) > s_orig:\n",
    "            larger += 1\n",
    "    \n",
    "    return larger/float(num_of_samples)"
   ]
  },
  {
   "cell_type": "code",
   "execution_count": 22,
   "metadata": {
    "scrolled": true
   },
   "outputs": [
    {
     "name": "stderr",
     "output_type": "stream",
     "text": [
      "100%|██████████| 12870/12870 [00:00<00:00, 158592.29it/s]\n",
      "100%|██████████| 12870/12870 [00:00<00:00, 161212.91it/s]\n",
      "100%|██████████| 12870/12870 [00:00<00:00, 164625.97it/s]"
     ]
    },
    {
     "name": "stdout",
     "output_type": "stream",
     "text": [
      "0.39044289044289043\n",
      "0.39813519813519815\n",
      "0.482983682983683\n"
     ]
    },
    {
     "name": "stderr",
     "output_type": "stream",
     "text": [
      "\n"
     ]
    }
   ],
   "source": [
    "# Experiment 1\n",
    "\n",
    "A = ['John', 'Paul', 'Mike', 'Kevin', 'Steve', 'Greg', 'Jeff', 'Bill']\n",
    "B = ['Amy', 'Joan', 'Lisa', 'Sarah', 'Diana', 'Kate', 'Ann', 'Donna']\n",
    "A = ['john', 'paul', 'mike', 'kevin', 'steve', 'greg', 'jeff', 'bill']\n",
    "B = ['amy', 'joan', 'lisa', 'sarah', 'diana', 'kate', 'ann', 'donna']\n",
    "\n",
    "C = ['executive', 'management', 'professional', 'corporation', 'salary', 'office', 'business', 'career']\n",
    "D = ['home', 'parents', 'children', 'family', 'cousins', 'marriage', 'wedding', 'relatives']\n",
    "\n",
    "print (p_value_exhust(A, B, C, D, model_cleaned))\n",
    "\n",
    "# Experiment 2\n",
    "\n",
    "E = ['math', 'algebra', 'geometry', 'calculus', 'equations', 'computation', 'numbers', 'addition']\n",
    "F = ['poetry', 'art', 'dance', 'literature', 'novel', 'symphony', 'drama', 'sculpture']\n",
    "\n",
    "print (p_value_exhust(A, B, E, F, model_cleaned))\n",
    "\n",
    "\n",
    "# Experiment 3\n",
    "\n",
    "G = ['science', 'technology', 'physics', 'chemistry', 'einstein', 'nasa', 'experiment', 'astronomy']\n",
    "H = ['poetry', 'art', 'shakespeare', 'dance', 'literature', 'novel', 'symphony', 'drama']\n",
    "\n",
    "print (p_value_exhust(A, B, G, H, model_cleaned))"
   ]
  },
  {
   "cell_type": "markdown",
   "metadata": {},
   "source": [
    "### Compare with debiasing on specific directions"
   ]
  },
  {
   "cell_type": "code",
   "execution_count": 23,
   "metadata": {},
   "outputs": [],
   "source": [
    "words = [(\"he\", \"she\"), (\"man\", \"woman\"), (\"boy\", \"girl\"), (\"king\", \"queen\"), (\"him\", \"her\"), (\"father\", \"mother\"), (\"grandfather\", \"grandmother\")]"
   ]
  },
  {
   "cell_type": "code",
   "execution_count": 24,
   "metadata": {},
   "outputs": [],
   "source": [
    "vecs = [ [model[p[1]] - model[p[0]]] for p in words]\n",
    "P_by_words = debias.debias_by_specific_directions(vecs, 300) # projection matrix generated by zeroing the above directions\n",
    "X_dev_cleaned = X_dev.dot(P_by_words)\n",
    "X_train_cleaned = X_train.dot(P_by_words)"
   ]
  },
  {
   "cell_type": "code",
   "execution_count": 25,
   "metadata": {},
   "outputs": [
    {
     "name": "stdout",
     "output_type": "stream",
     "text": [
      "0.7297267396835934\n"
     ]
    }
   ],
   "source": [
    "clf = LinearSVC()\n",
    "clf.fit(X_train_cleaned, Y_train)\n",
    "print(clf.score(X_dev_cleaned, Y_dev))"
   ]
  },
  {
   "cell_type": "markdown",
   "metadata": {},
   "source": [
    "A linear classifier is still able to recover the gender with no-random"
   ]
  }
 ],
 "metadata": {
  "kernelspec": {
   "display_name": "Python 3",
   "language": "python",
   "name": "python3"
  },
  "language_info": {
   "codemirror_mode": {
    "name": "ipython",
    "version": 3
   },
   "file_extension": ".py",
   "mimetype": "text/x-python",
   "name": "python",
   "nbconvert_exporter": "python",
   "pygments_lexer": "ipython3",
   "version": "3.6.9"
  }
 },
 "nbformat": 4,
 "nbformat_minor": 1
}
