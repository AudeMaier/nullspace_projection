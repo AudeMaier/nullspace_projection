{
 "cells": [
  {
   "cell_type": "code",
   "execution_count": 1,
   "metadata": {},
   "outputs": [],
   "source": [
    "import sys\n",
    "sys.path.append(\"../src\")\n",
    "sys.path.append(\"../data/embeddings\")\n",
    "import classifier\n",
    "import svm_classifier\n",
    "import debias\n",
    "import gensim\n",
    "import codecs\n",
    "import json\n",
    "from gensim.models.keyedvectors import Word2VecKeyedVectors\n",
    "from gensim.models import KeyedVectors\n",
    "import numpy as np\n",
    "import random\n",
    "import sklearn\n",
    "from sklearn import model_selection\n",
    "from sklearn import cluster\n",
    "from sklearn import metrics\n",
    "from sklearn.manifold import TSNE\n",
    "from sklearn.svm import LinearSVC, SVC\n",
    "from sklearn.neural_network import MLPClassifier\n",
    "from sklearn.metrics.pairwise import cosine_similarity\n",
    "import scipy\n",
    "from scipy import linalg\n",
    "from scipy.stats.stats import pearsonr\n",
    "import tqdm\n",
    "import matplotlib\n",
    "import matplotlib.pyplot as plt\n",
    "%matplotlib inline\n",
    "matplotlib.rcParams['agg.path.chunksize'] = 10000\n",
    "\n",
    "import warnings\n",
    "warnings.filterwarnings(\"ignore\")"
   ]
  },
  {
   "cell_type": "code",
   "execution_count": 2,
   "metadata": {},
   "outputs": [],
   "source": [
    "def tsne_by_gender(vecs, labels, title, words = None):\n",
    "\n",
    "  tsne = TSNE(n_components=2, random_state=0)\n",
    "  vecs_2d = tsne.fit_transform(vecs)\n",
    "  num_labels = len(set(labels.tolist()))\n",
    "\n",
    "  names = [\"class {}\".format(i) for i in range(num_labels)]\n",
    "  plt.figure(figsize=(6, 5))\n",
    "  colors = 'r', 'b', 'orange'\n",
    "  for i, c, label in zip(set(labels.tolist()), colors, names):\n",
    "    print(len(vecs_2d[labels == i, 0]))\n",
    "    plt.scatter(vecs_2d[labels == i, 0], vecs_2d[labels == i, 1], c=c,\n",
    "                label=label, alpha = 0.3)\n",
    "  plt.legend()\n",
    "  plt.title(title)\n",
    "  \n",
    "  if words is not None:\n",
    "        k = 60\n",
    "        for i in range(k):\n",
    "            \n",
    "            j = np.random.choice(range(len(words)))\n",
    "            label = labels[i]\n",
    "            w = words[j]\n",
    "            x,y = vecs_2d[i]\n",
    "            plt.annotate(w , (x,y), size = 10, color = \"black\" if label == 1 else \"black\")\n",
    "            \n",
    "  plt.show()\n",
    "  return vecs_2d"
   ]
  },
  {
   "cell_type": "markdown",
   "metadata": {},
   "source": [
    "### Data loading & processing"
   ]
  },
  {
   "cell_type": "code",
   "execution_count": 3,
   "metadata": {},
   "outputs": [],
   "source": [
    "def load_word_vectors(fname = \"../data/embeddings/vecs.filtered.txt\"):\n",
    "    \n",
    "    model = KeyedVectors.load_word2vec_format(fname, binary=False)\n",
    "    vecs = model.vectors\n",
    "    words = list(model.vocab.keys())\n",
    "    return model, vecs, words\n",
    "\n",
    "def project_on_gender_subspaces(gender_vector, model: Word2VecKeyedVectors, n = 2500):\n",
    "    \n",
    "    group1 = model.similar_by_vector(gender_vector, topn = n, restrict_vocab=None)\n",
    "    group2 = model.similar_by_vector(-gender_vector, topn = n, restrict_vocab=None)\n",
    "    \n",
    "    all_sims = model.similar_by_vector(gender_vector, topn = len(model.wv.vectors), restrict_vocab=None)\n",
    "    eps = 0.08\n",
    "    idx = [i for i in range(len(all_sims)) if abs(all_sims[i][1]) < eps]\n",
    "    samp = set(np.random.choice(idx, size = n))\n",
    "    neut = [s for i,s in enumerate(all_sims) if i in samp]\n",
    "\n",
    "    return group1, group2, neut\n",
    "\n",
    "def get_vectors(word_list: list, model: Word2VecKeyedVectors):\n",
    "    \n",
    "    vecs = []\n",
    "    for w in word_list:\n",
    "        \n",
    "        vecs.append(model[w])\n",
    "    \n",
    "    vecs = np.array(vecs)\n",
    "    return vecs\n",
    "\n",
    "\n",
    "def save_in_word2vec_format(vecs: np.ndarray, words: np.ndarray, fname: str):\n",
    "\n",
    "\n",
    "    with open(fname, \"w\", encoding = \"utf-8\") as f:\n",
    "\n",
    "        f.write(str(len(vecs)) + \" \" + \"300\" + \"\\n\")\n",
    "        for i, (v,w) in tqdm.tqdm(enumerate(zip(vecs, words))):\n",
    "\n",
    "            vec_as_str = \" \".join([str(x) for x in v])\n",
    "            f.write(w + \" \" + vec_as_str + \"\\n\")"
   ]
  },
  {
   "cell_type": "code",
   "execution_count": 4,
   "metadata": {},
   "outputs": [
    {
     "name": "stdout",
     "output_type": "stream",
     "text": [
      "('journeyman', 'elder_statesman', 'fancies_himself', 'preaching_patience', 'fellow_countryman', 'boyhood_hero', 'master_tactician', 'talent_evaluators', 'clears_waivers', 'endeared_himself', 'tactical_acumen', 'locker_stall', 'wonderboy', 'barrel_chested', 'cult_hero', 'journeymen', 'clown_prince', 'wheeler_dealer', 'swashbuckling', 'graybeard', 'generalship', 'firing_blanks', 'talent_evaluator', 'slight_groin_strain', 'distanced_himself', 'prodigal_son', 'tradeable', 'agent_signee', 'grossly_overpaid', 'riverboat_gambler', 'platooning', 'deemed_expendable', 'reassumed', 'prides_himself', 'erect_statue', 'hero', 'compadre', 'homeboy', 'heir_apparent', 'elder_statesmen', 'dangerman', 'benching', 'successor', 'burly', 'serviceable', 'jnr', 'untradeable', 'goatee', 'frontmen', 'league', 'endear_himself', 'training_camp', 're_iterated', 'draftable', 'maestro', 'howitzer', 'gray_bearded', 'legendary', 'gamebreaker', 'silent_assassin', 'positional', 'transfer_kitty', 'supersub', 'righthand', 'rookie', 'ageless_wonder', 'drafted', 'messiah', 'scout', 'bold_prediction', 'taciturn', 'players', 'unerring_accuracy', 'engineered', 'reinforcements')\n",
      "-------------------------\n",
      "('girlhood', 'supermom', 'frontwoman', 'alumna', 'beautician', 'covergirl', 'motherly', 'everywoman', 'petite', 'yummy_mummy', 'comedienne', 'girly_girl', 'southern_belle', 'saleswoman', 'songstress', 'lipgloss', 'ditzy', 'miniature_poodle', 'maternal_instinct', 'homegirl', 'ditz', 'manicurist', 'prided_herself', 'false_eyelashes', 'mommies', 'porcelain_doll', 'bridesmaid_dress', 'lip_gloss', 'flat_chested', 'minx', 'nightdress', 'fake_boobs', 'maternity_clothes', 'maternal_instincts', 'blonde_bombshell', 'rodeo_queen', 'perky', 'girlish', 'burlesque_dancer', 'homemaker', 'bra', 'millionairess', 'cattiness', 'nurse_midwife', 'femininity', 'matronly', 'chanteuse', 'grandmotherly', 'mums', 'countrywoman', 'esthetician', 'feminist_icon', 'horsewoman', 'pregnant', 'womanly', 'lesbian_lover', 'preggers', 'vivacious', 'nail_technician', 'immersing_herself', 'breastfeeding', 'registered_nurse', 'catty', 'seamstress', 'tiara', 'spinster', 'prides_herself', 'prom_dress', 'waitressing', 'ditsy', 'lipsticks', 'pageants', 'pink_satin', 'sexpot', 'double_mastectomy')\n",
      "-------------------------\n",
      "('prodigal', 'emolument', 'acceleration', 'thunderous_ovation', 'conciliatory_tone', 'contenders', 'dominant', 'scalawags', 'commish', 'stopper', 'downswing', 'seater_stadium', 'fractured', 'dee', 'stalemate', 'assuage_fears', 'dejected', 'artificial_reefs', 'defers', 'technocrats', 'dealt', 'inciting_riot', 'saviors', 'protective_headgear', 'underground_piping', 'discoverer', 'thigh_bruise', 'multipoint', 'barrages', 'pilfer', 'greenskeeper', 'bulldoze', 'irked', 'towering_header', 'motionless', 'plodding', 'outlays', 'trouser_pocket', 'flu_bug', 'rewarded', 'freeing', 'bloodiest_crackdown', 'turd', 'fumbled_kickoff', 'embeddable', 'scuffled', 'sortable', 'misplay', 'dictum', 'distributor', 'lining', 'turret', 'textile_machinery', 'walking_tightrope', 'undershirt', 'poorly', 'flunky', 'counter_insurgency', 'trophy', 'hinge', 'bemoans', 'brigade_commander', 'malefactors', 'accorded', 'fistic', 'weakfish', 'knee_injury', 'torrid', 'prerogative', 'bloops', 'since', 'heavyweight_boxing', 'pits', 'honorary_captains', 'incorrectly_labeled')\n"
     ]
    }
   ],
   "source": [
    "# 50k top vectors (without gender-typical words) - used for training\n",
    "\n",
    "model, vecs, words = load_word_vectors(fname = \"../data/embeddings/vecs.filtered.txt\")\n",
    "\n",
    "# only gendered vectors\n",
    "\n",
    "model_gendered, _, _ = load_word_vectors(fname = \"../data/embeddings/vecs.gendered.txt\")\n",
    "\n",
    "# all 300k vectors\n",
    "model_all = KeyedVectors.load_word2vec_format(\"../data/embeddings/GoogleNews-vectors-negative300-SLIM.bin\", binary=True)\n",
    "\n",
    "\n",
    "gender_direction = model_gendered[\"he\"] - model_gendered[\"she\"]\n",
    "gender_unit_vec = gender_direction/np.linalg.norm(gender_direction)\n",
    "\n",
    "#gender_direction = model_gendered[\"he\"] + model_gendered[\"man\"] + model_gendered[\"boy\"] + model_gendered[\"him\"] - (model_gendered[\"she\"] + model_gendered[\"woman\"] + model_gendered[\"girl\"] + model_gendered[\"her\"])\n",
    "\n",
    "masc_words_and_scores, fem_words_and_scores, neut_words_and_scores = project_on_gender_subspaces(gender_direction, model, n = 3000)\n",
    "masc_words, masc_scores = list(zip(*masc_words_and_scores))\n",
    "neut_words, neut_scores = list(zip(*neut_words_and_scores))\n",
    "fem_words, fem_scores = list(zip(*fem_words_and_scores))\n",
    "fem_scores = [-x for x in fem_scores]\n",
    "masc_vecs, fem_vecs = get_vectors(masc_words, model), get_vectors(fem_words, model)\n",
    "neut_vecs = get_vectors(neut_words, model)\n",
    "\n",
    "masc_words_and_scores_all, fem_words_and_scores_all, _ = project_on_gender_subspaces(gender_direction, model, n = 25000)\n",
    "masc_words_all, _ = list(zip(*masc_words_and_scores))\n",
    "fem_words_all, _ = list(zip(*fem_words_and_scores))\n",
    "masc_vecs_all, fem_vecs_all = get_vectors(masc_words, model), get_vectors(fem_words, model)\n",
    "\n",
    "\n",
    "#all_significantly_biased_words = masc_words + fem_words\n",
    "#all_significantly_biased_vecs =  np.concatenate((masc_vecs, fem_vecs))\n",
    "#all_significantly_biased_labels = np.concatenate((np.ones(fem_vecs.shape[0], dtype = int),\n",
    "#                                                 np.zeros(masc_vecs.shape[0], dtype = int)))\n",
    "#print(np.random.choice(masc_words, size = 75))\n",
    "print(masc_words[:75])\n",
    "print(\"-------------------------\")\n",
    "#print(np.random.choice(fem_words, size = 75))\n",
    "print(fem_words[:75])\n",
    "\n",
    "print(\"-------------------------\")\n",
    "#print(np.random.choice(neut_words, size = 75))\n",
    "print(neut_words[:75])\n"
   ]
  },
  {
   "cell_type": "markdown",
   "metadata": {},
   "source": [
    "### Perform train-dev-test split"
   ]
  },
  {
   "cell_type": "code",
   "execution_count": 5,
   "metadata": {},
   "outputs": [
    {
     "name": "stdout",
     "output_type": "stream",
     "text": [
      "Train size: 2520; Dev size: 1080; Test size: 2400\n"
     ]
    }
   ],
   "source": [
    "X = np.concatenate((masc_vecs, fem_vecs), axis = 0)\n",
    "y_masc = np.ones(masc_vecs.shape[0], dtype = int)\n",
    "y_fem = -np.ones(fem_vecs.shape[0], dtype = int)\n",
    "y_neut = np.zeros(neut_vecs.shape[0], dtype = int)\n",
    "#y = np.concatenate((masc_scores, fem_scores, neut_scores))#np.concatenate((y_masc, y_fem))\n",
    "y = np.concatenate((y_masc, y_fem))\n",
    "X_train_dev, X_test, y_train_dev, y_test = sklearn.model_selection.train_test_split(X, y, test_size = 0.4, random_state = 0)\n",
    "X_train, X_dev, Y_train, Y_dev = sklearn.model_selection.train_test_split(X_train_dev, y_train_dev, test_size = 0.3, random_state = 0)\n",
    "print(\"Train size: {}; Dev size: {}; Test size: {}\".format(X_train.shape[0], X_dev.shape[0], X_test.shape[0]))"
   ]
  },
  {
   "cell_type": "markdown",
   "metadata": {},
   "source": [
    "### Debias"
   ]
  },
  {
   "cell_type": "code",
   "execution_count": null,
   "metadata": {
    "scrolled": true
   },
   "outputs": [
    {
     "name": "stdout",
     "output_type": "stream",
     "text": [
      "Iteration 0, Accuracy: 1.0\n",
      "Iteration 1, Accuracy: 0.9101851851851852\n",
      "Iteration 2, Accuracy: 0.8351851851851851\n",
      "Iteration 3, Accuracy: 0.7824074074074074\n",
      "Iteration 4, Accuracy: 0.7518518518518519\n",
      "Iteration 5, Accuracy: 0.7018518518518518\n",
      "Iteration 6, Accuracy: 0.637962962962963\n",
      "Iteration 7, Accuracy: 0.6453703703703704\n",
      "Iteration 8, Accuracy: 0.637962962962963\n",
      "Iteration 9, Accuracy: 0.6148148148148148\n",
      "Iteration 10, Accuracy: 0.575\n",
      "Iteration 11, Accuracy: 0.6027777777777777\n",
      "Iteration 12, Accuracy: 0.5518518518518518\n",
      "Iteration 13, Accuracy: 0.5824074074074074\n",
      "Iteration 14, Accuracy: 0.562962962962963\n",
      "Iteration 15, Accuracy: 0.5509259259259259\n",
      "Iteration 16, Accuracy: 0.6092592592592593\n",
      "Iteration 17, Accuracy: 0.5546296296296296\n",
      "Iteration 18, Accuracy: 0.5842592592592593\n",
      "Iteration 19, Accuracy: 0.5509259259259259\n",
      "Iteration 20, Accuracy: 0.5555555555555556\n",
      "Iteration 21, Accuracy: 0.5796296296296296\n",
      "Iteration 22, Accuracy: 0.5694444444444444\n",
      "Iteration 23, Accuracy: 0.5546296296296296\n",
      "Iteration 24, Accuracy: 0.5333333333333333\n",
      "Iteration 25, Accuracy: 0.562962962962963\n"
     ]
    },
    {
     "name": "stderr",
     "output_type": "stream",
     "text": [
      "INFO:root:                  Name     Type Params\n",
      "0                    l   Linear  301  \n",
      "1              sigmoid  Sigmoid    0  \n",
      "2  binary_crossentropy  BCELoss    0  \n"
     ]
    },
    {
     "name": "stdout",
     "output_type": "stream",
     "text": [
      "Iteration 26, Accuracy: 0.46574074029922485\n"
     ]
    },
    {
     "name": "stderr",
     "output_type": "stream",
     "text": [
      "INFO:root:                  Name     Type Params\n",
      "0                    l   Linear  301  \n",
      "1              sigmoid  Sigmoid    0  \n",
      "2  binary_crossentropy  BCELoss    0  \n"
     ]
    },
    {
     "name": "stdout",
     "output_type": "stream",
     "text": [
      "Iteration 27, Accuracy: 0.49166667461395264\n"
     ]
    },
    {
     "name": "stderr",
     "output_type": "stream",
     "text": [
      "INFO:root:                  Name     Type Params\n",
      "0                    l   Linear  301  \n",
      "1              sigmoid  Sigmoid    0  \n",
      "2  binary_crossentropy  BCELoss    0  \n"
     ]
    },
    {
     "name": "stdout",
     "output_type": "stream",
     "text": [
      "Iteration 28, Accuracy: 0.4972222149372101\n"
     ]
    },
    {
     "name": "stderr",
     "output_type": "stream",
     "text": [
      "INFO:root:                  Name     Type Params\n",
      "0                    l   Linear  301  \n",
      "1              sigmoid  Sigmoid    0  \n",
      "2  binary_crossentropy  BCELoss    0  \n"
     ]
    },
    {
     "name": "stdout",
     "output_type": "stream",
     "text": [
      "Iteration 29, Accuracy: 0.4972222149372101\n"
     ]
    },
    {
     "name": "stderr",
     "output_type": "stream",
     "text": [
      "INFO:root:                  Name     Type Params\n",
      "0                    l   Linear  301  \n",
      "1              sigmoid  Sigmoid    0  \n",
      "2  binary_crossentropy  BCELoss    0  \n"
     ]
    },
    {
     "name": "stdout",
     "output_type": "stream",
     "text": [
      "Iteration 30, Accuracy: 0.48148149251937866\n"
     ]
    },
    {
     "name": "stderr",
     "output_type": "stream",
     "text": [
      "INFO:root:                  Name     Type Params\n",
      "0                    l   Linear  301  \n",
      "1              sigmoid  Sigmoid    0  \n",
      "2  binary_crossentropy  BCELoss    0  \n"
     ]
    },
    {
     "name": "stdout",
     "output_type": "stream",
     "text": [
      "Iteration 31, Accuracy: 0.5027777552604675\n"
     ]
    },
    {
     "name": "stderr",
     "output_type": "stream",
     "text": [
      "INFO:root:                  Name     Type Params\n",
      "0                    l   Linear  301  \n",
      "1              sigmoid  Sigmoid    0  \n",
      "2  binary_crossentropy  BCELoss    0  \n"
     ]
    },
    {
     "name": "stdout",
     "output_type": "stream",
     "text": [
      "Iteration 32, Accuracy: 0.49351853132247925\n"
     ]
    },
    {
     "name": "stderr",
     "output_type": "stream",
     "text": [
      "INFO:root:                  Name     Type Params\n",
      "0                    l   Linear  301  \n",
      "1              sigmoid  Sigmoid    0  \n",
      "2  binary_crossentropy  BCELoss    0  \n"
     ]
    },
    {
     "name": "stdout",
     "output_type": "stream",
     "text": [
      "Iteration 33, Accuracy: 0.5166666507720947\n"
     ]
    },
    {
     "name": "stderr",
     "output_type": "stream",
     "text": [
      "INFO:root:                  Name     Type Params\n",
      "0                    l   Linear  301  \n",
      "1              sigmoid  Sigmoid    0  \n",
      "2  binary_crossentropy  BCELoss    0  \n"
     ]
    },
    {
     "name": "stdout",
     "output_type": "stream",
     "text": [
      "Iteration 34, Accuracy: 0.519444465637207\n"
     ]
    },
    {
     "name": "stderr",
     "output_type": "stream",
     "text": [
      "INFO:root:                  Name     Type Params\n",
      "0                    l   Linear  301  \n",
      "1              sigmoid  Sigmoid    0  \n",
      "2  binary_crossentropy  BCELoss    0  \n"
     ]
    },
    {
     "name": "stdout",
     "output_type": "stream",
     "text": [
      "Iteration 35, Accuracy: 0.5037037134170532\n"
     ]
    },
    {
     "name": "stderr",
     "output_type": "stream",
     "text": [
      "INFO:root:                  Name     Type Params\n",
      "0                    l   Linear  301  \n",
      "1              sigmoid  Sigmoid    0  \n",
      "2  binary_crossentropy  BCELoss    0  \n"
     ]
    },
    {
     "name": "stdout",
     "output_type": "stream",
     "text": [
      "Iteration 36, Accuracy: 0.5046296119689941\n"
     ]
    },
    {
     "name": "stderr",
     "output_type": "stream",
     "text": [
      "INFO:root:                  Name     Type Params\n",
      "0                    l   Linear  301  \n",
      "1              sigmoid  Sigmoid    0  \n",
      "2  binary_crossentropy  BCELoss    0  \n"
     ]
    },
    {
     "name": "stdout",
     "output_type": "stream",
     "text": [
      "Iteration 37, Accuracy: 0.4972222149372101\n"
     ]
    },
    {
     "name": "stderr",
     "output_type": "stream",
     "text": [
      "INFO:root:                  Name     Type Params\n",
      "0                    l   Linear  301  \n",
      "1              sigmoid  Sigmoid    0  \n",
      "2  binary_crossentropy  BCELoss    0  \n"
     ]
    },
    {
     "name": "stdout",
     "output_type": "stream",
     "text": [
      "Iteration 38, Accuracy: 0.49351853132247925\n"
     ]
    }
   ],
   "source": [
    "REGRESSION = False\n",
    "NUM_CLASSES = 2\n",
    "\n",
    "classifier_class = svm_classifier.SVMClassifier\n",
    "num_classifiers = 50\n",
    "input_dim = 300\n",
    "is_autoregressive = True\n",
    "min_accuracy = 1./NUM_CLASSES if not REGRESSION else 0.07\n",
    "add_noise = False\n",
    "random_sample = True\n",
    "siamese = True\n",
    "\n",
    "P = debias.get_debiasing_projection(classifier_class, num_classifiers, input_dim, \n",
    "                                    is_autoregressive, min_accuracy, X_train, Y_train,\n",
    "                                    X_dev, Y_dev, add_noise, random_sample, REGRESSION, siamese)"
   ]
  },
  {
   "cell_type": "markdown",
   "metadata": {},
   "source": [
    "### Test the quality of the debiasing."
   ]
  },
  {
   "cell_type": "markdown",
   "metadata": {},
   "source": [
    "#### Perform t-sne"
   ]
  },
  {
   "cell_type": "code",
   "execution_count": null,
   "metadata": {},
   "outputs": [],
   "source": [
    "def perform_purity_test(vecs, k, labels_true):\n",
    "        np.random.seed(0)\n",
    "        clustering = sklearn.cluster.KMeans(n_clusters = k)\n",
    "        clustering.fit(vecs)\n",
    "        labels_pred = clustering.labels_\n",
    "        score = sklearn.metrics.homogeneity_score(labels_true, labels_pred)\n",
    "        return score\n",
    "#print(Y_dev[:200])\n",
    "\n",
    "def to_integer(arr, eps = 0.03):\n",
    "    \n",
    "    return np.array([1 if x > eps else (-1 if x < -eps else 0) for x in arr])\n",
    "    \n",
    "Y_dev = to_integer(Y_dev) #Y_dev > 0\n",
    "Y_train = to_integer(Y_train)\n",
    "X_dev = X_dev[Y_dev != 0]\n",
    "X_train = X_train[Y_train != 0]\n",
    "Y_dev = Y_dev[Y_dev != 0]\n",
    "Y_train = Y_train[Y_train != 0]\n",
    "\n",
    "tsne_by_gender(X_dev, Y_dev, title = \"before\")\n",
    "X_dev_cleaned = X_dev.dot(P)\n",
    "X_test_cleaned = X_test.dot(P)\n",
    "X_trained_cleaned = X_train.dot(P)\n",
    "#all_biased_cleaned = all_significantly_biased_vecs.dot(P)\n",
    "\n",
    "tsne_projection = tsne_by_gender(X_dev_cleaned, Y_dev, title = \"after\")\n",
    "\n",
    "#tsne_projection = tsne_by_gender(all_biased_cleaned, all_significantly_biased_labels,title = \"after (all)\", words = all_significantly_biased_words)\n",
    "\n",
    "NUM_CLUSTERS = [2,10,25,100]\n",
    "\n",
    "print(\"CALCULATING BIAS BY CLUSTERING (WITH K-MENAS)\")\n",
    "for num_clusters in NUM_CLUSTERS:\n",
    "    print(\"NUM CLUSTERS = {}\".format(num_clusters))\n",
    "    purity_original = perform_purity_test(X_dev, k = num_clusters, labels_true = Y_dev)\n",
    "    purity_after = perform_purity_test(X_dev_cleaned, k = num_clusters, labels_true = Y_dev)\n",
    "    print(\"Purity in original space: {}\".format(purity_original))\n",
    "    print(\"Purity after debiasing projection: {}\".format(purity_after))"
   ]
  },
  {
   "cell_type": "code",
   "execution_count": null,
   "metadata": {},
   "outputs": [],
   "source": []
  },
  {
   "cell_type": "markdown",
   "metadata": {},
   "source": [
    "#### Train a nonlinear classifier for gender prediction."
   ]
  },
  {
   "cell_type": "code",
   "execution_count": null,
   "metadata": {},
   "outputs": [],
   "source": [
    "#nonlinear_clf = MLPClassifier(hidden_layer_sizes = 128, activation = \"relu\")\n",
    "nonlinear_clf = SVC(kernel = \"rbf\")\n",
    "#nonlinear_clf = SGDClassifier(loss = \"modified_huber\", verbose = 0, max_iter = 5000, fit_intercept = True, class_weight = \"balanced\", penalty = \"l2\")\n",
    "print(\"Before:\")\n",
    "nonlinear_clf.fit(X_train, Y_train)\n",
    "print(nonlinear_clf.score(X_dev, Y_dev))\n",
    "\n",
    "print(\"After, rbf-svm:\")\n",
    "nonlinear_clf = SVC(kernel = \"rbf\")\n",
    "\n",
    "nonlinear_clf.fit(X_trained_cleaned, Y_train)\n",
    "print(nonlinear_clf.score(X_dev_cleaned, Y_dev))\n",
    "\n",
    "print(\"After, mlp:\")\n",
    "nonlinear_clf = MLPClassifier(hidden_layer_sizes = 256, activation = \"relu\")\n",
    "\n",
    "nonlinear_clf.fit(X_trained_cleaned, Y_train)\n",
    "print(nonlinear_clf.score(X_dev_cleaned, Y_dev))"
   ]
  },
  {
   "cell_type": "markdown",
   "metadata": {},
   "source": [
    "#### project on the gender direction"
   ]
  },
  {
   "cell_type": "code",
   "execution_count": null,
   "metadata": {},
   "outputs": [],
   "source": [
    "masc_vecs_cleaned = masc_vecs.dot(P)\n",
    "fem_vecs_cleaned = fem_vecs.dot(P)\n",
    "\n",
    "print(\"masc-bias-before: {}\".format(masc_vecs.dot(gender_unit_vec).mean()))\n",
    "print(\"masc-bias-after: {}\".format(masc_vecs_cleaned.dot(gender_unit_vec).mean()))\n",
    "print(\"fem-bias-before: {}\".format(fem_vecs.dot(gender_unit_vec).mean()))\n",
    "print(\"fem-bias-after: {}\".format(fem_vecs_cleaned.dot(gender_unit_vec).mean()))      "
   ]
  },
  {
   "cell_type": "markdown",
   "metadata": {},
   "source": [
    "#### calculate the similarity matrix before and after"
   ]
  },
  {
   "cell_type": "code",
   "execution_count": 12,
   "metadata": {},
   "outputs": [],
   "source": [
    "\n",
    "def get_distance_matrix(vecs: np.ndarray):\n",
    "\n",
    "  distances = sklearn.metrics.pairwise_distances(vecs, vecs, metric=\"cosine\")\n",
    "  return distances\n",
    "\n",
    "def plot_distance(distance_before, distance_after):\n",
    "\n",
    "    idx = distance_before < 0.75 # we are only interested in the relatively close words\n",
    "\n",
    "    distance_before = distance_before.copy()[idx]\n",
    "    distance_after = distance_after.copy()[idx]\n",
    "    \n",
    "    chosen = np.random.rand(len(distance_before)) < 0.01\n",
    "    before = distance_before[chosen]\n",
    "    after = distance_after[chosen]\n",
    "    plt.plot(before, after, linestyle=\"None\", marker = \"*\", alpha = 0.1)\n",
    "    plt.xlabel(\"distnace before\")\n",
    "    plt.ylabel(\"distance after\")\n",
    "\n",
    "    plt.show()\n",
    "    print(\"Correlation: {}\".format(pearsonr(before, after)[0]))\n",
    "    \n",
    "def plot_similarity_change_vs_original_bias(bias_before, distance_before, distance_after):\n",
    "\n",
    "    K = 50\n",
    "    most_similar_idx_before = distance_before.argsort(axis = 0)[:K].T\n",
    "    most_similar_idx_after = distance_after.argsort(axis = 0)[:K].T\n",
    "    data = []\n",
    "    \n",
    "    for i, (bias, dis_before, dis_after) in enumerate(tqdm.tqdm(zip(bias_before, distance_before, distance_after), ascii = True, total = len(bias_before))):\n",
    "        \n",
    "        idx_before = set(most_similar_idx_before[i].tolist())\n",
    "        idx_after = set(most_similar_idx_after[i].tolist())\n",
    "        intersection = (most_similar_idx_before[i] == most_similar_idx_after[i]).sum() \n",
    "        intersection = idx_before.intersection(idx_after)\n",
    "        data.append((abs(bias), 1 - len(intersection)/K))\n",
    "        #data.append((abs(bias), 1 - intersection/K))\n",
    "        \n",
    "    plt.xlabel(\"change in similarity (% of of top-{}-similar that changed)\".format(K))\n",
    "    plt.ylabel(\"bias before\")\n",
    "    biases, sims = zip(*data)    \n",
    "    plt.plot(sims, biases, linestyle=\"None\", marker = \"*\", alpha = 0.1)\n",
    "\n",
    "    plt.show()\n",
    "    print(\"Correlation: {}\".format(pearsonr(biases, sims)[0]))"
   ]
  },
  {
   "cell_type": "markdown",
   "metadata": {},
   "source": [
    "#### Plot similarity before vs. similarity after, and change of similarity vs. bias before"
   ]
  },
  {
   "cell_type": "code",
   "execution_count": 13,
   "metadata": {
    "scrolled": true
   },
   "outputs": [
    {
     "data": {
      "image/png": "[encoded data removed]",
      "text/plain": [
       "<Figure size 432x288 with 1 Axes>"
      ]
     },
     "metadata": {
      "needs_background": "light"
     },
     "output_type": "display_data"
    },
    {
     "name": "stdout",
     "output_type": "stream",
     "text": [
      "Correlation: 0.9079231735896333\n"
     ]
    },
    {
     "name": "stderr",
     "output_type": "stream",
     "text": [
      "100%|##########| 4060/4060 [00:00<00:00, 66340.23it/s]\n"
     ]
    },
    {
     "data": {
      "image/png": "[encoded data removed]",
      "text/plain": [
       "<Figure size 432x288 with 1 Axes>"
      ]
     },
     "metadata": {
      "needs_background": "light"
     },
     "output_type": "display_data"
    },
    {
     "name": "stdout",
     "output_type": "stream",
     "text": [
      "Correlation: 0.23100653214487069\n"
     ]
    },
    {
     "data": {
      "image/png": "[encoded data removed]",
      "text/plain": [
       "<Figure size 432x288 with 1 Axes>"
      ]
     },
     "metadata": {
      "needs_background": "light"
     },
     "output_type": "display_data"
    },
    {
     "data": {
      "image/png": "[encoded data removed]",
      "text/plain": [
       "<Figure size 432x288 with 1 Axes>"
      ]
     },
     "metadata": {
      "needs_background": "light"
     },
     "output_type": "display_data"
    }
   ],
   "source": [
    "prop = 0.04\n",
    "idx = np.random.rand(vecs.shape[0]) < prop\n",
    "vecs_sample = vecs[idx]\n",
    "words_sample = np.array(words, dtype = \"object\")[idx]\n",
    "\n",
    "vecs_sample_cleaned = vecs_sample.dot(P)\n",
    "\n",
    "distance_before = get_distance_matrix(vecs_sample)\n",
    "distance_after = get_distance_matrix(vecs_sample_cleaned)\n",
    "\n",
    "gender_unit_vec = gender_direction/np.linalg.norm(gender_direction)\n",
    "sample_normalized = vecs_sample/np.linalg.norm(vecs_sample, axis = 1, keepdims = True)\n",
    "sample_cleaned_normalized = vecs_sample_cleaned/np.linalg.norm(vecs_sample_cleaned, axis = 1, keepdims = True)\n",
    "\n",
    "bias_before = sklearn.metrics.pairwise.cosine_similarity(np.expand_dims(gender_direction, 0), vecs_sample)[0] #sample_normalized.dot(gender_unit_vec)\n",
    "bias_after = sklearn.metrics.pairwise.cosine_similarity(np.expand_dims(gender_direction, 0), vecs_sample_cleaned)[0] #sample_normalized.dot(gender_unit_vec)\n",
    "\n",
    "plot_distance(distance_before.reshape(-1), distance_after.reshape(-1))\n",
    "plot_similarity_change_vs_original_bias(bias_before, distance_before, distance_after)\n",
    "\n",
    "# plot bias histograms before and after\n",
    "\n",
    "# all vecs\n",
    "\n",
    "plt.hist(bias_before, bins = 25, label = \"bias scores distribution, before\", alpha = 0.3, density = True)\n",
    "plt.hist(bias_after, bins = 25, label = \"bias scores distribution, after\", alpha = 0.3, density = True)\n",
    "plt.legend()\n",
    "plt.title(\"bias histogram, all vecs\")\n",
    "plt.show()\n",
    "\n",
    "# most originally biased (dev set)\n",
    "\n",
    "bias_before_dev = sklearn.metrics.pairwise.cosine_similarity(np.expand_dims(gender_direction, 0), X_dev)[0]\n",
    "bias_after_dev = sklearn.metrics.pairwise.cosine_similarity(np.expand_dims(gender_direction, 0), X_dev.dot(P))[0]\n",
    "\n",
    "plt.hist(bias_before_dev, bins = 35, label = \"bias scores distribution, before\", alpha = 0.3, density = True)\n",
    "plt.hist(bias_after_dev, bins = 35, label = \"bias scores distribution, after\", alpha = 0.3, density = True)\n",
    "plt.legend()\n",
    "plt.title(\"bias histogram, dev set (most biased originally)\")\n",
    "plt.show()\n"
   ]
  },
  {
   "cell_type": "code",
   "execution_count": 29,
   "metadata": {},
   "outputs": [
    {
     "name": "stderr",
     "output_type": "stream",
     "text": [
      "100000it [00:26, 3830.79it/s]\n",
      "INFO:gensim.models.utils_any2vec:loading projection weights from ../data/embeddings/vecs.50k.cleaned.txt\n",
      "INFO:gensim.models.utils_any2vec:loaded (100000, 300) matrix from ../data/embeddings/vecs.50k.cleaned.txt\n",
      "299567it [01:22, 3647.22it/s]\n",
      "INFO:gensim.models.utils_any2vec:loading projection weights from ../data/embeddings/all.cleaned.txt\n",
      "INFO:gensim.models.utils_any2vec:loaded (299567, 300) matrix from ../data/embeddings/all.cleaned.txt\n"
     ]
    }
   ],
   "source": [
    "vecs_cleaned = vecs.dot(P)\n",
    "save_in_word2vec_format(vecs_cleaned, words, \"../data/embeddings/vecs.50k.cleaned.txt\")\n",
    "model_cleaned, _, _ = load_word_vectors(fname = \"../data/embeddings/vecs.50k.cleaned.txt\")\n",
    "\n",
    "all_cleaned = model_all.wv.vectors.dot(P)\n",
    "#print(all_cleaned.shape, len(list(model_all.wv.vocab.keys())))\n",
    "save_in_word2vec_format(all_cleaned, list(model_all.wv.vocab.keys()), \"../data/embeddings/all.cleaned.txt\")\n",
    "model_all_cleaned, _, _ = load_word_vectors(fname = \"../data/embeddings/all.cleaned.txt\")\n"
   ]
  },
  {
   "cell_type": "markdown",
   "metadata": {},
   "source": [
    "#### calcualte the similarity of female-stereotyped words to 'girlish', before and after"
   ]
  },
  {
   "cell_type": "code",
   "execution_count": 30,
   "metadata": {},
   "outputs": [
    {
     "name": "stdout",
     "output_type": "stream",
     "text": [
      "Similarity of female-stereotyped words to 'girlish' before: 0.2473410964012146; similarity after: 0.08147314190864563\n"
     ]
    }
   ],
   "source": [
    "\n",
    "w = \"girlish\"\n",
    "k = 200\n",
    "\n",
    "random_fem_words = np.random.choice(fem_words, size = k)\n",
    "sim_to_girlish_before = [model.similarity(w,w2) for w2 in random_fem_words]\n",
    "sim_to_girlish_after = [model_cleaned.similarity(w,w2) for w2 in random_fem_words]\n",
    "\n",
    "print(\"Similarity of female-stereotyped words to 'girlish' before: {}; similarity after: {}\".format(np.mean(sim_to_girlish_before), np.mean(sim_to_girlish_after)))\n"
   ]
  },
  {
   "cell_type": "markdown",
   "metadata": {},
   "source": [
    "### Calcualte bias-by-clustering"
   ]
  },
  {
   "cell_type": "code",
   "execution_count": 31,
   "metadata": {},
   "outputs": [],
   "source": [
    "def numerical_bias_by_clustering(model_before, model_after, masc_words, fem_words, k):\n",
    "    \n",
    "    scores_before, scores_after = [], []\n",
    "    all_biased = masc_words.union(fem_words)\n",
    "    \n",
    "    for w in all_biased:\n",
    "        \n",
    "        most_similar_before = model_before.most_similar(w, topn = k)\n",
    "        most_similar_before, _ = zip(*most_similar_before)\n",
    "\n",
    "        most_similar_after = model_after.most_similar(w, topn = k)\n",
    "        most_similar_after, _ = zip(*most_similar_after)\n",
    "        \n",
    "        neighbors_biased_before = len([w for w in most_similar_before if w in all_biased])\n",
    "        neighbors_biased_after = len([w for w in most_similar_after if w in all_biased])\n",
    "        scores_before.append(neighbors_biased_before)\n",
    "        scores_after.append(neighbors_biased_after)\n",
    "    print(\"avg. number of biased neighbors before: {}; after: {}\".format(np.mean(scores_before), np.mean(scores_after)))\n",
    "    \n",
    "    \n",
    "    \n",
    "    "
   ]
  },
  {
   "cell_type": "code",
   "execution_count": 32,
   "metadata": {},
   "outputs": [],
   "source": [
    "#numerical_bias_by_clustering(model, model_cleaned, set(masc_words), set(fem_words), k = 1000)"
   ]
  },
  {
   "cell_type": "markdown",
   "metadata": {},
   "source": [
    "#### print the most similar words to random words before and after (to make sure we didn't damage the space too much)"
   ]
  },
  {
   "cell_type": "code",
   "execution_count": 33,
   "metadata": {},
   "outputs": [
    {
     "name": "stderr",
     "output_type": "stream",
     "text": [
      "INFO:gensim.models.keyedvectors:precomputing L2-norms of word weight vectors\n"
     ]
    },
    {
     "name": "stdout",
     "output_type": "stream",
     "text": [
      "w: tο_thе\n",
      " most-similar-before: ('thе', 'οf_thе', 'аn_ԁ_thе', 'іt', 'οn_thе', 'аn_ԁ', 'аnd', 'tο')\n",
      " most-similar-after: ('thе', 'οf_thе', 'аn_ԁ_thе', 'thеіr', 'аnd', 'tο', 'іn_thе', 'fοr_thе')\n",
      "----------------------------------\n",
      "w: river_otters\n",
      " most-similar-before: ('otters', 'river_otter', 'bald_eagles', 'great_blue_herons', 'otter', 'sandhill_crane', 'blue_herons', 'snapping_turtles')\n",
      " most-similar-after: ('otters', 'river_otter', 'bald_eagles', 'trumpeter_swans', 'great_blue_herons', 'otter', 'herons', 'black_footed_ferret')\n",
      "----------------------------------\n",
      "w: sacrifice_flies\n",
      " most-similar-before: ('sacrifice_fly', 'solo_homers', 'sac_fly', 'solo_homer', 'bases_loaded_walk', 'bloop_singles', 'basehit', 'belted_solo_homer')\n",
      " most-similar-after: ('sacrifice_fly', 'solo_homers', 'sac_fly', 'belted_solo_homer', 'bloop_singles', 'solo_homer', 'basehit', 'inning')\n",
      "----------------------------------\n",
      "w: integrations\n",
      " most-similar-before: ('integration', 'implementations', 'tightly_integrated', 'customizations', 'functionality', 'toolsets', 'workflows', 'functionalities')\n",
      " most-similar-after: ('integration', 'implementations', 'tightly_integrated', 'functionality', 'workflows', 'customizations', 'functionalities', 'automated_workflows')\n",
      "----------------------------------\n",
      "w: marble\n",
      " most-similar-before: ('granite', 'stone', 'travertine', 'limestone', 'marble_flooring', 'alabaster', 'terracotta', 'mosaic_tiles')\n",
      " most-similar-after: ('granite', 'limestone', 'stone', 'travertine', 'mosaic_tiles', 'marble_flooring', 'tile', 'ceramic_tile')\n",
      "----------------------------------\n",
      "w: assailing\n",
      " most-similar-before: ('deriding', 'denouncing', 'assail', 'criticizing', 'lambasting', 'assailed', 'decrying', 'castigating')\n",
      " most-similar-after: ('deriding', 'assailed', 'lambasting', 'denouncing', 'assail', 'criticizing', 'decrying', 'ridiculing')\n",
      "----------------------------------\n",
      "w: multipliers\n",
      " most-similar-before: ('multiplier', 'powerups', 'coefficients', 'modifiers', 'econometric_models', 'integers', 'variables', 'multiplier_effect')\n",
      " most-similar-after: ('multiplier', 'powerups', 'multiples', 'payline', 'probabilities', 'variables', 'modifiers', 'coefficients')\n",
      "----------------------------------\n",
      "w: cashless_society\n",
      " most-similar-before: ('cashless', 'contactless_payment', 'paperless', 'contactless_cards', 'contactless', 'debit_cards', 'prepaid_cards', 'micropayments')\n",
      " most-similar-after: ('cashless', 'contactless_payment', 'contactless', 'paperless', 'micropayments', 'contactless_cards', 'branchless_banking', 'contactless_smart')\n",
      "----------------------------------\n",
      "w: bamboo_poles\n",
      " most-similar-before: ('bamboo_sticks', 'wooden_poles', 'bamboos', 'tree_trunks', 'wooden_sticks', 'bamboo', 'wooden_planks', 'metal_rods')\n",
      " most-similar-after: ('bamboo_sticks', 'wooden_sticks', 'wooden_poles', 'metal_rods', 'wooden_planks', 'bamboos', 'rope', 'bamboo')\n",
      "----------------------------------\n",
      "w: lefthander\n",
      " most-similar-before: ('righthander', 'right_hander', 'righty', 'hander', 'lefty', 'southpaw', 'hurler', 'fireballer')\n",
      " most-similar-after: ('righthander', 'right_hander', 'righty', 'hander', 'lefty', 'hurler', 'southpaw', 'fireballer')\n",
      "----------------------------------\n",
      "w: steered\n",
      " most-similar-before: ('steer', 'steers', 'maneuvered', 'navigated', 'shepherded', 'drifted', 'steering', 'nudged')\n",
      " most-similar-after: ('steer', 'steers', 'maneuvered', 'shepherded', 'navigated', 'drifted', 'steering', 'glided')\n",
      "----------------------------------\n",
      "w: mass_spectrometers\n",
      " most-similar-before: ('mass_spectrometer', 'mass_spectrometry', 'ion_trap', 'spectrometers', 'benchtop', 'spectrometry', 'microfluidics', 'electrophoresis')\n",
      " most-similar-after: ('mass_spectrometer', 'mass_spectrometry', 'ion_trap', 'spectrometers', 'microfluidics', 'electrophoresis', 'pipettes', 'microfluidic')\n",
      "----------------------------------\n",
      "w: steep_cliffs\n",
      " most-similar-before: ('cliffs', 'sheer_cliffs', 'rocky_cliffs', 'limestone_cliffs', 'sandstone_cliffs', 'boulder_strewn', 'crags', 'rocky_outcrops')\n",
      " most-similar-after: ('cliffs', 'sheer_cliffs', 'rocky_cliffs', 'cliff', 'limestone_cliffs', 'rocky_slope', 'sandstone_cliffs', 'steep_slopes')\n",
      "----------------------------------\n",
      "w: modified\n",
      " most-similar-before: ('altered', 'modifying', 'tweaked', 'reworked', 'modify', 'modifies', 'modification', 'modifications')\n",
      " most-similar-after: ('tweaked', 'altered', 'modifying', 'reworked', 'modifies', 'modify', 'modification', 'rewritten')\n",
      "----------------------------------\n",
      "w: allot\n",
      " most-similar-before: ('allotting', 'allotted', 'allocate', 'alloted', 'allots', 'allotment', 'allocated', 'allocating')\n",
      " most-similar-after: ('allotting', 'allotted', 'alloted', 'allocate', 'allots', 'allotment', 'allocating', 'allocated')\n",
      "----------------------------------\n",
      "w: sea_cucumber\n",
      " most-similar-before: ('sea_cucumbers', 'cuttlefish', 'seaweeds', 'squid', 'shrimps', 'puffer_fish', 'sea_urchin', 'crustaceans')\n",
      " most-similar-after: ('sea_cucumbers', 'seaweeds', 'sago', 'squid', 'eel', 'cuttlefish', 'seaweed', 'bangus')\n",
      "----------------------------------\n",
      "w: joists\n",
      " most-similar-before: ('floor_joists', 'joist', 'trusses', 'subfloor', 'roof_trusses', 'timbers', 'soffit', 'wooden_beams')\n",
      " most-similar-after: ('floor_joists', 'joist', 'trusses', 'subfloor', 'roof_trusses', 'timbers', 'underlayment', 'soffit')\n",
      "----------------------------------\n",
      "w: loneliness\n",
      " most-similar-before: ('aloneness', 'boredom', 'emptiness', 'lonely', 'hopelessness', 'melancholy', 'homesickness', 'ennui')\n",
      " most-similar-after: ('aloneness', 'boredom', 'emptiness', 'heartbreak', 'melancholy', 'despair', 'rootlessness', 'hopelessness')\n",
      "----------------------------------\n",
      "w: everbody\n",
      " most-similar-before: ('everybody', 'everyone', 'eveyone', 'anybody', 'somebody', 'nobody', 'noone', 'me')\n",
      " most-similar-after: ('everybody', 'everyone', 'eveyone', 'anybody', 'really', 'alot', 'somebody', 'noone')\n",
      "----------------------------------\n",
      "w: rendered_useless\n",
      " most-similar-before: ('unusable', 'useless', 'rendered_obsolete', 'rendered_unusable', 'inoperative', 'inoperable', 'obsolete', 'discarded')\n",
      " most-similar-after: ('useless', 'rendered_obsolete', 'rendered_unusable', 'unusable', 'inoperative', 'inoperable', 'replaced', 'immobilized')\n",
      "----------------------------------\n",
      "w: jaw_droppingly\n",
      " most-similar-before: ('mind_blowingly', 'awesomely', 'breathtakingly', 'outrageously', 'shockingly', 'indescribably', 'insanely', 'ridiculously')\n",
      " most-similar-after: ('awesomely', 'mind_blowingly', 'shockingly', 'staggeringly', 'mind_numbingly', 'breathtakingly', 'outrageously', 'mind_bogglingly')\n",
      "----------------------------------\n",
      "w: twirler\n",
      " most-similar-before: ('majorette', 'twirlers', 'twirling', 'hurler', 'baton_twirling', 'twirl', 'dancer', 'gymnast')\n",
      " most-similar-after: ('twirlers', 'majorette', 'majorettes', 'twirling', 'baton_twirling', 'juggler', 'dancer', 'twirl')\n",
      "----------------------------------\n",
      "w: fri\n",
      " most-similar-before: ('sunday', 'ure', 'nite', 'ts', 'ds', 'tuesday', 'wi', 'vic')\n",
      " most-similar-after: ('sunday', 'ure', 'xmas', 'nite', 'thx', 'saturday', 'ts', 'i_cant')\n",
      "----------------------------------\n",
      "w: worshiping\n",
      " most-similar-before: ('worshiped', 'worship', 'worships', 'revering', 'deity', 'idol_worship', 'worshipers', 'despising')\n",
      " most-similar-after: ('worship', 'worshiped', 'worships', 'idol_worship', 'preaching', 'god', 'worshipers', 'pray')\n",
      "----------------------------------\n",
      "w: carded\n",
      " most-similar-before: ('carding', 'medalist_honors', 'strokes_adrift', 'birdied', 'eagled', 'bogeyed', 'par', 'parred')\n",
      " most-similar-after: ('carding', 'medalist_honors', 'birdied', 'strokes_adrift', 'eagled', 'par', 'bogeyed', 'birdies')\n",
      "----------------------------------\n",
      "w: case\n",
      " most-similar-before: ('cases', 'prosecution', 'trial', 'arguments', 'allegation', 'argument', 'court', 'reheard')\n",
      " most-similar-after: ('cases', 'prosecution', 'trial', 'allegation', 'arguments', 'court', 'retrial', 'lawyers')\n",
      "----------------------------------\n",
      "w: flukey\n",
      " most-similar-before: ('fluky', 'lucky_bounces', 'fortuitous_bounce', 'unlucky', 'shin_pad', 'shorthanded_goal', 'empty_netters', 'shorthanded_marker')\n",
      " most-similar-after: ('fluky', 'lucky_bounces', 'fortuitous_bounce', 'shin_pad', 'empty_netters', 'ticky_tack', 'shorthanded', 'unlucky')\n",
      "----------------------------------\n",
      "w: whats\n",
      " most-similar-before: ('thats', 'dont', 'cant', 'lol', 'alot', 'i_dont', 'wtf', 'hahahaha')\n",
      " most-similar-after: ('thats', 'dont', 'lol', 'cant', 'whats_happening', 'alot', 'wtf', 'i_dont')\n",
      "----------------------------------\n",
      "w: greyhounds\n",
      " most-similar-before: ('greyhound', 'racing_greyhounds', 'racehorses', 'dogs', 'horses', 'thoroughbreds', 'puppies', 'equines')\n",
      " most-similar-after: ('greyhound', 'racing_greyhounds', 'racehorses', 'horses', 'dogs', 'thoroughbreds', 'animals', 'puppies')\n",
      "----------------------------------\n"
     ]
    },
    {
     "name": "stdout",
     "output_type": "stream",
     "text": [
      "w: minimally_conscious\n",
      " most-similar-before: ('vegetative', 'cognitively', 'epilepsy', 'aphasia', 'wakefulness', 'intubated', 'brain_stimulation', 'schizophrenia')\n",
      " most-similar-after: ('vegetative', 'infarction', 'intubated', 'epilepsy', 'feeding_tube', 'cognitive_function', 'comatose', 'bioethical')\n",
      "----------------------------------\n"
     ]
    }
   ],
   "source": [
    "words_chosen = np.random.choice(words , size = 30)\n",
    "topn = 8\n",
    "\n",
    "for w in words_chosen:\n",
    "    words_and_sims_before = model.most_similar(w, topn = topn)\n",
    "    words__and_sims_after = model_cleaned.most_similar(w, topn = topn)\n",
    "    words_before, _ = zip(*words_and_sims_before)\n",
    "    words_after, _ = zip(*words__and_sims_after)\n",
    "    print(\"w: {}\\n most-similar-before: {}\\n most-similar-after: {}\".format(w,words_before, words_after))\n",
    "    print(\"----------------------------------\")"
   ]
  },
  {
   "cell_type": "markdown",
   "metadata": {},
   "source": [
    "### bias by profession experiment"
   ]
  },
  {
   "cell_type": "code",
   "execution_count": 34,
   "metadata": {},
   "outputs": [],
   "source": [
    "def get_bias_by_neighbors(model, model_cleaned, gendered_words, v, gender_direction): \n",
    "    \n",
    "    neighbors = model_cleaned.similar_by_vector(v, topn=100) \n",
    "    neighbors_words = [n for n, _ in neighbors]\n",
    "    \n",
    "    #bias = len([n for n in neighbors_words if n in gendered_words])\n",
    "    bias = len([n for n in neighbors_words if model.cosine_similarities(model[n], [gender_direction])[0] > 0])\n",
    "    return bias\n",
    "\n",
    "def bias_by_profession(model, model_cleaned, gender_direction, P, masc_words):\n",
    "    \n",
    "    with codecs.open(\"../data/lists/professions.json\") as f:\n",
    "        professions_and_scores = json.load(f)\n",
    "\n",
    "    professions = [p[0] for p in professions_and_scores]\n",
    "    #print(professions)\n",
    "    professions = list(filter(lambda p: p in model.wv, professions))\n",
    "    vecs = np.array([model[p] for p in professions])\n",
    "    vecs_cleaned = vecs.dot(P)\n",
    "    bias_vals = np.array([model.cosine_similarities(gender_direction,vecs)])[0]\n",
    "    #bias_vals_after = np.array([model.cosine_similarities(gender_direction,vecs_cleaned)])[0]\n",
    "    bias_by_neighbors_after = np.array([get_bias_by_neighbors(model, model_cleaned, masc_words, v, gender_direction) for v in vecs_cleaned])\n",
    "    bias_by_neighbors_before = np.array([get_bias_by_neighbors(model, model, masc_words, v, gender_direction) for v in vecs])\n",
    "\n",
    "    #plt.ylim([np.min(bias_vals), np.max(bias_vals)])\n",
    "    plt.plot(bias_vals, bias_by_neighbors_after, marker = \"o\", linestyle = \"none\", color = \"red\", label = \"after\", alpha = 0.25)\n",
    "    plt.plot(bias_vals, bias_by_neighbors_before, marker = \"o\", linestyle = \"none\", color = \"blue\", label = \"before\", alpha = 0.25)\n",
    "    \n",
    "    word_idx_high = np.argsort(bias_vals)[:4] \n",
    "    word_idx_low = np.argsort(bias_vals)[-4:]\n",
    "    word_idx_middle_low = np.argsort(bias_vals)[-55:-51]\n",
    "    word_idx_middle_high = np.argsort(bias_vals)[51:55]\n",
    "    words_biased_fem = [professions[i] for i in word_idx_high]\n",
    "    words_biased_masc = [professions[i] for i in word_idx_low]\n",
    "    mid_low = [professions[i] for i in word_idx_middle_low]\n",
    "    mid_high = [professions[i] for i in word_idx_middle_high]\n",
    "    words = words_biased_masc + words_biased_fem + mid_low + mid_high\n",
    "    \n",
    "    for w in words:\n",
    "        i = professions.index(w)\n",
    "        x1,y1 = bias_vals[i],bias_by_neighbors_after[i]\n",
    "        plt.annotate(w , (x1,y1), size = 8, color = \"red\")\n",
    "        x2,y2 = bias_vals[i],bias_by_neighbors_before[i]\n",
    "        plt.annotate(w, (x2,y2), size = 8, color = \"blue\")\n",
    "        #plt.arrow(x2,y2,x1-x2,y1-y2, width = 0.0005)\n",
    "        \n",
    "    plt.legend()\n",
    "    plt.xlabel(\"bias-by-PROJECTION of the professions before\")\n",
    "    plt.ylabel(\"bias-by-NEIGHBORS\")\n",
    "    plt.title(\"projection bias before vs. neighbors bias before/after \\n(# neighbors closer to 'she' then 'he')\")\n",
    "    plt.show()\n",
    "    \n",
    "    print(\"Correlation before: {}, p-value: {}\".format(*pearsonr(bias_vals, bias_by_neighbors_before)))\n",
    "    print(\"Correlation after: {}, p-value: {}\".format(*pearsonr(bias_vals, bias_by_neighbors_after)))\n",
    "\n",
    "        "
   ]
  },
  {
   "cell_type": "code",
   "execution_count": 35,
   "metadata": {
    "scrolled": true
   },
   "outputs": [
    {
     "data": {
      "image/png": "[encoded data removed]",
      "text/plain": [
       "<Figure size 432x288 with 1 Axes>"
      ]
     },
     "metadata": {
      "needs_background": "light"
     },
     "output_type": "display_data"
    },
    {
     "name": "stdout",
     "output_type": "stream",
     "text": [
      "Correlation before: 0.749042777122776, p-value: 9.287417956637555e-56\n",
      "Correlation after: 0.5910391132642059, p-value: 6.296881021335575e-30\n"
     ]
    }
   ],
   "source": [
    "bias_by_profession(model, model_cleaned, gender_direction, P, fem_words_all)"
   ]
  },
  {
   "cell_type": "markdown",
   "metadata": {},
   "source": [
    "There is no bias-by-neighbors after (all vecs happend to have all neighbors having negative angle with the male direction, but this is arbitrary and irrelevant)"
   ]
  },
  {
   "cell_type": "code",
   "execution_count": 21,
   "metadata": {},
   "outputs": [
    {
     "data": {
      "text/plain": [
       "'\\nfor i, (w,v,l) in enumerate(zip(all_significantly_biased_words,all_biased_cleaned,\\n                               all_significantly_biased_labels)):\\n    \\n    neighbors = model_cleaned.similar_by_vector(v, topn = 6, restrict_vocab=None)[1:]\\n    print(w, neighbors)\\n    print(\"===========================================\")\\n '"
      ]
     },
     "execution_count": 21,
     "metadata": {},
     "output_type": "execute_result"
    }
   ],
   "source": [
    "\"\"\"\n",
    "for i, (w,v,l) in enumerate(zip(all_significantly_biased_words,all_biased_cleaned,\n",
    "                               all_significantly_biased_labels)):\n",
    "    \n",
    "    neighbors = model_cleaned.similar_by_vector(v, topn = 6, restrict_vocab=None)[1:]\n",
    "    print(w, neighbors)\n",
    "    print(\"===========================================\")\n",
    " \"\"\""
   ]
  },
  {
   "cell_type": "markdown",
   "metadata": {},
   "source": [
    "### word association tests"
   ]
  },
  {
   "cell_type": "code",
   "execution_count": 36,
   "metadata": {},
   "outputs": [],
   "source": [
    "# Auxiliary functions for experiments by Caliskan et al.\n",
    "\n",
    "import scipy\n",
    "import scipy.misc as misc\n",
    "import itertools\n",
    "\n",
    "\n",
    "def s_word(w, A, B, model, all_s_words):\n",
    "    \n",
    "    if w in all_s_words:\n",
    "        return all_s_words[w]\n",
    "    \n",
    "    mean_a = []\n",
    "    mean_b = []\n",
    "    \n",
    "    for a in A:\n",
    "        mean_a.append(model.similarity(w,a))\n",
    "    for b in B:\n",
    "        mean_b.append(model.similarity(w,b))\n",
    "        \n",
    "    mean_a = sum(mean_a)/float(len(mean_a))\n",
    "    mean_b = sum(mean_b)/float(len(mean_b))\n",
    "    \n",
    "    all_s_words[w] = mean_a - mean_b\n",
    "\n",
    "    return all_s_words[w]\n",
    "\n",
    "\n",
    "def s_group(X, Y, A, B, model, all_s_words):\n",
    "    \n",
    "    total = 0\n",
    "    for x in X:\n",
    "        x_sim = s_word(x, A, B, model, all_s_words)\n",
    "        total += x_sim\n",
    "    for y in Y:\n",
    "        y_sim =  s_word(y, A, B, model, all_s_words)\n",
    "        total -= y_sim\n",
    "    \n",
    "    #print(x_sim, y_sim)\n",
    "        \n",
    "    return total\n",
    "\n",
    "\n",
    "def p_value_exhust(X, Y, A, B, model):\n",
    "    \n",
    "    if len(X) > 10:\n",
    "        print ('might take too long, use sampled version: p_value')\n",
    "        return\n",
    "    \n",
    "    assert(len(X) == len(Y))\n",
    "    \n",
    "    all_s_words = {}\n",
    "    s_orig = s_group(X, Y, A, B, model, all_s_words)\n",
    "    #print(\"s-orig: {}\".format(s_orig))\n",
    "    \n",
    "    union = set(X+Y)\n",
    "    subset_size = int(len(union)/2)\n",
    "    \n",
    "    larger = 0\n",
    "    total = 0\n",
    "    #all_subs = set(itertools.combinations(union, subset_size))\n",
    "    #print(all_subs)\n",
    "    for subset in tqdm.tqdm(set(itertools.combinations(union, subset_size))):\n",
    "        total += 1\n",
    "        Xi = list(set(subset))\n",
    "        Yi = list(union - set(subset))\n",
    "        if s_group(Xi, Yi, A, B, model, all_s_words) > s_orig:\n",
    "            larger += 1\n",
    "    #print ('num of samples', total)\n",
    "    return larger/float(total)\n",
    "\n",
    "\n",
    "def p_value_sample(X, Y, A, B, model):\n",
    "    \n",
    "    random.seed(10)\n",
    "    np.random.seed(10)\n",
    "    all_s_words = {}\n",
    "    \n",
    "    assert(len(X) == len(Y))\n",
    "    length = len(X)\n",
    "    \n",
    "    s_orig = s_group(X, Y, A, B, model, all_s_words) \n",
    "    \n",
    "    num_of_samples = min(10000, int(scipy.special.comb(length*2,length)*100))\n",
    "    print ('num of samples', num_of_samples)\n",
    "    larger = 0\n",
    "    for i in range(num_of_samples):\n",
    "        permute = np.random.permutation(X+Y)\n",
    "        Xi = permute[:length]\n",
    "        Yi = permute[length:]\n",
    "        if s_group(Xi, Yi, A, B, model, all_s_words) > s_orig:\n",
    "            larger += 1\n",
    "    \n",
    "    return larger/float(num_of_samples)"
   ]
  },
  {
   "cell_type": "code",
   "execution_count": 37,
   "metadata": {},
   "outputs": [
    {
     "name": "stderr",
     "output_type": "stream",
     "text": [
      "100%|██████████| 12870/12870 [00:00<00:00, 154545.38it/s]\n",
      "100%|██████████| 12870/12870 [00:00<00:00, 158155.98it/s]\n",
      "100%|██████████| 12870/12870 [00:00<00:00, 157705.02it/s]"
     ]
    },
    {
     "name": "stdout",
     "output_type": "stream",
     "text": [
      "0.0\n",
      "0.007303807303807304\n",
      "0.35236985236985235\n"
     ]
    },
    {
     "name": "stderr",
     "output_type": "stream",
     "text": [
      "\n"
     ]
    }
   ],
   "source": [
    "# Experiment 1\n",
    "\n",
    "A = ['John', 'Paul', 'Mike', 'Kevin', 'Steve', 'Greg', 'Jeff', 'Bill']\n",
    "B = ['Amy', 'Joan', 'Lisa', 'Sarah', 'Diana', 'Kate', 'Ann', 'Donna']\n",
    "C = ['executive', 'management', 'professional', 'corporation', 'salary', 'office', 'business', 'career']\n",
    "D = ['home', 'parents', 'children', 'family', 'cousins', 'marriage', 'wedding', 'relatives']\n",
    "\n",
    "print (p_value_exhust(A, B, C, D, model_all_cleaned))\n",
    "\n",
    "# Experiment 2\n",
    "\n",
    "E = ['math', 'algebra', 'geometry', 'calculus', 'equations', 'computation', 'numbers', 'addition']\n",
    "F = ['poetry', 'art', 'dance', 'literature', 'novel', 'symphony', 'drama', 'sculpture']\n",
    "\n",
    "print (p_value_exhust(A, B, E, F, model_all_cleaned))\n",
    "\n",
    "\n",
    "# Experiment 3\n",
    "\n",
    "G = ['science', 'technology', 'physics', 'chemistry', 'einstein', 'nasa', 'experiment', 'astronomy']\n",
    "H = ['poetry', 'art', 'shakespeare', 'dance', 'literature', 'novel', 'symphony', 'drama']\n",
    "\n",
    "print (p_value_exhust(A, B, G, H, model_all_cleaned))"
   ]
  },
  {
   "cell_type": "code",
   "execution_count": 26,
   "metadata": {},
   "outputs": [
    {
     "name": "stdout",
     "output_type": "stream",
     "text": [
      "[[ True  True  True ...  True  True  True]\n",
      " [ True  True  True ...  True  True  True]\n",
      " [ True  True  True ...  True  True  True]\n",
      " ...\n",
      " [ True  True  True ...  True  True  True]\n",
      " [ True  True  True ...  True  True  True]\n",
      " [ True  True  True ...  True  True  True]]\n"
     ]
    }
   ],
   "source": [
    "print(np.isclose(P.dot(P), P))"
   ]
  },
  {
   "cell_type": "code",
   "execution_count": 23,
   "metadata": {},
   "outputs": [
    {
     "name": "stdout",
     "output_type": "stream",
     "text": [
      "[(0.9714093840425351, 0.9714093841509807), (0.008571484731702873, 0.008571485159723773), (-0.01603695905324047, -0.016036958774188273), (-0.0032453532287818948, -0.003245352939306736), (0.0021152424492933562, 0.0021152420448067493), (0.007215143239578546, 0.007215143602261925), (-0.005644411956999392, -0.005644411961692271), (-0.009208392964386964, -0.009208393078747499), (-0.008856267895057222, -0.00885626732257076), (-0.013841615832938664, -0.013841615894735117)]\n"
     ]
    }
   ],
   "source": [
    "    print(list(zip(P[0], P.dot(P)[0]))[:10])   "
   ]
  },
  {
   "cell_type": "code",
   "execution_count": null,
   "metadata": {},
   "outputs": [],
   "source": []
  }
 ],
 "metadata": {
  "kernelspec": {
   "display_name": "Python 3",
   "language": "python",
   "name": "python3"
  },
  "language_info": {
   "codemirror_mode": {
    "name": "ipython",
    "version": 3
   },
   "file_extension": ".py",
   "mimetype": "text/x-python",
   "name": "python",
   "nbconvert_exporter": "python",
   "pygments_lexer": "ipython3",
   "version": "3.6.9"
  }
 },
 "nbformat": 4,
 "nbformat_minor": 1
}
