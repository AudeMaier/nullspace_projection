{
 "cells": [
  {
   "cell_type": "code",
   "execution_count": 96,
   "metadata": {},
   "outputs": [],
   "source": [
    "import sys\n",
    "sys.path.append(\"../src\")\n",
    "sys.path.append(\"../data/embeddings\")\n",
    "import classifier\n",
    "import svm_classifier\n",
    "import debias\n",
    "import gensim\n",
    "from gensim.models.keyedvectors import Word2VecKeyedVectors\n",
    "from gensim.models import KeyedVectors\n",
    "import numpy as np\n",
    "import random\n",
    "import sklearn\n",
    "from sklearn import model_selection\n",
    "from sklearn import cluster\n",
    "from sklearn import metrics\n",
    "from sklearn.manifold import TSNE\n",
    "from sklearn.svm import LinearSVC, SVC\n",
    "from sklearn.neural_network import MLPClassifier\n",
    "from sklearn.metrics.pairwise import cosine_similarity\n",
    "import scipy\n",
    "from scipy import linalg\n",
    "from scipy.stats.stats import pearsonr\n",
    "import tqdm\n",
    "import matplotlib\n",
    "import matplotlib.pyplot as plt\n",
    "%matplotlib inline\n",
    "matplotlib.rcParams['agg.path.chunksize'] = 10000"
   ]
  },
  {
   "cell_type": "code",
   "execution_count": 2,
   "metadata": {},
   "outputs": [],
   "source": [
    "def tsne_by_gender(vecs, labels, title):\n",
    "\n",
    "  tsne = TSNE(n_components=2, random_state=0)\n",
    "  vecs_2d = tsne.fit_transform(vecs)\n",
    "\n",
    "  names = [\"class 1\", \"class 2\"]\n",
    "  plt.figure(figsize=(6, 5))\n",
    "  colors = 'r', 'b'\n",
    "  for i, c, label in zip(range(10), colors, names):\n",
    "    plt.scatter(vecs_2d[labels == i, 0], vecs_2d[labels == i, 1], c=c, label=label, alpha = 0.2)\n",
    "  plt.legend()\n",
    "  plt.title(title)\n",
    "  plt.show()\n",
    "  return vecs_2d"
   ]
  },
  {
   "cell_type": "markdown",
   "metadata": {},
   "source": [
    "### Data loading & processing"
   ]
  },
  {
   "cell_type": "code",
   "execution_count": 110,
   "metadata": {},
   "outputs": [],
   "source": [
    "def load_word_vectors(fname = \"../data/embeddings/vecs.filtered.txt\"):\n",
    "    \n",
    "    model = KeyedVectors.load_word2vec_format(fname, binary=False)\n",
    "    vecs = model.vectors\n",
    "    words = list(model.vocab.keys())\n",
    "    return model, vecs, words\n",
    "\n",
    "def project_on_gender_subspaces(gender_vector, model: Word2VecKeyedVectors):\n",
    "    \n",
    "    group1 = model.similar_by_vector(gender_vector, topn = 1500, restrict_vocab=None)\n",
    "    group2 = model.similar_by_vector(-gender_vector, topn = 1500, restrict_vocab=None)\n",
    "    \n",
    "    return group1, group2\n",
    "\n",
    "def get_vectors(word_list: list, model: Word2VecKeyedVectors):\n",
    "    \n",
    "    vecs = []\n",
    "    for w in word_list:\n",
    "        \n",
    "        vecs.append(model[w])\n",
    "    \n",
    "    vecs = np.array(vecs)\n",
    "    return vecs\n",
    "\n",
    "\n",
    "def save_in_word2vec_format(vecs: np.ndarray, words: np.ndarray, fname: str):\n",
    "\n",
    "\n",
    "    with open(fname, \"w\", encoding = \"utf-8\") as f:\n",
    "\n",
    "        f.write(str(len(vecs)) + \" \" + \"300\" + \"\\n\")\n",
    "        for i, (v,w) in tqdm.tqdm(enumerate(zip(vecs, words))):\n",
    "\n",
    "            vec_as_str = \" \".join([str(x) for x in v])\n",
    "            f.write(w + \" \" + vec_as_str + \"\\n\")"
   ]
  },
  {
   "cell_type": "code",
   "execution_count": 111,
   "metadata": {},
   "outputs": [
    {
     "name": "stdout",
     "output_type": "stream",
     "text": [
      "('journeyman', 'elder_statesman', 'fellow_countryman', 'endeared_himself', 'cult_hero', 'journeymen', 'swashbuckling', 'distanced_himself', 'prodigal_son', 'tradeable', 'prides_himself', 'hero', 'heir_apparent', 'elder_statesmen', 'benching', 'successor', 'burly', 'serviceable', 'jnr', 'goatee', 'league', 'training_camp', 'maestro', 'legendary', 'positional')\n",
      "('revert', 'prorated', 'engineer', 'gamer', 'alignments', 'gut_feeling', 'helm', 'prognostications', 'whiz_kid', 'offseason')\n",
      "-------------------------\n",
      "('alumna', 'beautician', 'motherly', 'petite', 'comedienne', 'saleswoman', 'songstress', 'ditzy', 'mommies', 'lip_gloss', 'perky', 'girlish', 'homemaker', 'bra', 'femininity', 'chanteuse', 'mums', 'pregnant', 'vivacious', 'breastfeeding', 'registered_nurse', 'catty', 'seamstress', 'tiara', 'spinster')\n",
      "('fashionably', 'districtwide', 'pubic_hair', 'intern', 'gluten_free', 'scarves', 'scents', 'chastity', 'ear_infections', 'preterm_birth')\n"
     ]
    }
   ],
   "source": [
    "model, vecs, words = load_word_vectors(fname = \"../data/embeddings/vecs.filtered.txt\")\n",
    "model_gendered, _, _ = load_word_vectors(fname = \"../data/embeddings/vecs.gendered.txt\")\n",
    "gender_direction = model_gendered[\"he\"] - model_gendered[\"she\"]\n",
    "gender_unit_vec = gender_direction/np.linalg.norm(gender_direction)\n",
    "\n",
    "#gender_direction = model_gendered[\"he\"] + model_gendered[\"man\"] + model_gendered[\"boy\"] + model_gendered[\"him\"] - (model_gendered[\"she\"] + model_gendered[\"woman\"] + model_gendered[\"girl\"] + model_gendered[\"her\"])\n",
    "\n",
    "masc_words_and_scores, fem_words_and_scores = project_on_gender_subspaces(gender_direction, model)\n",
    "masc_words, masc_scores = list(zip(*masc_words_and_scores))\n",
    "fem_words, fem_scores = list(zip(*fem_words_and_scores))\n",
    "\n",
    "masc_vecs, fem_vecs = get_vectors(masc_words, model), get_vectors(fem_words, model)\n",
    "\n",
    "print(masc_words[:25])\n",
    "print(masc_words[-10:])\n",
    "print(\"-------------------------\")\n",
    "print(fem_words[:25])\n",
    "print(fem_words[-10:])"
   ]
  },
  {
   "cell_type": "markdown",
   "metadata": {},
   "source": [
    "### Perform train-dev-test split"
   ]
  },
  {
   "cell_type": "code",
   "execution_count": 113,
   "metadata": {},
   "outputs": [
    {
     "name": "stdout",
     "output_type": "stream",
     "text": [
      "Train size: 1260; Dev size: 540; Test size: 1200\n"
     ]
    }
   ],
   "source": [
    "X = np.concatenate((masc_vecs, fem_vecs), axis = 0)\n",
    "y_masc = np.zeros(masc_vecs.shape[0], dtype = int)\n",
    "y_fem = np.ones(fem_vecs.shape[0], dtype = int)\n",
    "y = np.concatenate((y_masc, y_fem))\n",
    "X_train_dev, X_test, y_train_dev, y_test = sklearn.model_selection.train_test_split(X, y, test_size = 0.4, random_state = 0)\n",
    "X_train, X_dev, Y_train, Y_dev = sklearn.model_selection.train_test_split(X_train_dev, y_train_dev, test_size = 0.3, random_state = 0)\n",
    "print(\"Train size: {}; Dev size: {}; Test size: {}\".format(X_train.shape[0], X_dev.shape[0], X_test.shape[0]))"
   ]
  },
  {
   "cell_type": "markdown",
   "metadata": {},
   "source": [
    "### Debias"
   ]
  },
  {
   "cell_type": "code",
   "execution_count": 114,
   "metadata": {
    "scrolled": true
   },
   "outputs": [
    {
     "name": "stdout",
     "output_type": "stream",
     "text": [
      "Iteration 0, Accuracy: 1.0\n",
      "Iteration 1, Accuracy: 0.8907407407407407\n",
      "Iteration 2, Accuracy: 0.8722222222222222\n",
      "Iteration 3, Accuracy: 0.8185185185185185\n",
      "Iteration 4, Accuracy: 0.7851851851851852\n",
      "Iteration 5, Accuracy: 0.7166666666666667\n",
      "Iteration 6, Accuracy: 0.6796296296296296\n",
      "Iteration 7, Accuracy: 0.6666666666666666\n",
      "Iteration 8, Accuracy: 0.6425925925925926\n",
      "Iteration 9, Accuracy: 0.587037037037037\n",
      "Iteration 10, Accuracy: 0.5851851851851851\n",
      "Iteration 11, Accuracy: 0.5833333333333334\n",
      "Iteration 12, Accuracy: 0.5537037037037037\n",
      "Iteration 13, Accuracy: 0.5481481481481482\n",
      "Iteration 14, Accuracy: 0.5462962962962963\n",
      "Iteration 15, Accuracy: 0.5537037037037037\n",
      "Iteration 16, Accuracy: 0.5722222222222222\n",
      "Iteration 17, Accuracy: 0.5666666666666667\n",
      "Iteration 18, Accuracy: 0.5574074074074075\n",
      "Iteration 19, Accuracy: 0.5722222222222222\n",
      "Iteration 20, Accuracy: 0.5648148148148148\n",
      "Iteration 21, Accuracy: 0.5444444444444444\n",
      "Iteration 22, Accuracy: 0.5574074074074075\n",
      "Iteration 23, Accuracy: 0.5555555555555556\n",
      "Iteration 24, Accuracy: 0.524074074074074\n",
      "Iteration 25, Accuracy: 0.5277777777777778\n",
      "Iteration 26, Accuracy: 0.5259259259259259\n",
      "Iteration 27, Accuracy: 0.5074074074074074\n",
      "Iteration 28, Accuracy: 0.49074074074074076\n",
      "Iteration 29, Accuracy: 0.49074074074074076\n",
      "Iteration 30, Accuracy: 0.49074074074074076\n",
      "Iteration 31, Accuracy: 0.49074074074074076\n",
      "Iteration 32, Accuracy: 0.49074074074074076\n",
      "Iteration 33, Accuracy: 0.49074074074074076\n",
      "Iteration 34, Accuracy: 0.49074074074074076\n",
      "Iteration 35, Accuracy: 0.49074074074074076\n",
      "Iteration 36, Accuracy: 0.49074074074074076\n",
      "Iteration 37, Accuracy: 0.49074074074074076\n",
      "Iteration 38, Accuracy: 0.49074074074074076\n",
      "Iteration 39, Accuracy: 0.49074074074074076\n"
     ]
    }
   ],
   "source": [
    "classifier_class = svm_classifier.SVMClassifier\n",
    "num_classifiers = 40\n",
    "input_dim = 300\n",
    "is_autoregressive = True\n",
    "min_accuracy = 0.5\n",
    "add_noise = False\n",
    "random_projection = False\n",
    "\n",
    "P = debias.get_debiasing_projection(classifier_class, num_classifiers, input_dim, \n",
    "                                    is_autoregressive, min_accuracy, X_train, Y_train,\n",
    "                                    X_dev, Y_dev, add_noise, random_projection)"
   ]
  },
  {
   "cell_type": "markdown",
   "metadata": {},
   "source": [
    "### Test the quality of the debiasing."
   ]
  },
  {
   "cell_type": "markdown",
   "metadata": {},
   "source": [
    "#### Perform t-sne"
   ]
  },
  {
   "cell_type": "code",
   "execution_count": 115,
   "metadata": {},
   "outputs": [
    {
     "data": {
      "image/png": "[encoded data removed]",
      "text/plain": [
       "<Figure size 432x360 with 1 Axes>"
      ]
     },
     "metadata": {
      "needs_background": "light"
     },
     "output_type": "display_data"
    },
    {
     "data": {
      "image/png": "[encoded data removed]",
      "text/plain": [
       "<Figure size 432x360 with 1 Axes>"
      ]
     },
     "metadata": {
      "needs_background": "light"
     },
     "output_type": "display_data"
    },
    {
     "name": "stderr",
     "output_type": "stream",
     "text": [
      "/home/shauli/miniconda3/envs/py36/lib/python3.6/site-packages/sklearn/metrics/pairwise.py:258: RuntimeWarning: invalid value encountered in sqrt\n",
      "  return distances if squared else np.sqrt(distances, out=distances)\n",
      "/home/shauli/miniconda3/envs/py36/lib/python3.6/site-packages/sklearn/metrics/pairwise.py:258: RuntimeWarning: invalid value encountered in sqrt\n",
      "  return distances if squared else np.sqrt(distances, out=distances)\n",
      "/home/shauli/miniconda3/envs/py36/lib/python3.6/site-packages/sklearn/metrics/pairwise.py:258: RuntimeWarning: invalid value encountered in sqrt\n",
      "  return distances if squared else np.sqrt(distances, out=distances)\n",
      "/home/shauli/miniconda3/envs/py36/lib/python3.6/site-packages/sklearn/metrics/pairwise.py:258: RuntimeWarning: invalid value encountered in sqrt\n",
      "  return distances if squared else np.sqrt(distances, out=distances)\n",
      "/home/shauli/miniconda3/envs/py36/lib/python3.6/site-packages/sklearn/metrics/pairwise.py:258: RuntimeWarning: invalid value encountered in sqrt\n",
      "  return distances if squared else np.sqrt(distances, out=distances)\n",
      "/home/shauli/miniconda3/envs/py36/lib/python3.6/site-packages/sklearn/metrics/pairwise.py:258: RuntimeWarning: invalid value encountered in sqrt\n",
      "  return distances if squared else np.sqrt(distances, out=distances)\n",
      "/home/shauli/miniconda3/envs/py36/lib/python3.6/site-packages/sklearn/metrics/pairwise.py:258: RuntimeWarning: invalid value encountered in sqrt\n",
      "  return distances if squared else np.sqrt(distances, out=distances)\n",
      "/home/shauli/miniconda3/envs/py36/lib/python3.6/site-packages/sklearn/metrics/pairwise.py:258: RuntimeWarning: invalid value encountered in sqrt\n",
      "  return distances if squared else np.sqrt(distances, out=distances)\n",
      "/home/shauli/miniconda3/envs/py36/lib/python3.6/site-packages/sklearn/metrics/pairwise.py:258: RuntimeWarning: invalid value encountered in sqrt\n",
      "  return distances if squared else np.sqrt(distances, out=distances)\n",
      "/home/shauli/miniconda3/envs/py36/lib/python3.6/site-packages/sklearn/metrics/pairwise.py:258: RuntimeWarning: invalid value encountered in sqrt\n",
      "  return distances if squared else np.sqrt(distances, out=distances)\n",
      "/home/shauli/miniconda3/envs/py36/lib/python3.6/site-packages/sklearn/metrics/pairwise.py:258: RuntimeWarning: invalid value encountered in sqrt\n",
      "  return distances if squared else np.sqrt(distances, out=distances)\n",
      "/home/shauli/miniconda3/envs/py36/lib/python3.6/site-packages/sklearn/metrics/pairwise.py:258: RuntimeWarning: invalid value encountered in sqrt\n",
      "  return distances if squared else np.sqrt(distances, out=distances)\n",
      "/home/shauli/miniconda3/envs/py36/lib/python3.6/site-packages/sklearn/metrics/pairwise.py:258: RuntimeWarning: invalid value encountered in sqrt\n",
      "  return distances if squared else np.sqrt(distances, out=distances)\n",
      "/home/shauli/miniconda3/envs/py36/lib/python3.6/site-packages/sklearn/metrics/pairwise.py:258: RuntimeWarning: invalid value encountered in sqrt\n",
      "  return distances if squared else np.sqrt(distances, out=distances)\n",
      "/home/shauli/miniconda3/envs/py36/lib/python3.6/site-packages/sklearn/metrics/pairwise.py:258: RuntimeWarning: invalid value encountered in sqrt\n",
      "  return distances if squared else np.sqrt(distances, out=distances)\n",
      "/home/shauli/miniconda3/envs/py36/lib/python3.6/site-packages/sklearn/metrics/pairwise.py:258: RuntimeWarning: invalid value encountered in sqrt\n",
      "  return distances if squared else np.sqrt(distances, out=distances)\n",
      "/home/shauli/miniconda3/envs/py36/lib/python3.6/site-packages/sklearn/metrics/pairwise.py:258: RuntimeWarning: invalid value encountered in sqrt\n",
      "  return distances if squared else np.sqrt(distances, out=distances)\n",
      "/home/shauli/miniconda3/envs/py36/lib/python3.6/site-packages/sklearn/metrics/pairwise.py:258: RuntimeWarning: invalid value encountered in sqrt\n",
      "  return distances if squared else np.sqrt(distances, out=distances)\n",
      "/home/shauli/miniconda3/envs/py36/lib/python3.6/site-packages/sklearn/metrics/pairwise.py:258: RuntimeWarning: invalid value encountered in sqrt\n",
      "  return distances if squared else np.sqrt(distances, out=distances)\n",
      "/home/shauli/miniconda3/envs/py36/lib/python3.6/site-packages/sklearn/metrics/pairwise.py:258: RuntimeWarning: invalid value encountered in sqrt\n",
      "  return distances if squared else np.sqrt(distances, out=distances)\n",
      "/home/shauli/miniconda3/envs/py36/lib/python3.6/site-packages/sklearn/metrics/pairwise.py:258: RuntimeWarning: invalid value encountered in sqrt\n",
      "  return distances if squared else np.sqrt(distances, out=distances)\n",
      "/home/shauli/miniconda3/envs/py36/lib/python3.6/site-packages/sklearn/metrics/pairwise.py:258: RuntimeWarning: invalid value encountered in sqrt\n",
      "  return distances if squared else np.sqrt(distances, out=distances)\n",
      "/home/shauli/miniconda3/envs/py36/lib/python3.6/site-packages/sklearn/metrics/pairwise.py:258: RuntimeWarning: invalid value encountered in sqrt\n",
      "  return distances if squared else np.sqrt(distances, out=distances)\n",
      "/home/shauli/miniconda3/envs/py36/lib/python3.6/site-packages/sklearn/metrics/pairwise.py:258: RuntimeWarning: invalid value encountered in sqrt\n",
      "  return distances if squared else np.sqrt(distances, out=distances)\n",
      "/home/shauli/miniconda3/envs/py36/lib/python3.6/site-packages/sklearn/metrics/pairwise.py:258: RuntimeWarning: invalid value encountered in sqrt\n",
      "  return distances if squared else np.sqrt(distances, out=distances)\n",
      "/home/shauli/miniconda3/envs/py36/lib/python3.6/site-packages/sklearn/metrics/pairwise.py:258: RuntimeWarning: invalid value encountered in sqrt\n",
      "  return distances if squared else np.sqrt(distances, out=distances)\n",
      "/home/shauli/miniconda3/envs/py36/lib/python3.6/site-packages/sklearn/metrics/pairwise.py:258: RuntimeWarning: invalid value encountered in sqrt\n",
      "  return distances if squared else np.sqrt(distances, out=distances)\n",
      "/home/shauli/miniconda3/envs/py36/lib/python3.6/site-packages/sklearn/metrics/pairwise.py:258: RuntimeWarning: invalid value encountered in sqrt\n",
      "  return distances if squared else np.sqrt(distances, out=distances)\n",
      "/home/shauli/miniconda3/envs/py36/lib/python3.6/site-packages/sklearn/metrics/pairwise.py:258: RuntimeWarning: invalid value encountered in sqrt\n",
      "  return distances if squared else np.sqrt(distances, out=distances)\n",
      "/home/shauli/miniconda3/envs/py36/lib/python3.6/site-packages/sklearn/metrics/pairwise.py:258: RuntimeWarning: invalid value encountered in sqrt\n",
      "  return distances if squared else np.sqrt(distances, out=distances)\n",
      "/home/shauli/miniconda3/envs/py36/lib/python3.6/site-packages/sklearn/metrics/pairwise.py:258: RuntimeWarning: invalid value encountered in sqrt\n",
      "  return distances if squared else np.sqrt(distances, out=distances)\n",
      "/home/shauli/miniconda3/envs/py36/lib/python3.6/site-packages/sklearn/metrics/pairwise.py:258: RuntimeWarning: invalid value encountered in sqrt\n",
      "  return distances if squared else np.sqrt(distances, out=distances)\n",
      "/home/shauli/miniconda3/envs/py36/lib/python3.6/site-packages/sklearn/metrics/pairwise.py:258: RuntimeWarning: invalid value encountered in sqrt\n",
      "  return distances if squared else np.sqrt(distances, out=distances)\n",
      "/home/shauli/miniconda3/envs/py36/lib/python3.6/site-packages/sklearn/metrics/pairwise.py:258: RuntimeWarning: invalid value encountered in sqrt\n",
      "  return distances if squared else np.sqrt(distances, out=distances)\n",
      "/home/shauli/miniconda3/envs/py36/lib/python3.6/site-packages/sklearn/metrics/pairwise.py:258: RuntimeWarning: invalid value encountered in sqrt\n",
      "  return distances if squared else np.sqrt(distances, out=distances)\n",
      "/home/shauli/miniconda3/envs/py36/lib/python3.6/site-packages/sklearn/metrics/pairwise.py:258: RuntimeWarning: invalid value encountered in sqrt\n",
      "  return distances if squared else np.sqrt(distances, out=distances)\n",
      "/home/shauli/miniconda3/envs/py36/lib/python3.6/site-packages/sklearn/metrics/pairwise.py:258: RuntimeWarning: invalid value encountered in sqrt\n",
      "  return distances if squared else np.sqrt(distances, out=distances)\n",
      "/home/shauli/miniconda3/envs/py36/lib/python3.6/site-packages/sklearn/metrics/pairwise.py:258: RuntimeWarning: invalid value encountered in sqrt\n",
      "  return distances if squared else np.sqrt(distances, out=distances)\n",
      "/home/shauli/miniconda3/envs/py36/lib/python3.6/site-packages/sklearn/metrics/pairwise.py:258: RuntimeWarning: invalid value encountered in sqrt\n",
      "  return distances if squared else np.sqrt(distances, out=distances)\n",
      "/home/shauli/miniconda3/envs/py36/lib/python3.6/site-packages/sklearn/metrics/pairwise.py:258: RuntimeWarning: invalid value encountered in sqrt\n",
      "  return distances if squared else np.sqrt(distances, out=distances)\n",
      "/home/shauli/miniconda3/envs/py36/lib/python3.6/site-packages/sklearn/metrics/pairwise.py:258: RuntimeWarning: invalid value encountered in sqrt\n",
      "  return distances if squared else np.sqrt(distances, out=distances)\n",
      "/home/shauli/miniconda3/envs/py36/lib/python3.6/site-packages/sklearn/metrics/pairwise.py:258: RuntimeWarning: invalid value encountered in sqrt\n",
      "  return distances if squared else np.sqrt(distances, out=distances)\n",
      "/home/shauli/miniconda3/envs/py36/lib/python3.6/site-packages/sklearn/metrics/pairwise.py:258: RuntimeWarning: invalid value encountered in sqrt\n",
      "  return distances if squared else np.sqrt(distances, out=distances)\n",
      "/home/shauli/miniconda3/envs/py36/lib/python3.6/site-packages/sklearn/metrics/pairwise.py:258: RuntimeWarning: invalid value encountered in sqrt\n",
      "  return distances if squared else np.sqrt(distances, out=distances)\n",
      "/home/shauli/miniconda3/envs/py36/lib/python3.6/site-packages/sklearn/metrics/pairwise.py:258: RuntimeWarning: invalid value encountered in sqrt\n",
      "  return distances if squared else np.sqrt(distances, out=distances)\n"
     ]
    },
    {
     "name": "stderr",
     "output_type": "stream",
     "text": [
      "/home/shauli/miniconda3/envs/py36/lib/python3.6/site-packages/sklearn/metrics/pairwise.py:258: RuntimeWarning: invalid value encountered in sqrt\n",
      "  return distances if squared else np.sqrt(distances, out=distances)\n",
      "/home/shauli/miniconda3/envs/py36/lib/python3.6/site-packages/sklearn/metrics/pairwise.py:258: RuntimeWarning: invalid value encountered in sqrt\n",
      "  return distances if squared else np.sqrt(distances, out=distances)\n",
      "/home/shauli/miniconda3/envs/py36/lib/python3.6/site-packages/sklearn/metrics/pairwise.py:258: RuntimeWarning: invalid value encountered in sqrt\n",
      "  return distances if squared else np.sqrt(distances, out=distances)\n",
      "/home/shauli/miniconda3/envs/py36/lib/python3.6/site-packages/sklearn/metrics/pairwise.py:258: RuntimeWarning: invalid value encountered in sqrt\n",
      "  return distances if squared else np.sqrt(distances, out=distances)\n",
      "/home/shauli/miniconda3/envs/py36/lib/python3.6/site-packages/sklearn/metrics/pairwise.py:258: RuntimeWarning: invalid value encountered in sqrt\n",
      "  return distances if squared else np.sqrt(distances, out=distances)\n",
      "/home/shauli/miniconda3/envs/py36/lib/python3.6/site-packages/sklearn/metrics/pairwise.py:258: RuntimeWarning: invalid value encountered in sqrt\n",
      "  return distances if squared else np.sqrt(distances, out=distances)\n",
      "/home/shauli/miniconda3/envs/py36/lib/python3.6/site-packages/sklearn/metrics/pairwise.py:258: RuntimeWarning: invalid value encountered in sqrt\n",
      "  return distances if squared else np.sqrt(distances, out=distances)\n",
      "/home/shauli/miniconda3/envs/py36/lib/python3.6/site-packages/sklearn/metrics/pairwise.py:258: RuntimeWarning: invalid value encountered in sqrt\n",
      "  return distances if squared else np.sqrt(distances, out=distances)\n",
      "/home/shauli/miniconda3/envs/py36/lib/python3.6/site-packages/sklearn/metrics/pairwise.py:258: RuntimeWarning: invalid value encountered in sqrt\n",
      "  return distances if squared else np.sqrt(distances, out=distances)\n",
      "/home/shauli/miniconda3/envs/py36/lib/python3.6/site-packages/sklearn/metrics/pairwise.py:258: RuntimeWarning: invalid value encountered in sqrt\n",
      "  return distances if squared else np.sqrt(distances, out=distances)\n",
      "/home/shauli/miniconda3/envs/py36/lib/python3.6/site-packages/sklearn/metrics/pairwise.py:258: RuntimeWarning: invalid value encountered in sqrt\n",
      "  return distances if squared else np.sqrt(distances, out=distances)\n",
      "/home/shauli/miniconda3/envs/py36/lib/python3.6/site-packages/sklearn/metrics/pairwise.py:258: RuntimeWarning: invalid value encountered in sqrt\n",
      "  return distances if squared else np.sqrt(distances, out=distances)\n",
      "/home/shauli/miniconda3/envs/py36/lib/python3.6/site-packages/sklearn/metrics/pairwise.py:258: RuntimeWarning: invalid value encountered in sqrt\n",
      "  return distances if squared else np.sqrt(distances, out=distances)\n",
      "/home/shauli/miniconda3/envs/py36/lib/python3.6/site-packages/sklearn/metrics/pairwise.py:258: RuntimeWarning: invalid value encountered in sqrt\n",
      "  return distances if squared else np.sqrt(distances, out=distances)\n",
      "/home/shauli/miniconda3/envs/py36/lib/python3.6/site-packages/sklearn/metrics/pairwise.py:258: RuntimeWarning: invalid value encountered in sqrt\n",
      "  return distances if squared else np.sqrt(distances, out=distances)\n",
      "/home/shauli/miniconda3/envs/py36/lib/python3.6/site-packages/sklearn/metrics/pairwise.py:258: RuntimeWarning: invalid value encountered in sqrt\n",
      "  return distances if squared else np.sqrt(distances, out=distances)\n",
      "/home/shauli/miniconda3/envs/py36/lib/python3.6/site-packages/sklearn/metrics/pairwise.py:258: RuntimeWarning: invalid value encountered in sqrt\n",
      "  return distances if squared else np.sqrt(distances, out=distances)\n",
      "/home/shauli/miniconda3/envs/py36/lib/python3.6/site-packages/sklearn/metrics/pairwise.py:258: RuntimeWarning: invalid value encountered in sqrt\n",
      "  return distances if squared else np.sqrt(distances, out=distances)\n",
      "/home/shauli/miniconda3/envs/py36/lib/python3.6/site-packages/sklearn/metrics/pairwise.py:258: RuntimeWarning: invalid value encountered in sqrt\n",
      "  return distances if squared else np.sqrt(distances, out=distances)\n",
      "/home/shauli/miniconda3/envs/py36/lib/python3.6/site-packages/sklearn/metrics/pairwise.py:258: RuntimeWarning: invalid value encountered in sqrt\n",
      "  return distances if squared else np.sqrt(distances, out=distances)\n",
      "/home/shauli/miniconda3/envs/py36/lib/python3.6/site-packages/sklearn/metrics/pairwise.py:258: RuntimeWarning: invalid value encountered in sqrt\n",
      "  return distances if squared else np.sqrt(distances, out=distances)\n",
      "/home/shauli/miniconda3/envs/py36/lib/python3.6/site-packages/sklearn/metrics/pairwise.py:258: RuntimeWarning: invalid value encountered in sqrt\n",
      "  return distances if squared else np.sqrt(distances, out=distances)\n",
      "/home/shauli/miniconda3/envs/py36/lib/python3.6/site-packages/sklearn/metrics/pairwise.py:258: RuntimeWarning: invalid value encountered in sqrt\n",
      "  return distances if squared else np.sqrt(distances, out=distances)\n",
      "/home/shauli/miniconda3/envs/py36/lib/python3.6/site-packages/sklearn/metrics/pairwise.py:258: RuntimeWarning: invalid value encountered in sqrt\n",
      "  return distances if squared else np.sqrt(distances, out=distances)\n",
      "/home/shauli/miniconda3/envs/py36/lib/python3.6/site-packages/sklearn/metrics/pairwise.py:258: RuntimeWarning: invalid value encountered in sqrt\n",
      "  return distances if squared else np.sqrt(distances, out=distances)\n",
      "/home/shauli/miniconda3/envs/py36/lib/python3.6/site-packages/sklearn/metrics/pairwise.py:258: RuntimeWarning: invalid value encountered in sqrt\n",
      "  return distances if squared else np.sqrt(distances, out=distances)\n"
     ]
    },
    {
     "name": "stdout",
     "output_type": "stream",
     "text": [
      "Purity in original space: 0.9137931913066313\n",
      "Purity after debiasing projection: 0.6473528143833963\n"
     ]
    }
   ],
   "source": [
    "def perform_purity_test(vecs, k, labels_true):\n",
    "        np.random.seed(0)\n",
    "        clustering = sklearn.cluster.KMeans(n_clusters = k)\n",
    "        clustering.fit(vecs)\n",
    "        labels_pred = clustering.labels_\n",
    "        score = sklearn.metrics.homogeneity_score(labels_true, labels_pred)\n",
    "        return score\n",
    "\n",
    "\n",
    "tsne_by_gender(X_dev, Y_dev, title = \"before\")\n",
    "X_dev_cleaned = X_dev.dot(P)\n",
    "X_test_cleaned = X_test.dot(P)\n",
    "X_trained_cleaned = X_train.dot(P)\n",
    "tsne_projection = tsne_by_gender(X_dev_cleaned, Y_dev, title = \"after\")\n",
    "\n",
    "NUM_CLUSTERS = 100\n",
    "\n",
    "purity_original = perform_purity_test(X_dev, k = NUM_CLUSTERS, labels_true = Y_dev)\n",
    "purity_after = perform_purity_test(X_dev_cleaned, k = NUM_CLUSTERS, labels_true = Y_dev)\n",
    "print(\"Purity in original space: {}\".format(purity_original))\n",
    "print(\"Purity after debiasing projection: {}\".format(purity_after))"
   ]
  },
  {
   "cell_type": "markdown",
   "metadata": {},
   "source": [
    "#### Train a nonlinear classifier for gender prediction."
   ]
  },
  {
   "cell_type": "code",
   "execution_count": 116,
   "metadata": {},
   "outputs": [
    {
     "name": "stdout",
     "output_type": "stream",
     "text": [
      "Before:\n"
     ]
    },
    {
     "name": "stderr",
     "output_type": "stream",
     "text": [
      "/home/shauli/miniconda3/envs/py36/lib/python3.6/site-packages/sklearn/svm/base.py:196: FutureWarning: The default value of gamma will change from 'auto' to 'scale' in version 0.22 to account better for unscaled features. Set gamma explicitly to 'auto' or 'scale' to avoid this warning.\n",
      "  \"avoid this warning.\", FutureWarning)\n"
     ]
    },
    {
     "name": "stdout",
     "output_type": "stream",
     "text": [
      "1.0\n",
      "After:\n"
     ]
    },
    {
     "name": "stderr",
     "output_type": "stream",
     "text": [
      "/home/shauli/miniconda3/envs/py36/lib/python3.6/site-packages/sklearn/svm/base.py:196: FutureWarning: The default value of gamma will change from 'auto' to 'scale' in version 0.22 to account better for unscaled features. Set gamma explicitly to 'auto' or 'scale' to avoid this warning.\n",
      "  \"avoid this warning.\", FutureWarning)\n"
     ]
    },
    {
     "name": "stdout",
     "output_type": "stream",
     "text": [
      "0.5518518518518518\n"
     ]
    }
   ],
   "source": [
    "nonlinear_clf = MLPClassifier(hidden_layer_sizes = 128, activation = \"relu\")\n",
    "nonlinear_clf = SVC(kernel = \"rbf\")\n",
    "#nonlinear_clf = SGDClassifier(loss = \"modified_huber\", verbose = 0, max_iter = 5000, fit_intercept = True, class_weight = \"balanced\", penalty = \"l2\")\n",
    "print(\"Before:\")\n",
    "nonlinear_clf.fit(X_train, Y_train)\n",
    "print(nonlinear_clf.score(X_dev, Y_dev))\n",
    "\n",
    "print(\"After:\")\n",
    "nonlinear_clf = MLPClassifier(hidden_layer_sizes = 128, activation = \"relu\")\n",
    "nonlinear_clf = SVC(kernel = \"rbf\")\n",
    "\n",
    "nonlinear_clf.fit(X_trained_cleaned, Y_train)\n",
    "print(nonlinear_clf.score(X_dev_cleaned, Y_dev))"
   ]
  },
  {
   "cell_type": "markdown",
   "metadata": {},
   "source": [
    "#### project on the gender direction"
   ]
  },
  {
   "cell_type": "code",
   "execution_count": 117,
   "metadata": {},
   "outputs": [
    {
     "name": "stdout",
     "output_type": "stream",
     "text": [
      "masc-bias-before: 0.4433515667915344\n",
      "masc-bias-after: -0.017375008980527108\n",
      "fem-bias-before: -0.7783566117286682\n",
      "fem-bias-after: -0.02409004209297594\n"
     ]
    }
   ],
   "source": [
    "\n",
    "masc_vecs_cleaned = masc_vecs.dot(P)\n",
    "fem_vecs_cleaned = fem_vecs.dot(P)\n",
    "\n",
    "print(\"masc-bias-before: {}\".format(masc_vecs.dot(gender_unit_vec).mean()))\n",
    "print(\"masc-bias-after: {}\".format(masc_vecs_cleaned.dot(gender_unit_vec).mean()))\n",
    "print(\"fem-bias-before: {}\".format(fem_vecs.dot(gender_unit_vec).mean()))\n",
    "print(\"fem-bias-after: {}\".format(fem_vecs_cleaned.dot(gender_unit_vec).mean()))      "
   ]
  },
  {
   "cell_type": "markdown",
   "metadata": {},
   "source": [
    "#### calculate the similarity matrix before and after"
   ]
  },
  {
   "cell_type": "code",
   "execution_count": 131,
   "metadata": {},
   "outputs": [],
   "source": [
    "\n",
    "def get_similarity_matrix(vecs: np.ndarray):\n",
    "\n",
    "  distances = sklearn.metrics.pairwise_distances(vecs, vecs, metric=\"cosine\")\n",
    "  return distances\n",
    "\n",
    "def plot_similarity(similarity_before, similarity_after):\n",
    "\n",
    "    idx = similarity_before > 0.5 # we are only interested in the relatively close words\n",
    "\n",
    "    similarity_before = similarity_before[idx]\n",
    "    similarity_after = similarity_after[idx]\n",
    "    \n",
    "    chosen = np.random.rand(len(similarity_after)) < 0.01\n",
    "    before = similarity_before[chosen]\n",
    "    after = similarity_after[chosen]\n",
    "    plt.plot(before, after, linestyle=\"None\", marker = \"*\", alpha = 0.1)\n",
    "    plt.xlabel(\"similarity before\")\n",
    "    plt.ylabel(\"similarity after\")\n",
    "\n",
    "    plt.show()\n",
    "    print(\"Correlation: {}\".format(pearsonr(before, after)[0]))\n",
    "    \n",
    "def plot_similarity_change_vs_original_bias(bias_before, similarity_before, similarity_after):\n",
    "\n",
    "    K = 250\n",
    "    most_similar_idx_before = similarity_before.argsort(axis = 0)[:K].T\n",
    "    most_similar_idx_after = similarity_after.argsort(axis = 0)[:K].T\n",
    "    data = []\n",
    "    \n",
    "    for i, (bias, sim_before, sim_after) in enumerate(tqdm.tqdm(zip(bias_before, similarity_before, similarity_after), ascii = True, total = len(bias_before))):\n",
    "        \n",
    "        idx_before = set(most_similar_idx_before[i].tolist())\n",
    "        idx_after = set(most_similar_idx_after[i].tolist())\n",
    "        intersection = idx_before.intersection(idx_after)\n",
    "        data.append((abs(bias), 1 - len(intersection)/K))\n",
    "        \n",
    "    plt.xlabel(\"change in similarity\")\n",
    "    plt.ylabel(\"bias before\")\n",
    "    biases, sims = zip(*data)    \n",
    "    plt.plot(sims, biases, linestyle=\"None\", marker = \"*\", alpha = 0.1)\n",
    "\n",
    "    plt.show()\n",
    "    print(\"Correlation: {}\".format(pearsonr(biases, sims)[0]))"
   ]
  },
  {
   "cell_type": "markdown",
   "metadata": {},
   "source": [
    "#### Plot similarity before vs. similarity after, and change of similarity vs. bias before"
   ]
  },
  {
   "cell_type": "code",
   "execution_count": null,
   "metadata": {
    "scrolled": true
   },
   "outputs": [],
   "source": [
    "prop = 0.25\n",
    "idx = np.random.rand(vecs.shape[0]) < prop\n",
    "vecs_sample = vecs[idx]\n",
    "words_sample = np.array(words, dtype = \"object\")[idx]\n",
    "\n",
    "vecs_sample_cleaned = vecs_sample.dot(P)\n",
    "\n",
    "similarity_before = get_similarity_matrix(vecs_sample)\n",
    "similarity_after = get_similarity_matrix(vecs_sample_cleaned)\n",
    "#diffs = abs(similarity_before - similarity_after)\n",
    "\n",
    "\n",
    "gender_unit_vec = gender_direction/np.linalg.norm(gender_direction)\n",
    "sample_normalized = vecs_sample/np.linalg.norm(vecs_sample, axis = 1, keepdims = True)\n",
    "sample_cleaned_normalized = vecs_sample_cleaned/np.linalg.norm(vecs_sample_cleaned, axis = 1, keepdims = True)\n",
    "\n",
    "bias_before = sklearn.metrics.pairwise.cosine_similarity(np.expand_dims(gender_direction, 0), vecs_sample)[0] #sample_normalized.dot(gender_unit_vec)\n",
    "bias_after = sample_cleaned_normalized.dot(gender_unit_vec)\n",
    "\n",
    "plot_similarity(similarity_before.reshape(-1), similarity_after.reshape(-1))\n",
    "plot_similarity_change_vs_original_bias(bias_before, similarity_before, similarity_after)\n"
   ]
  },
  {
   "cell_type": "code",
   "execution_count": 213,
   "metadata": {},
   "outputs": [
    {
     "name": "stderr",
     "output_type": "stream",
     "text": [
      "50000it [00:12, 3996.29it/s]\n"
     ]
    }
   ],
   "source": [
    "all_cleaned = vecs.dot(P)\n",
    "save_in_word2vec_format(all_cleaned, words, \"../data/embeddings/vecs.cleaned.txt\")"
   ]
  },
  {
   "cell_type": "code",
   "execution_count": 214,
   "metadata": {},
   "outputs": [
    {
     "data": {
      "text/plain": [
       "<gensim.models.keyedvectors.Word2VecKeyedVectors at 0x7f9488dacc50>"
      ]
     },
     "execution_count": 214,
     "metadata": {},
     "output_type": "execute_result"
    }
   ],
   "source": [
    "model_cleaned, _, _ = load_word_vectors(fname = \"../data/embeddings/vecs.cleaned.txt\")\n",
    "print\n",
    "(model_cleaned)"
   ]
  },
  {
   "cell_type": "code",
   "execution_count": 241,
   "metadata": {},
   "outputs": [
    {
     "name": "stdout",
     "output_type": "stream",
     "text": [
      "('journeymen', 0.6964870095252991)\n",
      "('unheralded', 0.5721666216850281)\n",
      "('rookie', 0.5694584846496582)\n",
      "('veteran', 0.5209348201751709)\n",
      "('southpaw', 0.5050339102745056)\n",
      "('late_bloomer', 0.49564164876937866)\n",
      "('battler', 0.4772130250930786)\n",
      "('superstar', 0.47606101632118225)\n",
      "('pugilist', 0.4711742401123047)\n",
      "('prodigy', 0.46894553303718567)\n",
      "('oft_injured', 0.46728408336639404)\n",
      "('phenom', 0.46141740679740906)\n",
      "('amateur', 0.45797866582870483)\n",
      "('undrafted', 0.45401644706726074)\n",
      "('hotshot', 0.4525316059589386)\n",
      "--------------------------------\n",
      "('journeymen', 0.6639416813850403)\n",
      "('unheralded', 0.5450689792633057)\n",
      "('rookie', 0.5335802435874939)\n",
      "('late_bloomer', 0.49659085273742676)\n",
      "('southpaw', 0.48855212330818176)\n",
      "('veteran', 0.47595036029815674)\n",
      "('battler', 0.4619813561439514)\n",
      "('pugilist', 0.4618586003780365)\n",
      "('phenom', 0.4598551392555237)\n",
      "('prodigy', 0.4582870602607727)\n",
      "('superstar', 0.4562338888645172)\n",
      "('amateur', 0.4561074376106262)\n",
      "('cruiserweight', 0.4459923803806305)\n",
      "('middleweight', 0.4457741379737854)\n",
      "('welterweight', 0.44515812397003174)\n",
      "-0.08541892\n",
      "-0.14666036\n",
      "-0.1911082\n",
      "-0.14539875\n",
      "-0.16150557\n",
      "-0.14655027\n",
      "-0.14980136\n",
      "-0.14153919\n",
      "-0.13643296\n",
      "-0.15081877\n",
      "-0.14091109\n",
      "-0.14157656\n",
      "-0.13078728\n",
      "-0.124072015\n",
      "-0.12942082\n",
      "-0.13315293\n",
      "-0.13225333\n",
      "-0.14552507\n",
      "-0.1212272\n",
      "-0.12219718\n",
      "-0.13230921\n",
      "-0.12513497\n",
      "-0.15566619\n",
      "-0.12857576\n",
      "-0.1137301\n",
      "------------------------------------------\n",
      "0.0\n",
      "0.078434736\n",
      "0.044632763\n",
      "0.03254521\n",
      "0.05817163\n",
      "0.05389914\n",
      "0.07383734\n",
      "0.06257592\n",
      "0.073624924\n",
      "0.051674247\n"
     ]
    }
   ],
   "source": [
    "w = \"journeyman\"\n",
    "topn = 15\n",
    "\n",
    "for w_sim in model.most_similar(w, topn = topn):\n",
    "    print(w_sim)\n",
    "print(\"--------------------------------\")\n",
    "for w_sim in model_cleaned.most_similar(w, topn = topn):\n",
    "    print(w_sim)\n",
    "    \n",
    "for w_sim in ['alumna', 'comedienne', 'beautician', 'femininity', 'chanteuse', 'petite', 'songstress', 'girlish', 'saleswoman', 'homemaker', 'showgirl', 'lipsticks', 'ditzy', 'demure', 'bra', 'lip_gloss', 'vivacious', 'hysterectomy', 'perky', 'femme_fatale', 'double_mastectomy', 'spinster', 'registered_nurse', 'sassy', 'motherly']:\n",
    "    print(model.similarity(w, w_sim) -  model_cleaned.similarity(w, w_sim)) \n",
    "print(\"------------------------------------------\")\n",
    "for w_sim in ['journeyman', 'elder_statesman', 'fellow_countryman', 'journeymen', 'cult_hero', 'wizard', 'knucklehead', 'prodigal_son', 'guys', 'buddy']:\n",
    "    print(model.similarity(w, w_sim) -  model_cleaned.similarity(w, w_sim)) "
   ]
  },
  {
   "cell_type": "code",
   "execution_count": 264,
   "metadata": {},
   "outputs": [],
   "source": [
    "most_similar_idx_before = similarity_before.argsort(axis = 0)[:15]\n",
    "most_similar_idx_after = similarity_after.argsort(axis = 0)[:15]"
   ]
  },
  {
   "cell_type": "code",
   "execution_count": 265,
   "metadata": {
    "scrolled": false
   },
   "outputs": [
    {
     "name": "stdout",
     "output_type": "stream",
     "text": [
      "['is' 'on' 'was' 'be' 'by' 'are' 'have' 'this' 'had' 'up' 'do' 'new'\n",
      " 'people' 'three' 'no' 'did' 'back' 'now' 'against' 'off' 'state' 'good'\n",
      " 'four' 'such' 'very' 'even' 'see' 'me' 'help' 'market' 'information'\n",
      " 'part' 'want' 'need' 'same' 'set' 'city' 'am' 'better' 'life' 'show'\n",
      " 'past' 'took' 'children' 'hit' 'area' 'system' 'members' 'start'\n",
      " 'companies' 'little' 'case' 'won' 'financial' 'several' 'held' 'later'\n",
      " 'full' 'community' 'open' 'record' 'able' 'meeting' 'development' 'times'\n",
      " 'job' 'always' 'include' 'important' 'within' 'move' 'become' 'side'\n",
      " 'coach' 'near' 'getting' 'change' 'prices' 'asked' 'done' 'leading'\n",
      " 'having' 'military' 'oil' 'customers' 'due' 'term' 'international'\n",
      " 'return' 'further' 'face' 'hours' 'control' 'career' 'experience'\n",
      " 'countries' 'average' 'cut' 'young' 'story' 'per_cent' 'large' 'stock'\n",
      " 'food' 'morning' 'conference' 'person' 'official' 'released' 'meet'\n",
      " 'outside' 'fact' 'needed' 'almost' 'try' 'visit' 'bring' 'study' 'care'\n",
      " 'markets' 'weekend' 'operations' 'net' 'trade' 'involved' 'bill' 'stop'\n",
      " 'died' 'product' 'fans' 'film' 'yards' 'bad' 'fall' 'let' 'rose'\n",
      " 'employees' 'means' 'agreement' 'includes' 'training' 'allowed' 'class'\n",
      " 'groups' 'included' 'turned' 'personal' 'businesses' 'safety' 'officer'\n",
      " 'leave' 'investors' 'medical' 'non' 'spent' 'child' 'opening' 'range'\n",
      " 'difficult' 'kids' 'age' 'someone' 'charged' 'main' 'book' 'success'\n",
      " 'focus' 'phone' 'rest' 'despite' 'closed' 'starting' 'charge' 'projects'\n",
      " 'cases' 'ground' 'legal' 'everyone' 'above' 'throughout' 'overall' 'pass'\n",
      " 'officers' 'giving' 'sold' 'levels' 'sector' 'named' 'double' 'signed'\n",
      " 'sign' 'receive' 'construction' 'black' 'raised' 'gets' 'filed' 'huge'\n",
      " 'met' 'content' 'although' 'example' 'rise' 'knew' 'details' 'dollars'\n",
      " 'considered' 'funding' 'rules' 'prison' 'instead' 'concerns' 'providing'\n",
      " 'beginning' 'ensure' 'happen' 'planning' 'owner' 'popular' 'ways' 'feet'\n",
      " 'environment' 'contact' 'cars' 'source' 'spot' 'itself' 'fiscal'\n",
      " 'account' 'statements' 'injury' 'cuts' 'drop' 'opportunities' 'message'\n",
      " 'injured' 'wrong' 'letter' 'individual' 'else' 'existing' 'voters'\n",
      " 'leaving' 'earned' 'effective' 'poor' 'friend' 'customer' 'independent'\n",
      " 's' 'award' 'parts' 'incident' 'looking_statements' 'scene' 'opposition'\n",
      " 'certainly' 'soldiers' 'described' 'choice' 'changed' 'declined' 'lose'\n",
      " 'necessary' 'stocks' 'previously' 'housing' 'fighting' 'figures'\n",
      " 'relationship' 'activity' 'caught' 'crime' 'expectations' 'gold'\n",
      " 'killing' 'act' 'offense' 'alone' 'facilities' 'division' 'measures'\n",
      " 'expects' 'art' 'progress' 'managed' 'wins' 'claimed' 'analysts' 'allows'\n",
      " 'battle' 'allowing' 'nice' 'measure' 'direct' 'index' 'drugs' 'tied'\n",
      " 'arrived' 'communities' 'mission' 'pair' 'perfect' 'prepared' 'showing'\n",
      " 'interested' 'experts' 'bottom' 'laws' 'directly' 'union' 'pre' 'waiting'\n",
      " 'simple' 'names' 'responsibility' 'revenues' 'strike' 'documents'\n",
      " 'sometimes' 'via' 'facing' 'seeing' 'coverage' 'cancer' 'reasons'\n",
      " 'tonight' 'rebounds' 'digital' 'citizens' 'murder' 'park' 'platform'\n",
      " 'pleased' 'hot' 'serving' 'provider' 'towards' 'buying' 'panel' 'entered'\n",
      " 'victim' 'setting' 'environmental' 'bus' 'paying' 'reading' 'delivery'\n",
      " 'location' 'positions' 'hoping' 'spread' 'larger' 'university' 'ones'\n",
      " 'active' 'reduced' 'language' 'actions' 'streets' 'increases' 'excited'\n",
      " 'maybe' 'massive' 'distribution' 'lawmakers' 'fresh' 'seventh'\n",
      " 'conducted' 'acquisition' 'recorded' 'proud' 'sex' 'agent' 'supporters'\n",
      " 'disease' 'core' 'patient' 'trouble' 'extremely' 'confident' 'extended'\n",
      " 'expand' 'nature' 'opinion' 'shareholders' 'character' 'web' 'recession'\n",
      " 'intelligence' 'industrial' 'assists' 'tickets' 'matches' 'requirements'\n",
      " 'ongoing' 'closer' 'meant' 'technologies' 'dog' 'enter' 'gained'\n",
      " 'centers' 'views' 'worse' 'discussion' 'attended' 'pace' 'retired'\n",
      " 'truck' 'write' 'volume' 'tests' 'defeat' 'treated' 'allegedly' 'uses'\n",
      " 'miss' 'appearance' 'negotiations' 'drove' 'immediate' 'prove'\n",
      " 'registered' 'tools' 'receiving' 'collection' 'gun' 'institutions'\n",
      " 'personnel' 'golf' 'talent' 'represent' 'grade' 'apparently' 'recognized'\n",
      " 'sit' 'rich' 'improvement' 'amid' 'poll' 'notes' 'ice' 'responded'\n",
      " 'telling' 'encourage' 'conduct' 'roads' 'backed' 'promote' 'civil'\n",
      " 'currency' 'aimed' 'talked' 'allegations' 'struggling' 'whatever'\n",
      " 'transfer' 'increasingly' 'modern' 'executives' 'entry' 'meaning'\n",
      " 'excellent' 'walking' 'locations' 'feels' 'deputy' 'except' 'songs'\n",
      " 'understanding' 'ten' 'rating' 'jumped' 'improving' 'providers'\n",
      " 'terrorism' 'coalition' 'touch' 'assist' 'playoffs' 'shared'\n",
      " 'comprehensive' 'rejected' 'worried' 'magazine' 'headquarters' 'visiting'\n",
      " 'fly' 'jury' 'rural' 'flat' 'photo' 'selection' 'stretch' 'goods'\n",
      " 'purpose' 'directors' 'matters' 'targets' 'efficient' 'initially' 'waste'\n",
      " 'franchise' 'grown' 'document' 'familiar' 'scientists' 'artists'\n",
      " 'invited' 'crimes' 'cool' 'memory' 'dinner' 'sees' 'path' 'circumstances'\n",
      " 'expert' 'traveling' 'auto' 'color' 'secret' 'greatest' 'leaves' 'worry'\n",
      " 'ministry' 'graduate' 'argued' 'announce' 'marriage' 'contained'\n",
      " 'causing' 'die' 'dogs' 'actual' 'finals' 'outlook' 'deadline' 'surface'\n",
      " 'enjoyed' 'shape' 'portion' 'opposed' 'uncertainties' 'granted'\n",
      " 'coaching' 'amazing' 'demands' 'bonds' 'suspects' 'submitted' 'engine'\n",
      " 'maximum' 'corruption' 'reserve' 'capabilities' 'discussions' 'judges'\n",
      " 'defeated' 'usual' 'presentation' 'findings' 'editor' 'knee' 'operates'\n",
      " 'relevant' 'guess' 'trees' 'capable' 'expanded' 'reputation' 'motion'\n",
      " 'stepped' 'retailers' 'threats' 'recommended' 'chain' 'potentially'\n",
      " 'disappointed' 'attacked' 'sat' 'loved' 'typically' 'era' 'creation'\n",
      " 'seniors' 'versus' 'expertise' 'wing' 'touchdown' 'yen' 'puts'\n",
      " 'foundation' 'ex' 'failing' 'doors' 'pilot' 'forms' 'trained' 'temporary'\n",
      " 'regulatory' 'boss' 'apart' 'developers' 'regulation' 'task' 'blog'\n",
      " 'drawn' 'regime' 'ourselves' 'threatening' 'blame' 'copy' '®' 'summit'\n",
      " 'dismissed' 'vital' 'elsewhere' 'initiatives' 'historical' 'acts'\n",
      " 'recalled' 'funded' 'delayed' 'background' 'runner' 'prospects'\n",
      " 'questioned' 'lift' 'civilians' 'involvement' 'gotten' 'euros'\n",
      " 'projected' 'forum' 'ballot' 'expanding' 'topic' 'causes' 'appointment'\n",
      " 'cells' 'exploration' 'elements' 'replacement' 'tourism' 'enhance'\n",
      " 'moments' 'witnesses' 'impossible' 'instance' 'controversial' 'harder'\n",
      " 'dramatic' 'attempted' 'boards' 'chair' 'opens' 'requested' 'error'\n",
      " 'contains' 'decrease' 'integration' 'unusual' 'steel' 'knocked' 'square'\n",
      " 'inspired' 'alongside' 'clinical' 'staying' 'tremendous' 'terrorists'\n",
      " 'wave' 'quarterly' 'obtain' 'regions' 'drink' 'properly' 'minority'\n",
      " 'regularly' 'controls' 'stuck' 'subscribers' 'smoke' 'compliance'\n",
      " 'trucks' 'mistakes' 'formal' 'speculation' 'occur' 'entirely' 'covers'\n",
      " 'correct' 'tend' 'seized' 'urban' 'doubled' 'innovation' 'port' 'branch'\n",
      " 'signal' 'prompted' 'falls' 'operational' 'silver' 'privacy' 'spots'\n",
      " 'referring' 'degrees' 'resume' 'resolve' 'fairly' 'stressed' 'walks'\n",
      " 'rebound' 'reference' 'angry' 'violation' 'tech' 'demanded' 'intent'\n",
      " 'ministers' 'newspapers' 'rushed' 'traveled' 'heavily' 'acquire' 'aims'\n",
      " 'distributed' 'packed' 'streak' 'pleaded_guilty' 'sustained' 'beach'\n",
      " 'rail' 'cycle' 'comedy' 'thoughts' 'solar' 'searching' 'aspects'\n",
      " 'episode' 'persons' 'answers' 'argue' 'reliable' 'scenes' 'hotels' 'bat'\n",
      " 'bases' 'slowly' 'forcing' 'frequently' 'map' 'bear' 'vendors' 'probe'\n",
      " 'methods' 'shall' 'credit_card' 'luxury' 'dates' 'preparation'\n",
      " 'regulators' 'appearances' 'appreciate' 'consequences' 'virtually'\n",
      " 'athletic' 'cell_phone' 'suffer' 'clock' 'central_bank' 'campaigns'\n",
      " 'investing' 'detail' 'moderate' 'earthquake' 'plot' 'honest' 'passion'\n",
      " 'arrival' 'consultant' 'tiny' 'adviser' 'shelter' 'commissioner' 'rely'\n",
      " 'string' 'aged' 'triple' 'winds' 'lies' 'garden' 'e' 'postseason'\n",
      " 'introduce' 'affordable' 'meat' 'resigned' 'attendance' 'repeat' 'solve'\n",
      " 'cheap' 'programming' 'helicopter' 'forth' 'earning' 'rated' 'upper'\n",
      " 'pulling' 'organizers' 'viewed' 'clash' 'billions' 'petition' 'lying'\n",
      " 'hate' 'errors' 'assigned' 'arts' 'guards' 'barely' 'express' 'purchases'\n",
      " 'flexibility' 'faculty' 'targeting' 'nights' 'tips' 'relating' 'reviewed'\n",
      " 'counsel' 'consensus' 'reveal' 'everywhere' 'occasion' 'carefully'\n",
      " 'constant' 'compromise' 'burden' 'rebels' 'benchmark' 'rallied'\n",
      " 'contrast' 'invested' 'intends' 'converted' 'credits' 'productivity'\n",
      " 'casino' 'bet' 'automatically' 'i' 'machines' 'loose' 'latter' 'valued'\n",
      " 'pregnant' 'enforcement' 'diabetes' 'component' 'commented' 'legacy'\n",
      " 'copies' 'odds' 'collapsed' 'techniques' 'supplier' 'comparison' 'gifts'\n",
      " 'engineers' 'burned' 'revised' 'describe' 'conspiracy' 'minds' 'midnight'\n",
      " 'virtual' 'delivers' 'pitches' 'gallon' 'ultimate' 'invasion' 'rent'\n",
      " 'fastest' 'robust' 'participated' 'dating' 'bowl' 'enormous' 'homeless'\n",
      " 'soil' 'outs' 'deserve' 'adoption' 'felony' 'elite' 'cabinet' 'outdoor'\n",
      " 'somewhere' 'dramatically' 'contractors' 'tackles' 'slide' 'assured'\n",
      " 'holidays' 'listening' 'hanging' 'lists' 'closure' 'lifetime' 'wider'\n",
      " 'destination' 'observed' 'pet' 'starters' 'menu' 'asks' 'tragedy'\n",
      " 'licenses' 'colors' 'consulting' 'constitutional' 'verdict' 'sparked'\n",
      " 'accompanied' 'wore' 'inmates' 'adjusted' 'associate' 'terrible'\n",
      " 'delegation' 'reward' 'affair' 'narrow' 'vaccine' 'websites' 'purchasing'\n",
      " 'lined' 'wood' 'climb' 'desperate' 'connections' 'depends' 'boom' 'fence'\n",
      " 'filings' 'accuracy' 'conducting' 'underlying' 'neighborhoods'\n",
      " 'households' 'hunting' 'spokesperson' 'retire' 'studied' 'conversion'\n",
      " 'proceedings' 'hopeful' 'gear' 'salaries' 'mental' 'homers' 'statewide'\n",
      " 'chase' 'crop' 'vowed' 'dominant' 'tsunami' 'extending' 'respected'\n",
      " 'puck' 'lenders' 'marketplace' 'install' 'affecting' 'tougher'\n",
      " 'mortgages' 'standings' 'underground' 'conservation' 'midfielder'\n",
      " 'comparable' 'administrators' 'comply' 'diplomatic' 'feelings' 'cleaning'\n",
      " 'withdrawal' 'economist' 'grab' 'favorites' 'venture' 'integrity'\n",
      " 'mainstream' 'ignored' 'skill' 'surrounded' 'deeper']\n",
      "(15, 12448) (15, 12448)\n",
      "face face\n",
      "facing facing\n",
      "confronting confronting\n",
      "staring staring\n",
      "frown frown\n",
      "against grappling\n",
      "grappling against\n",
      "grimace meet\n",
      "dodge grimace\n",
      "suffer suffer\n",
      "undergo posing\n",
      "posing undergo\n",
      "meet dodge\n",
      "befall befall\n",
      "looms stark\n"
     ]
    }
   ],
   "source": [
    "print(words_sample[:1000])\n",
    "\n",
    "print(most_similar_idx_before.shape,most_similar_idx_after.shape)\n",
    "i = words_sample.tolist().index(\"face\")\n",
    "\n",
    "for k in range(15):\n",
    "    \n",
    "    before = words_sample[most_similar_idx_before[k,i]]\n",
    "    after = words_sample[most_similar_idx_after[k,i]]\n",
    "    print(before, after)"
   ]
  },
  {
   "cell_type": "code",
   "execution_count": null,
   "metadata": {},
   "outputs": [],
   "source": []
  }
 ],
 "metadata": {
  "kernelspec": {
   "display_name": "Python 3",
   "language": "python",
   "name": "python3"
  },
  "language_info": {
   "codemirror_mode": {
    "name": "ipython",
    "version": 3
   },
   "file_extension": ".py",
   "mimetype": "text/x-python",
   "name": "python",
   "nbconvert_exporter": "python",
   "pygments_lexer": "ipython3",
   "version": "3.6.9"
  }
 },
 "nbformat": 4,
 "nbformat_minor": 1
}
