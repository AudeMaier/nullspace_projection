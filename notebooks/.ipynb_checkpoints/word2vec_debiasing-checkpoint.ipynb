{
 "cells": [
  {
   "cell_type": "code",
   "execution_count": 43,
   "metadata": {},
   "outputs": [],
   "source": [
    "import sys\n",
    "sys.path.append(\"../src\")\n",
    "sys.path.append(\"../data/embeddings\")\n",
    "import classifier\n",
    "import svm_classifier\n",
    "import debias\n",
    "import gensim\n",
    "from gensim.models.keyedvectors import Word2VecKeyedVectors\n",
    "from gensim.models import KeyedVectors\n",
    "import numpy as np\n",
    "import random\n",
    "import sklearn\n",
    "from sklearn import model_selection"
   ]
  },
  {
   "cell_type": "markdown",
   "metadata": {},
   "source": [
    "### Data loading & processing"
   ]
  },
  {
   "cell_type": "code",
   "execution_count": 38,
   "metadata": {},
   "outputs": [],
   "source": [
    "def load_word_vectors(fname = \"../data/embeddings/vecs.filtered.txt\"):\n",
    "    \n",
    "    model = KeyedVectors.load_word2vec_format(fname, binary=False)\n",
    "    vecs = model.vectors\n",
    "    words = list(model.vocab.keys())\n",
    "    return model, vecs, words\n",
    "\n",
    "def project_on_gender_subspaces(gender_vector, model: Word2VecKeyedVectors):\n",
    "    \n",
    "    group1 = model.similar_by_vector(gender_vector, topn = 3500, restrict_vocab=None)\n",
    "    group2 = model.similar_by_vector(-gender_vector, topn = 3500, restrict_vocab=None)\n",
    "    \n",
    "    return group1, group2\n",
    "\n",
    "def get_vectors(word_list: list, model: Word2VecKeyedVectors):\n",
    "    \n",
    "    vecs = []\n",
    "    for w in word_list:\n",
    "        \n",
    "        vecs.append(model[w])\n",
    "    \n",
    "    vecs = np.array(vecs)\n",
    "    return vecs"
   ]
  },
  {
   "cell_type": "code",
   "execution_count": 39,
   "metadata": {},
   "outputs": [
    {
     "name": "stdout",
     "output_type": "stream",
     "text": [
      "('wizard', 'joker', 'journeymen', 'journeyman', 'elder_statesman', 'kingpins', 'wizardry', 'cult_hero', 'mastermind', 'kingpin')\n",
      "('pregnant', 'bra', 'femininity', 'hysterectomy', 'pregnancy', 'miscarried', 'midwife', 'double_mastectomy', 'breastfeed', 'feminine')\n"
     ]
    }
   ],
   "source": [
    "model, vecs, words = load_word_vectors(fname = \"../data/embeddings/vecs.filtered.txt\")\n",
    "model_gendered, _, _ = load_word_vectors(fname = \"../data/embeddings/vecs.gendered.txt\")\n",
    "gender_direction = model_gendered[\"man\"] - model_gendered[\"woman\"]\n",
    "\n",
    "masc_words_and_scores, fem_words_and_scores = project_on_gender_subspaces(gender_direction, model)\n",
    "masc_words, masc_scores = list(zip(*masc_words_and_scores))\n",
    "fem_words, fem_scores = list(zip(*fem_words_and_scores))\n",
    "\n",
    "masc_vecs, fem_vecs = get_vectors(masc_words, model), get_vectors(fem_words, model)\n",
    "\n",
    "print(masc_words[:10])\n",
    "print(fem_words[:10])"
   ]
  },
  {
   "cell_type": "markdown",
   "metadata": {},
   "source": [
    "### Perform train-dev-test split"
   ]
  },
  {
   "cell_type": "code",
   "execution_count": 40,
   "metadata": {},
   "outputs": [
    {
     "name": "stdout",
     "output_type": "stream",
     "text": [
      "Train size: 2940; Dev size: 1260; Test size: 2800\n"
     ]
    }
   ],
   "source": [
    "X = np.concatenate((masc_vecs, fem_vecs), axis = 0)\n",
    "y_masc = np.zeros(masc_vecs.shape[0], dtype = int)\n",
    "y_fem = np.ones(fem_vecs.shape[0], dtype = int)\n",
    "y = np.concatenate((y_masc, y_fem))\n",
    "X_train_dev, X_test, y_train_dev, y_test = sklearn.model_selection.train_test_split(X, y, test_size = 0.4, random_state = 0)\n",
    "X_train, X_dev, Y_train, Y_dev = sklearn.model_selection.train_test_split(X_train_dev, y_train_dev, test_size = 0.3, random_state = 0)\n",
    "print(\"Train size: {}; Dev size: {}; Test size: {}\".format(X_train.shape[0], X_dev.shape[0], X_test.shape[0]))"
   ]
  },
  {
   "cell_type": "markdown",
   "metadata": {},
   "source": [
    "### Debias"
   ]
  },
  {
   "cell_type": "code",
   "execution_count": 44,
   "metadata": {},
   "outputs": [
    {
     "name": "stdout",
     "output_type": "stream",
     "text": [
      "[LibLinear][LibLinear][LibLinear][LibLinear][LibLinear][LibLinear][LibLinear][LibLinear][LibLinear][LibLinear]"
     ]
    }
   ],
   "source": [
    "classifier_class = svm_classifier.SVMClassifier\n",
    "num_classifiers = 10\n",
    "input_dim = 300\n",
    "is_autoregressive = True\n",
    "min_accuracy = 0.50\n",
    "\n",
    "P = debias.get_debiasing_projection(classifier_class, num_classifiers, input_dim, \n",
    "                                    is_autoregressive, min_accuracy, X_train, Y_train,\n",
    "                                    X_dev, Y_dev)"
   ]
  },
  {
   "cell_type": "code",
   "execution_count": null,
   "metadata": {},
   "outputs": [],
   "source": []
  }
 ],
 "metadata": {
  "kernelspec": {
   "display_name": "Python 3",
   "language": "python",
   "name": "python3"
  },
  "language_info": {
   "codemirror_mode": {
    "name": "ipython",
    "version": 3
   },
   "file_extension": ".py",
   "mimetype": "text/x-python",
   "name": "python",
   "nbconvert_exporter": "python",
   "pygments_lexer": "ipython3",
   "version": "3.6.9"
  }
 },
 "nbformat": 4,
 "nbformat_minor": 1
}
