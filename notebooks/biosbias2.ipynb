{
 "cells": [
  {
   "cell_type": "code",
   "execution_count": 33,
   "metadata": {},
   "outputs": [],
   "source": [
    "import sys\n",
    "sys.path.append(\"../src\")\n",
    "sys.path.append(\"../data/embeddings\")\n",
    "sys.path.append(\"../data/biasbios\")\n",
    "sys.path.append(\"../data/embeddings/biasbios\")\n",
    "import classifier\n",
    "import svm_classifier\n",
    "import debias\n",
    "import gensim\n",
    "import codecs\n",
    "import json\n",
    "from gensim.models.keyedvectors import Word2VecKeyedVectors\n",
    "from gensim.models import KeyedVectors\n",
    "import numpy as np\n",
    "import random\n",
    "import sklearn\n",
    "from sklearn import model_selection\n",
    "from sklearn import cluster\n",
    "from sklearn import metrics\n",
    "from sklearn.manifold import TSNE\n",
    "from sklearn.svm import LinearSVC, SVC\n",
    "from sklearn.neural_network import MLPClassifier\n",
    "from sklearn.metrics.pairwise import cosine_similarity\n",
    "from sklearn.feature_extraction import DictVectorizer\n",
    "from pytorch_transformers import BertTokenizer, BertModel, BertForMaskedLM\n",
    "\n",
    "import scipy\n",
    "from scipy import linalg\n",
    "from scipy import sparse\n",
    "from scipy.stats.stats import pearsonr\n",
    "import tqdm\n",
    "import matplotlib\n",
    "import matplotlib.pyplot as plt\n",
    "from sklearn.linear_model import SGDClassifier, SGDRegressor, Perceptron, LogisticRegression\n",
    "\n",
    "%matplotlib inline\n",
    "matplotlib.rcParams['agg.path.chunksize'] = 10000\n",
    "\n",
    "import warnings\n",
    "warnings.filterwarnings(\"ignore\")\n",
    "\n",
    "import pickle\n",
    "from collections import defaultdict, Counter\n",
    "from typing import List, Dict\n",
    "\n",
    "import torch\n",
    "from torch import utils\n",
    "\n",
    "import pytorch_lightning as pl\n",
    "from pytorch_lightning import Trainer\n",
    "import copy\n",
    "import pandas as pd\n",
    "from gensim.models import FastText\n",
    "import time\n",
    "from gensim.scripts.glove2word2vec import glove2word2vec\n",
    "\n",
    "STOPWORDS = set([\"i\", \"me\", \"my\", \"myself\", \"we\", \"our\", \"ours\", \"ourselves\", \"you\", \"your\", \"yours\", \"yourself\", \"yourselves\", \"he\", \"him\", \"his\", \"himself\", \"she\", \"her\", \"hers\", \"herself\", \"it\", \"its\", \"itself\", \"they\", \"them\", \"their\", \"theirs\", \"themselves\", \"what\", \"which\", \"who\", \"whom\", \"this\", \"that\", \"these\", \"those\", \"am\", \"is\", \"are\", \"was\", \"were\", \"be\", \"been\", \"being\", \"have\", \"has\", \"had\", \"having\", \"do\", \"does\", \"did\", \"doing\", \"a\", \"an\", \"the\", \"and\", \"but\", \"if\", \"or\", \"because\", \"as\", \"until\", \"while\", \"of\", \"at\", \"by\", \"for\", \"with\", \"about\", \"against\", \"between\", \"into\", \"through\", \"during\", \"before\", \"after\", \"above\", \"below\", \"to\", \"from\", \"up\", \"down\", \"in\", \"out\", \"on\", \"off\", \"over\", \"under\", \"again\", \"further\", \"then\", \"once\", \"here\", \"there\", \"when\", \"where\", \"why\", \"how\", \"all\", \"any\", \"both\", \"each\", \"few\", \"more\", \"most\", \"other\", \"some\", \"such\", \"no\", \"nor\", \"not\", \"only\", \"own\", \"same\", \"so\", \"than\", \"too\", \"very\", \"s\", \"t\", \"can\", \"will\", \"just\", \"don\", \"should\", \"now\"])"
   ]
  },
  {
   "cell_type": "code",
   "execution_count": 25,
   "metadata": {},
   "outputs": [],
   "source": [
    "\n",
    "\n",
    "def load_dataset(path):\n",
    "    \n",
    "    with open(path, \"rb\") as f:\n",
    "        \n",
    "        data = pickle.load(f)\n",
    "    return data\n",
    "\n",
    "def load_dictionary(path):\n",
    "    \n",
    "    with open(path, \"r\", encoding = \"utf-8\") as f:\n",
    "        \n",
    "        lines = f.readlines()\n",
    "        \n",
    "    k2v, v2k = {}, {}\n",
    "    for line in lines:\n",
    "        \n",
    "        k,v = line.strip().split(\"\\t\")\n",
    "        v = int(v)\n",
    "        k2v[k] = v\n",
    "        v2k[v] = k\n",
    "    \n",
    "    return k2v, v2k\n",
    "    \n",
    "def count_profs_and_gender(data: List[dict]):\n",
    "    \n",
    "    counter = defaultdict(Counter)\n",
    "    for entry in data:\n",
    "        gender, prof = entry[\"g\"], entry[\"p\"]\n",
    "        counter[prof][gender] += 1\n",
    "        \n",
    "    return counter\n"
   ]
  },
  {
   "cell_type": "code",
   "execution_count": 61,
   "metadata": {},
   "outputs": [],
   "source": [
    "train = load_dataset(\"../data/biasbios/train1.pickle\")\n",
    "dev = load_dataset(\"../data/biasbios/dev1.pickle\")\n",
    "test = load_dataset(\"../data/biasbios/test1.pickle\")\n",
    "\n",
    "#w2i, i2w = load_dictionary(\"../data/biasbios/word2index.txt\")\n",
    "p2i, i2p = load_dictionary(\"../data/biasbios/profession2index.txt\")\n",
    "g2i, i2g = load_dictionary(\"../data/biasbios/gender2index.txt\")\n",
    "counter = count_profs_and_gender(train+dev+test)"
   ]
  },
  {
   "cell_type": "code",
   "execution_count": 62,
   "metadata": {},
   "outputs": [
    {
     "name": "stdout",
     "output_type": "stream",
     "text": [
      "0.46286566875856267\n",
      "{'photographer': 0.35721920736720936, 'poet': 0.49080017115960634, 'journalist': 0.49488721804511276, 'professor': 0.45118956904580476, 'software_engineer': 0.1576889661164205, 'psychologist': 0.6223011751844766, 'architect': 0.23712053792148718, 'surgeon': 0.14857228961048746, 'attorney': 0.38316925813475633, 'painter': 0.4579886246122027, 'nurse': 0.9085446207369142, 'physician': 0.507688318423441, 'interior_designer': 0.8086124401913876, 'teacher': 0.603111879476414, 'accountant': 0.36818825194621374, 'chiropractor': 0.26558891454965355, 'dentist': 0.35589474411216243, 'model': 0.8283124500133298, 'filmmaker': 0.3295762590954487, 'yoga_teacher': 0.8454600120264583, 'composer': 0.16392857142857142, 'pastor': 0.24052132701421802, 'personal_trainer': 0.45670391061452514, 'dj': 0.1420875420875421, 'rapper': 0.09665955934612651, 'dietitian': 0.9273504273504274, 'comedian': 0.21150410861021793, 'paralegal': 0.8483305036785512}\n"
     ]
    }
   ],
   "source": [
    "f,m = 0., 0.\n",
    "prof2fem = dict()\n",
    "\n",
    "for k, values in counter.items():\n",
    "    f += values['f']\n",
    "    m += values['m']\n",
    "    prof2fem[k] = values['f']/(values['f'] + values['m'])\n",
    "\n",
    "print(f / (f + m))\n",
    "print(prof2fem)"
   ]
  },
  {
   "cell_type": "code",
   "execution_count": 63,
   "metadata": {
    "scrolled": true
   },
   "outputs": [
    {
     "name": "stdout",
     "output_type": "stream",
     "text": [
      "{'accountant': 0, 'architect': 1, 'attorney': 2, 'chiropractor': 3, 'comedian': 4, 'composer': 5, 'dentist': 6, 'dietitian': 7, 'dj': 8, 'filmmaker': 9, 'interior_designer': 10, 'journalist': 11, 'model': 12, 'nurse': 13, 'painter': 14, 'paralegal': 15, 'pastor': 16, 'personal_trainer': 17, 'photographer': 18, 'physician': 19, 'poet': 20, 'professor': 21, 'psychologist': 22, 'rapper': 23, 'software_engineer': 24, 'surgeon': 25, 'teacher': 26, 'yoga_teacher': 27}\n"
     ]
    }
   ],
   "source": [
    "print(p2i)"
   ]
  },
  {
   "cell_type": "markdown",
   "metadata": {},
   "source": [
    "### get input representatons "
   ]
  },
  {
   "cell_type": "code",
   "execution_count": 65,
   "metadata": {},
   "outputs": [],
   "source": [
    "\n",
    "def load_word_vectors(fname = \"../data/embeddings/vecs.filtered.with_gendered.glove.txt\"):\n",
    "    \n",
    "    model = KeyedVectors.load_word2vec_format(fname, binary=False)\n",
    "    vecs = model.vectors\n",
    "    words = list(model.vocab.keys())\n",
    "    return model, vecs, words\n",
    "\n",
    "\n",
    "def get_embeddings_based_dataset(data: List[dict], word2vec_model, p2i, filter_stopwords = False):\n",
    "    \n",
    "    X, Y = [], []\n",
    "    unk, total = 0., 0.\n",
    "    unknown = []\n",
    "    \n",
    "    for entry in tqdm.tqdm(data, total = len(data)):\n",
    "        \n",
    "        y = p2i[entry[\"p\"]]\n",
    "        words = entry[\"hard_text\"].replace(\",\",\"\").replace(\".\", \"\").split(\" \")\n",
    "        if filter_stopwords:\n",
    "            words = [w for w in words if w.lower() not in STOPWORDS]\n",
    "            \n",
    "        bagofwords = np.sum([word2vec_model[w] if w in word2vec_model else word2vec_model[\"unk\"] for w in words], axis = 0)\n",
    "        #print(bagofwords.shape)\n",
    "        X.append(bagofwords)\n",
    "        Y.append(y)\n",
    "        total += len(words)\n",
    "        \n",
    "        unknown_entry = [w for w in words if w not in word2vec_model]\n",
    "        unknown.extend(unknown_entry)\n",
    "        unk += len(unknown_entry)\n",
    "    \n",
    "    X = np.array(X)\n",
    "    Y = np.array(Y)\n",
    "    print(\"% unknown: {}\".format(unk/total))\n",
    "    return X,Y,unknown\n",
    "\n",
    "def get_BOW_based_dataset(data: List[dict], w2i):\n",
    "    \n",
    "    vectorizer = DictVectorizer(sparse = True)\n",
    "    X, Y = [], []\n",
    "    unk, total = 0., 0.\n",
    "    data_dicts = []\n",
    "    unknown = []\n",
    "    \n",
    "    for entry in tqdm.tqdm(data, total = len(data)):\n",
    "        text, start, y = entry[\"text\"], entry[\"start\"], entry[\"p\"]\n",
    "        #text = text.lower()\n",
    "        words = text[start + 1:].split(\" \")\n",
    "        entry_dict = {w:w2i[w] if w in w2i else w2i[\"<UNK>\"] for w in words}\n",
    "        data_dicts.append(entry_dict)\n",
    "        Y.append(y)\n",
    "        \n",
    "        total += len(words)\n",
    "        unknown_entry = [w for w in words if w not in w2i]\n",
    "        unk += len([w for w in words if w not in w2i])\n",
    "    \n",
    "    print(\"% unknown: {}\".format(unk/total))\n",
    "    X = vectorizer.fit_transform(data_dicts)\n",
    "    return X,Y\n",
    "    \n",
    "def get_bert_based_dataset(data: List[dict], p2i):\n",
    "    \n",
    "    tokenizer = BertTokenizer.from_pretrained('bert-base-cased')\n",
    "    model = BertModel.from_pretrained('bert-base-cased').cuda()\n",
    "    model.eval()\n",
    "    \n",
    "    X, Y = [], []\n",
    "    cls_lst = ['[CLS]']\n",
    "    sep_lst = ['[SEP]']\n",
    "    \n",
    "    for entry in tqdm.tqdm(data, total = len(data)):\n",
    "        text, y = entry[\"hard_text\"], p2i[entry[\"p\"]]\n",
    "        #text = text.lower()            \n",
    "        tokenized_text = cls_lst + tokenizer.tokenize(text)[:500] + sep_lst    \n",
    "        indexed_tokens = tokenizer.convert_tokens_to_ids(tokenized_text)\n",
    "        tokens_tensor = torch.tensor([indexed_tokens]).cuda()\n",
    "        with torch.no_grad():\n",
    "              outputs = model(tokens_tensor)[0]\n",
    "              out_np = outputs.detach().cpu().numpy()\n",
    "              out_np = out_np.squeeze(0)\n",
    "              BOW = out_np[-1][:] #np.sum(out_np, axis = 0)\n",
    "              X.append(BOW)\n",
    "              Y.append(y)\n",
    "    \n",
    "    X = np.array(X)\n",
    "    Y = np.array(Y)\n",
    "    \n",
    "    return X,Y"
   ]
  },
  {
   "cell_type": "code",
   "execution_count": 30,
   "metadata": {},
   "outputs": [],
   "source": [
    "#word2vec, vecs, words = load_word_vectors(\"../data/embeddings/wiki-news-300d-1M-subword.vec\") #load_word2vec()\n",
    "#word2vec, vecs, words = load_word_vectors(\"../data/embeddings/crawl-300d-2M.vec\")\n",
    "path = \"../data/embeddings/crawl-300d-2M-subword.bin\"\n",
    "word2vec = gensim.models.fasttext.load_facebook_vectors(path)\n",
    "#word2vec.init_sims(replace = True)\n",
    "#X_train, Y_train = get_BOW_based_dataset(train, w2i)\n",
    "#X_devword2vec.init_sims(replace = True), Y_dev = get_BOW_based_dataset(dev, w2i) \n"
   ]
  },
  {
   "cell_type": "code",
   "execution_count": 31,
   "metadata": {},
   "outputs": [],
   "source": [
    "#word2vec.init_sims(replace = True)"
   ]
  },
  {
   "cell_type": "code",
   "execution_count": 66,
   "metadata": {},
   "outputs": [
    {
     "name": "stderr",
     "output_type": "stream",
     "text": [
      "100%|██████████| 255724/255724 [01:25<00:00, 3005.85it/s]\n",
      "  1%|          | 266/39343 [00:00<00:14, 2655.70it/s]"
     ]
    },
    {
     "name": "stdout",
     "output_type": "stream",
     "text": [
      "% unknown: 0.0\n"
     ]
    },
    {
     "name": "stderr",
     "output_type": "stream",
     "text": [
      "100%|██████████| 39343/39343 [00:12<00:00, 3143.83it/s]\n",
      "  1%|          | 602/98356 [00:00<00:32, 3000.49it/s]"
     ]
    },
    {
     "name": "stdout",
     "output_type": "stream",
     "text": [
      "% unknown: 0.0\n"
     ]
    },
    {
     "name": "stderr",
     "output_type": "stream",
     "text": [
      "100%|██████████| 98356/98356 [00:30<00:00, 3231.88it/s]\n"
     ]
    },
    {
     "name": "stdout",
     "output_type": "stream",
     "text": [
      "% unknown: 0.0\n"
     ]
    }
   ],
   "source": [
    "embeds =  True\n",
    "\n",
    "if embeds:\n",
    "    X_train, Y_train, unknown_train = get_embeddings_based_dataset(train, word2vec, p2i)\n",
    "    X_dev, Y_dev, unknown_dev =  get_embeddings_based_dataset(dev, word2vec, p2i)\n",
    "    X_test, Y_test, unknown_test =  get_embeddings_based_dataset(test, word2vec, p2i)\n",
    "else:\n",
    "    \n",
    "    X_train, Y_train = get_bert_based_dataset(train, p2i)\n",
    "    X_dev, Y_dev =  get_bert_based_dataset(dev, p2i)\n",
    "    X_test, Y_test =  get_bert_based_dataset(test, p2i)\n",
    "#X_train, Y_train = get_bert_based_dataset(train)"
   ]
  },
  {
   "cell_type": "code",
   "execution_count": 67,
   "metadata": {},
   "outputs": [
    {
     "name": "stdout",
     "output_type": "stream",
     "text": [
      "len train: 255724; len dev: 39343; len test: 98356\n"
     ]
    }
   ],
   "source": [
    "print(\"len train: {}; len dev: {}; len test: {}\".format(len(train), len(dev), len(test)))"
   ]
  },
  {
   "cell_type": "code",
   "execution_count": 43,
   "metadata": {},
   "outputs": [
    {
     "data": {
      "text/plain": [
       "312594"
      ]
     },
     "execution_count": 43,
     "metadata": {},
     "output_type": "execute_result"
    }
   ],
   "source": [
    "d = load_dataset(\"../data/biasbios/BIOS.OLD.pkl\")\n",
    "d2 = load_dataset(\"../data/biasbios/BIOS.pkl\")\n",
    "\n",
    "len(d)"
   ]
  },
  {
   "cell_type": "code",
   "execution_count": 80,
   "metadata": {
    "scrolled": false
   },
   "outputs": [
    {
     "name": "stderr",
     "output_type": "stream",
     "text": [
      "[Parallel(n_jobs=45)]: Using backend ThreadingBackend with 45 concurrent workers.\n"
     ]
    },
    {
     "name": "stdout",
     "output_type": "stream",
     "text": [
      "max_iter reached after 179 seconds\n",
      "time: 178.75429558753967\n",
      "0.7672521160053885\n"
     ]
    },
    {
     "name": "stderr",
     "output_type": "stream",
     "text": [
      "[Parallel(n_jobs=45)]: Done   1 tasks      | elapsed:  3.0min\n",
      "[Parallel(n_jobs=45)]: Done   1 out of   1 | elapsed:  3.0min finished\n"
     ]
    }
   ],
   "source": [
    "#clf = LinearSVC(max_iter = 10) #LogisticRegression()\n",
    "#clf = SGDClassifier(warm_start = True, loss = 'log', n_jobs = 64, max_iter = 250, random_state = 0)\n",
    "\n",
    "clf = LogisticRegression(warm_start = True, penalty = 'l2',\n",
    "                         solver = \"sag\", multi_class = 'multinomial',\n",
    "                         verbose = 10, max_iter = 20, n_jobs = 45, random_state = 1)\n",
    "\n",
    "start = time.time()\n",
    "idx = np.random.rand(X_train.shape[0]) < 1.5\n",
    "clf.fit(X_train[idx], Y_train[idx])\n",
    "print(\"time: {}\".format(time.time() - start))\n",
    "print(clf.score(X_dev, Y_dev))\n",
    "clf_original = copy.deepcopy(clf)"
   ]
  },
  {
   "cell_type": "code",
   "execution_count": 81,
   "metadata": {},
   "outputs": [
    {
     "name": "stdout",
     "output_type": "stream",
     "text": [
      "0.7661149294399935\n"
     ]
    }
   ],
   "source": [
    "print(clf.score(X_test, Y_test))\n"
   ]
  },
  {
   "cell_type": "markdown",
   "metadata": {},
   "source": [
    "#### Confusion Matrix"
   ]
  },
  {
   "cell_type": "code",
   "execution_count": 13,
   "metadata": {},
   "outputs": [
    {
     "data": {
      "text/plain": [
       "'\\ny_hat = clf.predict(X_dev)\\ncm = sklearn.metrics.confusion_matrix(Y_dev,y_hat)\\nlabels = [i2p[i] for i in range(len(i2p))]\\n'"
      ]
     },
     "execution_count": 13,
     "metadata": {},
     "output_type": "execute_result"
    }
   ],
   "source": [
    "\"\"\"\n",
    "y_hat = clf.predict(X_dev)\n",
    "cm = sklearn.metrics.confusion_matrix(Y_dev,y_hat)\n",
    "labels = [i2p[i] for i in range(len(i2p))]\n",
    "\"\"\""
   ]
  },
  {
   "cell_type": "code",
   "execution_count": 14,
   "metadata": {},
   "outputs": [
    {
     "data": {
      "text/plain": [
       "'\\ndf_cm = pd.DataFrame(cm, index = labels, columns = labels)\\n#plt.figure(figsize = (10,7))\\nsn.set(font_scale=0.3)#for label size\\nplt.figure(figsize = (10,7))\\nsn.heatmap(df_cm, annot=True, fmt=\\'g\\')\\nplt.savefig(\"confusion.png\", dpi = 600)\\nplt.show()\\n '"
      ]
     },
     "execution_count": 14,
     "metadata": {},
     "output_type": "execute_result"
    }
   ],
   "source": [
    "\n",
    "\"\"\"\n",
    "df_cm = pd.DataFrame(cm, index = labels, columns = labels)\n",
    "#plt.figure(figsize = (10,7))\n",
    "sn.set(font_scale=0.3)#for label size\n",
    "plt.figure(figsize = (10,7))\n",
    "sn.heatmap(df_cm, annot=True, fmt='g')\n",
    "plt.savefig(\"confusion.png\", dpi = 600)\n",
    "plt.show()\n",
    " \"\"\"\n",
    "#clf = copy.deepcopy(clf_original)"
   ]
  },
  {
   "cell_type": "markdown",
   "metadata": {},
   "source": [
    "### perform debiasing"
   ]
  },
  {
   "cell_type": "code",
   "execution_count": 82,
   "metadata": {
    "scrolled": true
   },
   "outputs": [
    {
     "name": "stderr",
     "output_type": "stream",
     "text": [
      "\r",
      "  0%|          | 0/45 [00:00<?, ?it/s]"
     ]
    },
    {
     "name": "stdout",
     "output_type": "stream",
     "text": [
      "Iteration 0, Accuracy: 0.9949419210533005\n"
     ]
    },
    {
     "name": "stderr",
     "output_type": "stream",
     "text": [
      "\r",
      "  2%|▏         | 1/45 [00:12<09:12, 12.56s/it]"
     ]
    },
    {
     "name": "stdout",
     "output_type": "stream",
     "text": [
      "Iteration 1, Accuracy: 0.9776071982309432\n"
     ]
    },
    {
     "name": "stderr",
     "output_type": "stream",
     "text": [
      "\r",
      "  4%|▍         | 2/45 [00:34<11:07, 15.52s/it]"
     ]
    },
    {
     "name": "stdout",
     "output_type": "stream",
     "text": [
      "Iteration 2, Accuracy: 0.9454286658363622\n"
     ]
    },
    {
     "name": "stderr",
     "output_type": "stream",
     "text": [
      "\r",
      "  7%|▋         | 3/45 [01:07<14:21, 20.52s/it]"
     ]
    },
    {
     "name": "stdout",
     "output_type": "stream",
     "text": [
      "Iteration 3, Accuracy: 0.8879089037439951\n"
     ]
    },
    {
     "name": "stderr",
     "output_type": "stream",
     "text": [
      "\r",
      "  9%|▉         | 4/45 [01:42<17:02, 24.94s/it]"
     ]
    },
    {
     "name": "stdout",
     "output_type": "stream",
     "text": [
      "Iteration 4, Accuracy: 0.8078438349897059\n"
     ]
    },
    {
     "name": "stderr",
     "output_type": "stream",
     "text": [
      "\r",
      " 11%|█         | 5/45 [02:29<21:04, 31.61s/it]"
     ]
    },
    {
     "name": "stdout",
     "output_type": "stream",
     "text": [
      "Iteration 5, Accuracy: 0.765345804844572\n"
     ]
    },
    {
     "name": "stderr",
     "output_type": "stream",
     "text": [
      "\r",
      " 13%|█▎        | 6/45 [03:15<23:18, 35.86s/it]"
     ]
    },
    {
     "name": "stdout",
     "output_type": "stream",
     "text": [
      "Iteration 6, Accuracy: 0.72978674732481\n"
     ]
    },
    {
     "name": "stderr",
     "output_type": "stream",
     "text": [
      "\r",
      " 16%|█▌        | 7/45 [04:05<25:25, 40.14s/it]"
     ]
    },
    {
     "name": "stdout",
     "output_type": "stream",
     "text": [
      "Iteration 7, Accuracy: 0.7019546043768904\n"
     ]
    },
    {
     "name": "stderr",
     "output_type": "stream",
     "text": [
      "\r",
      " 18%|█▊        | 8/45 [04:46<24:52, 40.35s/it]"
     ]
    },
    {
     "name": "stdout",
     "output_type": "stream",
     "text": [
      "Iteration 8, Accuracy: 0.6810868515364868\n"
     ]
    },
    {
     "name": "stderr",
     "output_type": "stream",
     "text": [
      "\r",
      " 20%|██        | 9/45 [05:26<24:15, 40.43s/it]"
     ]
    },
    {
     "name": "stdout",
     "output_type": "stream",
     "text": [
      "Iteration 9, Accuracy: 0.6621254098568996\n"
     ]
    },
    {
     "name": "stderr",
     "output_type": "stream",
     "text": [
      "\r",
      " 22%|██▏       | 10/45 [06:06<23:26, 40.19s/it]"
     ]
    },
    {
     "name": "stdout",
     "output_type": "stream",
     "text": [
      "Iteration 10, Accuracy: 0.641257657016496\n"
     ]
    },
    {
     "name": "stderr",
     "output_type": "stream",
     "text": [
      "\r",
      " 24%|██▍       | 11/45 [06:49<23:11, 40.91s/it]"
     ]
    },
    {
     "name": "stdout",
     "output_type": "stream",
     "text": [
      "Iteration 11, Accuracy: 0.6295147802658668\n"
     ]
    },
    {
     "name": "stderr",
     "output_type": "stream",
     "text": [
      "\r",
      " 27%|██▋       | 12/45 [11:22<1:00:51, 110.65s/it]"
     ]
    },
    {
     "name": "stdout",
     "output_type": "stream",
     "text": [
      "Iteration 12, Accuracy: 0.6294385278194342\n"
     ]
    },
    {
     "name": "stderr",
     "output_type": "stream",
     "text": [
      "\r",
      " 29%|██▉       | 13/45 [11:59<47:15, 88.62s/it]   "
     ]
    },
    {
     "name": "stdout",
     "output_type": "stream",
     "text": [
      "Iteration 13, Accuracy: 0.6149251455150853\n"
     ]
    },
    {
     "name": "stderr",
     "output_type": "stream",
     "text": [
      "\r",
      " 31%|███       | 14/45 [12:41<38:26, 74.42s/it]"
     ]
    },
    {
     "name": "stdout",
     "output_type": "stream",
     "text": [
      "Iteration 14, Accuracy: 0.6083420176397326\n"
     ]
    },
    {
     "name": "stderr",
     "output_type": "stream",
     "text": [
      "\r",
      " 33%|███▎      | 15/45 [13:17<31:28, 62.94s/it]"
     ]
    },
    {
     "name": "stdout",
     "output_type": "stream",
     "text": [
      "Iteration 15, Accuracy: 0.5968278982284015\n"
     ]
    },
    {
     "name": "stderr",
     "output_type": "stream",
     "text": [
      "\r",
      " 36%|███▌      | 16/45 [13:58<27:16, 56.43s/it]"
     ]
    },
    {
     "name": "stdout",
     "output_type": "stream",
     "text": [
      "Iteration 16, Accuracy: 0.5878555270314922\n"
     ]
    },
    {
     "name": "stderr",
     "output_type": "stream",
     "text": [
      "\r",
      " 38%|███▊      | 17/45 [14:38<24:01, 51.48s/it]"
     ]
    },
    {
     "name": "stdout",
     "output_type": "stream",
     "text": [
      "Iteration 17, Accuracy: 0.5826703606740716\n"
     ]
    },
    {
     "name": "stderr",
     "output_type": "stream",
     "text": [
      "\r",
      " 40%|████      | 18/45 [15:13<21:00, 46.69s/it]"
     ]
    },
    {
     "name": "stdout",
     "output_type": "stream",
     "text": [
      "Iteration 18, Accuracy: 0.5776122817273721\n"
     ]
    },
    {
     "name": "stderr",
     "output_type": "stream",
     "text": [
      "\r",
      " 42%|████▏     | 19/45 [15:48<18:41, 43.12s/it]"
     ]
    },
    {
     "name": "stdout",
     "output_type": "stream",
     "text": [
      "Iteration 19, Accuracy: 0.5742571740843352\n"
     ]
    },
    {
     "name": "stderr",
     "output_type": "stream",
     "text": [
      "\r",
      " 44%|████▍     | 20/45 [16:20<16:33, 39.72s/it]"
     ]
    },
    {
     "name": "stdout",
     "output_type": "stream",
     "text": [
      "Iteration 20, Accuracy: 0.572605037744961\n"
     ]
    },
    {
     "name": "stderr",
     "output_type": "stream",
     "text": [
      "\r",
      " 47%|████▋     | 21/45 [22:19<54:09, 135.39s/it]"
     ]
    },
    {
     "name": "stdout",
     "output_type": "stream",
     "text": [
      "Iteration 21, Accuracy: 0.5726558727092494\n"
     ]
    },
    {
     "name": "stderr",
     "output_type": "stream",
     "text": [
      "\r",
      " 49%|████▉     | 22/45 [22:53<40:19, 105.20s/it]"
     ]
    },
    {
     "name": "stdout",
     "output_type": "stream",
     "text": [
      "Iteration 22, Accuracy: 0.5679282210304247\n"
     ]
    },
    {
     "name": "stderr",
     "output_type": "stream",
     "text": [
      "\r",
      " 51%|█████     | 23/45 [23:23<30:17, 82.61s/it] "
     ]
    },
    {
     "name": "stdout",
     "output_type": "stream",
     "text": [
      "Iteration 23, Accuracy: 0.5662506672089063\n"
     ]
    },
    {
     "name": "stderr",
     "output_type": "stream",
     "text": [
      "\r",
      " 53%|█████▎    | 24/45 [23:59<23:56, 68.41s/it]"
     ]
    },
    {
     "name": "stdout",
     "output_type": "stream",
     "text": [
      "Iteration 24, Accuracy: 0.5601250540121495\n"
     ]
    },
    {
     "name": "stderr",
     "output_type": "stream",
     "text": [
      "\r",
      " 56%|█████▌    | 25/45 [24:36<19:42, 59.11s/it]"
     ]
    },
    {
     "name": "stdout",
     "output_type": "stream",
     "text": [
      "Iteration 25, Accuracy: 0.5577866456548815\n"
     ]
    },
    {
     "name": "stderr",
     "output_type": "stream",
     "text": [
      "\r",
      " 58%|█████▊    | 26/45 [25:06<15:59, 50.48s/it]"
     ]
    },
    {
     "name": "stdout",
     "output_type": "stream",
     "text": [
      "Iteration 26, Accuracy: 0.5531860813867778\n"
     ]
    },
    {
     "name": "stderr",
     "output_type": "stream",
     "text": [
      "\r",
      " 60%|██████    | 27/45 [25:39<13:33, 45.21s/it]"
     ]
    },
    {
     "name": "stdout",
     "output_type": "stream",
     "text": [
      "Iteration 27, Accuracy: 0.5488142744579722\n"
     ]
    },
    {
     "name": "stderr",
     "output_type": "stream",
     "text": [
      "\r",
      " 62%|██████▏   | 28/45 [26:10<11:36, 40.98s/it]"
     ]
    },
    {
     "name": "stdout",
     "output_type": "stream",
     "text": [
      "Iteration 28, Accuracy: 0.5476196527971939\n"
     ]
    },
    {
     "name": "stderr",
     "output_type": "stream",
     "text": [
      "\r",
      " 64%|██████▍   | 29/45 [27:01<11:40, 43.76s/it]"
     ]
    },
    {
     "name": "stdout",
     "output_type": "stream",
     "text": [
      "Iteration 29, Accuracy: 0.5476959052436265\n"
     ]
    },
    {
     "name": "stderr",
     "output_type": "stream",
     "text": [
      "\r",
      " 67%|██████▋   | 30/45 [28:01<12:10, 48.73s/it]"
     ]
    },
    {
     "name": "stdout",
     "output_type": "stream",
     "text": [
      "Iteration 30, Accuracy: 0.5478738276186361\n"
     ]
    },
    {
     "name": "stderr",
     "output_type": "stream",
     "text": [
      "\r",
      " 69%|██████▉   | 31/45 [28:32<10:07, 43.38s/it]"
     ]
    },
    {
     "name": "stdout",
     "output_type": "stream",
     "text": [
      "Iteration 31, Accuracy: 0.5420786416897542\n"
     ]
    },
    {
     "name": "stderr",
     "output_type": "stream",
     "text": [
      "\r",
      " 71%|███████   | 32/45 [29:05<08:44, 40.33s/it]"
     ]
    },
    {
     "name": "stdout",
     "output_type": "stream",
     "text": [
      "Iteration 32, Accuracy: 0.5371984851180642\n"
     ]
    },
    {
     "name": "stderr",
     "output_type": "stream",
     "text": [
      "\r",
      " 73%|███████▎  | 33/45 [29:31<07:11, 35.94s/it]"
     ]
    },
    {
     "name": "stdout",
     "output_type": "stream",
     "text": [
      "Iteration 33, Accuracy: 0.5374526599395064\n"
     ]
    },
    {
     "name": "stderr",
     "output_type": "stream",
     "text": [
      "\r",
      " 76%|███████▌  | 34/45 [29:56<06:00, 32.81s/it]"
     ]
    },
    {
     "name": "stdout",
     "output_type": "stream",
     "text": [
      "Iteration 34, Accuracy: 0.5331825229392776\n"
     ]
    },
    {
     "name": "stderr",
     "output_type": "stream",
     "text": [
      "\r",
      " 78%|███████▊  | 35/45 [30:28<05:24, 32.49s/it]"
     ]
    },
    {
     "name": "stdout",
     "output_type": "stream",
     "text": [
      "Iteration 35, Accuracy: 0.5275906768675495\n"
     ]
    },
    {
     "name": "stderr",
     "output_type": "stream",
     "text": [
      "\r",
      " 80%|████████  | 36/45 [30:56<04:41, 31.29s/it]"
     ]
    },
    {
     "name": "stdout",
     "output_type": "stream",
     "text": [
      "Iteration 36, Accuracy: 0.5247185013852528\n"
     ]
    },
    {
     "name": "stderr",
     "output_type": "stream",
     "text": [
      "\r",
      " 82%|████████▏ | 37/45 [31:23<03:58, 29.83s/it]"
     ]
    },
    {
     "name": "stdout",
     "output_type": "stream",
     "text": [
      "Iteration 37, Accuracy: 0.5225071804387057\n"
     ]
    },
    {
     "name": "stderr",
     "output_type": "stream",
     "text": [
      "\r",
      " 84%|████████▍ | 38/45 [32:02<03:48, 32.65s/it]"
     ]
    },
    {
     "name": "stdout",
     "output_type": "stream",
     "text": [
      "Iteration 38, Accuracy: 0.5224563454744173\n"
     ]
    },
    {
     "name": "stderr",
     "output_type": "stream",
     "text": [
      "\r",
      " 87%|████████▋ | 39/45 [32:54<03:50, 38.34s/it]"
     ]
    },
    {
     "name": "stdout",
     "output_type": "stream",
     "text": [
      "Iteration 39, Accuracy: 0.5213125587779275\n"
     ]
    },
    {
     "name": "stderr",
     "output_type": "stream",
     "text": [
      "\r",
      " 89%|████████▉ | 40/45 [33:25<03:01, 36.36s/it]"
     ]
    },
    {
     "name": "stdout",
     "output_type": "stream",
     "text": [
      "Iteration 40, Accuracy: 0.5165849070991028\n"
     ]
    },
    {
     "name": "stderr",
     "output_type": "stream",
     "text": [
      "\r",
      " 91%|█████████ | 41/45 [33:55<02:17, 34.31s/it]"
     ]
    },
    {
     "name": "stdout",
     "output_type": "stream",
     "text": [
      "Iteration 41, Accuracy: 0.5138398190275272\n"
     ]
    },
    {
     "name": "stderr",
     "output_type": "stream",
     "text": [
      "\r",
      " 93%|█████████▎| 42/45 [34:27<01:40, 33.62s/it]"
     ]
    },
    {
     "name": "stdout",
     "output_type": "stream",
     "text": [
      "Iteration 42, Accuracy: 0.5145515085275653\n"
     ]
    },
    {
     "name": "stderr",
     "output_type": "stream",
     "text": [
      "\r",
      " 96%|█████████▌| 43/45 [34:58<01:05, 32.71s/it]"
     ]
    },
    {
     "name": "stdout",
     "output_type": "stream",
     "text": [
      "Iteration 43, Accuracy: 0.5142973337061231\n"
     ]
    },
    {
     "name": "stderr",
     "output_type": "stream",
     "text": [
      "\r",
      " 98%|█████████▊| 44/45 [35:25<00:31, 31.02s/it]"
     ]
    },
    {
     "name": "stdout",
     "output_type": "stream",
     "text": [
      "Iteration 44, Accuracy: 0.5137381490989502\n"
     ]
    },
    {
     "name": "stderr",
     "output_type": "stream",
     "text": [
      "100%|██████████| 45/45 [35:53<00:00, 47.86s/it]"
     ]
    },
    {
     "name": "stdout",
     "output_type": "stream",
     "text": [
      "time: 2153.7102222442627\n"
     ]
    },
    {
     "name": "stderr",
     "output_type": "stream",
     "text": [
      "\n"
     ]
    }
   ],
   "source": [
    "def get_projection_matrix(num_clfs, X_train, Y_train, X_dev, Y_dev, dim=300):\n",
    "\n",
    "    is_autoregressive = True\n",
    "    min_acc = 0.\n",
    "    noise = False\n",
    "    dim = 300\n",
    "    n = num_clfs\n",
    "    start = time.time()\n",
    "    TYPE= \"svm\"\n",
    "    \n",
    "    \n",
    "    if TYPE == \"sgd\":\n",
    "        clf = SGDClassifier\n",
    "        params = {'max_iter': 1000, 'fit_intercept': True, 'class_weight': None, 'n_jobs': 64}\n",
    "    else:\n",
    "        clf = LinearSVC\n",
    "        params = {'max_iter': 1500, 'fit_intercept': True, 'class_weight': \"balanced\", \"dual\": False}\n",
    "        \n",
    "    P = debias.get_debiasing_projection(clf, params, n, dim, is_autoregressive, min_acc,\n",
    "                                              X_train, Y_train, X_dev, Y_dev, noise=noise)\n",
    "    print(\"time: {}\".format(time.time() - start))\n",
    "    return P\n",
    "\n",
    "\n",
    "\n",
    "num_clfs = 45\n",
    "Y_dev_gender = np.array([g2i[d[\"g\"]] for d in dev])\n",
    "Y_train_gender = np.array([g2i[d[\"g\"]] for d in train])\n",
    "idx = np.random.rand(X_train.shape[0]) < 1.\n",
    "P = get_projection_matrix(num_clfs, X_train[idx], Y_train_gender[idx], X_dev, Y_dev_gender, dim = 300)"
   ]
  },
  {
   "cell_type": "code",
   "execution_count": 83,
   "metadata": {},
   "outputs": [
    {
     "data": {
      "text/plain": [
       "array([0, 0, 0, 0, 1, 1, 1, 1, 0, 0])"
      ]
     },
     "execution_count": 83,
     "metadata": {},
     "output_type": "execute_result"
    }
   ],
   "source": [
    "Y_dev_gender[:10]"
   ]
  },
  {
   "cell_type": "markdown",
   "metadata": {},
   "source": [
    "#### test model without finetuning"
   ]
  },
  {
   "cell_type": "code",
   "execution_count": 89,
   "metadata": {},
   "outputs": [
    {
     "name": "stdout",
     "output_type": "stream",
     "text": [
      "0.7542892001118369\n"
     ]
    }
   ],
   "source": [
    "print(clf.score(X_dev.dot(P), Y_dev))"
   ]
  },
  {
   "cell_type": "markdown",
   "metadata": {},
   "source": [
    "### Perform finetuning"
   ]
  },
  {
   "cell_type": "code",
   "execution_count": 90,
   "metadata": {},
   "outputs": [
    {
     "name": "stderr",
     "output_type": "stream",
     "text": [
      "[Parallel(n_jobs=45)]: Using backend ThreadingBackend with 45 concurrent workers.\n"
     ]
    },
    {
     "name": "stdout",
     "output_type": "stream",
     "text": [
      "max_iter reached after 168 seconds\n"
     ]
    },
    {
     "name": "stderr",
     "output_type": "stream",
     "text": [
      "[Parallel(n_jobs=45)]: Done   1 tasks      | elapsed:  2.8min\n",
      "[Parallel(n_jobs=45)]: Done   1 out of   1 | elapsed:  2.8min finished\n"
     ]
    },
    {
     "data": {
      "text/plain": [
       "LogisticRegression(C=1.0, class_weight=None, dual=False, fit_intercept=True,\n",
       "                   intercept_scaling=1, l1_ratio=None, max_iter=20,\n",
       "                   multi_class='multinomial', n_jobs=45, penalty='l2',\n",
       "                   random_state=1, solver='sag', tol=0.0001, verbose=10,\n",
       "                   warm_start=True)"
      ]
     },
     "execution_count": 90,
     "metadata": {},
     "output_type": "execute_result"
    }
   ],
   "source": [
    "clf.fit(X_train.dot(P), Y_train)"
   ]
  },
  {
   "cell_type": "markdown",
   "metadata": {},
   "source": [
    "#### test again"
   ]
  },
  {
   "cell_type": "code",
   "execution_count": 91,
   "metadata": {},
   "outputs": [
    {
     "name": "stdout",
     "output_type": "stream",
     "text": [
      "0.757212210558422\n"
     ]
    }
   ],
   "source": [
    "print(clf.score(X_dev.dot(P), Y_dev))"
   ]
  },
  {
   "cell_type": "code",
   "execution_count": 92,
   "metadata": {},
   "outputs": [],
   "source": [
    "def get_TPR(y_pred, y_true, p2i, i2p, gender):\n",
    "    \n",
    "    scores = defaultdict(Counter)\n",
    "    prof_count_total = defaultdict(Counter)\n",
    "    \n",
    "    for y_hat, y, g in zip(y_pred, y_true, gender):\n",
    "        \n",
    "        if y == y_hat:\n",
    "            \n",
    "            scores[i2p[y]][g] += 1\n",
    "        \n",
    "        prof_count_total[i2p[y]][g] += 1\n",
    "    \n",
    "    tprs = defaultdict(dict)\n",
    "    tprs_change = dict()\n",
    "    tprs_ratio = []\n",
    "    \n",
    "    for profession, scores_dict in scores.items():\n",
    "        \n",
    "        good_m, good_f = scores_dict[\"m\"], scores_dict[\"f\"]\n",
    "        prof_total_f = prof_count_total[profession][\"f\"]\n",
    "        prof_total_m = prof_count_total[profession][\"m\"]\n",
    "        tpr_m = (good_m) / prof_total_m\n",
    "        tpr_f = (good_f) / prof_total_f\n",
    "        \n",
    "        tprs[profession][\"m\"] = tpr_m\n",
    "        tprs[profession][\"f\"] = tpr_f\n",
    "        tprs_ratio.append(tpr_m/tpr_f)\n",
    "        tprs_change[profession] = tpr_m - tpr_f\n",
    "        \n",
    "    return tprs, tprs_change, np.mean(np.abs(tprs_ratio))\n",
    "\n",
    "def get_FPR(y_pred, y_true, p2i, i2p, gender):\n",
    "    \n",
    "    fp = defaultdict(Counter)\n",
    "    neg_count_total = defaultdict(Counter)\n",
    "    pos_count_total = defaultdict(Counter)\n",
    "    \n",
    "    for y_hat, y, g in zip(y_pred, y_true, gender):\n",
    "        \n",
    "        if y != y_hat:\n",
    "            \n",
    "            fp[i2p[y_hat]][g] += 1 # count false positives for y_hat\n",
    "        \n",
    "        neg_count_total[i2p[y_hat]][g] += 1 # count \"not y_hat\"\n",
    "                \n",
    "    fprs = defaultdict(dict)\n",
    "    fprs_change = dict()\n",
    "    fprs_ratio = []\n",
    "    \n",
    "    #print(prof_count_total)\n",
    "    \n",
    "    for profession, scores_dict in fp.items():\n",
    "        \n",
    "        good_m, good_f = scores_dict[\"m\"], scores_dict[\"f\"]\n",
    "        prof_total_f = neg_count_total[profession][\"f\"]\n",
    "        prof_total_m = neg_count_total[profession][\"m\"]\n",
    "        print(profession)\n",
    "        fpr_m = (good_m+good_f) / prof_total_m\n",
    "        fpr_f = (good_m+good_f) / prof_total_f\n",
    "        \n",
    "        fprs[profession][\"m\"] = fpr_m\n",
    "        fprs[profession][\"f\"] = fpr_f\n",
    "        fprs_ratio.append(fpr_m/fpr_f)\n",
    "        fprs_change[profession] = fpr_m - fpr_f\n",
    "        \n",
    "    return fprs, fprs_change, np.mean(np.abs(fprs_ratio))    \n",
    "    \n",
    "def similarity_vs_tpr(tprs, word2vec, title, measure, prof2fem):\n",
    "    \n",
    "    professions = list(tprs.keys())\n",
    "    #\n",
    "    \"\"\" \n",
    "    sims = dict()\n",
    "    gender_direction = word2vec[\"he\"] - word2vec[\"she\"]\n",
    "    \n",
    "    for p in professions:\n",
    "        sim = word2vec.cosine_similarities(word2vec[p], [gender_direction])[0]\n",
    "        sims[p] = sim\n",
    "    \"\"\"\n",
    "    tpr_lst = [tprs[p] for p in professions]\n",
    "    sim_lst = [prof2fem[p] for p in professions]\n",
    "\n",
    "    #professions = [p.replace(\"_\", \" \") for p in professions if p in word2vec]\n",
    "    \n",
    "    plt.plot(sim_lst, tpr_lst, marker = \"o\", linestyle = \"none\")\n",
    "    plt.xlabel(\"% women\", fontsize = 13)\n",
    "    plt.ylabel(\"{}_diff_female {}\".format(measure, title), fontsize = 13)\n",
    "    for p in professions:\n",
    "        x,y = prof2fem[p], tprs[p]\n",
    "        plt.annotate(p , (x,y), size = 4, color = \"red\")\n",
    "    plt.savefig(\"{}_vs_bias_{}\".format(measure, title), dpi = 600)\n",
    "    print(\"Correlation: {}; p-value: {}\".format(*pearsonr(sim_lst, tpr_lst)))\n",
    "    plt.show()\n",
    "    \n",
    "    \n",
    "def save_vecs_and_words(vecs, words):\n",
    "    def to_string(arr):\n",
    "        return \"\\t\".join([str(x) for x in arr])\n",
    "    \n",
    "    with open(\"vecs.txt\", \"w\") as f:\n",
    "        for v in vecs:\n",
    "            assert len(v) == 300\n",
    "            f.write(to_string(v) + \"\\n\")\n",
    "    \n",
    "    with open(\"labels.txt\", \"w\") as f:\n",
    "            f.write(\"Profession\\n\")\n",
    "            for w in words:\n",
    "                f.write(w + \"\\n\")"
   ]
  },
  {
   "cell_type": "code",
   "execution_count": 93,
   "metadata": {},
   "outputs": [
    {
     "name": "stdout",
     "output_type": "stream",
     "text": [
      "Correlation: -0.9220792890829451; p-value: 3.1866268600190696e-12\n"
     ]
    },
    {
     "data": {
      "image/png": "[encoded data removed]",
      "text/plain": [
       "<Figure size 432x288 with 1 Axes>"
      ]
     },
     "metadata": {
      "needs_background": "light"
     },
     "output_type": "display_data"
    },
    {
     "name": "stdout",
     "output_type": "stream",
     "text": [
      "Correlation: -0.6852509098930057; p-value: 5.734344375527914e-05\n"
     ]
    },
    {
     "data": {
      "image/png": "[encoded data removed]",
      "text/plain": [
       "<Figure size 432x288 with 1 Axes>"
      ]
     },
     "metadata": {
      "needs_background": "light"
     },
     "output_type": "display_data"
    },
    {
     "data": {
      "text/plain": [
       "' \\nfprs_before, fprs_change_before, mean_ratio_before = get_FPR(y_pred_before, Y_test, p2i, i2p, test_gender)\\nsimilarity_vs_tpr(fprs_change_before, word2vec, \"before\", \"FPR\", prof2fem)\\n\\n\\nfprs, fprs_change_after, mean_ratio_after = get_FPR(y_pred_after, Y_test, p2i, i2p, test_gender)\\nsimilarity_vs_tpr(fprs_change_after, word2vec, \"after\", \"FPR\", prof2fem)\\n\\n#print(\"TPR diff ratio before: {}; after: {}\".format(mean_ratio_before, mean_ratio_after))\\n'"
      ]
     },
     "execution_count": 93,
     "metadata": {},
     "output_type": "execute_result"
    }
   ],
   "source": [
    "y_pred_before = clf_original.predict(X_test)\n",
    "test_gender = [d[\"g\"] for d in test]\n",
    "tprs_before, tprs_change_before, mean_ratio_before = get_TPR(y_pred_before, Y_test, p2i, i2p, test_gender)\n",
    "similarity_vs_tpr(tprs_change_before, word2vec, \"before\", \"TPR\", prof2fem)\n",
    "\n",
    "\n",
    "y_pred_after = clf.predict(X_test.dot(P))\n",
    "tprs, tprs_change_after, mean_ratio_after = get_TPR(y_pred_after, Y_test, p2i, i2p, test_gender)\n",
    "similarity_vs_tpr(tprs_change_after, word2vec, \"after\", \"TPR\", prof2fem)\n",
    "\n",
    " \n",
    "#print(\"TPR diff ratio before: {}; after: {}\".format(mean_ratio_before, mean_ratio_after))\n",
    "\"\"\" \n",
    "fprs_before, fprs_change_before, mean_ratio_before = get_FPR(y_pred_before, Y_test, p2i, i2p, test_gender)\n",
    "similarity_vs_tpr(fprs_change_before, word2vec, \"before\", \"FPR\", prof2fem)\n",
    "\n",
    "\n",
    "fprs, fprs_change_after, mean_ratio_after = get_FPR(y_pred_after, Y_test, p2i, i2p, test_gender)\n",
    "similarity_vs_tpr(fprs_change_after, word2vec, \"after\", \"FPR\", prof2fem)\n",
    "\n",
    "#print(\"TPR diff ratio before: {}; after: {}\".format(mean_ratio_before, mean_ratio_after))\n",
    "\"\"\"\n"
   ]
  },
  {
   "cell_type": "code",
   "execution_count": 22,
   "metadata": {},
   "outputs": [
    {
     "data": {
      "text/plain": [
       "['f',\n",
       " 'f',\n",
       " 'm',\n",
       " 'm',\n",
       " 'm',\n",
       " 'f',\n",
       " 'f',\n",
       " 'm',\n",
       " 'm',\n",
       " 'f',\n",
       " 'm',\n",
       " 'm',\n",
       " 'f',\n",
       " 'm',\n",
       " 'f',\n",
       " 'f',\n",
       " 'f',\n",
       " 'f',\n",
       " 'f',\n",
       " 'f',\n",
       " 'f',\n",
       " 'm',\n",
       " 'f',\n",
       " 'm',\n",
       " 'f',\n",
       " 'f',\n",
       " 'm',\n",
       " 'f',\n",
       " 'f',\n",
       " 'f',\n",
       " 'm',\n",
       " 'f',\n",
       " 'm',\n",
       " 'm',\n",
       " 'f',\n",
       " 'm',\n",
       " 'f',\n",
       " 'm',\n",
       " 'm',\n",
       " 'f',\n",
       " 'm',\n",
       " 'm',\n",
       " 'f',\n",
       " 'm',\n",
       " 'f',\n",
       " 'm',\n",
       " 'm',\n",
       " 'f',\n",
       " 'f',\n",
       " 'm',\n",
       " 'm',\n",
       " 'f',\n",
       " 'm',\n",
       " 'f',\n",
       " 'm',\n",
       " 'f',\n",
       " 'm',\n",
       " 'f',\n",
       " 'f',\n",
       " 'f',\n",
       " 'f',\n",
       " 'm',\n",
       " 'm',\n",
       " 'm',\n",
       " 'm',\n",
       " 'm',\n",
       " 'f',\n",
       " 'f',\n",
       " 'f',\n",
       " 'm',\n",
       " 'f',\n",
       " 'm',\n",
       " 'f',\n",
       " 'f',\n",
       " 'f',\n",
       " 'm',\n",
       " 'm',\n",
       " 'm',\n",
       " 'f',\n",
       " 'm',\n",
       " 'm',\n",
       " 'f',\n",
       " 'm',\n",
       " 'm',\n",
       " 'f',\n",
       " 'f',\n",
       " 'm',\n",
       " 'f',\n",
       " 'f',\n",
       " 'm',\n",
       " 'm',\n",
       " 'f',\n",
       " 'f',\n",
       " 'f',\n",
       " 'm',\n",
       " 'm',\n",
       " 'm',\n",
       " 'm',\n",
       " 'm',\n",
       " 'm',\n",
       " 'f',\n",
       " 'm',\n",
       " 'f',\n",
       " 'm',\n",
       " 'f',\n",
       " 'f',\n",
       " 'f',\n",
       " 'f',\n",
       " 'm',\n",
       " 'f',\n",
       " 'f',\n",
       " 'f',\n",
       " 'm',\n",
       " 'f',\n",
       " 'm',\n",
       " 'f',\n",
       " 'f',\n",
       " 'm',\n",
       " 'm',\n",
       " 'f',\n",
       " 'm',\n",
       " 'm',\n",
       " 'f',\n",
       " 'f',\n",
       " 'f',\n",
       " 'm',\n",
       " 'f',\n",
       " 'm',\n",
       " 'f',\n",
       " 'f',\n",
       " 'm',\n",
       " 'f',\n",
       " 'f',\n",
       " 'f',\n",
       " 'm',\n",
       " 'f',\n",
       " 'f',\n",
       " 'f',\n",
       " 'm',\n",
       " 'm',\n",
       " 'm',\n",
       " 'm',\n",
       " 'm',\n",
       " 'm',\n",
       " 'm',\n",
       " 'f',\n",
       " 'f',\n",
       " 'f',\n",
       " 'm',\n",
       " 'm',\n",
       " 'f',\n",
       " 'm',\n",
       " 'f',\n",
       " 'f',\n",
       " 'f',\n",
       " 'f',\n",
       " 'm',\n",
       " 'f',\n",
       " 'm',\n",
       " 'm',\n",
       " 'f',\n",
       " 'f',\n",
       " 'f',\n",
       " 'f',\n",
       " 'f',\n",
       " 'm',\n",
       " 'm',\n",
       " 'm',\n",
       " 'm',\n",
       " 'm',\n",
       " 'm',\n",
       " 'm',\n",
       " 'f',\n",
       " 'm',\n",
       " 'f',\n",
       " 'm',\n",
       " 'f',\n",
       " 'm',\n",
       " 'm',\n",
       " 'f',\n",
       " 'm',\n",
       " 'f',\n",
       " 'm',\n",
       " 'f',\n",
       " 'f',\n",
       " 'f',\n",
       " 'm',\n",
       " 'f',\n",
       " 'm',\n",
       " 'f',\n",
       " 'f',\n",
       " 'm',\n",
       " 'm',\n",
       " 'f',\n",
       " 'f',\n",
       " 'm',\n",
       " 'm',\n",
       " 'f',\n",
       " 'f',\n",
       " 'f',\n",
       " 'f',\n",
       " 'm',\n",
       " 'm',\n",
       " 'm',\n",
       " 'f',\n",
       " 'f',\n",
       " 'm',\n",
       " 'm',\n",
       " 'f',\n",
       " 'm',\n",
       " 'm',\n",
       " 'm',\n",
       " 'f',\n",
       " 'f',\n",
       " 'm',\n",
       " 'f',\n",
       " 'm',\n",
       " 'f',\n",
       " 'f',\n",
       " 'f',\n",
       " 'f',\n",
       " 'f',\n",
       " 'f',\n",
       " 'm',\n",
       " 'm',\n",
       " 'm',\n",
       " 'm',\n",
       " 'm',\n",
       " 'm',\n",
       " 'm',\n",
       " 'm',\n",
       " 'f',\n",
       " 'f',\n",
       " 'm',\n",
       " 'f',\n",
       " 'm',\n",
       " 'm',\n",
       " 'f',\n",
       " 'm',\n",
       " 'f',\n",
       " 'f',\n",
       " 'f',\n",
       " 'f',\n",
       " 'f',\n",
       " 'm',\n",
       " 'f',\n",
       " 'f',\n",
       " 'f',\n",
       " 'f',\n",
       " 'f',\n",
       " 'm',\n",
       " 'm',\n",
       " 'm',\n",
       " 'f',\n",
       " 'm',\n",
       " 'm',\n",
       " 'f',\n",
       " 'm',\n",
       " 'm',\n",
       " 'm',\n",
       " 'f',\n",
       " 'f',\n",
       " 'm',\n",
       " 'm',\n",
       " 'm',\n",
       " 'm',\n",
       " 'f',\n",
       " 'f',\n",
       " 'f',\n",
       " 'm',\n",
       " 'm',\n",
       " 'm',\n",
       " 'm',\n",
       " 'm',\n",
       " 'f',\n",
       " 'f',\n",
       " 'm',\n",
       " 'f',\n",
       " 'm',\n",
       " 'f',\n",
       " 'm',\n",
       " 'f',\n",
       " 'm',\n",
       " 'm',\n",
       " 'm',\n",
       " 'f',\n",
       " 'm',\n",
       " 'm',\n",
       " 'm',\n",
       " 'm',\n",
       " 'm',\n",
       " 'm',\n",
       " 'f',\n",
       " 'm',\n",
       " 'f',\n",
       " 'm',\n",
       " 'f',\n",
       " 'm',\n",
       " 'f',\n",
       " 'f',\n",
       " 'm',\n",
       " 'f',\n",
       " 'm',\n",
       " 'f',\n",
       " 'm',\n",
       " 'm',\n",
       " 'f',\n",
       " 'm',\n",
       " 'm',\n",
       " 'm',\n",
       " 'm',\n",
       " 'm',\n",
       " 'f',\n",
       " 'f',\n",
       " 'm',\n",
       " 'f',\n",
       " 'f',\n",
       " 'f',\n",
       " 'm',\n",
       " 'f',\n",
       " 'f',\n",
       " 'm',\n",
       " 'm',\n",
       " 'm',\n",
       " 'f',\n",
       " 'm',\n",
       " 'f',\n",
       " 'm',\n",
       " 'f',\n",
       " 'm',\n",
       " 'm',\n",
       " 'm',\n",
       " 'm',\n",
       " 'f',\n",
       " 'f',\n",
       " 'f',\n",
       " 'f',\n",
       " 'm',\n",
       " 'f',\n",
       " 'f',\n",
       " 'f',\n",
       " 'f',\n",
       " 'f',\n",
       " 'f',\n",
       " 'm',\n",
       " 'f',\n",
       " 'm',\n",
       " 'm',\n",
       " 'f',\n",
       " 'f',\n",
       " 'f',\n",
       " 'f',\n",
       " 'm',\n",
       " 'f',\n",
       " 'm',\n",
       " 'f',\n",
       " 'm',\n",
       " 'm',\n",
       " 'f',\n",
       " 'm',\n",
       " 'f',\n",
       " 'f',\n",
       " 'm',\n",
       " 'm',\n",
       " 'f',\n",
       " 'm',\n",
       " 'f',\n",
       " 'm',\n",
       " 'm',\n",
       " 'm',\n",
       " 'f',\n",
       " 'm',\n",
       " 'm',\n",
       " 'f',\n",
       " 'f',\n",
       " 'f',\n",
       " 'f',\n",
       " 'f',\n",
       " 'f',\n",
       " 'f',\n",
       " 'm',\n",
       " 'f',\n",
       " 'f',\n",
       " 'f',\n",
       " 'm',\n",
       " 'm',\n",
       " 'm',\n",
       " 'f',\n",
       " 'f',\n",
       " 'f',\n",
       " 'm',\n",
       " 'm',\n",
       " 'm',\n",
       " 'f',\n",
       " 'f',\n",
       " 'm',\n",
       " 'f',\n",
       " 'f',\n",
       " 'f',\n",
       " 'm',\n",
       " 'm',\n",
       " 'f',\n",
       " 'f',\n",
       " 'f',\n",
       " 'f',\n",
       " 'f',\n",
       " 'm',\n",
       " 'f',\n",
       " 'f',\n",
       " 'm',\n",
       " 'f',\n",
       " 'm',\n",
       " 'm',\n",
       " 'm',\n",
       " 'm',\n",
       " 'm',\n",
       " 'm',\n",
       " 'm',\n",
       " 'm',\n",
       " 'm',\n",
       " 'f',\n",
       " 'm',\n",
       " 'f',\n",
       " 'm',\n",
       " 'm',\n",
       " 'm',\n",
       " 'm',\n",
       " 'm',\n",
       " 'f',\n",
       " 'f',\n",
       " 'm',\n",
       " 'f',\n",
       " 'm',\n",
       " 'm',\n",
       " 'm',\n",
       " 'f',\n",
       " 'm',\n",
       " 'm',\n",
       " 'm',\n",
       " 'm',\n",
       " 'f',\n",
       " 'm',\n",
       " 'f',\n",
       " 'm',\n",
       " 'f',\n",
       " 'f',\n",
       " 'm',\n",
       " 'f',\n",
       " 'f',\n",
       " 'm',\n",
       " 'm',\n",
       " 'm',\n",
       " 'm',\n",
       " 'm',\n",
       " 'f',\n",
       " 'm',\n",
       " 'm',\n",
       " 'm',\n",
       " 'f',\n",
       " 'f',\n",
       " 'f',\n",
       " 'f',\n",
       " 'm',\n",
       " 'f',\n",
       " 'm',\n",
       " 'm',\n",
       " 'm',\n",
       " 'm',\n",
       " 'f',\n",
       " 'f',\n",
       " 'm',\n",
       " 'f',\n",
       " 'f',\n",
       " 'm',\n",
       " 'm',\n",
       " 'f',\n",
       " 'f',\n",
       " 'f',\n",
       " 'f',\n",
       " 'm',\n",
       " 'f',\n",
       " 'f',\n",
       " 'm',\n",
       " 'f',\n",
       " 'f',\n",
       " 'm',\n",
       " 'm',\n",
       " 'm',\n",
       " 'f',\n",
       " 'f',\n",
       " 'm',\n",
       " 'm',\n",
       " 'm',\n",
       " 'm',\n",
       " 'm',\n",
       " 'm',\n",
       " 'f',\n",
       " 'f',\n",
       " 'm',\n",
       " 'f',\n",
       " 'm',\n",
       " 'm',\n",
       " 'm',\n",
       " 'm',\n",
       " 'f',\n",
       " 'f',\n",
       " 'm',\n",
       " 'f',\n",
       " 'm',\n",
       " 'm',\n",
       " 'm',\n",
       " 'f',\n",
       " 'm',\n",
       " 'm',\n",
       " 'f',\n",
       " 'f',\n",
       " 'm',\n",
       " 'm',\n",
       " 'f',\n",
       " 'm',\n",
       " 'f',\n",
       " 'm',\n",
       " 'f',\n",
       " 'f',\n",
       " 'm',\n",
       " 'f',\n",
       " 'f',\n",
       " 'f',\n",
       " 'm',\n",
       " 'm',\n",
       " 'm',\n",
       " 'm',\n",
       " 'm',\n",
       " 'm',\n",
       " 'm',\n",
       " 'm',\n",
       " 'f',\n",
       " 'f',\n",
       " 'm',\n",
       " 'f',\n",
       " 'm',\n",
       " 'm',\n",
       " 'm',\n",
       " 'm',\n",
       " 'm',\n",
       " 'f',\n",
       " 'f',\n",
       " 'f',\n",
       " 'm',\n",
       " 'f',\n",
       " 'm',\n",
       " 'm',\n",
       " 'f',\n",
       " 'f',\n",
       " 'f',\n",
       " 'f',\n",
       " 'f',\n",
       " 'f',\n",
       " 'm',\n",
       " 'f',\n",
       " 'f',\n",
       " 'f',\n",
       " 'f',\n",
       " 'f',\n",
       " 'm',\n",
       " 'f',\n",
       " 'f',\n",
       " 'm',\n",
       " 'm',\n",
       " 'f',\n",
       " 'f',\n",
       " 'f',\n",
       " 'm',\n",
       " 'm',\n",
       " 'm',\n",
       " 'f',\n",
       " 'f',\n",
       " 'm',\n",
       " 'm',\n",
       " 'f',\n",
       " 'f',\n",
       " 'f',\n",
       " 'm',\n",
       " 'm',\n",
       " 'm',\n",
       " 'm',\n",
       " 'f',\n",
       " 'f',\n",
       " 'f',\n",
       " 'f',\n",
       " 'm',\n",
       " 'm',\n",
       " 'm',\n",
       " 'm',\n",
       " 'm',\n",
       " 'f',\n",
       " 'f',\n",
       " 'm',\n",
       " 'm',\n",
       " 'f',\n",
       " 'm',\n",
       " 'f',\n",
       " 'm',\n",
       " 'm',\n",
       " 'f',\n",
       " 'm',\n",
       " 'm',\n",
       " 'f',\n",
       " 'm',\n",
       " 'f',\n",
       " 'm',\n",
       " 'f',\n",
       " 'm',\n",
       " 'm',\n",
       " 'f',\n",
       " 'm',\n",
       " 'f',\n",
       " 'm',\n",
       " 'm',\n",
       " 'm',\n",
       " 'f',\n",
       " 'm',\n",
       " 'f',\n",
       " 'f',\n",
       " 'f',\n",
       " 'm',\n",
       " 'f',\n",
       " 'f',\n",
       " 'm',\n",
       " 'f',\n",
       " 'm',\n",
       " 'f',\n",
       " 'f',\n",
       " 'f',\n",
       " 'f',\n",
       " 'm',\n",
       " 'm',\n",
       " 'f',\n",
       " 'm',\n",
       " 'f',\n",
       " 'm',\n",
       " 'm',\n",
       " 'f',\n",
       " 'f',\n",
       " 'f',\n",
       " 'm',\n",
       " 'm',\n",
       " 'm',\n",
       " 'm',\n",
       " 'm',\n",
       " 'm',\n",
       " 'f',\n",
       " 'm',\n",
       " 'f',\n",
       " 'f',\n",
       " 'm',\n",
       " 'f',\n",
       " 'm',\n",
       " 'm',\n",
       " 'm',\n",
       " 'f',\n",
       " 'm',\n",
       " 'm',\n",
       " 'm',\n",
       " 'm',\n",
       " 'f',\n",
       " 'm',\n",
       " 'f',\n",
       " 'f',\n",
       " 'm',\n",
       " 'm',\n",
       " 'f',\n",
       " 'f',\n",
       " 'm',\n",
       " 'm',\n",
       " 'm',\n",
       " 'm',\n",
       " 'm',\n",
       " 'm',\n",
       " 'f',\n",
       " 'm',\n",
       " 'm',\n",
       " 'f',\n",
       " 'f',\n",
       " 'f',\n",
       " 'm',\n",
       " 'f',\n",
       " 'f',\n",
       " 'm',\n",
       " 'm',\n",
       " 'f',\n",
       " 'f',\n",
       " 'f',\n",
       " 'f',\n",
       " 'f',\n",
       " 'm',\n",
       " 'm',\n",
       " 'm',\n",
       " 'm',\n",
       " 'm',\n",
       " 'm',\n",
       " 'f',\n",
       " 'f',\n",
       " 'm',\n",
       " 'm',\n",
       " 'f',\n",
       " 'm',\n",
       " 'm',\n",
       " 'm',\n",
       " 'f',\n",
       " 'f',\n",
       " 'f',\n",
       " 'm',\n",
       " 'm',\n",
       " 'f',\n",
       " 'f',\n",
       " 'm',\n",
       " 'm',\n",
       " 'm',\n",
       " 'm',\n",
       " 'f',\n",
       " 'f',\n",
       " 'f',\n",
       " 'm',\n",
       " 'f',\n",
       " 'f',\n",
       " 'm',\n",
       " 'f',\n",
       " 'f',\n",
       " 'f',\n",
       " 'm',\n",
       " 'm',\n",
       " 'f',\n",
       " 'm',\n",
       " 'f',\n",
       " 'f',\n",
       " 'f',\n",
       " 'f',\n",
       " 'f',\n",
       " 'm',\n",
       " 'f',\n",
       " 'm',\n",
       " 'm',\n",
       " 'm',\n",
       " 'f',\n",
       " 'f',\n",
       " 'm',\n",
       " 'f',\n",
       " 'm',\n",
       " 'm',\n",
       " 'm',\n",
       " 'm',\n",
       " 'm',\n",
       " 'f',\n",
       " 'm',\n",
       " 'm',\n",
       " 'm',\n",
       " 'f',\n",
       " 'm',\n",
       " 'f',\n",
       " 'm',\n",
       " 'm',\n",
       " 'f',\n",
       " 'm',\n",
       " 'f',\n",
       " 'f',\n",
       " 'f',\n",
       " 'f',\n",
       " 'm',\n",
       " 'f',\n",
       " 'm',\n",
       " 'm',\n",
       " 'f',\n",
       " 'm',\n",
       " 'f',\n",
       " 'f',\n",
       " 'm',\n",
       " 'm',\n",
       " 'm',\n",
       " 'f',\n",
       " 'f',\n",
       " 'm',\n",
       " 'm',\n",
       " 'f',\n",
       " 'm',\n",
       " 'm',\n",
       " 'm',\n",
       " 'f',\n",
       " 'f',\n",
       " 'f',\n",
       " 'm',\n",
       " 'm',\n",
       " 'f',\n",
       " 'f',\n",
       " 'f',\n",
       " 'f',\n",
       " 'm',\n",
       " 'm',\n",
       " 'f',\n",
       " 'm',\n",
       " 'f',\n",
       " 'm',\n",
       " 'f',\n",
       " 'f',\n",
       " 'm',\n",
       " 'm',\n",
       " 'f',\n",
       " 'f',\n",
       " 'm',\n",
       " 'f',\n",
       " 'f',\n",
       " 'f',\n",
       " 'm',\n",
       " 'm',\n",
       " 'f',\n",
       " 'f',\n",
       " 'f',\n",
       " 'f',\n",
       " 'f',\n",
       " 'm',\n",
       " 'f',\n",
       " 'm',\n",
       " 'm',\n",
       " 'f',\n",
       " 'f',\n",
       " 'f',\n",
       " 'f',\n",
       " 'f',\n",
       " 'f',\n",
       " 'f',\n",
       " 'm',\n",
       " 'f',\n",
       " 'm',\n",
       " 'f',\n",
       " 'm',\n",
       " 'm',\n",
       " 'm',\n",
       " 'm',\n",
       " 'f',\n",
       " 'm',\n",
       " 'm',\n",
       " 'm',\n",
       " 'm',\n",
       " 'f',\n",
       " 'f',\n",
       " 'm',\n",
       " 'm',\n",
       " 'f',\n",
       " 'm',\n",
       " 'm',\n",
       " 'm',\n",
       " 'f',\n",
       " 'm',\n",
       " 'f',\n",
       " 'f',\n",
       " 'm',\n",
       " 'f',\n",
       " 'm',\n",
       " 'm',\n",
       " 'f',\n",
       " 'm',\n",
       " 'm',\n",
       " 'f',\n",
       " 'm',\n",
       " 'm',\n",
       " 'f',\n",
       " 'm',\n",
       " 'm',\n",
       " 'm',\n",
       " 'f',\n",
       " 'm',\n",
       " 'f',\n",
       " 'm',\n",
       " 'm',\n",
       " 'f',\n",
       " 'f',\n",
       " 'm',\n",
       " 'm',\n",
       " 'f',\n",
       " 'f',\n",
       " 'm',\n",
       " 'm',\n",
       " 'f',\n",
       " 'f',\n",
       " 'f',\n",
       " 'm',\n",
       " 'f',\n",
       " 'f',\n",
       " 'f',\n",
       " 'm',\n",
       " 'm',\n",
       " 'm',\n",
       " 'm',\n",
       " 'm',\n",
       " 'f',\n",
       " 'f',\n",
       " 'f',\n",
       " 'm',\n",
       " 'm',\n",
       " 'f',\n",
       " 'f',\n",
       " 'm',\n",
       " 'f',\n",
       " 'm',\n",
       " 'f',\n",
       " 'm',\n",
       " 'f',\n",
       " 'm',\n",
       " 'f',\n",
       " 'm',\n",
       " 'm',\n",
       " 'm',\n",
       " 'f',\n",
       " 'f',\n",
       " 'm',\n",
       " 'f',\n",
       " 'f',\n",
       " 'f',\n",
       " 'm',\n",
       " 'm',\n",
       " 'm',\n",
       " 'f',\n",
       " 'f',\n",
       " 'f',\n",
       " 'f',\n",
       " 'f',\n",
       " 'f',\n",
       " 'm',\n",
       " 'f',\n",
       " 'm',\n",
       " 'm',\n",
       " 'm',\n",
       " 'm',\n",
       " 'm',\n",
       " 'f',\n",
       " 'f',\n",
       " 'm',\n",
       " 'f',\n",
       " 'm',\n",
       " 'm',\n",
       " 'm',\n",
       " 'f',\n",
       " 'm',\n",
       " 'f',\n",
       " 'm',\n",
       " 'm',\n",
       " 'f',\n",
       " 'm',\n",
       " 'm',\n",
       " 'm',\n",
       " 'f',\n",
       " 'f',\n",
       " 'm',\n",
       " 'f',\n",
       " 'm',\n",
       " 'f',\n",
       " 'f',\n",
       " 'f',\n",
       " 'm',\n",
       " 'm',\n",
       " 'f',\n",
       " 'f',\n",
       " 'm',\n",
       " 'f',\n",
       " 'f',\n",
       " 'f',\n",
       " 'f',\n",
       " 'm',\n",
       " 'f',\n",
       " 'f',\n",
       " 'm',\n",
       " 'm',\n",
       " 'm',\n",
       " 'm',\n",
       " 'f',\n",
       " 'f',\n",
       " 'm',\n",
       " 'm',\n",
       " 'f',\n",
       " 'm',\n",
       " 'f',\n",
       " 'f',\n",
       " 'm',\n",
       " 'm',\n",
       " 'm',\n",
       " 'm',\n",
       " 'm',\n",
       " 'm',\n",
       " 'f',\n",
       " 'f',\n",
       " 'f',\n",
       " 'm',\n",
       " 'f',\n",
       " 'm',\n",
       " 'f',\n",
       " 'm',\n",
       " 'm',\n",
       " 'f',\n",
       " 'm',\n",
       " 'f',\n",
       " ...]"
      ]
     },
     "execution_count": 22,
     "metadata": {},
     "output_type": "execute_result"
    }
   ],
   "source": [
    "test_gender"
   ]
  },
  {
   "cell_type": "code",
   "execution_count": 23,
   "metadata": {},
   "outputs": [
    {
     "data": {
      "text/plain": [
       "[('nurses', 0.8237278461456299),\n",
       " ('nurse-', 0.7592737674713135),\n",
       " ('doctor', 0.7461875677108765),\n",
       " ('nursing', 0.7382979393005371),\n",
       " ('non-nurse', 0.7323007583618164),\n",
       " ('Nurse', 0.732159435749054),\n",
       " ('nurse-practitioner', 0.7234420776367188),\n",
       " ('midwife', 0.7170587778091431),\n",
       " ('nurse.', 0.715023398399353),\n",
       " ('anesthetist', 0.690942108631134),\n",
       " ('physician', 0.683051347732544),\n",
       " ('nurse-midwife', 0.67833012342453),\n",
       " ('midwive', 0.6763737797737122),\n",
       " ('nurse.The', 0.6758171319961548),\n",
       " ('hospital', 0.6709805727005005),\n",
       " ('patient', 0.6638672351837158),\n",
       " ('nurse.She', 0.6578284502029419),\n",
       " ('ex-nurse', 0.6549866199493408),\n",
       " ('medic', 0.6527988314628601),\n",
       " ('laborist', 0.6470524072647095),\n",
       " ('pharmacist', 0.6424120664596558),\n",
       " ('Nurses', 0.6366264820098877),\n",
       " ('caregiver', 0.6364293694496155),\n",
       " ('paramedic', 0.6347559094429016),\n",
       " ('anaesthesiologist', 0.6335371732711792),\n",
       " ('nurse.I', 0.6332204937934875),\n",
       " ('nurs', 0.6315058469772339),\n",
       " ('surgeon', 0.630230724811554),\n",
       " ('nurses.', 0.6284564733505249),\n",
       " ('anesthesiologist', 0.6276158094406128)]"
      ]
     },
     "execution_count": 23,
     "metadata": {},
     "output_type": "execute_result"
    }
   ],
   "source": [
    "word2vec.most_similar(\"nurse\", topn=30)"
   ]
  },
  {
   "cell_type": "code",
   "execution_count": 78,
   "metadata": {},
   "outputs": [],
   "source": [
    "test_count = count_profs_and_gender(test)"
   ]
  },
  {
   "cell_type": "code",
   "execution_count": 79,
   "metadata": {},
   "outputs": [
    {
     "data": {
      "text/plain": [
       "defaultdict(collections.Counter,\n",
       "            {'professor': Counter({'f': 13350, 'm': 16055}),\n",
       "             'physician': Counter({'f': 4897, 'm': 4628}),\n",
       "             'attorney': Counter({'m': 5019, 'f': 3179}),\n",
       "             'accountant': Counter({'f': 529, 'm': 943}),\n",
       "             'photographer': Counter({'m': 3898, 'f': 2099}),\n",
       "             'architect': Counter({'m': 1974, 'f': 613}),\n",
       "             'painter': Counter({'m': 1070, 'f': 899}),\n",
       "             'dentist': Counter({'f': 1296, 'm': 2338}),\n",
       "             'model': Counter({'f': 1540, 'm': 336}),\n",
       "             'surgeon': Counter({'f': 511, 'm': 2850}),\n",
       "             'journalist': Counter({'f': 2418, 'm': 2582}),\n",
       "             'nurse': Counter({'m': 433, 'f': 4295}),\n",
       "             'composer': Counter({'f': 247, 'm': 1159}),\n",
       "             'rapper': Counter({'m': 296, 'f': 39}),\n",
       "             'psychologist': Counter({'f': 2733, 'm': 1766}),\n",
       "             'teacher': Counter({'m': 1579, 'f': 2479}),\n",
       "             'dj': Counter({'m': 315, 'f': 60}),\n",
       "             'pastor': Counter({'m': 479, 'f': 185}),\n",
       "             'dietitian': Counter({'f': 896, 'm': 79}),\n",
       "             'software_engineer': Counter({'m': 1455, 'f': 281}),\n",
       "             'filmmaker': Counter({'m': 1209, 'f': 572}),\n",
       "             'interior_designer': Counter({'f': 286, 'm': 80}),\n",
       "             'poet': Counter({'m': 954, 'f': 839}),\n",
       "             'chiropractor': Counter({'m': 497, 'f': 188}),\n",
       "             'yoga_teacher': Counter({'f': 331, 'm': 80}),\n",
       "             'comedian': Counter({'f': 153, 'm': 529}),\n",
       "             'personal_trainer': Counter({'f': 171, 'm': 212}),\n",
       "             'paralegal': Counter({'f': 386, 'm': 69})})"
      ]
     },
     "execution_count": 79,
     "metadata": {},
     "output_type": "execute_result"
    }
   ],
   "source": [
    "test_count"
   ]
  },
  {
   "cell_type": "code",
   "execution_count": null,
   "metadata": {},
   "outputs": [],
   "source": []
  }
 ],
 "metadata": {
  "kernelspec": {
   "display_name": "Python 3",
   "language": "python",
   "name": "python3"
  },
  "language_info": {
   "codemirror_mode": {
    "name": "ipython",
    "version": 3
   },
   "file_extension": ".py",
   "mimetype": "text/x-python",
   "name": "python",
   "nbconvert_exporter": "python",
   "pygments_lexer": "ipython3",
   "version": "3.6.9"
  }
 },
 "nbformat": 4,
 "nbformat_minor": 2
}
