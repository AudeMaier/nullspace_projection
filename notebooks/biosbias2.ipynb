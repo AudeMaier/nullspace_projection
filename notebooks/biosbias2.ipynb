{
 "cells": [
  {
   "cell_type": "code",
   "execution_count": 169,
   "metadata": {},
   "outputs": [
    {
     "name": "stdout",
     "output_type": "stream",
     "text": [
      "The autoreload extension is already loaded. To reload it, use:\n",
      "  %reload_ext autoreload\n"
     ]
    }
   ],
   "source": [
    "%load_ext autoreload\n",
    "%autoreload 2\n",
    "import sys\n",
    "sys.path.append(\"../src\")\n",
    "sys.path.append(\"../data/embeddings\")\n",
    "sys.path.append(\"../data/biasbios\")\n",
    "sys.path.append(\"../data/embeddings/biasbios\")\n",
    "import classifier\n",
    "import svm_classifier\n",
    "import debias\n",
    "import gensim\n",
    "import codecs\n",
    "import json\n",
    "from gensim.models.keyedvectors import Word2VecKeyedVectors\n",
    "from gensim.models import KeyedVectors\n",
    "import numpy as np\n",
    "import random\n",
    "import sklearn\n",
    "from sklearn import model_selection\n",
    "from sklearn import cluster\n",
    "from sklearn import metrics\n",
    "from sklearn.manifold import TSNE\n",
    "from sklearn.svm import LinearSVC, SVC\n",
    "from sklearn.neural_network import MLPClassifier\n",
    "from sklearn.metrics.pairwise import cosine_similarity\n",
    "from sklearn.feature_extraction import DictVectorizer\n",
    "from pytorch_transformers import BertTokenizer, BertModel, BertForMaskedLM\n",
    "\n",
    "import scipy\n",
    "from scipy import linalg\n",
    "from scipy import sparse\n",
    "from scipy.stats.stats import pearsonr\n",
    "import tqdm\n",
    "import matplotlib\n",
    "import matplotlib.pyplot as plt\n",
    "from sklearn.linear_model import SGDClassifier, SGDRegressor, Perceptron, LogisticRegression\n",
    "from sklearn.utils import shuffle\n",
    "\n",
    "%matplotlib inline\n",
    "matplotlib.rcParams['agg.path.chunksize'] = 10000\n",
    "\n",
    "import warnings\n",
    "warnings.filterwarnings(\"ignore\")\n",
    "\n",
    "import pickle\n",
    "from collections import defaultdict, Counter\n",
    "from typing import List, Dict\n",
    "\n",
    "import torch\n",
    "from torch import utils\n",
    "\n",
    "import pytorch_lightning as pl\n",
    "from pytorch_lightning import Trainer\n",
    "import copy\n",
    "import pandas as pd\n",
    "from gensim.models import FastText\n",
    "import time\n",
    "from gensim.scripts.glove2word2vec import glove2word2vec\n",
    "\n",
    "STOPWORDS = set([\"i\", \"me\", \"my\", \"myself\", \"we\", \"our\", \"ours\", \"ourselves\", \"you\", \"your\", \"yours\", \"yourself\", \"yourselves\", \"he\", \"him\", \"his\", \"himself\", \"she\", \"her\", \"hers\", \"herself\", \"it\", \"its\", \"itself\", \"they\", \"them\", \"their\", \"theirs\", \"themselves\", \"what\", \"which\", \"who\", \"whom\", \"this\", \"that\", \"these\", \"those\", \"am\", \"is\", \"are\", \"was\", \"were\", \"be\", \"been\", \"being\", \"have\", \"has\", \"had\", \"having\", \"do\", \"does\", \"did\", \"doing\", \"a\", \"an\", \"the\", \"and\", \"but\", \"if\", \"or\", \"because\", \"as\", \"until\", \"while\", \"of\", \"at\", \"by\", \"for\", \"with\", \"about\", \"against\", \"between\", \"into\", \"through\", \"during\", \"before\", \"after\", \"above\", \"below\", \"to\", \"from\", \"up\", \"down\", \"in\", \"out\", \"on\", \"off\", \"over\", \"under\", \"again\", \"further\", \"then\", \"once\", \"here\", \"there\", \"when\", \"where\", \"why\", \"how\", \"all\", \"any\", \"both\", \"each\", \"few\", \"more\", \"most\", \"other\", \"some\", \"such\", \"no\", \"nor\", \"not\", \"only\", \"own\", \"same\", \"so\", \"than\", \"too\", \"very\", \"s\", \"t\", \"can\", \"will\", \"just\", \"don\", \"should\", \"now\"])"
   ]
  },
  {
   "cell_type": "code",
   "execution_count": null,
   "metadata": {},
   "outputs": [],
   "source": [
    "\n",
    "\n",
    "def load_dataset(path):\n",
    "    \n",
    "    with open(path, \"rb\") as f:\n",
    "        \n",
    "        data = pickle.load(f)\n",
    "    return data\n",
    "\n",
    "def load_dictionary(path):\n",
    "    \n",
    "    with open(path, \"r\", encoding = \"utf-8\") as f:\n",
    "        \n",
    "        lines = f.readlines()\n",
    "        \n",
    "    k2v, v2k = {}, {}\n",
    "    for line in lines:\n",
    "        \n",
    "        k,v = line.strip().split(\"\\t\")\n",
    "        v = int(v)\n",
    "        k2v[k] = v\n",
    "        v2k[v] = k\n",
    "    \n",
    "    return k2v, v2k\n",
    "    \n",
    "def count_profs_and_gender(data: List[dict]):\n",
    "    \n",
    "    counter = defaultdict(Counter)\n",
    "    for entry in data:\n",
    "        gender, prof = entry[\"g\"], entry[\"p\"]\n",
    "        counter[prof][gender] += 1\n",
    "        \n",
    "    return counter\n"
   ]
  },
  {
   "cell_type": "code",
   "execution_count": null,
   "metadata": {},
   "outputs": [],
   "source": [
    "train = load_dataset(\"../data/biasbios/hila/train.pickle\")\n",
    "dev = load_dataset(\"../data/biasbios/hila/dev.pickle\")\n",
    "test = load_dataset(\"../data/biasbios/hila/test.pickle\")\n",
    "\n",
    "#w2i, i2w = load_dictionary(\"../data/biasbios/word2index.txt\")\n",
    "p2i, i2p = load_dictionary(\"../data/biasbios/profession2index.txt\")\n",
    "g2i, i2g = load_dictionary(\"../data/biasbios/gender2index.txt\")\n",
    "counter = count_profs_and_gender(train+dev+test)"
   ]
  },
  {
   "cell_type": "code",
   "execution_count": 5,
   "metadata": {},
   "outputs": [
    {
     "data": {
      "text/plain": [
       "{'accountant': 0,\n",
       " 'architect': 1,\n",
       " 'attorney': 2,\n",
       " 'chiropractor': 3,\n",
       " 'comedian': 4,\n",
       " 'composer': 5,\n",
       " 'dentist': 6,\n",
       " 'dietitian': 7,\n",
       " 'dj': 8,\n",
       " 'filmmaker': 9,\n",
       " 'interior_designer': 10,\n",
       " 'journalist': 11,\n",
       " 'model': 12,\n",
       " 'nurse': 13,\n",
       " 'painter': 14,\n",
       " 'paralegal': 15,\n",
       " 'pastor': 16,\n",
       " 'personal_trainer': 17,\n",
       " 'photographer': 18,\n",
       " 'physician': 19,\n",
       " 'poet': 20,\n",
       " 'professor': 21,\n",
       " 'psychologist': 22,\n",
       " 'rapper': 23,\n",
       " 'software_engineer': 24,\n",
       " 'surgeon': 25,\n",
       " 'teacher': 26,\n",
       " 'yoga_teacher': 27}"
      ]
     },
     "execution_count": 5,
     "metadata": {},
     "output_type": "execute_result"
    }
   ],
   "source": [
    "p2i"
   ]
  },
  {
   "cell_type": "code",
   "execution_count": 6,
   "metadata": {},
   "outputs": [
    {
     "name": "stdout",
     "output_type": "stream",
     "text": [
      "0.46286566875856267\n",
      "{'teacher': 0.603111879476414, 'professor': 0.45118956904580476, 'attorney': 0.38316925813475633, 'surgeon': 0.14857228961048746, 'photographer': 0.35721920736720936, 'painter': 0.4579886246122027, 'psychologist': 0.6223011751844766, 'filmmaker': 0.3295762590954487, 'physician': 0.507688318423441, 'interior_designer': 0.8086124401913876, 'architect': 0.23712053792148718, 'dietitian': 0.9273504273504274, 'pastor': 0.24052132701421802, 'rapper': 0.09665955934612651, 'journalist': 0.49488721804511276, 'dentist': 0.35589474411216243, 'accountant': 0.36818825194621374, 'poet': 0.49080017115960634, 'model': 0.8283124500133298, 'nurse': 0.9085446207369142, 'chiropractor': 0.26558891454965355, 'yoga_teacher': 0.8454600120264583, 'software_engineer': 0.1576889661164205, 'paralegal': 0.8483305036785512, 'composer': 0.16392857142857142, 'personal_trainer': 0.45670391061452514, 'comedian': 0.21150410861021793, 'dj': 0.1420875420875421}\n"
     ]
    }
   ],
   "source": [
    "counter = count_profs_and_gender(train+dev+test)\n",
    "f,m = 0., 0.\n",
    "prof2fem = dict()\n",
    "\n",
    "for k, values in counter.items():\n",
    "    f += values['f']\n",
    "    m += values['m']\n",
    "    prof2fem[k] = values['f']/(values['f'] + values['m'])\n",
    "\n",
    "print(f / (f + m))\n",
    "print(prof2fem)"
   ]
  },
  {
   "cell_type": "code",
   "execution_count": 7,
   "metadata": {
    "scrolled": true
   },
   "outputs": [
    {
     "name": "stdout",
     "output_type": "stream",
     "text": [
      "{'accountant': 0, 'architect': 1, 'attorney': 2, 'chiropractor': 3, 'comedian': 4, 'composer': 5, 'dentist': 6, 'dietitian': 7, 'dj': 8, 'filmmaker': 9, 'interior_designer': 10, 'journalist': 11, 'model': 12, 'nurse': 13, 'painter': 14, 'paralegal': 15, 'pastor': 16, 'personal_trainer': 17, 'photographer': 18, 'physician': 19, 'poet': 20, 'professor': 21, 'psychologist': 22, 'rapper': 23, 'software_engineer': 24, 'surgeon': 25, 'teacher': 26, 'yoga_teacher': 27}\n"
     ]
    }
   ],
   "source": [
    "print(p2i)"
   ]
  },
  {
   "cell_type": "markdown",
   "metadata": {},
   "source": [
    "### get input representatons "
   ]
  },
  {
   "cell_type": "code",
   "execution_count": 8,
   "metadata": {},
   "outputs": [],
   "source": [
    "\n",
    "def load_word_vectors(fname = \"../data/embeddings/vecs.filtered.with_gendered.glove.txt\"):\n",
    "    \n",
    "    model = KeyedVectors.load_word2vec_format(fname, binary=False)\n",
    "    vecs = model.vectors\n",
    "    words = list(model.vocab.keys())\n",
    "    return model, vecs, words\n",
    "\n",
    "\n",
    "def get_embeddings_based_dataset(data: List[dict], word2vec_model, p2i, filter_stopwords = False):\n",
    "    \n",
    "    X, Y = [], []\n",
    "    unk, total = 0., 0.\n",
    "    unknown = []\n",
    "    \n",
    "    for entry in tqdm.tqdm(data, total = len(data)):\n",
    "        \n",
    "        y = p2i[entry[\"p\"]]\n",
    "        words = entry[\"hard_text\"].split(\" \")\n",
    "        if filter_stopwords:\n",
    "            words = [w for w in words if w.lower() not in STOPWORDS]\n",
    "            \n",
    "        bagofwords = np.sum([word2vec_model[w] if w in word2vec_model else word2vec_model[\"unk\"] for w in words], axis = 0)\n",
    "        #print(bagofwords.shape)\n",
    "        X.append(bagofwords)\n",
    "        Y.append(y)\n",
    "        total += len(words)\n",
    "        \n",
    "        unknown_entry = [w for w in words if w not in word2vec_model]\n",
    "        unknown.extend(unknown_entry)\n",
    "        unk += len(unknown_entry)\n",
    "    \n",
    "    X = np.array(X)\n",
    "    Y = np.array(Y)\n",
    "    print(\"% unknown: {}\".format(unk/total))\n",
    "    return X,Y,unknown\n",
    "\n",
    "def get_BOW_based_dataset(data: List[dict], w2i):\n",
    "    \n",
    "    vectorizer = DictVectorizer(sparse = True)\n",
    "    X, Y = [], []\n",
    "    unk, total = 0., 0.\n",
    "    data_dicts = []\n",
    "    unknown = []\n",
    "    \n",
    "    for entry in tqdm.tqdm(data, total = len(data)):\n",
    "        text, start, y = entry[\"text\"], entry[\"start\"], entry[\"p\"]\n",
    "        #text = text.lower()\n",
    "        words = text[start + 1:].split(\" \")\n",
    "        entry_dict = {w:w2i[w] if w in w2i else w2i[\"<UNK>\"] for w in words}\n",
    "        data_dicts.append(entry_dict)\n",
    "        Y.append(y)\n",
    "        \n",
    "        total += len(words)\n",
    "        unknown_entry = [w for w in words if w not in w2i]\n",
    "        unk += len([w for w in words if w not in w2i])\n",
    "        unknown.extend(unknown_entry)\n",
    "    \n",
    "    print(\"% unknown: {}\".format(unk/total))\n",
    "    X = vectorizer.fit_transform(data_dicts)\n",
    "    return X,Y, unknown\n",
    "    \n",
    "def get_bert_based_dataset(data: List[dict], p2i):\n",
    "    \n",
    "    tokenizer = BertTokenizer.from_pretrained('bert-base-cased')\n",
    "    model = BertModel.from_pretrained('bert-base-cased').cuda()\n",
    "    model.eval()\n",
    "    \n",
    "    X, Y = [], []\n",
    "    cls_lst = ['[CLS]']\n",
    "    sep_lst = ['[SEP]']\n",
    "    \n",
    "    for entry in tqdm.tqdm(data, total = len(data)):\n",
    "        text, y = entry[\"hard_text\"], p2i[entry[\"p\"]]\n",
    "        #text = text.lower()            \n",
    "        tokenized_text = cls_lst + tokenizer.tokenize(text)[:500] + sep_lst    \n",
    "        indexed_tokens = tokenizer.convert_tokens_to_ids(tokenized_text)\n",
    "        tokens_tensor = torch.tensor([indexed_tokens]).cuda()\n",
    "        with torch.no_grad():\n",
    "              outputs = model(tokens_tensor)[0]\n",
    "              out_np = outputs.detach().cpu().numpy()\n",
    "              out_np = out_np.squeeze(0)\n",
    "              BOW = out_np[-1][:] #np.sum(out_np, axis = 0)\n",
    "              X.append(BOW)\n",
    "              Y.append(y)\n",
    "    \n",
    "    X = np.array(X)\n",
    "    Y = np.array(Y)\n",
    "    \n",
    "    return X,Y"
   ]
  },
  {
   "cell_type": "code",
   "execution_count": 9,
   "metadata": {},
   "outputs": [],
   "source": [
    "#word2vec, vecs, words = load_word_vectors(\"../data/embeddings/wiki-news-300d-1M-subword.vec\") #load_word2vec()\n",
    "word2vec, vecs, words = load_word_vectors(\"../data/embeddings/crawl-300d-2M.vec\")\n",
    "#path = \"../data/embeddings/crawl-300d-2M-subword.bin\"\n",
    "#word2vec = gensim.models.fasttext.load_facebook_vectors(path)\n",
    "#word2vec.init_sims(replace = True)\n",
    "#X_train, Y_train = get_BOW_based_dataset(train, w2i)\n",
    "#X_devword2vec.init_sims(replace = True), Y_dev = get_BOW_based_dataset(dev, w2i) \n"
   ]
  },
  {
   "cell_type": "code",
   "execution_count": null,
   "metadata": {},
   "outputs": [],
   "source": [
    "#word2vec.init_sims(replace = True)"
   ]
  },
  {
   "cell_type": "code",
   "execution_count": 10,
   "metadata": {},
   "outputs": [
    {
     "name": "stderr",
     "output_type": "stream",
     "text": [
      "100%|██████████| 255710/255710 [00:44<00:00, 5719.72it/s]\n",
      "  2%|▏         | 629/39369 [00:00<00:06, 6283.58it/s]"
     ]
    },
    {
     "name": "stdout",
     "output_type": "stream",
     "text": [
      "% unknown: 0.010376065231423514\n"
     ]
    },
    {
     "name": "stderr",
     "output_type": "stream",
     "text": [
      "100%|██████████| 39369/39369 [00:06<00:00, 6300.07it/s]\n",
      "  1%|          | 579/98344 [00:00<00:16, 5786.49it/s]"
     ]
    },
    {
     "name": "stdout",
     "output_type": "stream",
     "text": [
      "% unknown: 0.011207613846339256\n"
     ]
    },
    {
     "name": "stderr",
     "output_type": "stream",
     "text": [
      "100%|██████████| 98344/98344 [00:17<00:00, 5656.24it/s]\n"
     ]
    },
    {
     "name": "stdout",
     "output_type": "stream",
     "text": [
      "% unknown: 0.01103116868957796\n"
     ]
    }
   ],
   "source": [
    "embeds =  True\n",
    "\n",
    "if embeds:\n",
    "    X_train, Y_train, unknown_train = get_embeddings_based_dataset(train, word2vec, p2i)\n",
    "    X_dev, Y_dev, unknown_dev =  get_embeddings_based_dataset(dev, word2vec, p2i)\n",
    "    X_test, Y_test, unknown_test =  get_embeddings_based_dataset(test, word2vec, p2i)\n",
    "else:\n",
    "    \n",
    "    X_train, Y_train, unk = get_bert_based_dataset(train, p2i)\n",
    "    X_dev, Y_dev, unk =  get_bert_based_dataset(dev, p2i)\n",
    "    X_test, Y_test, unk =  get_bert_based_dataset(test, p2i)\n",
    "#X_train, Y_train = get_bert_based_dataset(train)"
   ]
  },
  {
   "cell_type": "code",
   "execution_count": null,
   "metadata": {},
   "outputs": [],
   "source": [
    "mean_x = np.mean(X_train, axis = 0, keepdims = True)\n",
    "std_x = np.std(X_train, axis = 0, keepdims = True)\n",
    "\n",
    "#X_train = (X_train-mean_x)/std_x\n",
    "#X_dev = (X_dev-mean_x)/std_x\n",
    "#X_test = (X_test-mean_x)/std_x\n",
    "\n",
    "print(np.linalg.norm(X_dev[0]))\n",
    "print(\"len train: {}; len dev: {}; len test: {}\".format(len(train), len(dev), len(test)))"
   ]
  },
  {
   "cell_type": "code",
   "execution_count": null,
   "metadata": {},
   "outputs": [],
   "source": [
    "#X_test = (X_test-mean_x)/std_x\n"
   ]
  },
  {
   "cell_type": "code",
   "execution_count": null,
   "metadata": {},
   "outputs": [],
   "source": [
    "d = load_dataset(\"../data/biasbios/BIOS.OLD.pkl\")\n",
    "d2 = load_dataset(\"../data/biasbios/BIOS.pkl\")\n",
    "len(d)"
   ]
  },
  {
   "cell_type": "code",
   "execution_count": 170,
   "metadata": {
    "scrolled": false
   },
   "outputs": [
    {
     "name": "stderr",
     "output_type": "stream",
     "text": [
      "[Parallel(n_jobs=64)]: Using backend ThreadingBackend with 64 concurrent workers.\n"
     ]
    },
    {
     "name": "stdout",
     "output_type": "stream",
     "text": [
      "max_iter reached after 24 seconds\n",
      "time: 24.36724019050598\n",
      "0.7666946074322436\n"
     ]
    },
    {
     "name": "stderr",
     "output_type": "stream",
     "text": [
      "[Parallel(n_jobs=64)]: Done   1 tasks      | elapsed:   23.8s\n",
      "[Parallel(n_jobs=64)]: Done   1 out of   1 | elapsed:   23.8s finished\n"
     ]
    },
    {
     "name": "stdout",
     "output_type": "stream",
     "text": [
      "0.772817863824941\n"
     ]
    }
   ],
   "source": [
    "#clf = LinearSVC(max_iter = 10) #LogisticRegression()\n",
    "#clf = SGDClassifier(warm_start = True, loss = 'log', n_jobs = 64, max_iter = 250, random_state = 0)\n",
    "\n",
    "if MLP:\n",
    "    clf = MLPClassifier(activation = \"identity\", hidden_layer_sizes = (100,), max_iter = 15)\n",
    "else:\n",
    "    clf = LogisticRegression(warm_start = True, penalty = 'l2',\n",
    "                         solver = \"sag\", multi_class = 'multinomial', fit_intercept = True,\n",
    "                         verbose = 10, max_iter = 3, n_jobs = 64, random_state = 1)\n",
    "#clf = SGDClassifier(loss= 'log', max_iter= 3000, fit_intercept= True, class_weight= None, n_jobs= 100)\n",
    "#clf = LinearSVC(max_iter = 50) #LogisticRegression()\n",
    "\n",
    "start = time.time()\n",
    "idx = np.random.rand(X_train.shape[0]) < 1.0\n",
    "clf.fit(X_train[idx], Y_train[idx])\n",
    "print(\"time: {}\".format(time.time() - start))\n",
    "print(clf.score(X_dev, Y_dev))\n",
    "print(clf.score(X_test, Y_test))\n",
    "clf_original = copy.deepcopy(clf)"
   ]
  },
  {
   "cell_type": "code",
   "execution_count": 171,
   "metadata": {},
   "outputs": [
    {
     "name": "stdout",
     "output_type": "stream",
     "text": [
      "0.772817863824941\n"
     ]
    }
   ],
   "source": [
    "print(clf.score(X_test, Y_test))\n"
   ]
  },
  {
   "cell_type": "markdown",
   "metadata": {},
   "source": [
    "#### Confusion Matrix"
   ]
  },
  {
   "cell_type": "code",
   "execution_count": null,
   "metadata": {},
   "outputs": [],
   "source": [
    "\"\"\"\n",
    "y_hat = clf.predict(X_dev)\n",
    "cm = sklearn.metrics.confusion_matrix(Y_dev,y_hat)\n",
    "labels = [i2p[i] for i in range(len(i2p))]\n",
    "\"\"\""
   ]
  },
  {
   "cell_type": "code",
   "execution_count": null,
   "metadata": {},
   "outputs": [],
   "source": [
    "\n",
    "\"\"\"\n",
    "df_cm = pd.DataFrame(cm, index = labels, columns = labels)\n",
    "#plt.figure(figsize = (10,7))\n",
    "sn.set(font_scale=0.3)#for label size\n",
    "plt.figure(figsize = (10,7))\n",
    "sn.heatmap(df_cm, annot=True, fmt='g')\n",
    "plt.savefig(\"confusion.png\", dpi = 600)\n",
    "plt.show()\n",
    " \"\"\"\n",
    "#clf = copy.deepcopy(clf_original)\n",
    "\n",
    "#MLP = True\n",
    "#clf = copy.deepcopy(clf_original)"
   ]
  },
  {
   "cell_type": "markdown",
   "metadata": {},
   "source": [
    "### perform debiasing"
   ]
  },
  {
   "cell_type": "code",
   "execution_count": 256,
   "metadata": {
    "scrolled": true
   },
   "outputs": [
    {
     "name": "stderr",
     "output_type": "stream",
     "text": [
      "\n",
      "\n",
      "  0%|          | 0/150 [00:00<?, ?it/s]\u001b[A\u001b[A"
     ]
    },
    {
     "name": "stdout",
     "output_type": "stream",
     "text": [
      "by class: True, all_data_iterations: 0, k: 0\n",
      "Iteration 0, Accuracy: 0.9874012547943813\n"
     ]
    },
    {
     "name": "stderr",
     "output_type": "stream",
     "text": [
      "\n",
      "\n",
      "  1%|          | 1/150 [00:20<51:15, 20.64s/it]\u001b[A\u001b[A"
     ]
    },
    {
     "name": "stdout",
     "output_type": "stream",
     "text": [
      "Iteration 1, Accuracy: 0.9573901464713716\n"
     ]
    },
    {
     "name": "stderr",
     "output_type": "stream",
     "text": [
      "\n",
      "\n",
      "  1%|▏         | 2/150 [00:24<38:26, 15.59s/it]\u001b[A\u001b[A"
     ]
    },
    {
     "name": "stdout",
     "output_type": "stream",
     "text": [
      "Iteration 2, Accuracy: 0.894543225015328\n"
     ]
    },
    {
     "name": "stderr",
     "output_type": "stream",
     "text": [
      "\n",
      "\n",
      "  2%|▏         | 3/150 [00:27<29:18, 11.96s/it]\u001b[A\u001b[A"
     ]
    },
    {
     "name": "stdout",
     "output_type": "stream",
     "text": [
      "Iteration 3, Accuracy: 0.8214285714285714\n"
     ]
    },
    {
     "name": "stderr",
     "output_type": "stream",
     "text": [
      "\n",
      "\n",
      "  3%|▎         | 4/150 [00:29<21:37,  8.89s/it]\u001b[A\u001b[A"
     ]
    },
    {
     "name": "stdout",
     "output_type": "stream",
     "text": [
      "Iteration 4, Accuracy: 0.8321428571428572\n"
     ]
    },
    {
     "name": "stderr",
     "output_type": "stream",
     "text": [
      "\n",
      "\n",
      "  3%|▎         | 5/150 [00:31<16:10,  6.69s/it]\u001b[A\u001b[A"
     ]
    },
    {
     "name": "stdout",
     "output_type": "stream",
     "text": [
      "Iteration 5, Accuracy: 0.7364672364672364\n"
     ]
    },
    {
     "name": "stderr",
     "output_type": "stream",
     "text": [
      "\n",
      "\n",
      "  4%|▍         | 6/150 [00:33<12:41,  5.29s/it]\u001b[A\u001b[A"
     ]
    },
    {
     "name": "stdout",
     "output_type": "stream",
     "text": [
      "Iteration 6, Accuracy: 0.7203703703703703\n"
     ]
    },
    {
     "name": "stderr",
     "output_type": "stream",
     "text": [
      "\n",
      "\n",
      "  5%|▍         | 7/150 [00:36<10:49,  4.54s/it]\u001b[A\u001b[A"
     ]
    },
    {
     "name": "stdout",
     "output_type": "stream",
     "text": [
      "Iteration 7, Accuracy: 0.8695073235685752\n"
     ]
    },
    {
     "name": "stderr",
     "output_type": "stream",
     "text": [
      "\n",
      "\n",
      "  5%|▌         | 8/150 [00:37<08:48,  3.72s/it]\u001b[A\u001b[A"
     ]
    },
    {
     "name": "stdout",
     "output_type": "stream",
     "text": [
      "Iteration 8, Accuracy: 0.6805555555555556\n"
     ]
    },
    {
     "name": "stderr",
     "output_type": "stream",
     "text": [
      "\n",
      "\n",
      "  6%|▌         | 9/150 [00:39<07:01,  2.99s/it]\u001b[A\u001b[A"
     ]
    },
    {
     "name": "stdout",
     "output_type": "stream",
     "text": [
      "Iteration 9, Accuracy: 0.6808617234468938\n"
     ]
    },
    {
     "name": "stderr",
     "output_type": "stream",
     "text": [
      "\n",
      "\n",
      "  7%|▋         | 10/150 [00:42<06:55,  2.97s/it]\u001b[A\u001b[A"
     ]
    },
    {
     "name": "stdout",
     "output_type": "stream",
     "text": [
      "Iteration 10, Accuracy: 0.7464788732394366\n"
     ]
    },
    {
     "name": "stderr",
     "output_type": "stream",
     "text": [
      "\n",
      "\n",
      "  7%|▋         | 11/150 [00:43<06:08,  2.65s/it]\u001b[A\u001b[A"
     ]
    },
    {
     "name": "stdout",
     "output_type": "stream",
     "text": [
      "Iteration 11, Accuracy: 0.6910112359550562\n"
     ]
    },
    {
     "name": "stderr",
     "output_type": "stream",
     "text": [
      "\n",
      "\n",
      "  8%|▊         | 12/150 [00:45<05:24,  2.35s/it]\u001b[A\u001b[A"
     ]
    },
    {
     "name": "stdout",
     "output_type": "stream",
     "text": [
      "Iteration 12, Accuracy: 0.7677165354330708\n"
     ]
    },
    {
     "name": "stderr",
     "output_type": "stream",
     "text": [
      "\n",
      "\n",
      "  9%|▊         | 13/150 [00:47<04:46,  2.09s/it]\u001b[A\u001b[A"
     ]
    },
    {
     "name": "stdout",
     "output_type": "stream",
     "text": [
      "Iteration 13, Accuracy: 0.7605633802816901\n"
     ]
    },
    {
     "name": "stderr",
     "output_type": "stream",
     "text": [
      "\n",
      "\n",
      "  9%|▉         | 14/150 [00:49<04:49,  2.13s/it]\u001b[A\u001b[A"
     ]
    },
    {
     "name": "stdout",
     "output_type": "stream",
     "text": [
      "Iteration 14, Accuracy: 0.6569872958257713\n"
     ]
    },
    {
     "name": "stderr",
     "output_type": "stream",
     "text": [
      "\n",
      "\n",
      " 10%|█         | 15/150 [00:54<06:52,  3.06s/it]\u001b[A\u001b[A"
     ]
    },
    {
     "name": "stdout",
     "output_type": "stream",
     "text": [
      "Iteration 15, Accuracy: 0.8033707865168539\n"
     ]
    },
    {
     "name": "stderr",
     "output_type": "stream",
     "text": [
      "\n",
      "\n",
      " 11%|█         | 16/150 [00:56<05:53,  2.64s/it]\u001b[A\u001b[A"
     ]
    },
    {
     "name": "stdout",
     "output_type": "stream",
     "text": [
      "Iteration 16, Accuracy: 0.7480314960629921\n"
     ]
    },
    {
     "name": "stderr",
     "output_type": "stream",
     "text": [
      "\n",
      "\n",
      " 11%|█▏        | 17/150 [00:58<05:17,  2.39s/it]\u001b[A\u001b[A"
     ]
    },
    {
     "name": "stdout",
     "output_type": "stream",
     "text": [
      "Iteration 17, Accuracy: 0.8872180451127819\n"
     ]
    },
    {
     "name": "stderr",
     "output_type": "stream",
     "text": [
      "\n",
      "\n",
      " 12%|█▏        | 18/150 [00:59<04:41,  2.13s/it]\u001b[A\u001b[A"
     ]
    },
    {
     "name": "stdout",
     "output_type": "stream",
     "text": [
      "Iteration 18, Accuracy: 0.667488697081792\n"
     ]
    },
    {
     "name": "stderr",
     "output_type": "stream",
     "text": [
      "\n",
      "\n",
      " 13%|█▎        | 19/150 [01:02<05:06,  2.34s/it]\u001b[A\u001b[A"
     ]
    },
    {
     "name": "stdout",
     "output_type": "stream",
     "text": [
      "Iteration 19, Accuracy: 0.7193675889328063\n"
     ]
    },
    {
     "name": "stderr",
     "output_type": "stream",
     "text": [
      "\n",
      "\n",
      " 13%|█▎        | 20/150 [01:08<07:15,  3.35s/it]\u001b[A\u001b[A"
     ]
    },
    {
     "name": "stdout",
     "output_type": "stream",
     "text": [
      "Iteration 20, Accuracy: 0.9051633298208641\n"
     ]
    },
    {
     "name": "stderr",
     "output_type": "stream",
     "text": [
      "\n",
      "\n",
      " 14%|█▍        | 21/150 [01:10<06:52,  3.20s/it]\u001b[A\u001b[A"
     ]
    },
    {
     "name": "stdout",
     "output_type": "stream",
     "text": [
      "Iteration 21, Accuracy: 0.7519685039370079\n"
     ]
    },
    {
     "name": "stderr",
     "output_type": "stream",
     "text": [
      "\n",
      "\n",
      " 15%|█▍        | 22/150 [01:12<05:42,  2.68s/it]\u001b[A\u001b[A"
     ]
    },
    {
     "name": "stdout",
     "output_type": "stream",
     "text": [
      "Iteration 22, Accuracy: 0.622745490981964\n"
     ]
    },
    {
     "name": "stderr",
     "output_type": "stream",
     "text": [
      "\n",
      "\n",
      " 15%|█▌        | 23/150 [01:15<05:38,  2.66s/it]\u001b[A\u001b[A"
     ]
    },
    {
     "name": "stdout",
     "output_type": "stream",
     "text": [
      "Iteration 23, Accuracy: 0.6447028423772609\n"
     ]
    },
    {
     "name": "stderr",
     "output_type": "stream",
     "text": [
      "\n",
      "\n",
      " 16%|█▌        | 24/150 [01:16<04:55,  2.35s/it]\u001b[A\u001b[A"
     ]
    },
    {
     "name": "stdout",
     "output_type": "stream",
     "text": [
      "Iteration 24, Accuracy: 0.6552706552706553\n"
     ]
    },
    {
     "name": "stderr",
     "output_type": "stream",
     "text": [
      "\n",
      "\n",
      " 17%|█▋        | 25/150 [01:18<04:22,  2.10s/it]\u001b[A\u001b[A"
     ]
    },
    {
     "name": "stdout",
     "output_type": "stream",
     "text": [
      "Iteration 25, Accuracy: 0.6802120141342756\n"
     ]
    },
    {
     "name": "stderr",
     "output_type": "stream",
     "text": [
      "\n",
      "\n",
      " 17%|█▋        | 26/150 [01:19<04:02,  1.95s/it]\u001b[A\u001b[A"
     ]
    },
    {
     "name": "stdout",
     "output_type": "stream",
     "text": [
      "Iteration 26, Accuracy: 0.6658491722869405\n"
     ]
    },
    {
     "name": "stderr",
     "output_type": "stream",
     "text": [
      "\n",
      "\n",
      " 18%|█▊        | 27/150 [01:24<05:34,  2.72s/it]\u001b[A\u001b[A"
     ]
    },
    {
     "name": "stdout",
     "output_type": "stream",
     "text": [
      "Iteration 27, Accuracy: 0.8169014084507042\n"
     ]
    },
    {
     "name": "stderr",
     "output_type": "stream",
     "text": [
      "\n",
      "\n",
      " 19%|█▊        | 28/150 [01:25<04:40,  2.30s/it]\u001b[A\u001b[A"
     ]
    },
    {
     "name": "stdout",
     "output_type": "stream",
     "text": [
      "Iteration 28, Accuracy: 0.6868327402135231\n"
     ]
    },
    {
     "name": "stderr",
     "output_type": "stream",
     "text": [
      "\n",
      "\n",
      " 19%|█▉        | 29/150 [01:26<04:04,  2.02s/it]\u001b[A\u001b[A"
     ]
    },
    {
     "name": "stdout",
     "output_type": "stream",
     "text": [
      "Iteration 29, Accuracy: 0.6032064128256514\n"
     ]
    },
    {
     "name": "stderr",
     "output_type": "stream",
     "text": [
      "\n",
      "\n",
      " 20%|██        | 30/150 [01:30<04:47,  2.40s/it]\u001b[A\u001b[A"
     ]
    },
    {
     "name": "stdout",
     "output_type": "stream",
     "text": [
      "Iteration 30, Accuracy: 0.7701149425287356\n"
     ]
    },
    {
     "name": "stderr",
     "output_type": "stream",
     "text": [
      "\n",
      "\n",
      " 21%|██        | 31/150 [01:31<04:08,  2.08s/it]\u001b[A\u001b[A"
     ]
    },
    {
     "name": "stdout",
     "output_type": "stream",
     "text": [
      "Iteration 31, Accuracy: 0.7153024911032029\n"
     ]
    },
    {
     "name": "stderr",
     "output_type": "stream",
     "text": [
      "\n",
      "\n",
      " 21%|██▏       | 32/150 [01:33<03:50,  1.95s/it]\u001b[A\u001b[A"
     ]
    },
    {
     "name": "stdout",
     "output_type": "stream",
     "text": [
      "Iteration 32, Accuracy: 0.6373390557939914\n"
     ]
    },
    {
     "name": "stderr",
     "output_type": "stream",
     "text": [
      "\n",
      "\n",
      " 22%|██▏       | 33/150 [01:37<05:16,  2.70s/it]\u001b[A\u001b[A"
     ]
    },
    {
     "name": "stdout",
     "output_type": "stream",
     "text": [
      "Iteration 33, Accuracy: 0.823943661971831\n"
     ]
    },
    {
     "name": "stderr",
     "output_type": "stream",
     "text": [
      "\n",
      "\n",
      " 23%|██▎       | 34/150 [01:39<04:37,  2.39s/it]\u001b[A\u001b[A"
     ]
    },
    {
     "name": "stdout",
     "output_type": "stream",
     "text": [
      "Iteration 34, Accuracy: 0.8772590361445783\n"
     ]
    },
    {
     "name": "stderr",
     "output_type": "stream",
     "text": [
      "\n",
      "\n",
      " 23%|██▎       | 35/150 [01:42<04:46,  2.49s/it]\u001b[A\u001b[A"
     ]
    },
    {
     "name": "stdout",
     "output_type": "stream",
     "text": [
      "Iteration 35, Accuracy: 0.7701149425287356\n"
     ]
    },
    {
     "name": "stderr",
     "output_type": "stream",
     "text": [
      "\n",
      "\n",
      " 24%|██▍       | 36/150 [01:44<04:31,  2.38s/it]\u001b[A\u001b[A"
     ]
    },
    {
     "name": "stdout",
     "output_type": "stream",
     "text": [
      "Iteration 36, Accuracy: 0.6608410704533042\n"
     ]
    },
    {
     "name": "stderr",
     "output_type": "stream",
     "text": [
      "\n",
      "\n",
      " 25%|██▍       | 37/150 [01:47<04:56,  2.63s/it]\u001b[A\u001b[A"
     ]
    },
    {
     "name": "stdout",
     "output_type": "stream",
     "text": [
      "Iteration 37, Accuracy: 0.6690333151283452\n"
     ]
    },
    {
     "name": "stderr",
     "output_type": "stream",
     "text": [
      "\n",
      "\n",
      " 25%|██▌       | 38/150 [02:15<18:54, 10.13s/it]\u001b[A\u001b[A"
     ]
    },
    {
     "name": "stdout",
     "output_type": "stream",
     "text": [
      "Iteration 38, Accuracy: 0.823943661971831\n"
     ]
    },
    {
     "name": "stderr",
     "output_type": "stream",
     "text": [
      "\n",
      "\n",
      " 26%|██▌       | 39/150 [02:16<13:50,  7.48s/it]\u001b[A\u001b[A"
     ]
    },
    {
     "name": "stdout",
     "output_type": "stream",
     "text": [
      "Iteration 39, Accuracy: 0.6111111111111112\n"
     ]
    },
    {
     "name": "stderr",
     "output_type": "stream",
     "text": [
      "\n",
      "\n",
      " 27%|██▋       | 40/150 [02:17<10:22,  5.66s/it]\u001b[A\u001b[A"
     ]
    },
    {
     "name": "stdout",
     "output_type": "stream",
     "text": [
      "Iteration 40, Accuracy: 0.722972972972973\n"
     ]
    },
    {
     "name": "stderr",
     "output_type": "stream",
     "text": [
      "\n",
      "\n",
      " 27%|██▋       | 41/150 [02:19<08:04,  4.44s/it]\u001b[A\u001b[A"
     ]
    },
    {
     "name": "stdout",
     "output_type": "stream",
     "text": [
      "Iteration 41, Accuracy: 0.6222770242498973\n"
     ]
    },
    {
     "name": "stderr",
     "output_type": "stream",
     "text": [
      "\n",
      "\n",
      " 28%|██▊       | 42/150 [02:22<07:25,  4.13s/it]\u001b[A\u001b[A"
     ]
    },
    {
     "name": "stdout",
     "output_type": "stream",
     "text": [
      "Iteration 42, Accuracy: 0.6007751937984496\n"
     ]
    },
    {
     "name": "stderr",
     "output_type": "stream",
     "text": [
      "\n",
      "\n",
      " 29%|██▊       | 43/150 [02:24<05:59,  3.36s/it]\u001b[A\u001b[A"
     ]
    },
    {
     "name": "stdout",
     "output_type": "stream",
     "text": [
      "Iteration 43, Accuracy: 0.6481544192346766\n"
     ]
    },
    {
     "name": "stderr",
     "output_type": "stream",
     "text": [
      "\n",
      "\n",
      " 29%|██▉       | 44/150 [02:37<11:22,  6.44s/it]\u001b[A\u001b[A"
     ]
    },
    {
     "name": "stdout",
     "output_type": "stream",
     "text": [
      "Iteration 44, Accuracy: 0.6168091168091168\n"
     ]
    },
    {
     "name": "stderr",
     "output_type": "stream",
     "text": [
      "\n",
      "\n",
      " 30%|███       | 45/150 [02:39<08:45,  5.00s/it]\u001b[A\u001b[A"
     ]
    },
    {
     "name": "stdout",
     "output_type": "stream",
     "text": [
      "Iteration 45, Accuracy: 0.7972972972972973\n"
     ]
    },
    {
     "name": "stderr",
     "output_type": "stream",
     "text": [
      "\n",
      "\n",
      " 31%|███       | 46/150 [02:41<06:58,  4.02s/it]\u001b[A\u001b[A"
     ]
    },
    {
     "name": "stdout",
     "output_type": "stream",
     "text": [
      "Iteration 46, Accuracy: 0.7152777777777778\n"
     ]
    },
    {
     "name": "stderr",
     "output_type": "stream",
     "text": [
      "\n",
      "\n",
      " 31%|███▏      | 47/150 [02:42<05:40,  3.31s/it]\u001b[A\u001b[A"
     ]
    },
    {
     "name": "stdout",
     "output_type": "stream",
     "text": [
      "Iteration 47, Accuracy: 0.7223320158102767\n"
     ]
    },
    {
     "name": "stderr",
     "output_type": "stream",
     "text": [
      "\n",
      "\n",
      " 32%|███▏      | 48/150 [02:45<04:58,  2.93s/it]\u001b[A\u001b[A"
     ]
    },
    {
     "name": "stdout",
     "output_type": "stream",
     "text": [
      "Iteration 48, Accuracy: 0.6419753086419753\n"
     ]
    },
    {
     "name": "stderr",
     "output_type": "stream",
     "text": [
      "\n",
      "\n",
      " 33%|███▎      | 49/150 [02:48<05:16,  3.13s/it]\u001b[A\u001b[A"
     ]
    },
    {
     "name": "stdout",
     "output_type": "stream",
     "text": [
      "Iteration 49, Accuracy: 0.6690333151283452\n"
     ]
    },
    {
     "name": "stderr",
     "output_type": "stream",
     "text": [
      "\n",
      "\n",
      " 33%|███▎      | 50/150 [02:52<05:20,  3.21s/it]\u001b[A\u001b[A"
     ]
    },
    {
     "name": "stdout",
     "output_type": "stream",
     "text": [
      "Iteration 50, Accuracy: 0.7086614173228346\n"
     ]
    },
    {
     "name": "stderr",
     "output_type": "stream",
     "text": [
      "\n",
      "\n",
      " 34%|███▍      | 51/150 [02:53<04:30,  2.73s/it]\u001b[A\u001b[A"
     ]
    },
    {
     "name": "stdout",
     "output_type": "stream",
     "text": [
      "Iteration 51, Accuracy: 0.7739463601532567\n"
     ]
    },
    {
     "name": "stderr",
     "output_type": "stream",
     "text": [
      "\n",
      "\n",
      " 35%|███▍      | 52/150 [02:55<04:08,  2.54s/it]\u001b[A\u001b[A"
     ]
    },
    {
     "name": "stdout",
     "output_type": "stream",
     "text": [
      "Iteration 52, Accuracy: 0.625\n"
     ]
    },
    {
     "name": "stderr",
     "output_type": "stream",
     "text": [
      "\n",
      "\n",
      " 35%|███▌      | 53/150 [02:57<03:31,  2.18s/it]\u001b[A\u001b[A"
     ]
    },
    {
     "name": "stdout",
     "output_type": "stream",
     "text": [
      "Iteration 53, Accuracy: 0.7624521072796935\n"
     ]
    },
    {
     "name": "stderr",
     "output_type": "stream",
     "text": [
      "\n",
      "\n",
      " 36%|███▌      | 54/150 [02:58<03:20,  2.09s/it]\u001b[A\u001b[A"
     ]
    },
    {
     "name": "stdout",
     "output_type": "stream",
     "text": [
      "Iteration 54, Accuracy: 0.7144268774703557\n"
     ]
    },
    {
     "name": "stderr",
     "output_type": "stream",
     "text": [
      "\n",
      "\n",
      " 37%|███▋      | 55/150 [03:01<03:27,  2.18s/it]\u001b[A\u001b[A"
     ]
    },
    {
     "name": "stdout",
     "output_type": "stream",
     "text": [
      "Iteration 55, Accuracy: 0.6144672024889811\n"
     ]
    },
    {
     "name": "stderr",
     "output_type": "stream",
     "text": [
      "\n",
      "\n",
      " 37%|███▋      | 56/150 [03:05<04:30,  2.88s/it]\u001b[A\u001b[A"
     ]
    },
    {
     "name": "stdout",
     "output_type": "stream",
     "text": [
      "Iteration 56, Accuracy: 0.5783475783475783\n"
     ]
    },
    {
     "name": "stderr",
     "output_type": "stream",
     "text": [
      "\n",
      "\n",
      " 38%|███▊      | 57/150 [03:07<03:49,  2.46s/it]\u001b[A\u001b[A"
     ]
    },
    {
     "name": "stdout",
     "output_type": "stream",
     "text": [
      "Iteration 57, Accuracy: 0.7394636015325671\n"
     ]
    },
    {
     "name": "stderr",
     "output_type": "stream",
     "text": [
      "\n",
      "\n",
      " 39%|███▊      | 58/150 [03:08<03:19,  2.17s/it]\u001b[A\u001b[A"
     ]
    },
    {
     "name": "stdout",
     "output_type": "stream",
     "text": [
      "Iteration 58, Accuracy: 0.6581196581196581\n"
     ]
    },
    {
     "name": "stderr",
     "output_type": "stream",
     "text": [
      "\n",
      "\n",
      " 39%|███▉      | 59/150 [03:10<03:02,  2.01s/it]\u001b[A\u001b[A"
     ]
    },
    {
     "name": "stdout",
     "output_type": "stream",
     "text": [
      "Iteration 59, Accuracy: 0.5746492985971944\n"
     ]
    },
    {
     "name": "stderr",
     "output_type": "stream",
     "text": [
      "\n",
      "\n",
      " 40%|████      | 60/150 [03:13<03:31,  2.35s/it]\u001b[A\u001b[A"
     ]
    },
    {
     "name": "stdout",
     "output_type": "stream",
     "text": [
      "Iteration 60, Accuracy: 0.7188612099644128\n"
     ]
    },
    {
     "name": "stderr",
     "output_type": "stream",
     "text": [
      "\n",
      "\n",
      " 41%|████      | 61/150 [03:15<03:04,  2.08s/it]\u001b[A\u001b[A"
     ]
    },
    {
     "name": "stdout",
     "output_type": "stream",
     "text": [
      "Iteration 61, Accuracy: 0.625\n"
     ]
    },
    {
     "name": "stderr",
     "output_type": "stream",
     "text": [
      "\n",
      "\n",
      " 41%|████▏     | 62/150 [03:17<03:00,  2.05s/it]\u001b[A\u001b[A"
     ]
    },
    {
     "name": "stdout",
     "output_type": "stream",
     "text": [
      "Iteration 62, Accuracy: 0.7933526011560693\n"
     ]
    },
    {
     "name": "stderr",
     "output_type": "stream",
     "text": [
      "\n",
      "\n",
      " 42%|████▏     | 63/150 [03:18<02:51,  1.97s/it]\u001b[A\u001b[A"
     ]
    },
    {
     "name": "stdout",
     "output_type": "stream",
     "text": [
      "Iteration 63, Accuracy: 0.6171060698957694\n"
     ]
    },
    {
     "name": "stderr",
     "output_type": "stream",
     "text": [
      "\n",
      "\n",
      " 43%|████▎     | 64/150 [03:22<03:45,  2.63s/it]\u001b[A\u001b[A"
     ]
    },
    {
     "name": "stdout",
     "output_type": "stream",
     "text": [
      "Iteration 64, Accuracy: 0.6302065695902472\n"
     ]
    },
    {
     "name": "stderr",
     "output_type": "stream",
     "text": [
      "\n",
      "\n",
      " 43%|████▎     | 65/150 [03:38<09:18,  6.57s/it]\u001b[A\u001b[A"
     ]
    },
    {
     "name": "stdout",
     "output_type": "stream",
     "text": [
      "Iteration 65, Accuracy: 0.8309859154929577\n"
     ]
    },
    {
     "name": "stderr",
     "output_type": "stream",
     "text": [
      "\n",
      "\n",
      " 44%|████▍     | 66/150 [03:40<07:01,  5.02s/it]\u001b[A\u001b[A"
     ]
    },
    {
     "name": "stdout",
     "output_type": "stream",
     "text": [
      "Iteration 66, Accuracy: 0.5636272545090181\n"
     ]
    },
    {
     "name": "stderr",
     "output_type": "stream",
     "text": [
      "\n",
      "\n",
      " 45%|████▍     | 67/150 [03:45<07:03,  5.11s/it]\u001b[A\u001b[A"
     ]
    },
    {
     "name": "stdout",
     "output_type": "stream",
     "text": [
      "Iteration 67, Accuracy: 0.7188612099644128\n"
     ]
    },
    {
     "name": "stderr",
     "output_type": "stream",
     "text": [
      "\n",
      "\n",
      " 45%|████▌     | 68/150 [03:47<05:39,  4.14s/it]\u001b[A\u001b[A"
     ]
    },
    {
     "name": "stdout",
     "output_type": "stream",
     "text": [
      "Iteration 68, Accuracy: 0.6407407407407407\n"
     ]
    },
    {
     "name": "stderr",
     "output_type": "stream",
     "text": [
      "\n",
      "\n",
      " 46%|████▌     | 69/150 [03:49<04:58,  3.69s/it]\u001b[A\u001b[A"
     ]
    },
    {
     "name": "stdout",
     "output_type": "stream",
     "text": [
      "Iteration 69, Accuracy: 0.6668487165483342\n"
     ]
    },
    {
     "name": "stderr",
     "output_type": "stream",
     "text": [
      "\n",
      "\n",
      " 47%|████▋     | 70/150 [03:53<04:41,  3.52s/it]\u001b[A\u001b[A"
     ]
    },
    {
     "name": "stdout",
     "output_type": "stream",
     "text": [
      "Iteration 70, Accuracy: 0.6072961373390557\n"
     ]
    },
    {
     "name": "stderr",
     "output_type": "stream",
     "text": [
      "\n",
      "\n",
      " 47%|████▋     | 71/150 [03:57<05:05,  3.87s/it]\u001b[A\u001b[A"
     ]
    },
    {
     "name": "stdout",
     "output_type": "stream",
     "text": [
      "Iteration 71, Accuracy: 0.7471264367816092\n"
     ]
    },
    {
     "name": "stderr",
     "output_type": "stream",
     "text": [
      "\n",
      "\n",
      " 48%|████▊     | 72/150 [03:59<04:07,  3.17s/it]\u001b[A\u001b[A"
     ]
    },
    {
     "name": "stdout",
     "output_type": "stream",
     "text": [
      "Iteration 72, Accuracy: 0.7204724409448819\n"
     ]
    },
    {
     "name": "stderr",
     "output_type": "stream",
     "text": [
      "\n",
      "\n",
      " 49%|████▊     | 73/150 [04:00<03:25,  2.67s/it]\u001b[A\u001b[A"
     ]
    },
    {
     "name": "stdout",
     "output_type": "stream",
     "text": [
      "Iteration 73, Accuracy: 0.6050143855322647\n"
     ]
    },
    {
     "name": "stderr",
     "output_type": "stream",
     "text": [
      "\n",
      "\n",
      " 49%|████▉     | 74/150 [04:03<03:29,  2.76s/it]\u001b[A\u001b[A"
     ]
    },
    {
     "name": "stdout",
     "output_type": "stream",
     "text": [
      "Iteration 74, Accuracy: 0.7154150197628458\n"
     ]
    },
    {
     "name": "stderr",
     "output_type": "stream",
     "text": [
      "\n",
      "\n",
      " 50%|█████     | 75/150 [04:05<03:08,  2.51s/it]\u001b[A\u001b[A"
     ]
    },
    {
     "name": "stdout",
     "output_type": "stream",
     "text": [
      "Iteration 75, Accuracy: 0.7471264367816092\n"
     ]
    },
    {
     "name": "stderr",
     "output_type": "stream",
     "text": [
      "\n",
      "\n",
      " 51%|█████     | 76/150 [04:07<02:52,  2.33s/it]\u001b[A\u001b[A"
     ]
    },
    {
     "name": "stdout",
     "output_type": "stream",
     "text": [
      "Iteration 76, Accuracy: 0.6349206349206349\n"
     ]
    },
    {
     "name": "stderr",
     "output_type": "stream",
     "text": [
      "\n",
      "\n",
      " 51%|█████▏    | 77/150 [04:10<02:59,  2.46s/it]\u001b[A\u001b[A"
     ]
    },
    {
     "name": "stdout",
     "output_type": "stream",
     "text": [
      "Iteration 77, Accuracy: 0.8445945945945946\n"
     ]
    },
    {
     "name": "stderr",
     "output_type": "stream",
     "text": [
      "\n",
      "\n",
      " 52%|█████▏    | 78/150 [04:12<02:40,  2.23s/it]\u001b[A\u001b[A"
     ]
    },
    {
     "name": "stdout",
     "output_type": "stream",
     "text": [
      "Iteration 78, Accuracy: 0.8378378378378378\n"
     ]
    },
    {
     "name": "stderr",
     "output_type": "stream",
     "text": [
      "\n",
      "\n",
      " 53%|█████▎    | 79/150 [04:14<02:42,  2.28s/it]\u001b[A\u001b[A"
     ]
    },
    {
     "name": "stdout",
     "output_type": "stream",
     "text": [
      "Iteration 79, Accuracy: 0.6641179683233206\n"
     ]
    },
    {
     "name": "stderr",
     "output_type": "stream",
     "text": [
      "\n",
      "\n",
      " 53%|█████▎    | 80/150 [04:17<02:55,  2.50s/it]\u001b[A\u001b[A"
     ]
    },
    {
     "name": "stdout",
     "output_type": "stream",
     "text": [
      "Iteration 80, Accuracy: 0.7244094488188977\n"
     ]
    },
    {
     "name": "stderr",
     "output_type": "stream",
     "text": [
      "\n",
      "\n",
      " 54%|█████▍    | 81/150 [04:19<02:35,  2.26s/it]\u001b[A\u001b[A"
     ]
    },
    {
     "name": "stdout",
     "output_type": "stream",
     "text": [
      "Iteration 81, Accuracy: 0.6238785369220152\n"
     ]
    },
    {
     "name": "stderr",
     "output_type": "stream",
     "text": [
      "\n",
      "\n",
      " 55%|█████▍    | 82/150 [04:22<02:52,  2.54s/it]\u001b[A\u001b[A"
     ]
    },
    {
     "name": "stdout",
     "output_type": "stream",
     "text": [
      "Iteration 82, Accuracy: 0.7803468208092486\n"
     ]
    },
    {
     "name": "stderr",
     "output_type": "stream",
     "text": [
      "\n",
      "\n",
      " 55%|█████▌    | 83/150 [04:24<02:33,  2.29s/it]\u001b[A\u001b[A"
     ]
    },
    {
     "name": "stdout",
     "output_type": "stream",
     "text": [
      "Iteration 83, Accuracy: 0.5890588540316308\n"
     ]
    },
    {
     "name": "stderr",
     "output_type": "stream",
     "text": [
      "\n",
      "\n",
      " 56%|█████▌    | 84/150 [04:28<03:12,  2.91s/it]\u001b[A\u001b[A"
     ]
    },
    {
     "name": "stdout",
     "output_type": "stream",
     "text": [
      "Iteration 84, Accuracy: 0.8402130492676432\n"
     ]
    },
    {
     "name": "stderr",
     "output_type": "stream",
     "text": [
      "\n",
      "\n",
      " 57%|█████▋    | 85/150 [04:30<02:50,  2.62s/it]\u001b[A\u001b[A"
     ]
    },
    {
     "name": "stdout",
     "output_type": "stream",
     "text": [
      "Iteration 85, Accuracy: 0.7678571428571429\n"
     ]
    },
    {
     "name": "stderr",
     "output_type": "stream",
     "text": [
      "\n",
      "\n",
      " 57%|█████▋    | 86/150 [04:32<02:28,  2.32s/it]\u001b[A\u001b[A"
     ]
    },
    {
     "name": "stdout",
     "output_type": "stream",
     "text": [
      "Iteration 86, Accuracy: 0.7153024911032029\n"
     ]
    },
    {
     "name": "stderr",
     "output_type": "stream",
     "text": [
      "\n",
      "\n",
      " 58%|█████▊    | 87/150 [04:33<02:14,  2.14s/it]\u001b[A\u001b[A"
     ]
    },
    {
     "name": "stdout",
     "output_type": "stream",
     "text": [
      "Iteration 87, Accuracy: 0.7244094488188977\n"
     ]
    },
    {
     "name": "stderr",
     "output_type": "stream",
     "text": [
      "\n",
      "\n",
      " 59%|█████▊    | 88/150 [04:35<02:04,  2.01s/it]\u001b[A\u001b[A"
     ]
    },
    {
     "name": "stdout",
     "output_type": "stream",
     "text": [
      "Iteration 88, Accuracy: 0.6000822030415125\n"
     ]
    },
    {
     "name": "stderr",
     "output_type": "stream",
     "text": [
      "\n",
      "\n",
      " 59%|█████▉    | 89/150 [04:38<02:26,  2.40s/it]\u001b[A\u001b[A"
     ]
    },
    {
     "name": "stdout",
     "output_type": "stream",
     "text": [
      "Iteration 89, Accuracy: 0.561122244488978\n"
     ]
    },
    {
     "name": "stderr",
     "output_type": "stream",
     "text": [
      "\n",
      "\n",
      " 60%|██████    | 90/150 [04:41<02:30,  2.51s/it]\u001b[A\u001b[A"
     ]
    },
    {
     "name": "stdout",
     "output_type": "stream",
     "text": [
      "Iteration 90, Accuracy: 0.55561317085818\n"
     ]
    },
    {
     "name": "stderr",
     "output_type": "stream",
     "text": [
      "\n",
      "\n",
      " 61%|██████    | 91/150 [04:45<02:58,  3.03s/it]\u001b[A\u001b[A"
     ]
    },
    {
     "name": "stdout",
     "output_type": "stream",
     "text": [
      "Iteration 91, Accuracy: 0.6103962072468676\n"
     ]
    },
    {
     "name": "stderr",
     "output_type": "stream",
     "text": [
      "\n",
      "\n",
      " 61%|██████▏   | 92/150 [04:59<05:54,  6.11s/it]\u001b[A\u001b[A"
     ]
    },
    {
     "name": "stdout",
     "output_type": "stream",
     "text": [
      "Iteration 92, Accuracy: 0.5434275343531242\n"
     ]
    },
    {
     "name": "stderr",
     "output_type": "stream",
     "text": [
      "\n",
      "\n",
      " 62%|██████▏   | 93/150 [05:03<05:11,  5.47s/it]\u001b[A\u001b[A"
     ]
    },
    {
     "name": "stdout",
     "output_type": "stream",
     "text": [
      "Iteration 93, Accuracy: 0.6619333697433096\n"
     ]
    },
    {
     "name": "stderr",
     "output_type": "stream",
     "text": [
      "\n",
      "\n",
      " 63%|██████▎   | 94/150 [05:05<04:20,  4.66s/it]\u001b[A\u001b[A"
     ]
    },
    {
     "name": "stdout",
     "output_type": "stream",
     "text": [
      "Iteration 94, Accuracy: 0.6638176638176638\n"
     ]
    },
    {
     "name": "stderr",
     "output_type": "stream",
     "text": [
      "\n",
      "\n",
      " 63%|██████▎   | 95/150 [05:07<03:27,  3.77s/it]\u001b[A\u001b[A"
     ]
    },
    {
     "name": "stdout",
     "output_type": "stream",
     "text": [
      "Iteration 95, Accuracy: 0.5645994832041343\n"
     ]
    },
    {
     "name": "stderr",
     "output_type": "stream",
     "text": [
      "\n",
      "\n",
      " 64%|██████▍   | 96/150 [05:09<02:51,  3.17s/it]\u001b[A\u001b[A"
     ]
    },
    {
     "name": "stdout",
     "output_type": "stream",
     "text": [
      "Iteration 96, Accuracy: 0.9062170706006323\n"
     ]
    },
    {
     "name": "stderr",
     "output_type": "stream",
     "text": [
      "\n",
      "\n",
      " 65%|██████▍   | 97/150 [05:12<02:50,  3.22s/it]\u001b[A\u001b[A"
     ]
    },
    {
     "name": "stdout",
     "output_type": "stream",
     "text": [
      "Iteration 97, Accuracy: 0.6554770318021201\n"
     ]
    },
    {
     "name": "stderr",
     "output_type": "stream",
     "text": [
      "\n",
      "\n",
      " 65%|██████▌   | 98/150 [05:14<02:21,  2.72s/it]\u001b[A\u001b[A"
     ]
    },
    {
     "name": "stdout",
     "output_type": "stream",
     "text": [
      "Iteration 98, Accuracy: 0.9062170706006323\n"
     ]
    },
    {
     "name": "stderr",
     "output_type": "stream",
     "text": [
      "\n",
      "\n",
      " 66%|██████▌   | 99/150 [05:18<02:42,  3.19s/it]\u001b[A\u001b[A"
     ]
    },
    {
     "name": "stdout",
     "output_type": "stream",
     "text": [
      "Iteration 99, Accuracy: 0.5392792325641691\n"
     ]
    },
    {
     "name": "stderr",
     "output_type": "stream",
     "text": [
      "\n",
      "\n",
      " 67%|██████▋   | 100/150 [05:21<02:35,  3.11s/it]\u001b[A\u001b[A"
     ]
    },
    {
     "name": "stdout",
     "output_type": "stream",
     "text": [
      "Iteration 100, Accuracy: 0.6537102473498233\n"
     ]
    },
    {
     "name": "stderr",
     "output_type": "stream",
     "text": [
      "\n",
      "\n",
      " 67%|██████▋   | 101/150 [05:22<02:09,  2.65s/it]\u001b[A\u001b[A"
     ]
    },
    {
     "name": "stdout",
     "output_type": "stream",
     "text": [
      "Iteration 101, Accuracy: 0.5340681362725451\n"
     ]
    },
    {
     "name": "stderr",
     "output_type": "stream",
     "text": [
      "\n",
      "\n",
      " 68%|██████▊   | 102/150 [05:31<03:30,  4.39s/it]\u001b[A\u001b[A"
     ]
    },
    {
     "name": "stdout",
     "output_type": "stream",
     "text": [
      "Iteration 102, Accuracy: 0.8\n"
     ]
    },
    {
     "name": "stderr",
     "output_type": "stream",
     "text": [
      "\n",
      "\n",
      " 69%|██████▊   | 103/150 [05:33<02:48,  3.59s/it]\u001b[A\u001b[A"
     ]
    },
    {
     "name": "stdout",
     "output_type": "stream",
     "text": [
      "Iteration 103, Accuracy: 0.8378378378378378\n"
     ]
    },
    {
     "name": "stderr",
     "output_type": "stream",
     "text": [
      "\n",
      "\n",
      " 69%|██████▉   | 104/150 [05:34<02:21,  3.07s/it]\u001b[A\u001b[A"
     ]
    },
    {
     "name": "stdout",
     "output_type": "stream",
     "text": [
      "Iteration 104, Accuracy: 0.7718120805369127\n"
     ]
    },
    {
     "name": "stderr",
     "output_type": "stream",
     "text": [
      "\n",
      "\n",
      " 70%|███████   | 105/150 [05:36<01:54,  2.55s/it]\u001b[A\u001b[A"
     ]
    },
    {
     "name": "stdout",
     "output_type": "stream",
     "text": [
      "Iteration 105, Accuracy: 0.829560585885486\n"
     ]
    },
    {
     "name": "stderr",
     "output_type": "stream",
     "text": [
      "\n",
      "\n",
      " 71%|███████   | 106/150 [05:38<01:47,  2.45s/it]\u001b[A\u001b[A"
     ]
    },
    {
     "name": "stdout",
     "output_type": "stream",
     "text": [
      "Iteration 106, Accuracy: 0.7817919075144508\n"
     ]
    },
    {
     "name": "stderr",
     "output_type": "stream",
     "text": [
      "\n",
      "\n",
      " 71%|███████▏  | 107/150 [05:40<01:35,  2.21s/it]\u001b[A\u001b[A"
     ]
    },
    {
     "name": "stdout",
     "output_type": "stream",
     "text": [
      "Iteration 107, Accuracy: 0.6630256690333152\n"
     ]
    },
    {
     "name": "stderr",
     "output_type": "stream",
     "text": [
      "\n",
      "\n",
      " 72%|███████▏  | 108/150 [05:43<01:41,  2.41s/it]\u001b[A\u001b[A"
     ]
    },
    {
     "name": "stdout",
     "output_type": "stream",
     "text": [
      "Iteration 108, Accuracy: 0.8095238095238095\n"
     ]
    },
    {
     "name": "stderr",
     "output_type": "stream",
     "text": [
      "\n",
      "\n",
      " 73%|███████▎  | 109/150 [05:44<01:26,  2.12s/it]\u001b[A\u001b[A"
     ]
    },
    {
     "name": "stdout",
     "output_type": "stream",
     "text": [
      "Iteration 109, Accuracy: 0.9062170706006323\n"
     ]
    },
    {
     "name": "stderr",
     "output_type": "stream",
     "text": [
      "\n",
      "\n",
      " 73%|███████▎  | 110/150 [05:47<01:40,  2.52s/it]\u001b[A\u001b[A"
     ]
    },
    {
     "name": "stdout",
     "output_type": "stream",
     "text": [
      "Iteration 110, Accuracy: 0.6501766784452296\n"
     ]
    },
    {
     "name": "stderr",
     "output_type": "stream",
     "text": [
      "\n",
      "\n",
      " 74%|███████▍  | 111/150 [05:49<01:25,  2.20s/it]\u001b[A\u001b[A"
     ]
    },
    {
     "name": "stdout",
     "output_type": "stream",
     "text": [
      "Iteration 111, Accuracy: 0.7153024911032029\n"
     ]
    },
    {
     "name": "stderr",
     "output_type": "stream",
     "text": [
      "\n",
      "\n",
      " 75%|███████▍  | 112/150 [05:50<01:15,  1.97s/it]\u001b[A\u001b[A"
     ]
    },
    {
     "name": "stdout",
     "output_type": "stream",
     "text": [
      "Iteration 112, Accuracy: 0.8445945945945946\n"
     ]
    },
    {
     "name": "stderr",
     "output_type": "stream",
     "text": [
      "\n",
      "\n",
      " 75%|███████▌  | 113/150 [05:52<01:04,  1.76s/it]\u001b[A\u001b[A"
     ]
    },
    {
     "name": "stdout",
     "output_type": "stream",
     "text": [
      "Iteration 113, Accuracy: 0.5224267565465388\n"
     ]
    },
    {
     "name": "stderr",
     "output_type": "stream",
     "text": [
      "\n",
      "\n",
      " 76%|███████▌  | 114/150 [05:56<01:36,  2.68s/it]\u001b[A\u001b[A"
     ]
    },
    {
     "name": "stdout",
     "output_type": "stream",
     "text": [
      "Iteration 114, Accuracy: 0.7153024911032029\n"
     ]
    },
    {
     "name": "stderr",
     "output_type": "stream",
     "text": [
      "\n",
      "\n",
      " 77%|███████▋  | 115/150 [05:58<01:21,  2.32s/it]\u001b[A\u001b[A"
     ]
    },
    {
     "name": "stdout",
     "output_type": "stream",
     "text": [
      "Iteration 115, Accuracy: 0.5997239475500346\n"
     ]
    },
    {
     "name": "stderr",
     "output_type": "stream",
     "text": [
      "\n",
      "\n",
      " 77%|███████▋  | 116/150 [06:01<01:21,  2.40s/it]\u001b[A\u001b[A"
     ]
    },
    {
     "name": "stdout",
     "output_type": "stream",
     "text": [
      "Iteration 116, Accuracy: 0.6537102473498233\n"
     ]
    },
    {
     "name": "stderr",
     "output_type": "stream",
     "text": [
      "\n",
      "\n",
      " 78%|███████▊  | 117/150 [06:02<01:12,  2.19s/it]\u001b[A\u001b[A"
     ]
    },
    {
     "name": "stdout",
     "output_type": "stream",
     "text": [
      "Iteration 117, Accuracy: 0.825503355704698\n"
     ]
    },
    {
     "name": "stderr",
     "output_type": "stream",
     "text": [
      "\n",
      "\n",
      " 79%|███████▊  | 118/150 [06:04<01:03,  1.98s/it]\u001b[A\u001b[A"
     ]
    },
    {
     "name": "stdout",
     "output_type": "stream",
     "text": [
      "Iteration 118, Accuracy: 0.7154150197628458\n"
     ]
    },
    {
     "name": "stderr",
     "output_type": "stream",
     "text": [
      "\n",
      "\n",
      " 79%|███████▉  | 119/150 [06:06<01:00,  1.94s/it]\u001b[A\u001b[A"
     ]
    },
    {
     "name": "stdout",
     "output_type": "stream",
     "text": [
      "Iteration 119, Accuracy: 0.6431095406360424\n"
     ]
    },
    {
     "name": "stderr",
     "output_type": "stream",
     "text": [
      "\n",
      "\n",
      " 80%|████████  | 120/150 [06:07<00:53,  1.80s/it]\u001b[A\u001b[A"
     ]
    },
    {
     "name": "stdout",
     "output_type": "stream",
     "text": [
      "Iteration 120, Accuracy: 0.9298245614035088\n"
     ]
    },
    {
     "name": "stderr",
     "output_type": "stream",
     "text": [
      "\n",
      "\n",
      " 81%|████████  | 121/150 [06:09<00:49,  1.71s/it]\u001b[A\u001b[A"
     ]
    },
    {
     "name": "stdout",
     "output_type": "stream",
     "text": [
      "Iteration 121, Accuracy: 0.9323308270676691\n"
     ]
    },
    {
     "name": "stderr",
     "output_type": "stream",
     "text": [
      "\n",
      "\n",
      " 81%|████████▏ | 122/150 [06:10<00:46,  1.65s/it]\u001b[A\u001b[A"
     ]
    },
    {
     "name": "stdout",
     "output_type": "stream",
     "text": [
      "Iteration 122, Accuracy: 0.8772590361445783\n"
     ]
    },
    {
     "name": "stderr",
     "output_type": "stream",
     "text": [
      "\n",
      "\n",
      " 82%|████████▏ | 123/150 [06:12<00:50,  1.87s/it]\u001b[A\u001b[A"
     ]
    },
    {
     "name": "stdout",
     "output_type": "stream",
     "text": [
      "Iteration 123, Accuracy: 0.9062170706006323\n"
     ]
    },
    {
     "name": "stderr",
     "output_type": "stream",
     "text": [
      "\n",
      "\n",
      " 83%|████████▎ | 124/150 [06:16<01:02,  2.39s/it]\u001b[A\u001b[A"
     ]
    },
    {
     "name": "stdout",
     "output_type": "stream",
     "text": [
      "Iteration 124, Accuracy: 0.7244094488188977\n"
     ]
    },
    {
     "name": "stderr",
     "output_type": "stream",
     "text": [
      "\n",
      "\n",
      " 83%|████████▎ | 125/150 [06:17<00:52,  2.09s/it]\u001b[A\u001b[A"
     ]
    },
    {
     "name": "stdout",
     "output_type": "stream",
     "text": [
      "Iteration 125, Accuracy: 0.8309859154929577\n"
     ]
    },
    {
     "name": "stderr",
     "output_type": "stream",
     "text": [
      "\n",
      "\n",
      " 84%|████████▍ | 126/150 [06:19<00:47,  1.99s/it]\u001b[A\u001b[A"
     ]
    },
    {
     "name": "stdout",
     "output_type": "stream",
     "text": [
      "Iteration 126, Accuracy: 0.6566951566951567\n"
     ]
    },
    {
     "name": "stderr",
     "output_type": "stream",
     "text": [
      "\n",
      "\n",
      " 85%|████████▍ | 127/150 [06:21<00:44,  1.93s/it]\u001b[A\u001b[A"
     ]
    },
    {
     "name": "stdout",
     "output_type": "stream",
     "text": [
      "Iteration 127, Accuracy: 0.7432950191570882\n"
     ]
    },
    {
     "name": "stderr",
     "output_type": "stream",
     "text": [
      "\n",
      "\n",
      " 85%|████████▌ | 128/150 [06:22<00:39,  1.78s/it]\u001b[A\u001b[A"
     ]
    },
    {
     "name": "stdout",
     "output_type": "stream",
     "text": [
      "Iteration 128, Accuracy: 0.7471264367816092\n"
     ]
    },
    {
     "name": "stderr",
     "output_type": "stream",
     "text": [
      "\n",
      "\n",
      " 86%|████████▌ | 129/150 [06:24<00:35,  1.70s/it]\u001b[A\u001b[A"
     ]
    },
    {
     "name": "stdout",
     "output_type": "stream",
     "text": [
      "Iteration 129, Accuracy: 0.8370786516853933\n"
     ]
    },
    {
     "name": "stderr",
     "output_type": "stream",
     "text": [
      "\n",
      "\n",
      " 87%|████████▋ | 130/150 [06:26<00:36,  1.81s/it]\u001b[A\u001b[A"
     ]
    },
    {
     "name": "stdout",
     "output_type": "stream",
     "text": [
      "Iteration 130, Accuracy: 0.48405496499870365\n"
     ]
    },
    {
     "name": "stderr",
     "output_type": "stream",
     "text": [
      "\n",
      "\n",
      " 87%|████████▋ | 131/150 [06:37<01:26,  4.53s/it]\u001b[A\u001b[A"
     ]
    },
    {
     "name": "stdout",
     "output_type": "stream",
     "text": [
      "Iteration 131, Accuracy: 0.5965665236051502\n"
     ]
    },
    {
     "name": "stderr",
     "output_type": "stream",
     "text": [
      "\n",
      "\n",
      " 88%|████████▊ | 132/150 [06:41<01:21,  4.54s/it]\u001b[A\u001b[A"
     ]
    },
    {
     "name": "stdout",
     "output_type": "stream",
     "text": [
      "Iteration 132, Accuracy: 0.7982142857142858\n"
     ]
    },
    {
     "name": "stderr",
     "output_type": "stream",
     "text": [
      "\n",
      "\n",
      " 89%|████████▊ | 133/150 [06:43<01:02,  3.66s/it]\u001b[A\u001b[A"
     ]
    },
    {
     "name": "stdout",
     "output_type": "stream",
     "text": [
      "Iteration 133, Accuracy: 0.6638176638176638\n"
     ]
    },
    {
     "name": "stderr",
     "output_type": "stream",
     "text": [
      "\n",
      "\n",
      " 89%|████████▉ | 134/150 [06:45<00:49,  3.11s/it]\u001b[A\u001b[A"
     ]
    },
    {
     "name": "stdout",
     "output_type": "stream",
     "text": [
      "Iteration 134, Accuracy: 0.8255659121171771\n"
     ]
    },
    {
     "name": "stderr",
     "output_type": "stream",
     "text": [
      "\n",
      "\n",
      " 90%|█████████ | 135/150 [06:46<00:39,  2.66s/it]\u001b[A\u001b[A"
     ]
    },
    {
     "name": "stdout",
     "output_type": "stream",
     "text": [
      "Iteration 135, Accuracy: 0.5726495726495726\n"
     ]
    },
    {
     "name": "stderr",
     "output_type": "stream",
     "text": [
      "\n",
      "\n",
      " 91%|█████████ | 136/150 [06:48<00:34,  2.47s/it]\u001b[A\u001b[A"
     ]
    },
    {
     "name": "stdout",
     "output_type": "stream",
     "text": [
      "Iteration 136, Accuracy: 0.5928877988963825\n"
     ]
    },
    {
     "name": "stderr",
     "output_type": "stream",
     "text": [
      "\n",
      "\n",
      " 91%|█████████▏| 137/150 [06:53<00:41,  3.19s/it]\u001b[A\u001b[A"
     ]
    },
    {
     "name": "stdout",
     "output_type": "stream",
     "text": [
      "Iteration 137, Accuracy: 0.7244094488188977\n"
     ]
    },
    {
     "name": "stderr",
     "output_type": "stream",
     "text": [
      "\n",
      "\n",
      " 92%|█████████▏| 138/150 [06:55<00:31,  2.65s/it]\u001b[A\u001b[A"
     ]
    },
    {
     "name": "stdout",
     "output_type": "stream",
     "text": [
      "Iteration 138, Accuracy: 0.7144268774703557\n"
     ]
    },
    {
     "name": "stderr",
     "output_type": "stream",
     "text": [
      "\n",
      "\n",
      " 93%|█████████▎| 139/150 [06:57<00:28,  2.61s/it]\u001b[A\u001b[A"
     ]
    },
    {
     "name": "stdout",
     "output_type": "stream",
     "text": [
      "Iteration 139, Accuracy: 0.5435871743486974\n"
     ]
    },
    {
     "name": "stderr",
     "output_type": "stream",
     "text": [
      "\n",
      "\n",
      " 93%|█████████▎| 140/150 [07:01<00:28,  2.83s/it]\u001b[A\u001b[A"
     ]
    },
    {
     "name": "stdout",
     "output_type": "stream",
     "text": [
      "Iteration 140, Accuracy: 0.8268974700399467\n"
     ]
    },
    {
     "name": "stderr",
     "output_type": "stream",
     "text": [
      "\n",
      "\n",
      " 94%|█████████▍| 141/150 [07:02<00:22,  2.46s/it]\u001b[A\u001b[A"
     ]
    },
    {
     "name": "stdout",
     "output_type": "stream",
     "text": [
      "Iteration 141, Accuracy: 0.6466431095406361\n"
     ]
    },
    {
     "name": "stderr",
     "output_type": "stream",
     "text": [
      "\n",
      "\n",
      " 95%|█████████▍| 142/150 [07:04<00:18,  2.29s/it]\u001b[A\u001b[A"
     ]
    },
    {
     "name": "stdout",
     "output_type": "stream",
     "text": [
      "Iteration 142, Accuracy: 0.5529715762273901\n"
     ]
    },
    {
     "name": "stderr",
     "output_type": "stream",
     "text": [
      "\n",
      "\n",
      " 95%|█████████▌| 143/150 [07:06<00:14,  2.08s/it]\u001b[A\u001b[A"
     ]
    },
    {
     "name": "stdout",
     "output_type": "stream",
     "text": [
      "Iteration 143, Accuracy: 0.7817919075144508\n"
     ]
    },
    {
     "name": "stderr",
     "output_type": "stream",
     "text": [
      "\n",
      "\n",
      " 96%|█████████▌| 144/150 [07:08<00:12,  2.04s/it]\u001b[A\u001b[A"
     ]
    },
    {
     "name": "stdout",
     "output_type": "stream",
     "text": [
      "Iteration 144, Accuracy: 0.541343669250646\n"
     ]
    },
    {
     "name": "stderr",
     "output_type": "stream",
     "text": [
      "\n",
      "\n",
      " 97%|█████████▋| 145/150 [07:10<00:10,  2.08s/it]\u001b[A\u001b[A"
     ]
    },
    {
     "name": "stdout",
     "output_type": "stream",
     "text": [
      "Iteration 145, Accuracy: 0.6623931623931624\n"
     ]
    },
    {
     "name": "stderr",
     "output_type": "stream",
     "text": [
      "\n",
      "\n",
      " 97%|█████████▋| 146/150 [07:12<00:07,  1.97s/it]\u001b[A\u001b[A"
     ]
    },
    {
     "name": "stdout",
     "output_type": "stream",
     "text": [
      "Iteration 146, Accuracy: 0.5310077519379846\n"
     ]
    },
    {
     "name": "stderr",
     "output_type": "stream",
     "text": [
      "\n",
      "\n",
      " 98%|█████████▊| 147/150 [07:15<00:07,  2.56s/it]\u001b[A\u001b[A"
     ]
    },
    {
     "name": "stdout",
     "output_type": "stream",
     "text": [
      "Iteration 147, Accuracy: 0.8273809523809523\n"
     ]
    },
    {
     "name": "stderr",
     "output_type": "stream",
     "text": [
      "\n",
      "\n",
      " 99%|█████████▊| 148/150 [07:17<00:04,  2.22s/it]\u001b[A\u001b[A"
     ]
    },
    {
     "name": "stdout",
     "output_type": "stream",
     "text": [
      "Iteration 148, Accuracy: 0.5726495726495726\n"
     ]
    },
    {
     "name": "stderr",
     "output_type": "stream",
     "text": [
      "\n",
      "\n",
      " 99%|█████████▉| 149/150 [07:18<00:02,  2.04s/it]\u001b[A\u001b[A"
     ]
    },
    {
     "name": "stdout",
     "output_type": "stream",
     "text": [
      "Iteration 149, Accuracy: 0.8445945945945946\n"
     ]
    },
    {
     "name": "stderr",
     "output_type": "stream",
     "text": [
      "\n",
      "\n",
      "100%|██████████| 150/150 [07:20<00:00,  2.94s/it]\u001b[A\u001b[A"
     ]
    },
    {
     "name": "stdout",
     "output_type": "stream",
     "text": [
      "time: 440.775185585022\n"
     ]
    },
    {
     "name": "stderr",
     "output_type": "stream",
     "text": [
      "\n"
     ]
    }
   ],
   "source": [
    "def get_projection_matrix(num_clfs, X_train, Y_train, X_dev, Y_dev, Y_train_task, Y_dev_task, dim, all_data_prob, by_class = False):\n",
    "\n",
    "    is_autoregressive = True\n",
    "    min_acc = 0.\n",
    "    noise = False\n",
    "    dim = 300\n",
    "    n = num_clfs\n",
    "    random_subset = 1\n",
    "    start = time.time()\n",
    "    TYPE= \"svm\"\n",
    "    penalty = \"l2\"\n",
    "    \n",
    "    if MLP:\n",
    "        x_train_gender = np.matmul(X_train, clf.coefs_[0]) + clf.intercepts_[0]\n",
    "        x_dev_gender = np.matmul(X_dev, clf.coefs_[0]) + clf.intercepts_[0]\n",
    "    else:\n",
    "        x_train_gender = X_train.copy()\n",
    "        x_dev_gender = X_dev.copy()\n",
    "        \n",
    "    \n",
    "    if TYPE == \"sgd\":\n",
    "        print(\"using sgd\")\n",
    "        gender_clf = SGDClassifier\n",
    "        params = {'penalty': penalty, 'loss': 'hinge', 'max_iter': 3000, 'fit_intercept': False, 'class_weight': None, 'n_jobs': 100}\n",
    "    elif TYPE == \"svm\":\n",
    "        gender_clf = LinearSVC\n",
    "        params = {'max_iter': 30000, 'fit_intercept': True, 'class_weight': None, \"dual\": False}\n",
    "    elif TYPE == \"perceptron\":\n",
    "        gender_clf = Perceptron\n",
    "        params = {'max_iter': 1000, 'fit_intercept': True, 'class_weight': None}\n",
    "        \n",
    "    P = debias.get_debiasing_projection(gender_clf, params, n, dim, is_autoregressive, min_acc,\n",
    "                                              x_train_gender, Y_train, x_dev_gender, Y_dev, noise=noise, random_subset = random_subset,\n",
    "                                       Y_train_main=Y_train_task, Y_dev_main=Y_dev_task, \n",
    "                                        by_class = by_class, all_data_prob = all_data_prob, k = 0, all_data_iterations = 0)\n",
    "    print(\"time: {}\".format(time.time() - start))\n",
    "    return P\n",
    "\n",
    "prof2P = dict()\n",
    "P_all = np.eye(300)\n",
    "\"\"\"\n",
    "for i,prof in enumerate(p2i.keys()):\n",
    "    print(\"ITERATION {} OUT OF {}; PROFESSION: {}\".format(i, len(p2i), prof))\n",
    "    num_clfs = 7\n",
    "    Y_dev_gender = np.array([g2i[d[\"g\"]] for d in dev])\n",
    "    Y_train_gender = np.array([g2i[d[\"g\"]] for d in train])\n",
    "    rel_idx_train = Y_train == p2i[prof]\n",
    "    rel_idx_dev = Y_dev == p2i[prof]\n",
    "    \n",
    "\n",
    "    P = get_projection_matrix(num_clfs, X_train[rel_idx_train].dot(P_all), Y_train_gender[rel_idx_train], X_dev[rel_idx_dev].dot(P_all), Y_dev_gender[rel_idx_dev], Y_train, Y_dev, dim = 300, all_data_prob = 0.0,\n",
    "                             by_class = False)\n",
    "    prof2P[prof] = P\n",
    "    P_all = P_all.dot(P)\n",
    "\n",
    "\"\"\" \n",
    "\n",
    "num_clfs = 150\n",
    "Y_dev_gender = np.array([g2i[d[\"g\"]] for d in dev])\n",
    "Y_train_gender = np.array([g2i[d[\"g\"]] for d in train])\n",
    "#idx = np.random.rand(X_train.shape[0]) < 1.\n",
    "P = get_projection_matrix(num_clfs, X_train, Y_train_gender, X_dev, Y_dev_gender, Y_train, Y_dev, 300, 0.0, by_class= True)\n"
   ]
  },
  {
   "cell_type": "code",
   "execution_count": 35,
   "metadata": {},
   "outputs": [],
   "source": [
    "#P = P_all"
   ]
  },
  {
   "cell_type": "code",
   "execution_count": null,
   "metadata": {},
   "outputs": [],
   "source": [
    "X_dev.shape"
   ]
  },
  {
   "cell_type": "code",
   "execution_count": null,
   "metadata": {},
   "outputs": [],
   "source": [
    "clfclf = LogisticRegression(warm_start = True, penalty = 'l2',\n",
    "                         solver = \"sag\", multi_class = 'multinomial', fit_intercept = True,\n",
    "                         verbose = 10, max_iter = 15, n_jobs = 64, random_state = 1)\n",
    "\n",
    "clfclf.fit(X_train.dot(P), Y_train_gender)\n",
    "clfclf.score(X_dev.dot(P), Y_dev_gender)"
   ]
  },
  {
   "cell_type": "markdown",
   "metadata": {},
   "source": [
    "### Perform finetuning"
   ]
  },
  {
   "cell_type": "code",
   "execution_count": 275,
   "metadata": {},
   "outputs": [
    {
     "name": "stderr",
     "output_type": "stream",
     "text": [
      "[Parallel(n_jobs=64)]: Using backend ThreadingBackend with 64 concurrent workers.\n"
     ]
    },
    {
     "name": "stdout",
     "output_type": "stream",
     "text": [
      "max_iter reached after 26 seconds\n"
     ]
    },
    {
     "name": "stderr",
     "output_type": "stream",
     "text": [
      "[Parallel(n_jobs=64)]: Done   1 tasks      | elapsed:   26.6s\n",
      "[Parallel(n_jobs=64)]: Done   1 out of   1 | elapsed:   26.6s finished\n"
     ]
    },
    {
     "data": {
      "text/plain": [
       "LogisticRegression(C=1.0, class_weight=None, dual=False, fit_intercept=True,\n",
       "                   intercept_scaling=1, l1_ratio=None, max_iter=3,\n",
       "                   multi_class='multinomial', n_jobs=64, penalty='l2',\n",
       "                   random_state=0, solver='sag', tol=0.0001, verbose=10,\n",
       "                   warm_start=True)"
      ]
     },
     "execution_count": 275,
     "metadata": {},
     "output_type": "execute_result"
    }
   ],
   "source": [
    "\n",
    "clf = LogisticRegression(warm_start = True, penalty = 'l2',\n",
    "                         solver = \"sag\", multi_class = 'multinomial', fit_intercept = True,\n",
    "                         verbose = 10, max_iter = 3, n_jobs = 64, random_state = 0)\n",
    "\n",
    "clf.fit(X_train.dot(P), Y_train)\n",
    "\n"
   ]
  },
  {
   "cell_type": "code",
   "execution_count": 276,
   "metadata": {},
   "outputs": [
    {
     "name": "stdout",
     "output_type": "stream",
     "text": [
      "0.7302834946717645\n"
     ]
    }
   ],
   "source": [
    "print(clf.score(X_test.dot(P), Y_test))"
   ]
  },
  {
   "cell_type": "markdown",
   "metadata": {},
   "source": [
    "#### test again"
   ]
  },
  {
   "cell_type": "code",
   "execution_count": 277,
   "metadata": {},
   "outputs": [
    {
     "data": {
      "text/plain": [
       "'\\nX_dev_after = X_dev.copy()\\nX_train_after = X_train.copy()\\n\\nfor prof, P in prof2P.items():\\n    idx = Y_dev == p2i[prof]\\n    X_dev_after[idx] = X_dev_after[idx].dot(P)\\n    \\n    idx_train = Y_train == p2i[prof]\\n    X_train_after[idx_train] = X_train_after[idx_train].dot(P)\\n\\nprint(\"before finetunine\", clf.score(X_dev_after, Y_dev))\\nclf.fit(X_train_after, Y_train)\\nprint(\"After finetuning\", clf.score(X_dev_after, Y_dev))\\n '"
      ]
     },
     "execution_count": 277,
     "metadata": {},
     "output_type": "execute_result"
    }
   ],
   "source": [
    "\"\"\"\n",
    "X_dev_after = X_dev.copy()\n",
    "X_train_after = X_train.copy()\n",
    "\n",
    "for prof, P in prof2P.items():\n",
    "    idx = Y_dev == p2i[prof]\n",
    "    X_dev_after[idx] = X_dev_after[idx].dot(P)\n",
    "    \n",
    "    idx_train = Y_train == p2i[prof]\n",
    "    X_train_after[idx_train] = X_train_after[idx_train].dot(P)\n",
    "\n",
    "print(\"before finetunine\", clf.score(X_dev_after, Y_dev))\n",
    "clf.fit(X_train_after, Y_train)\n",
    "print(\"After finetuning\", clf.score(X_dev_after, Y_dev))\n",
    " \"\"\""
   ]
  },
  {
   "cell_type": "code",
   "execution_count": 278,
   "metadata": {},
   "outputs": [],
   "source": [
    "def get_TPR(y_pred, y_true, p2i, i2p, gender):\n",
    "    \n",
    "    scores = defaultdict(Counter)\n",
    "    prof_count_total = defaultdict(Counter)\n",
    "    \n",
    "    for y_hat, y, g in zip(y_pred, y_true, gender):\n",
    "        \n",
    "        if y == y_hat:\n",
    "            \n",
    "            scores[i2p[y]][g] += 1\n",
    "        \n",
    "        prof_count_total[i2p[y]][g] += 1\n",
    "    \n",
    "    tprs = defaultdict(dict)\n",
    "    tprs_change = dict()\n",
    "    tprs_ratio = []\n",
    "    \n",
    "    for profession, scores_dict in scores.items():\n",
    "        \n",
    "        good_m, good_f = scores_dict[\"m\"], scores_dict[\"f\"]\n",
    "        prof_total_f = prof_count_total[profession][\"f\"]\n",
    "        prof_total_m = prof_count_total[profession][\"m\"]\n",
    "        tpr_m = (good_m) / prof_total_m\n",
    "        tpr_f = (good_f) / prof_total_f\n",
    "        \n",
    "        tprs[profession][\"m\"] = tpr_m\n",
    "        tprs[profession][\"f\"] = tpr_f\n",
    "        tprs_ratio.append(0)\n",
    "        tprs_change[profession] = tpr_m - tpr_f\n",
    "        \n",
    "    return tprs, tprs_change, np.mean(np.abs(tprs_ratio))\n",
    "\n",
    "def get_FPR(y_pred, y_true, p2i, i2p, gender):\n",
    "    \n",
    "    fp = defaultdict(Counter)\n",
    "    neg_count_total = defaultdict(Counter)\n",
    "    pos_count_total = defaultdict(Counter)\n",
    "    \n",
    "    for y_hat, y, g in zip(y_pred, y_true, gender):\n",
    "        \n",
    "        if y != y_hat:\n",
    "            \n",
    "            fp[i2p[y_hat]][g] += 1 # count false positives for y_hat\n",
    "        \n",
    "        neg_count_total[i2p[y_hat]][g] += 1 # count \"not y_hat\"\n",
    "                \n",
    "    fprs = defaultdict(dict)\n",
    "    fprs_change = dict()\n",
    "    fprs_ratio = []\n",
    "    \n",
    "    #print(prof_count_total)\n",
    "    \n",
    "    for profession, scores_dict in fp.items():\n",
    "        \n",
    "        good_m, good_f = scores_dict[\"m\"], scores_dict[\"f\"]\n",
    "        prof_total_f = neg_count_total[profession][\"f\"]\n",
    "        prof_total_m = neg_count_total[profession][\"m\"]\n",
    "        print(profession)\n",
    "        fpr_m = (good_m+good_f) / prof_total_m\n",
    "        fpr_f = (good_m+good_f) / prof_total_f\n",
    "        \n",
    "        fprs[profession][\"m\"] = fpr_m\n",
    "        fprs[profession][\"f\"] = fpr_f\n",
    "        fprs_ratio.append(0)\n",
    "        fprs_change[profession] = fpr_m - fpr_f\n",
    "        \n",
    "    return fprs, fprs_change, np.mean(np.abs(fprs_ratio))    \n",
    "    \n",
    "def similarity_vs_tpr(tprs, word2vec, title, measure, prof2fem):\n",
    "    \n",
    "    professions = list(tprs.keys())\n",
    "    #\n",
    "    \"\"\" \n",
    "    sims = dict()\n",
    "    gender_direction = word2vec[\"he\"] - word2vec[\"she\"]\n",
    "    \n",
    "    for p in professions:\n",
    "        sim = word2vec.cosine_similarities(word2vec[p], [gender_direction])[0]\n",
    "        sims[p] = sim\n",
    "    \"\"\"\n",
    "    tpr_lst = [tprs[p] for p in professions]\n",
    "    sim_lst = [prof2fem[p] for p in professions]\n",
    "\n",
    "    #professions = [p.replace(\"_\", \" \") for p in professions if p in word2vec]\n",
    "    \n",
    "    plt.plot(sim_lst, tpr_lst, marker = \"o\", linestyle = \"none\")\n",
    "    plt.xlabel(\"% women\", fontsize = 13)\n",
    "    plt.ylabel(\"{}_diff_female {}\".format(measure, title), fontsize = 13)\n",
    "    for p in professions:\n",
    "        x,y = prof2fem[p], tprs[p]\n",
    "        plt.annotate(p , (x,y), size = 7, color = \"red\")\n",
    "    \n",
    "    plt.ylim(-0.5,0.4)\n",
    "    #z = np.polyfit(sim_lst, tpr_lst, 1)\n",
    "    #p = np.poly1d(z)\n",
    "    #plt.plot(sim_lst,p(sim_lst),\"b--\")\n",
    "\n",
    "    plt.savefig(\"{}_vs_bias_{}_fasttext\".format(measure, title), dpi = 600)\n",
    "    print(\"Correlation: {}; p-value: {}\".format(*pearsonr(sim_lst, tpr_lst)))\n",
    "    plt.show()\n",
    "    \n",
    "def rms_diff(tpr_diff):\n",
    "    \n",
    "    return np.sqrt(np.mean(tpr_diff**2))\n",
    "    \n",
    "def save_vecs_and_words(vecs, words):\n",
    "    def to_string(arr):\n",
    "        return \"\\t\".join([str(x) for x in arr])\n",
    "    \n",
    "    with open(\"vecs.txt\", \"w\") as f:\n",
    "        for v in vecs:\n",
    "            assert len(v) == 300\n",
    "            f.write(to_string(v) + \"\\n\")\n",
    "    \n",
    "    with open(\"labels.txt\", \"w\") as f:\n",
    "            f.write(\"Profession\\n\")\n",
    "            for w in words:\n",
    "                f.write(w + \"\\n\")"
   ]
  },
  {
   "cell_type": "code",
   "execution_count": 279,
   "metadata": {
    "scrolled": true
   },
   "outputs": [
    {
     "name": "stdout",
     "output_type": "stream",
     "text": [
      "Correlation: -0.8707094120760159; p-value: 1.7062117069635914e-09\n"
     ]
    },
    {
     "data": {
      "image/png": "[encoded data removed]",
      "text/plain": [
       "<Figure size 432x288 with 1 Axes>"
      ]
     },
     "metadata": {
      "needs_background": "light"
     },
     "output_type": "display_data"
    },
    {
     "name": "stdout",
     "output_type": "stream",
     "text": [
      "Correlation: -0.44894944455390945; p-value: 0.01655445783767228\n"
     ]
    },
    {
     "data": {
      "image/png": "[encoded data removed]",
      "text/plain": [
       "<Figure size 432x288 with 1 Axes>"
      ]
     },
     "metadata": {
      "needs_background": "light"
     },
     "output_type": "display_data"
    },
    {
     "name": "stdout",
     "output_type": "stream",
     "text": [
      "rms-diff before: 0.16231026836520052; rms-diff after: 0.08115273455646849\n"
     ]
    }
   ],
   "source": [
    "\n",
    "\n",
    "y_pred_before = clf_original.predict(X_test)\n",
    "test_gender = [d[\"g\"] for d in test]\n",
    "dev_gender = [d[\"g\"] for d in dev]\n",
    "train_gender = [d[\"g\"] for d in train]\n",
    "\n",
    "tprs_before, tprs_change_before, mean_ratio_before = get_TPR(y_pred_before, Y_test, p2i, i2p, test_gender)\n",
    "similarity_vs_tpr(tprs_change_before, word2vec, \"before\", \"TPR\", prof2fem)\n",
    "\n",
    "\n",
    "#y_pred_after = clf.predict(X_test.dot(P))\n",
    "y_pred_after = clf.predict(X_test.dot(P))\n",
    "tprs, tprs_change_after, mean_ratio_after = get_TPR(y_pred_after, Y_test, p2i, i2p, test_gender)\n",
    "similarity_vs_tpr(tprs_change_after, word2vec, \"after\", \"TPR\", prof2fem)\n",
    "\n",
    " \n",
    "#print(\"TPR diff ratio before: {}; after: {}\".format(mean_ratio_before, mean_ratio_after))\n",
    "\"\"\" \n",
    "fprs_before, fprs_change_before, mean_ratio_before = get_FPR(y_pred_before, Y_test, p2i, i2p, test_gender)\n",
    "similarity_vs_tpr(fprs_change_before, word2vec, \"before\", \"FPR\", prof2fem)\n",
    "\n",
    "\n",
    "fprs, fprs_change_after, mean_ratio_after = get_FPR(y_pred_after, Y_test, p2i, i2p, test_gender)\n",
    "similarity_vs_tpr(fprs_change_after, word2vec, \"after\", \"FPR\", prof2fem)\n",
    "\n",
    "#print(\"TPR diff ratio before: {}; after: {}\".format(mean_ratio_before, mean_ratio_after))\n",
    "\"\"\"\n",
    "change_vals_before = np.array(list((tprs_change_before.values())))\n",
    "change_vals_after = np.array(list(tprs_change_after.values()))\n",
    "\n",
    "print(\"rms-diff before: {}; rms-diff after: {}\".format(rms_diff(change_vals_before), rms_diff(change_vals_after)))"
   ]
  },
  {
   "cell_type": "code",
   "execution_count": null,
   "metadata": {},
   "outputs": [],
   "source": [
    "def tsne_by_gender(vecs, labels, title, words = None):\n",
    "\n",
    "  tsne = TSNE(n_components=2, random_state=0)\n",
    "  vecs_2d = tsne.fit_transform(vecs)\n",
    "  num_labels = len(set(labels.tolist()))\n",
    "\n",
    "  names = [\"class {}\".format(i) for i in range(num_labels)]\n",
    "  plt.figure(figsize=(6, 5))\n",
    "  colors = 'r', 'b', 'orange'\n",
    "  for i, c, label in zip(set(labels.tolist()), colors, names):\n",
    "    print(len(vecs_2d[labels == i, 0]))\n",
    "    plt.scatter(vecs_2d[labels == i, 0], vecs_2d[labels == i, 1], c=c,\n",
    "                label=label, alpha = 0.6)\n",
    "  plt.legend()\n",
    "  plt.title(title)\n",
    "  \n",
    "  if words is not None:\n",
    "        k = 60\n",
    "        for i in range(k):\n",
    "            \n",
    "            j = np.random.choice(range(len(words)))\n",
    "            label = labels[i]\n",
    "            w = words[j]\n",
    "            x,y = vecs_2d[i]\n",
    "            plt.annotate(w , (x,y), size = 10, color = \"black\" if label == 1 else \"black\")\n",
    "            \n",
    "  plt.show()\n",
    "  return vecs_2d"
   ]
  },
  {
   "cell_type": "code",
   "execution_count": null,
   "metadata": {},
   "outputs": [],
   "source": [
    "prof = \"personal_trainer\"\n",
    "idx = np.random.rand(X_dev.shape[0]) < 0.1\n",
    "prof_idx = Y_dev == p2i[prof]\n",
    "n = 3000\n",
    "tsne_by_gender(X_dev[prof_idx][:n], np.array(dev_gender)[prof_idx][:n], \"tsne by gender, before, {}\".format(prof))\n",
    "tsne_by_gender((X_dev[prof_idx].dot(P))[:n], np.array(dev_gender)[prof_idx][:n], \"tsne by gender, after. {}\".format(prof))"
   ]
  },
  {
   "cell_type": "code",
   "execution_count": null,
   "metadata": {},
   "outputs": [],
   "source": [
    "def count_profs(data_y, i2p):\n",
    "    d = Counter()\n",
    "    for y in data_y:\n",
    "        d[i2p[y]] += 1\n",
    "    return d"
   ]
  },
  {
   "cell_type": "code",
   "execution_count": null,
   "metadata": {},
   "outputs": [],
   "source": [
    "count_profs(Y_train, i2p)"
   ]
  },
  {
   "cell_type": "code",
   "execution_count": null,
   "metadata": {},
   "outputs": [],
   "source": [
    "count_profs(Y_dev, i2p)"
   ]
  },
  {
   "cell_type": "code",
   "execution_count": null,
   "metadata": {},
   "outputs": [],
   "source": [
    "count_profs(Y_test, i2p)"
   ]
  },
  {
   "cell_type": "code",
   "execution_count": null,
   "metadata": {},
   "outputs": [],
   "source": []
  }
 ],
 "metadata": {
  "kernelspec": {
   "display_name": "Python 3",
   "language": "python",
   "name": "python3"
  },
  "language_info": {
   "codemirror_mode": {
    "name": "ipython",
    "version": 3
   },
   "file_extension": ".py",
   "mimetype": "text/x-python",
   "name": "python",
   "nbconvert_exporter": "python",
   "pygments_lexer": "ipython3",
   "version": "3.6.9"
  }
 },
 "nbformat": 4,
 "nbformat_minor": 2
}
