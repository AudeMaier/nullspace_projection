{
 "cells": [
  {
   "cell_type": "code",
   "execution_count": 1,
   "metadata": {},
   "outputs": [],
   "source": [
    "import sys\n",
    "sys.path.append(\"../src\")\n",
    "sys.path.append(\"../data/embeddings\")\n",
    "sys.path.append(\"../data/embeddings/biasbios\")\n",
    "import classifier\n",
    "import svm_classifier\n",
    "import debias\n",
    "import gensim\n",
    "import codecs\n",
    "import json\n",
    "from gensim.models.keyedvectors import Word2VecKeyedVectors\n",
    "from gensim.models import KeyedVectors\n",
    "import numpy as np\n",
    "import random\n",
    "import sklearn\n",
    "from sklearn import model_selection\n",
    "from sklearn import cluster\n",
    "from sklearn import metrics\n",
    "from sklearn.manifold import TSNE\n",
    "from sklearn.svm import LinearSVC, SVC\n",
    "from sklearn.neural_network import MLPClassifier\n",
    "from sklearn.metrics.pairwise import cosine_similarity\n",
    "from sklearn.feature_extraction import DictVectorizer\n",
    "from pytorch_transformers import BertTokenizer, BertModel, BertForMaskedLM\n",
    "\n",
    "import scipy\n",
    "from scipy import linalg\n",
    "from scipy import sparse\n",
    "from scipy.stats.stats import pearsonr\n",
    "import tqdm\n",
    "import matplotlib\n",
    "import matplotlib.pyplot as plt\n",
    "from sklearn.linear_model import SGDClassifier, SGDRegressor, Perceptron, LogisticRegression\n",
    "\n",
    "%matplotlib inline\n",
    "matplotlib.rcParams['agg.path.chunksize'] = 10000\n",
    "\n",
    "import warnings\n",
    "warnings.filterwarnings(\"ignore\")\n",
    "\n",
    "import pickle\n",
    "from collections import defaultdict, Counter\n",
    "from typing import List, Dict\n",
    "\n",
    "import torch\n",
    "from torch import utils\n",
    "\n",
    "import pytorch_lightning as pl\n",
    "from pytorch_lightning import Trainer\n",
    "import copy\n",
    "\n",
    "import seaborn as sn\n",
    "import pandas as pd\n",
    "\n",
    "\n",
    "PROFS = ['professor', 'physician', 'attorney', 'photographer', 'journalist', 'nurse', 'psychologist', 'teacher',\n",
    "'dentist', 'surgeon', 'architect', 'painter', 'model', 'poet', 'filmmaker', 'software_engineer',\n",
    "'accountant', 'composer', 'dietitian', 'comedian', 'chiropractor', 'pastor', 'paralegal', 'yoga_teacher',\n",
    "'dj', 'interior_designer', 'personal_trainer', 'rapper']\n",
    "\n",
    "PROF2UNIFIED_PROF = {\"associate professor\": \"professor\", \"assistant professor\": \"professor\", \"software engineer\": \"software_engineer\", \"psychotherapist\": \"psychologist\", \"orthopedic surgeon\": \"surgeon\", \"trial lawyer\": \"attorney\",\"plastic surgeon\": \"surgeon\",  \"trial attorney\": \"attorney\", \"senior software engineer\": \"software_engineer\", \"interior designer\": \"interior_designer\", \"certified public accountant\": \"accountant\", \"cpa\": \"accountant\", \"neurosurgeon\": \"surgeon\", \"yoga teacher\": \"yoga_teacher\", \"nutritionist\": \"dietitian\", \"personal trainer\": \"personal_trainer\", \"certified personal trainer\": \"personal_trainer\", \"yoga instructor\": \"yoga_teacher\"}"
   ]
  },
  {
   "cell_type": "code",
   "execution_count": 2,
   "metadata": {},
   "outputs": [],
   "source": [
    "def load_data(fname = \"../data/BIOS.pkl\"):\n",
    "    with open(fname, \"rb\") as f:\n",
    "        data = pickle.load(f)\n",
    "    for i, data_dict in enumerate(data):\n",
    "        \n",
    "        prof = data_dict[\"raw_title\"].lower()\n",
    "        data[i][\"raw_title\"] = PROF2UNIFIED_PROF[prof] if prof in PROF2UNIFIED_PROF else prof\n",
    "    \n",
    "    return data\n",
    "        \n",
    "        \n",
    "    \n",
    "def count_profs_and_gender(data: List[dict]):\n",
    "    \n",
    "    counter = defaultdict(Counter)\n",
    "    for entry in data:\n",
    "        gender, prof = entry[\"gender\"], entry[\"raw_title\"]\n",
    "        counter[prof.lower()][gender.lower()] += 1\n",
    "        \n",
    "    return counter\n",
    "\n",
    "def filter_dataset(data, topk = 10):\n",
    "    \n",
    "    filtered = []\n",
    "    counter = count_profs_and_gender(data)\n",
    "    total_counts = [(prof, counter[prof][\"f\"] + counter[prof][\"m\"]) for prof in counter.keys()]\n",
    "    profs_by_frq = sorted(total_counts, key = lambda x: -x[1])\n",
    "    topk_profs = [p[0] for p in profs_by_frq[:topk]]\n",
    "    \n",
    "    print(\"Top-k professions: {}\".format(topk_profs))\n",
    "    for d in data:\n",
    "        \n",
    "        if d[\"raw_title\"].lower() in topk_profs:\n",
    "            filtered.append(d)\n",
    "    \n",
    "    return filtered\n",
    "    \n",
    "def split_train_dev_test(data):\n",
    "    \n",
    "    g2i, i2g = {\"m\": 0, \"f\": 1}, {1: \"f\", 0: \"m\"}\n",
    "    all_profs = list(set([d[\"raw_title\"] for d in data]))\n",
    "    all_words = []\n",
    "    for d in data:\n",
    "        all_words.extend(d[\"raw\"].split(\" \"))\n",
    "    \n",
    "    all_words = set(all_words)\n",
    "    all_words.add(\"<UNK>\")\n",
    "    \n",
    "    p2i = {p:i for i,p in enumerate(sorted(all_profs))}\n",
    "    i2p = {i:p for i,p in enumerate(sorted(all_profs))}\n",
    "    w2i = {w:i for i,w in enumerate(sorted(all_words))}\n",
    "    i2w = {i:w for i,w in enumerate(sorted(all_words))}\n",
    "    \n",
    "    all_data = []\n",
    "    for entry in tqdm.tqdm(data, total = len(data)):\n",
    "        gender, prof = entry[\"gender\"].lower(), entry[\"raw_title\"].lower()\n",
    "        #if prof in PROF2UNITED_PROF: prof = PROF2UNITED_PROF[prof]\n",
    "        raw, start_index = entry[\"raw\"], entry[\"start_pos\"]\n",
    "        all_data.append({\"g\": g2i[gender], \"p\": p2i[prof], \"text\": raw, \"start\": start_index})\n",
    "\n",
    "\n",
    "    train_dev, test = sklearn.model_selection.train_test_split(all_data, test_size = 0.2, random_state = 0)\n",
    "    train, dev = sklearn.model_selection.train_test_split(train_dev, test_size = 0.3, random_state = 0)\n",
    "    print(\"Train size: {}; Dev size: {}; Test size: {}\".format(len(train), len(dev), len(test)))\n",
    "    return (train, dev, test), (g2i, i2g, p2i, i2p, w2i, i2w)\n"
   ]
  },
  {
   "cell_type": "code",
   "execution_count": 3,
   "metadata": {},
   "outputs": [
    {
     "name": "stdout",
     "output_type": "stream",
     "text": [
      "Top-k professions: ['professor', 'physician', 'attorney', 'photographer', 'journalist', 'nurse', 'psychologist', 'teacher', 'surgeon', 'architect', 'dentist', 'painter', 'model', 'poet', 'filmmaker', 'software_engineer', 'composer', 'accountant', 'dietitian', 'comedian', 'pastor', 'chiropractor', 'yoga_teacher', 'paralegal', 'interior_designer', 'dj', 'rapper', 'personal_trainer']\n"
     ]
    },
    {
     "name": "stderr",
     "output_type": "stream",
     "text": [
      "100%|██████████| 256682/256682 [00:00<00:00, 882593.32it/s]\n"
     ]
    },
    {
     "name": "stdout",
     "output_type": "stream",
     "text": [
      "Train size: 143741; Dev size: 61604; Test size: 51337\n"
     ]
    }
   ],
   "source": [
    "data = load_data()\n",
    "data = filter_dataset(data, topk = 60)\n",
    "counter = count_profs_and_gender(data)\n",
    "(train, dev, test), (g2i, i2g, p2i, i2p, w2i, i2w) = split_train_dev_test(data)"
   ]
  },
  {
   "cell_type": "code",
   "execution_count": 4,
   "metadata": {},
   "outputs": [
    {
     "name": "stdout",
     "output_type": "stream",
     "text": [
      "0.4601530298189978\n",
      "{'professor': 0.44646425025434844, 'accountant': 0.36577571179546775, 'journalist': 0.49154108615297126, 'architect': 0.2259514534012586, 'photographer': 0.34264979307863014, 'psychologist': 0.6136403279260422, 'teacher': 0.5910666153253754, 'nurse': 0.9093374004406033, 'attorney': 0.3740997100364793, 'software_engineer': 0.14638906961613532, 'painter': 0.4558157842944302, 'physician': 0.5387556626906612, 'chiropractor': 0.2734006734006734, 'personal_trainer': 0.4574944071588367, 'surgeon': 0.13943446162418163, 'filmmaker': 0.33133304757822546, 'dietitian': 0.934312525499796, 'dentist': 0.33087903831705484, 'dj': 0.1476293103448276, 'model': 0.8319000819000819, 'composer': 0.15396419437340153, 'poet': 0.4894098293234629, 'comedian': 0.2055929570170896, 'yoga_teacher': 0.8435438265786993, 'interior_designer': 0.8100320170757738, 'pastor': 0.23668639053254437, 'rapper': 0.08657047724750278, 'paralegal': 0.8536345776031434}\n"
     ]
    }
   ],
   "source": [
    "f,m = 0., 0.\n",
    "prof2fem = dict()\n",
    "\n",
    "for k, values in counter.items():\n",
    "    f += values['f']\n",
    "    m += values['m']\n",
    "    prof2fem[k] = values['f']/(values['f'] + values['m'])\n",
    "\n",
    "print(f / (f + m))\n",
    "print(prof2fem)"
   ]
  },
  {
   "cell_type": "code",
   "execution_count": 5,
   "metadata": {
    "scrolled": true
   },
   "outputs": [
    {
     "name": "stdout",
     "output_type": "stream",
     "text": [
      "{'accountant': 0, 'architect': 1, 'attorney': 2, 'chiropractor': 3, 'comedian': 4, 'composer': 5, 'dentist': 6, 'dietitian': 7, 'dj': 8, 'filmmaker': 9, 'interior_designer': 10, 'journalist': 11, 'model': 12, 'nurse': 13, 'painter': 14, 'paralegal': 15, 'pastor': 16, 'personal_trainer': 17, 'photographer': 18, 'physician': 19, 'poet': 20, 'professor': 21, 'psychologist': 22, 'rapper': 23, 'software_engineer': 24, 'surgeon': 25, 'teacher': 26, 'yoga_teacher': 27}\n"
     ]
    }
   ],
   "source": [
    "print(p2i)"
   ]
  },
  {
   "cell_type": "markdown",
   "metadata": {},
   "source": [
    "### get input representatons "
   ]
  },
  {
   "cell_type": "code",
   "execution_count": 6,
   "metadata": {},
   "outputs": [],
   "source": [
    "def load_word_vectors(fname = \"../data/embeddings/vecs.filtered.with_gendered.glove.txt\"):\n",
    "    \n",
    "    model = KeyedVectors.load_word2vec_format(fname, binary=False)\n",
    "    vecs = model.vectors\n",
    "    words = list(model.vocab.keys())\n",
    "    return model, vecs, words\n",
    "\n",
    "def get_embeddings_based_dataset(data: List[dict], word2vec_model):\n",
    "    \n",
    "    X, Y = [], []\n",
    "    unk, total = 0., 0.\n",
    "    \n",
    "    for entry in tqdm.tqdm(data, total = len(data)):\n",
    "        text, start, y = entry[\"text\"], entry[\"start\"], entry[\"p\"]\n",
    "        #text = text.lower()\n",
    "        words = text[start + 1:].split(\" \")\n",
    "        #print(text)\n",
    "        #print(\"----------\")\n",
    "        #print(\" \".join(words))\n",
    "        #print(\"=====================\")\n",
    "        bagofwords = np.sum([word2vec_model[w] if w in word2vec_model else word2vec_model['unk'] for w in words], axis = 0)\n",
    "        X.append(bagofwords)\n",
    "        Y.append(y)\n",
    "        total += len(words)\n",
    "        unk += len([w for w in words if w not in word2vec_model])\n",
    "    \n",
    "    print(\"% unknown: {}\".format(unk/total))\n",
    "    return X,Y\n",
    "\n",
    "def get_BOW_based_dataset(data: List[dict], w2i):\n",
    "    \n",
    "    vectorizer = DictVectorizer(sparse = True)\n",
    "    X, Y = [], []\n",
    "    unk, total = 0., 0.\n",
    "    data_dicts = []\n",
    "    \n",
    "    for entry in tqdm.tqdm(data, total = len(data)):\n",
    "        text, start, y = entry[\"text\"], entry[\"start\"], entry[\"p\"]\n",
    "        #text = text.lower()\n",
    "        words = text[start + 1:].split(\" \")\n",
    "        entry_dict = {w:w2i[w] if w in w2i else w2i[\"<UNK>\"] for w in words}\n",
    "        data_dicts.append(entry_dict)\n",
    "        Y.append(y)\n",
    "        \n",
    "        total += len(words)\n",
    "        unk += len([w for w in words if w not in w2i])\n",
    "    \n",
    "    print(\"% unknown: {}\".format(unk/total))\n",
    "    X = vectorizer.fit_transform(data_dicts)\n",
    "    return X,Y\n",
    "    \n",
    "def get_bert_based_dataset(data: List[dict]):\n",
    "    \n",
    "    tokenizer = BertTokenizer.from_pretrained('bert-base-cased')\n",
    "    model = BertModel.from_pretrained('bert-base-cased').cuda()\n",
    "    model.eval()\n",
    "    \n",
    "    X, Y = [], []\n",
    "    print(\"here\")\n",
    "    \n",
    "    for entry in tqdm.tqdm(data, total = len(data)):\n",
    "        text, start, y = entry[\"text\"], entry[\"start\"], entry[\"p\"]\n",
    "        #text = text.lower()            \n",
    "        tokenized_text = tokenizer.tokenize(sentence_str)    \n",
    "        indexed_tokens = tokenizer.convert_tokens_to_ids(tokenized_text)\n",
    "        tokens_tensor = torch.tensor([indexed_tokens])\n",
    "        with torch.no_grad():\n",
    "              outputs = model(tokens_tensor)\n",
    "              print(outputs.shape)\n",
    "              return\n",
    "            "
   ]
  },
  {
   "cell_type": "code",
   "execution_count": 7,
   "metadata": {},
   "outputs": [],
   "source": [
    "#word2vec, vecs, words = load_word_vectors(\"../data/embeddings/wiki-news-300d-1M-subword.vec\") #load_word2vec()\n",
    "word2vec, vecs, words = load_word_vectors(\"../data/embeddings/wiki-news-300d-1M-subword.vec\")\n",
    "#word2vec.init_sims(replace = True)\n",
    "#X_train, Y_train = get_BOW_based_dataset(train, w2i)\n",
    "#X_dev, Y_dev = get_BOW_based_dataset(dev, w2i) \n"
   ]
  },
  {
   "cell_type": "code",
   "execution_count": 8,
   "metadata": {},
   "outputs": [
    {
     "name": "stderr",
     "output_type": "stream",
     "text": [
      "100%|██████████| 143741/143741 [00:23<00:00, 6118.18it/s]\n",
      "  1%|          | 584/61604 [00:00<00:10, 5833.45it/s]"
     ]
    },
    {
     "name": "stdout",
     "output_type": "stream",
     "text": [
      "% unknown: 0.1063134677847156\n"
     ]
    },
    {
     "name": "stderr",
     "output_type": "stream",
     "text": [
      "100%|██████████| 61604/61604 [00:10<00:00, 5945.34it/s]"
     ]
    },
    {
     "name": "stdout",
     "output_type": "stream",
     "text": [
      "% unknown: 0.10630624264919851\n"
     ]
    },
    {
     "name": "stderr",
     "output_type": "stream",
     "text": [
      "\n"
     ]
    }
   ],
   "source": [
    "X_train, Y_train = get_embeddings_based_dataset(train, word2vec)\n",
    "X_dev, Y_dev =  get_embeddings_based_dataset(dev, word2vec)\n",
    "\n",
    "#X_train, Y_train = get_bert_based_dataset(train)"
   ]
  },
  {
   "cell_type": "code",
   "execution_count": 9,
   "metadata": {
    "scrolled": true
   },
   "outputs": [
    {
     "name": "stdout",
     "output_type": "stream",
     "text": [
      "0.7439289656515811\n"
     ]
    }
   ],
   "source": [
    "#clf = LinearSVC(verbose = 10) #LogisticRegression()\n",
    "clf = LogisticRegression(warm_start = True,\n",
    "                         solver = \"sag\", multi_class = 'multinomial',\n",
    "                         verbose = 0, n_jobs = 32)\n",
    "clf.fit(X_train, Y_train)\n",
    "print(clf.score(X_dev, Y_dev))\n",
    "clf_original = copy.deepcopy(clf)"
   ]
  },
  {
   "cell_type": "markdown",
   "metadata": {},
   "source": [
    "#### Confusion Matrix"
   ]
  },
  {
   "cell_type": "code",
   "execution_count": 12,
   "metadata": {},
   "outputs": [],
   "source": [
    "y_hat = clf.predict(X_dev)\n",
    "cm = sklearn.metrics.confusion_matrix(Y_dev,y_hat)\n",
    "labels = [i2p[i] for i in range(len(i2p))]"
   ]
  },
  {
   "cell_type": "code",
   "execution_count": 13,
   "metadata": {},
   "outputs": [
    {
     "data": {
      "image/png": "[encoded data removed]",
      "text/plain": [
       "<Figure size 720x504 with 2 Axes>"
      ]
     },
     "metadata": {},
     "output_type": "display_data"
    }
   ],
   "source": [
    "\n",
    "\n",
    "df_cm = pd.DataFrame(cm, index = labels, columns = labels)\n",
    "#plt.figure(figsize = (10,7))\n",
    "sn.set(font_scale=0.3)#for label size\n",
    "plt.figure(figsize = (10,7))\n",
    "sn.heatmap(df_cm, annot=True, fmt='g')\n",
    "plt.savefig(\"confusion.png\", dpi = 600)\n",
    "plt.show()"
   ]
  },
  {
   "cell_type": "markdown",
   "metadata": {},
   "source": [
    "### perform debiasing"
   ]
  },
  {
   "cell_type": "code",
   "execution_count": 14,
   "metadata": {},
   "outputs": [
    {
     "name": "stdout",
     "output_type": "stream",
     "text": [
      "Iteration 0, Accuracy: 0.9957145639893513\n",
      "Iteration 1, Accuracy: 0.9891240828517629\n",
      "Iteration 2, Accuracy: 0.9639146808648789\n",
      "Iteration 3, Accuracy: 0.9179761054476983\n",
      "Iteration 4, Accuracy: 0.8663885461982989\n",
      "Iteration 5, Accuracy: 0.8166352834231544\n",
      "Iteration 6, Accuracy: 0.7722875137978054\n",
      "Iteration 7, Accuracy: 0.7334426335952211\n",
      "Iteration 8, Accuracy: 0.7061716771638206\n",
      "Iteration 9, Accuracy: 0.6843711447308616\n",
      "Iteration 10, Accuracy: 0.6642750470748653\n",
      "Iteration 11, Accuracy: 0.6482858255957406\n",
      "Iteration 12, Accuracy: 0.6479611713525095\n",
      "Iteration 13, Accuracy: 0.6277027465748978\n",
      "Iteration 14, Accuracy: 0.6178981884293228\n",
      "Iteration 15, Accuracy: 0.6018765015258749\n",
      "Iteration 16, Accuracy: 0.5891662879033829\n",
      "Iteration 17, Accuracy: 0.5797675475618467\n",
      "Iteration 18, Accuracy: 0.571959613012142\n",
      "Iteration 19, Accuracy: 0.5720732419972729\n",
      "Iteration 20, Accuracy: 0.5636159989611064\n",
      "Iteration 21, Accuracy: 0.5634536718394909\n",
      "Iteration 22, Accuracy: 0.5604993182260892\n",
      "Iteration 23, Accuracy: 0.5569443542627102\n",
      "Iteration 24, Accuracy: 0.5518959807804688\n",
      "Iteration 25, Accuracy: 0.5517174209466917\n",
      "Iteration 26, Accuracy: 0.5493312122589442\n",
      "Iteration 27, Accuracy: 0.5454840594766573\n",
      "Iteration 28, Accuracy: 0.5432114797740406\n",
      "Iteration 29, Accuracy: 0.539607817674177\n",
      "Iteration 30, Accuracy: 0.5395591195376923\n",
      "Iteration 31, Accuracy: 0.5378059866242452\n",
      "Iteration 32, Accuracy: 0.5350464255567821\n",
      "Iteration 33, Accuracy: 0.5350626582689436\n",
      "Iteration 34, Accuracy: 0.531994675670411\n"
     ]
    }
   ],
   "source": [
    "def get_projection_matrix(num_clfs, X_train, Y_train, X_dev, Y_dev, dim=300):\n",
    "\n",
    "    is_autoregressive = True\n",
    "    siamese = False\n",
    "    reg = \"l2\"\n",
    "    min_acc = 0.\n",
    "    noise = False\n",
    "    random_subset = False\n",
    "    regression = False\n",
    "\n",
    "    P = debias.get_debiasing_projection(None, num_clfs, dim, is_autoregressive, min_acc, X_train, Y_train, X_dev, Y_dev,\n",
    "                                              noise = noise, random_subset = random_subset,\n",
    "                                              regression = regression, siamese = siamese, siamese_dim = 1)\n",
    "\n",
    "    return P\n",
    "\n",
    "\n",
    "\n",
    "num_clfs = 35\n",
    "Y_dev_gender = np.array([d[\"g\"] for d in dev])\n",
    "Y_train_gender = np.array([d[\"g\"] for d in train])\n",
    "X_train = np.array(X_train)\n",
    "X_dev = np.array(X_dev)\n",
    "P = get_projection_matrix(num_clfs, X_train, Y_train_gender, X_dev, Y_dev_gender, dim = 300)"
   ]
  },
  {
   "cell_type": "markdown",
   "metadata": {},
   "source": [
    "#### test model without finetuning"
   ]
  },
  {
   "cell_type": "code",
   "execution_count": 45,
   "metadata": {},
   "outputs": [
    {
     "name": "stdout",
     "output_type": "stream",
     "text": [
      "0.6951983637426141\n"
     ]
    }
   ],
   "source": [
    "print(clf.score(X_dev.dot(P), Y_dev))"
   ]
  },
  {
   "cell_type": "markdown",
   "metadata": {},
   "source": [
    "### Perform finetuning"
   ]
  },
  {
   "cell_type": "code",
   "execution_count": 46,
   "metadata": {},
   "outputs": [
    {
     "data": {
      "text/plain": [
       "LogisticRegression(C=1.0, class_weight=None, dual=False, fit_intercept=True,\n",
       "          intercept_scaling=1, max_iter=100, multi_class='multinomial',\n",
       "          n_jobs=32, penalty='l2', random_state=None, solver='sag',\n",
       "          tol=0.0001, verbose=0, warm_start=True)"
      ]
     },
     "execution_count": 46,
     "metadata": {},
     "output_type": "execute_result"
    }
   ],
   "source": [
    "clf.fit(X_train.dot(P), Y_train)"
   ]
  },
  {
   "cell_type": "markdown",
   "metadata": {},
   "source": [
    "#### test again"
   ]
  },
  {
   "cell_type": "code",
   "execution_count": 47,
   "metadata": {},
   "outputs": [
    {
     "name": "stdout",
     "output_type": "stream",
     "text": [
      "0.7360398675410688\n"
     ]
    }
   ],
   "source": [
    "print(clf.score(X_dev.dot(P), Y_dev))"
   ]
  },
  {
   "cell_type": "code",
   "execution_count": 15,
   "metadata": {},
   "outputs": [],
   "source": [
    "def get_TPR(y_pred, y_true, p2i, i2p, gender):\n",
    "    \n",
    "    scores = defaultdict(Counter)\n",
    "    prof_count_total = defaultdict(Counter)\n",
    "    \n",
    "    for y_hat, y, g in zip(y_pred, y_true, gender):\n",
    "        \n",
    "        if y == y_hat:\n",
    "            \n",
    "            scores[i2p[y]][g] += 1\n",
    "        \n",
    "        prof_count_total[i2p[y]][g] += 1\n",
    "    \n",
    "    tprs = defaultdict(dict)\n",
    "    tprs_change = dict()\n",
    "    tprs_ratio = []\n",
    "    \n",
    "    for profession, scores_dict in scores.items():\n",
    "        \n",
    "        good_m, good_f = scores_dict[\"m\"], scores_dict[\"f\"]\n",
    "        prof_total_f = prof_count_total[profession][\"f\"]\n",
    "        prof_total_m = prof_count_total[profession][\"m\"]\n",
    "        tpr_m = good_m / prof_total_m\n",
    "        tpr_f = good_f / prof_total_f\n",
    "        \n",
    "        tprs[profession][\"m\"] = tpr_m\n",
    "        tprs[profession][\"f\"] = tpr_f\n",
    "        tprs_ratio.append(tpr_m/tpr_f)\n",
    "        tprs_change[profession] = tpr_m - tpr_f\n",
    "        \n",
    "    return tprs, tprs_change, np.mean(np.abs(tprs_ratio))\n",
    "\n",
    "def similarity_vs_tpr(tprs, word2vec, title, prof2fem):\n",
    "    \n",
    "    professions = list(tprs.keys())\n",
    "    #\n",
    "    \"\"\" \n",
    "    sims = dict()\n",
    "    gender_direction = word2vec[\"he\"] - word2vec[\"she\"]\n",
    "    \n",
    "    for p in professions:\n",
    "        sim = word2vec.cosine_similarities(word2vec[p], [gender_direction])[0]\n",
    "        sims[p] = sim\n",
    "    \"\"\"\n",
    "    tpr_lst = [tprs[p] for p in professions]\n",
    "    sim_lst = [prof2fem[p] for p in professions]\n",
    "\n",
    "    #professions = [p.replace(\"_\", \" \") for p in professions if p in word2vec]\n",
    "    \n",
    "    plt.plot(sim_lst, tpr_lst, marker = \"o\", linestyle = \"none\")\n",
    "    plt.xlabel(\"% women\", fontsize = 13)\n",
    "    plt.ylabel(\"TPR_diff_female {}\".format(title), fontsize = 13)\n",
    "    for p in professions:\n",
    "        x,y = prof2fem[p], tprs[p]\n",
    "        plt.annotate(p , (x,y), size = 7, color = \"red\")\n",
    "    plt.savefig(\"tpr_vs_bias_{}\".format(title), dpi = 600)\n",
    "    print(\"Correlation: {}; p-value: {}\".format(*pearsonr(sim_lst, tpr_lst)))\n",
    "    plt.show()\n",
    "    \n",
    "    \n",
    "def save_vecs_and_words(vecs, words):\n",
    "    def to_string(arr):\n",
    "        return \"\\t\".join([str(x) for x in arr])\n",
    "    \n",
    "    with open(\"vecs.txt\", \"w\") as f:\n",
    "        for v in vecs:\n",
    "            assert len(v) == 300\n",
    "            f.write(to_string(v) + \"\\n\")\n",
    "    \n",
    "    with open(\"labels.txt\", \"w\") as f:\n",
    "            f.write(\"Profession\\n\")\n",
    "            for w in words:\n",
    "                f.write(w + \"\\n\")"
   ]
  },
  {
   "cell_type": "code",
   "execution_count": 16,
   "metadata": {},
   "outputs": [
    {
     "name": "stdout",
     "output_type": "stream",
     "text": [
      "Correlation: -0.8722481712689054; p-value: 1.4735999358303977e-09\n"
     ]
    },
    {
     "data": {
      "image/png": "[encoded data removed]",
      "text/plain": [
       "<Figure size 432x288 with 1 Axes>"
      ]
     },
     "metadata": {},
     "output_type": "display_data"
    },
    {
     "name": "stdout",
     "output_type": "stream",
     "text": [
      "Correlation: -0.3523432128391113; p-value: 0.06593012035375916\n"
     ]
    },
    {
     "data": {
      "image/png": "[encoded data removed]",
      "text/plain": [
       "<Figure size 432x288 with 1 Axes>"
      ]
     },
     "metadata": {},
     "output_type": "display_data"
    },
    {
     "name": "stdout",
     "output_type": "stream",
     "text": [
      "TPR diff ratio before: 1.0127905178538892; after: 1.0299463597750822\n"
     ]
    }
   ],
   "source": [
    "y_pred_before = clf_original.predict(X_dev)\n",
    "dev_gender = [i2g[d[\"g\"]] for d in dev]\n",
    "tprs_before, tprs_change_before, mean_ratio_before = get_TPR(y_pred_before, Y_dev, p2i, i2p, dev_gender)\n",
    "similarity_vs_tpr(tprs_change_before, word2vec, \"before\", prof2fem)\n",
    "\n",
    "\n",
    "y_pred_after = clf.predict(X_dev.dot(P))\n",
    "tprs, tprs_change_after, mean_ratio_after = get_TPR(y_pred_after, Y_dev, p2i, i2p, dev_gender)\n",
    "similarity_vs_tpr(tprs_change_after, word2vec, \"after\", prof2fem)\n",
    "\n",
    "print(\"TPR diff ratio before: {}; after: {}\".format(mean_ratio_before, mean_ratio_after))"
   ]
  },
  {
   "cell_type": "code",
   "execution_count": 37,
   "metadata": {},
   "outputs": [
    {
     "data": {
      "text/plain": [
       "0.8319000819000819"
      ]
     },
     "execution_count": 37,
     "metadata": {},
     "output_type": "execute_result"
    }
   ],
   "source": [
    "prof2fem[\"model\"]"
   ]
  },
  {
   "cell_type": "code",
   "execution_count": 38,
   "metadata": {},
   "outputs": [
    {
     "data": {
      "text/plain": [
       "defaultdict(collections.Counter,\n",
       "            {'professor': Counter({'f': 36423, 'm': 45158}),\n",
       "             'accountant': Counter({'m': 2183, 'f': 1259}),\n",
       "             'journalist': Counter({'f': 6915, 'm': 7153}),\n",
       "             'architect': Counter({'m': 5166, 'f': 1508}),\n",
       "             'photographer': Counter({'m': 10960, 'f': 5713}),\n",
       "             'psychologist': Counter({'m': 4430, 'f': 7036}),\n",
       "             'teacher': Counter({'f': 6140, 'm': 4248}),\n",
       "             'nurse': Counter({'f': 10732, 'm': 1070}),\n",
       "             'attorney': Counter({'f': 7999, 'm': 13383}),\n",
       "             'software_engineer': Counter({'m': 3936, 'f': 675}),\n",
       "             'painter': Counter({'f': 2316, 'm': 2765}),\n",
       "             'physician': Counter({'m': 11098, 'f': 12963}),\n",
       "             'chiropractor': Counter({'m': 1079, 'f': 406}),\n",
       "             'personal_trainer': Counter({'m': 485, 'f': 409}),\n",
       "             'surgeon': Counter({'m': 6178, 'f': 1001}),\n",
       "             'filmmaker': Counter({'m': 3120, 'f': 1546}),\n",
       "             'dietitian': Counter({'f': 2290, 'm': 161}),\n",
       "             'dentist': Counter({'m': 4453, 'f': 2202}),\n",
       "             'dj': Counter({'m': 791, 'f': 137}),\n",
       "             'model': Counter({'f': 4063, 'm': 821}),\n",
       "             'composer': Counter({'m': 3308, 'f': 602}),\n",
       "             'poet': Counter({'f': 2380, 'm': 2483}),\n",
       "             'comedian': Counter({'m': 1534, 'f': 397}),\n",
       "             'yoga_teacher': Counter({'f': 895, 'm': 166}),\n",
       "             'interior_designer': Counter({'f': 759, 'm': 178}),\n",
       "             'pastor': Counter({'m': 1290, 'f': 400}),\n",
       "             'rapper': Counter({'m': 823, 'f': 78}),\n",
       "             'paralegal': Counter({'f': 869, 'm': 149})})"
      ]
     },
     "execution_count": 38,
     "metadata": {},
     "output_type": "execute_result"
    }
   ],
   "source": [
    "counter"
   ]
  },
  {
   "cell_type": "code",
   "execution_count": 75,
   "metadata": {},
   "outputs": [],
   "source": [
    "idx = np.random.rand(X_dev.shape[0]) < 0.15\n",
    "x_dev_labels = np.array([i2p[y] for i,y in enumerate(Y_dev)])\n",
    "save_vecs_and_words(X_dev[idx], x_dev_labels[idx])"
   ]
  },
  {
   "cell_type": "code",
   "execution_count": 65,
   "metadata": {},
   "outputs": [
    {
     "data": {
      "text/plain": [
       "{'accountant': 0,\n",
       " 'architect': 1,\n",
       " 'attorney': 2,\n",
       " 'chiropractor': 3,\n",
       " 'comedian': 4,\n",
       " 'composer': 5,\n",
       " 'dentist': 6,\n",
       " 'dietitian': 7,\n",
       " 'dj': 8,\n",
       " 'filmmaker': 9,\n",
       " 'interior_designer': 10,\n",
       " 'journalist': 11,\n",
       " 'model': 12,\n",
       " 'nurse': 13,\n",
       " 'painter': 14,\n",
       " 'paralegal': 15,\n",
       " 'pastor': 16,\n",
       " 'personal_trainer': 17,\n",
       " 'photographer': 18,\n",
       " 'physician': 19,\n",
       " 'poet': 20,\n",
       " 'professor': 21,\n",
       " 'psychologist': 22,\n",
       " 'rapper': 23,\n",
       " 'software_engineer': 24,\n",
       " 'surgeon': 25,\n",
       " 'teacher': 26,\n",
       " 'yoga_teacher': 27}"
      ]
     },
     "execution_count": 65,
     "metadata": {},
     "output_type": "execute_result"
    }
   ],
   "source": [
    "def tsne_by_gender(vecs, labels, title, words = None):\n",
    "\n",
    "  tsne = TSNE(n_components=2, random_state=0)\n",
    "  vecs_2d = tsne.fit_transform(vecs)\n",
    "  num_labels = len(set(labels.tolist()))\n",
    "\n",
    "  names = [\"class {}\".format(i) for i in range(num_labels)]\n",
    "  plt.figure(figsize=(6, 5))\n",
    "  colors = 'r', 'b', 'orange'\n",
    "  for i, c, label in zip(set(labels.tolist()), colors, names):\n",
    "    print(len(vecs_2d[labels == i, 0]))\n",
    "    plt.scatter(vecs_2d[labels == i, 0], vecs_2d[labels == i, 1], c=c,\n",
    "                label=label, alpha = 0.1)\n",
    "  plt.legend()\n",
    "  plt.title(title)\n",
    "  \n",
    "  if words is not None:\n",
    "        k = 60\n",
    "        for i in range(k):\n",
    "            \n",
    "            j = np.random.choice(range(len(words)))\n",
    "            label = labels[i]\n",
    "            w = words[j]\n",
    "            x,y = vecs_2d[i]\n",
    "            plt.annotate(w , (x,y), size = 10, color = \"black\" if label == 1 else \"black\")\n",
    "            \n",
    "  plt.show()\n",
    "  return vecs_2d"
   ]
  },
  {
   "cell_type": "code",
   "execution_count": null,
   "metadata": {},
   "outputs": [],
   "source": []
  }
 ],
 "metadata": {
  "kernelspec": {
   "display_name": "Python 3",
   "language": "python",
   "name": "python3"
  },
  "language_info": {
   "codemirror_mode": {
    "name": "ipython",
    "version": 3
   },
   "file_extension": ".py",
   "mimetype": "text/x-python",
   "name": "python",
   "nbconvert_exporter": "python",
   "pygments_lexer": "ipython3",
   "version": "3.6.9"
  }
 },
 "nbformat": 4,
 "nbformat_minor": 2
}
